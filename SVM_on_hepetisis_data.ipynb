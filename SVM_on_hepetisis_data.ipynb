{
 "cells": [
  {
   "cell_type": "markdown",
   "metadata": {
    "id": "HwQlrIYPza-F"
   },
   "source": [
    "# **Binary Classification using SVM**\n",
    "SVM Model objective is to find the maximum margin classifier. The maximum margin classifier helps to reduces the hypothesis space, effect of high dimensionality and computation. \n",
    "\n",
    "The points which maximum margin classifier touches are called support vectors. These vectors alone are enough to classify all other points."
   ]
  },
  {
   "cell_type": "markdown",
   "metadata": {
    "id": "8qXvjDHIza-J"
   },
   "source": [
    "## Problem Statement\n",
    "\n",
    "    To predict whether the person will survive or not based on the diagonostic factors influencing Hepatitis"
   ]
  },
  {
   "cell_type": "markdown",
   "metadata": {
    "id": "_h8OndAGza-K"
   },
   "source": [
    "## Dataset: _Hepatitis_ \n",
    "\n",
    "This dataset contains occurrences of hepatitis in people.\n",
    "\n",
    "The dataset is obtained from the machine learning repository at UCI. It includes 155 records in two different classes which are die in 32 cases and live in 123 cases. The dataset includes 20 attributes (14 binary and 6 numerical attributes)."
   ]
  },
  {
   "cell_type": "markdown",
   "metadata": {
    "id": "HmyiaWCwza-K"
   },
   "source": [
    "### **Attribute information:**\n",
    "\n",
    "1. **target**: DIE (1), LIVE (2)\n",
    "2. **age**: 10, 20, 30, 40, 50, 60, 70, 80\n",
    "3. **gender**: male (1), female (2)\n",
    "\n",
    "           ------ no = 2,   yes = 1 ------\n",
    "\n",
    "4. **steroid**: no, yes \n",
    "5. **antivirals**: no, yes \n",
    "6. **fatique**: no, yes \n",
    "7. **malaise**: no, yes \n",
    "8. **anorexia**: no, yes \n",
    "9. **liverBig**: no, yes \n",
    "10. **liverFirm**: no, yes \n",
    "11. **spleen**: no, yes \n",
    "12. **spiders**: no, yes\n",
    "13. **ascites**: no, yes \n",
    "14. **varices**: no, yes\n",
    "15. **histology**: no, yes\n",
    "\n",
    "\n",
    "16. **bilirubin**: 0.39, 0.80, 1.20, 2.00, 3.00, 4.00 -- \n",
    "17. **alk**: 33, 80, 120, 160, 200, 250 ---\n",
    "18. **sgot**: 13, 100, 200, 300, 400, 500, ---\n",
    "19. **albu**: 2.1, 3.0, 3.8, 4.5, 5.0, 6.0, --- \n",
    "20. **protime**: 10, 20, 30, 40, 50, 60, 70, 80, 90, --- \n",
    "\n",
    "  * NA's are represented with \"?\""
   ]
  },
  {
   "cell_type": "markdown",
   "metadata": {
    "id": "W21XVa3Pza-K"
   },
   "source": [
    "### Identify Right Error Metrics\n",
    "\n",
    "    Based on the business have to identify the right error metrics."
   ]
  },
  {
   "cell_type": "markdown",
   "metadata": {
    "id": "--k9ZhJDza-L"
   },
   "source": [
    "#### Confusion Matrix"
   ]
  },
  {
   "cell_type": "markdown",
   "metadata": {
    "id": "afZsg8x5za-M"
   },
   "source": [
    "#### Code to ignore warnings"
   ]
  },
  {
   "cell_type": "code",
   "execution_count": 1,
   "metadata": {
    "id": "5tVd5_6zza-M"
   },
   "outputs": [],
   "source": [
    "import warnings\n",
    "warnings.filterwarnings(\"ignore\")"
   ]
  },
  {
   "cell_type": "markdown",
   "metadata": {
    "id": "IUiWhDOOza-L"
   },
   "source": [
    "#### Loading the required libraries"
   ]
  },
  {
   "cell_type": "code",
   "execution_count": 2,
   "metadata": {
    "id": "OgjT-gokza-O"
   },
   "outputs": [],
   "source": [
    "import os\n",
    "import numpy as np\n",
    "import pandas as pd\n",
    "\n",
    "from sklearn.model_selection import train_test_split\n",
    "from sklearn.preprocessing import StandardScaler, OneHotEncoder\n",
    "\n",
    "from sklearn.impute import SimpleImputer\n",
    "\n",
    "from sklearn.svm import SVC\n",
    "\n",
    "from sklearn.metrics import confusion_matrix, accuracy_score, recall_score, precision_score, f1_score\n",
    "\n",
    "from sklearn.model_selection import GridSearchCV"
   ]
  },
  {
   "cell_type": "markdown",
   "metadata": {
    "id": "yv1IA7Lmza-P"
   },
   "source": [
    "## Read the HEPATITIS dataset"
   ]
  },
  {
   "cell_type": "code",
   "execution_count": 5,
   "metadata": {
    "id": "_OEo-XlDza-P"
   },
   "outputs": [],
   "source": [
    "data = pd.read_excel(\"C:/Users/gsk44/OneDrive/Desktop/SVM/hepatitis.xlsx\", na_values=\"?\")"
   ]
  },
  {
   "cell_type": "markdown",
   "metadata": {
    "id": "J4vG5dNCza-P"
   },
   "source": [
    "## _Exploratory Data Analysis_"
   ]
  },
  {
   "cell_type": "markdown",
   "metadata": {
    "id": "HsnvazoVza-P"
   },
   "source": [
    "### Check the dimensions (rows and columns)"
   ]
  },
  {
   "cell_type": "code",
   "execution_count": 6,
   "metadata": {
    "id": "y76XhR3Lza-P"
   },
   "outputs": [
    {
     "data": {
      "text/plain": [
       "(155, 21)"
      ]
     },
     "execution_count": 6,
     "metadata": {},
     "output_type": "execute_result"
    }
   ],
   "source": [
    "data.shape"
   ]
  },
  {
   "cell_type": "markdown",
   "metadata": {
    "id": "4-MIqEoSza-Q"
   },
   "source": [
    "### Check the datatype of each variable"
   ]
  },
  {
   "cell_type": "code",
   "execution_count": 7,
   "metadata": {
    "id": "K4s1Q6mGza-Q"
   },
   "outputs": [
    {
     "data": {
      "text/plain": [
       "ID            float64\n",
       "target        float64\n",
       "age           float64\n",
       "gender        float64\n",
       "steroid       float64\n",
       "antivirals    float64\n",
       "fatigue       float64\n",
       "malaise       float64\n",
       "anorexia      float64\n",
       "liverBig      float64\n",
       "liverFirm     float64\n",
       "spleen        float64\n",
       "spiders       float64\n",
       "ascites       float64\n",
       "varices       float64\n",
       "bili          float64\n",
       "alk           float64\n",
       "sgot          float64\n",
       "albu          float64\n",
       "protime       float64\n",
       "histology     float64\n",
       "dtype: object"
      ]
     },
     "execution_count": 7,
     "metadata": {},
     "output_type": "execute_result"
    }
   ],
   "source": [
    "data.dtypes"
   ]
  },
  {
   "cell_type": "markdown",
   "metadata": {
    "id": "CiSnnt7Oza-Q"
   },
   "source": [
    "### Check the top 5 rows and observe the data"
   ]
  },
  {
   "cell_type": "code",
   "execution_count": 8,
   "metadata": {
    "id": "yfRVUTSpza-Q"
   },
   "outputs": [
    {
     "data": {
      "text/html": [
       "<div>\n",
       "<style scoped>\n",
       "    .dataframe tbody tr th:only-of-type {\n",
       "        vertical-align: middle;\n",
       "    }\n",
       "\n",
       "    .dataframe tbody tr th {\n",
       "        vertical-align: top;\n",
       "    }\n",
       "\n",
       "    .dataframe thead th {\n",
       "        text-align: right;\n",
       "    }\n",
       "</style>\n",
       "<table border=\"1\" class=\"dataframe\">\n",
       "  <thead>\n",
       "    <tr style=\"text-align: right;\">\n",
       "      <th></th>\n",
       "      <th>ID</th>\n",
       "      <th>target</th>\n",
       "      <th>age</th>\n",
       "      <th>gender</th>\n",
       "      <th>steroid</th>\n",
       "      <th>antivirals</th>\n",
       "      <th>fatigue</th>\n",
       "      <th>malaise</th>\n",
       "      <th>anorexia</th>\n",
       "      <th>liverBig</th>\n",
       "      <th>...</th>\n",
       "      <th>spleen</th>\n",
       "      <th>spiders</th>\n",
       "      <th>ascites</th>\n",
       "      <th>varices</th>\n",
       "      <th>bili</th>\n",
       "      <th>alk</th>\n",
       "      <th>sgot</th>\n",
       "      <th>albu</th>\n",
       "      <th>protime</th>\n",
       "      <th>histology</th>\n",
       "    </tr>\n",
       "  </thead>\n",
       "  <tbody>\n",
       "    <tr>\n",
       "      <th>0</th>\n",
       "      <td>1.0</td>\n",
       "      <td>2.0</td>\n",
       "      <td>30.0</td>\n",
       "      <td>2.0</td>\n",
       "      <td>1.0</td>\n",
       "      <td>2.0</td>\n",
       "      <td>2.0</td>\n",
       "      <td>2.0</td>\n",
       "      <td>2.0</td>\n",
       "      <td>1.0</td>\n",
       "      <td>...</td>\n",
       "      <td>2.0</td>\n",
       "      <td>2.0</td>\n",
       "      <td>2.0</td>\n",
       "      <td>2.0</td>\n",
       "      <td>1.0</td>\n",
       "      <td>85.0</td>\n",
       "      <td>18.0</td>\n",
       "      <td>4.0</td>\n",
       "      <td>NaN</td>\n",
       "      <td>1.0</td>\n",
       "    </tr>\n",
       "    <tr>\n",
       "      <th>1</th>\n",
       "      <td>2.0</td>\n",
       "      <td>2.0</td>\n",
       "      <td>50.0</td>\n",
       "      <td>1.0</td>\n",
       "      <td>1.0</td>\n",
       "      <td>2.0</td>\n",
       "      <td>1.0</td>\n",
       "      <td>2.0</td>\n",
       "      <td>2.0</td>\n",
       "      <td>1.0</td>\n",
       "      <td>...</td>\n",
       "      <td>2.0</td>\n",
       "      <td>2.0</td>\n",
       "      <td>2.0</td>\n",
       "      <td>2.0</td>\n",
       "      <td>0.9</td>\n",
       "      <td>135.0</td>\n",
       "      <td>42.0</td>\n",
       "      <td>3.5</td>\n",
       "      <td>NaN</td>\n",
       "      <td>1.0</td>\n",
       "    </tr>\n",
       "    <tr>\n",
       "      <th>2</th>\n",
       "      <td>3.0</td>\n",
       "      <td>2.0</td>\n",
       "      <td>78.0</td>\n",
       "      <td>1.0</td>\n",
       "      <td>2.0</td>\n",
       "      <td>2.0</td>\n",
       "      <td>1.0</td>\n",
       "      <td>2.0</td>\n",
       "      <td>2.0</td>\n",
       "      <td>2.0</td>\n",
       "      <td>...</td>\n",
       "      <td>2.0</td>\n",
       "      <td>2.0</td>\n",
       "      <td>2.0</td>\n",
       "      <td>2.0</td>\n",
       "      <td>0.7</td>\n",
       "      <td>96.0</td>\n",
       "      <td>32.0</td>\n",
       "      <td>4.0</td>\n",
       "      <td>NaN</td>\n",
       "      <td>1.0</td>\n",
       "    </tr>\n",
       "    <tr>\n",
       "      <th>3</th>\n",
       "      <td>4.0</td>\n",
       "      <td>2.0</td>\n",
       "      <td>31.0</td>\n",
       "      <td>1.0</td>\n",
       "      <td>NaN</td>\n",
       "      <td>1.0</td>\n",
       "      <td>2.0</td>\n",
       "      <td>2.0</td>\n",
       "      <td>2.0</td>\n",
       "      <td>2.0</td>\n",
       "      <td>...</td>\n",
       "      <td>2.0</td>\n",
       "      <td>2.0</td>\n",
       "      <td>2.0</td>\n",
       "      <td>2.0</td>\n",
       "      <td>0.7</td>\n",
       "      <td>46.0</td>\n",
       "      <td>52.0</td>\n",
       "      <td>4.0</td>\n",
       "      <td>80.0</td>\n",
       "      <td>1.0</td>\n",
       "    </tr>\n",
       "    <tr>\n",
       "      <th>4</th>\n",
       "      <td>5.0</td>\n",
       "      <td>2.0</td>\n",
       "      <td>34.0</td>\n",
       "      <td>1.0</td>\n",
       "      <td>2.0</td>\n",
       "      <td>2.0</td>\n",
       "      <td>2.0</td>\n",
       "      <td>2.0</td>\n",
       "      <td>2.0</td>\n",
       "      <td>2.0</td>\n",
       "      <td>...</td>\n",
       "      <td>2.0</td>\n",
       "      <td>2.0</td>\n",
       "      <td>2.0</td>\n",
       "      <td>2.0</td>\n",
       "      <td>1.0</td>\n",
       "      <td>NaN</td>\n",
       "      <td>200.0</td>\n",
       "      <td>4.0</td>\n",
       "      <td>NaN</td>\n",
       "      <td>1.0</td>\n",
       "    </tr>\n",
       "  </tbody>\n",
       "</table>\n",
       "<p>5 rows × 21 columns</p>\n",
       "</div>"
      ],
      "text/plain": [
       "    ID  target   age  gender  steroid  antivirals  fatigue  malaise  anorexia  \\\n",
       "0  1.0     2.0  30.0     2.0      1.0         2.0      2.0      2.0       2.0   \n",
       "1  2.0     2.0  50.0     1.0      1.0         2.0      1.0      2.0       2.0   \n",
       "2  3.0     2.0  78.0     1.0      2.0         2.0      1.0      2.0       2.0   \n",
       "3  4.0     2.0  31.0     1.0      NaN         1.0      2.0      2.0       2.0   \n",
       "4  5.0     2.0  34.0     1.0      2.0         2.0      2.0      2.0       2.0   \n",
       "\n",
       "   liverBig  ...  spleen  spiders  ascites  varices  bili    alk   sgot  albu  \\\n",
       "0       1.0  ...     2.0      2.0      2.0      2.0   1.0   85.0   18.0   4.0   \n",
       "1       1.0  ...     2.0      2.0      2.0      2.0   0.9  135.0   42.0   3.5   \n",
       "2       2.0  ...     2.0      2.0      2.0      2.0   0.7   96.0   32.0   4.0   \n",
       "3       2.0  ...     2.0      2.0      2.0      2.0   0.7   46.0   52.0   4.0   \n",
       "4       2.0  ...     2.0      2.0      2.0      2.0   1.0    NaN  200.0   4.0   \n",
       "\n",
       "   protime  histology  \n",
       "0      NaN        1.0  \n",
       "1      NaN        1.0  \n",
       "2      NaN        1.0  \n",
       "3     80.0        1.0  \n",
       "4      NaN        1.0  \n",
       "\n",
       "[5 rows x 21 columns]"
      ]
     },
     "execution_count": 8,
     "metadata": {},
     "output_type": "execute_result"
    }
   ],
   "source": [
    "data.head()"
   ]
  },
  {
   "cell_type": "markdown",
   "metadata": {
    "id": "7eM_9qcpza-Q"
   },
   "source": [
    "### Check basic summary statistics"
   ]
  },
  {
   "cell_type": "code",
   "execution_count": 9,
   "metadata": {
    "id": "HJpWL2lgza-Q"
   },
   "outputs": [
    {
     "data": {
      "text/html": [
       "<div>\n",
       "<style scoped>\n",
       "    .dataframe tbody tr th:only-of-type {\n",
       "        vertical-align: middle;\n",
       "    }\n",
       "\n",
       "    .dataframe tbody tr th {\n",
       "        vertical-align: top;\n",
       "    }\n",
       "\n",
       "    .dataframe thead th {\n",
       "        text-align: right;\n",
       "    }\n",
       "</style>\n",
       "<table border=\"1\" class=\"dataframe\">\n",
       "  <thead>\n",
       "    <tr style=\"text-align: right;\">\n",
       "      <th></th>\n",
       "      <th>ID</th>\n",
       "      <th>target</th>\n",
       "      <th>age</th>\n",
       "      <th>gender</th>\n",
       "      <th>steroid</th>\n",
       "      <th>antivirals</th>\n",
       "      <th>fatigue</th>\n",
       "      <th>malaise</th>\n",
       "      <th>anorexia</th>\n",
       "      <th>liverBig</th>\n",
       "      <th>...</th>\n",
       "      <th>spleen</th>\n",
       "      <th>spiders</th>\n",
       "      <th>ascites</th>\n",
       "      <th>varices</th>\n",
       "      <th>bili</th>\n",
       "      <th>alk</th>\n",
       "      <th>sgot</th>\n",
       "      <th>albu</th>\n",
       "      <th>protime</th>\n",
       "      <th>histology</th>\n",
       "    </tr>\n",
       "  </thead>\n",
       "  <tbody>\n",
       "    <tr>\n",
       "      <th>count</th>\n",
       "      <td>155.000000</td>\n",
       "      <td>155.000000</td>\n",
       "      <td>155.000000</td>\n",
       "      <td>155.000000</td>\n",
       "      <td>154.000000</td>\n",
       "      <td>155.000000</td>\n",
       "      <td>154.000000</td>\n",
       "      <td>154.000000</td>\n",
       "      <td>154.000000</td>\n",
       "      <td>145.000000</td>\n",
       "      <td>...</td>\n",
       "      <td>150.00000</td>\n",
       "      <td>150.000000</td>\n",
       "      <td>150.000000</td>\n",
       "      <td>150.00000</td>\n",
       "      <td>149.000000</td>\n",
       "      <td>126.000000</td>\n",
       "      <td>151.00000</td>\n",
       "      <td>139.000000</td>\n",
       "      <td>88.000000</td>\n",
       "      <td>155.000000</td>\n",
       "    </tr>\n",
       "    <tr>\n",
       "      <th>mean</th>\n",
       "      <td>78.000000</td>\n",
       "      <td>1.793548</td>\n",
       "      <td>41.200000</td>\n",
       "      <td>1.103226</td>\n",
       "      <td>1.506494</td>\n",
       "      <td>1.845161</td>\n",
       "      <td>1.350649</td>\n",
       "      <td>1.603896</td>\n",
       "      <td>1.792208</td>\n",
       "      <td>1.827586</td>\n",
       "      <td>...</td>\n",
       "      <td>1.80000</td>\n",
       "      <td>1.660000</td>\n",
       "      <td>1.866667</td>\n",
       "      <td>1.88000</td>\n",
       "      <td>1.427517</td>\n",
       "      <td>105.325397</td>\n",
       "      <td>85.89404</td>\n",
       "      <td>3.817266</td>\n",
       "      <td>61.852273</td>\n",
       "      <td>1.451613</td>\n",
       "    </tr>\n",
       "    <tr>\n",
       "      <th>std</th>\n",
       "      <td>44.888751</td>\n",
       "      <td>0.406070</td>\n",
       "      <td>12.565878</td>\n",
       "      <td>0.305240</td>\n",
       "      <td>0.501589</td>\n",
       "      <td>0.362923</td>\n",
       "      <td>0.478730</td>\n",
       "      <td>0.490682</td>\n",
       "      <td>0.407051</td>\n",
       "      <td>0.379049</td>\n",
       "      <td>...</td>\n",
       "      <td>0.40134</td>\n",
       "      <td>0.475296</td>\n",
       "      <td>0.341073</td>\n",
       "      <td>0.32605</td>\n",
       "      <td>1.212149</td>\n",
       "      <td>51.508109</td>\n",
       "      <td>89.65089</td>\n",
       "      <td>0.651523</td>\n",
       "      <td>22.875244</td>\n",
       "      <td>0.499266</td>\n",
       "    </tr>\n",
       "    <tr>\n",
       "      <th>min</th>\n",
       "      <td>1.000000</td>\n",
       "      <td>1.000000</td>\n",
       "      <td>7.000000</td>\n",
       "      <td>1.000000</td>\n",
       "      <td>1.000000</td>\n",
       "      <td>1.000000</td>\n",
       "      <td>1.000000</td>\n",
       "      <td>1.000000</td>\n",
       "      <td>1.000000</td>\n",
       "      <td>1.000000</td>\n",
       "      <td>...</td>\n",
       "      <td>1.00000</td>\n",
       "      <td>1.000000</td>\n",
       "      <td>1.000000</td>\n",
       "      <td>1.00000</td>\n",
       "      <td>0.300000</td>\n",
       "      <td>26.000000</td>\n",
       "      <td>14.00000</td>\n",
       "      <td>2.100000</td>\n",
       "      <td>0.000000</td>\n",
       "      <td>1.000000</td>\n",
       "    </tr>\n",
       "    <tr>\n",
       "      <th>25%</th>\n",
       "      <td>39.500000</td>\n",
       "      <td>2.000000</td>\n",
       "      <td>32.000000</td>\n",
       "      <td>1.000000</td>\n",
       "      <td>1.000000</td>\n",
       "      <td>2.000000</td>\n",
       "      <td>1.000000</td>\n",
       "      <td>1.000000</td>\n",
       "      <td>2.000000</td>\n",
       "      <td>2.000000</td>\n",
       "      <td>...</td>\n",
       "      <td>2.00000</td>\n",
       "      <td>1.000000</td>\n",
       "      <td>2.000000</td>\n",
       "      <td>2.00000</td>\n",
       "      <td>0.700000</td>\n",
       "      <td>74.250000</td>\n",
       "      <td>31.50000</td>\n",
       "      <td>3.400000</td>\n",
       "      <td>46.000000</td>\n",
       "      <td>1.000000</td>\n",
       "    </tr>\n",
       "    <tr>\n",
       "      <th>50%</th>\n",
       "      <td>78.000000</td>\n",
       "      <td>2.000000</td>\n",
       "      <td>39.000000</td>\n",
       "      <td>1.000000</td>\n",
       "      <td>2.000000</td>\n",
       "      <td>2.000000</td>\n",
       "      <td>1.000000</td>\n",
       "      <td>2.000000</td>\n",
       "      <td>2.000000</td>\n",
       "      <td>2.000000</td>\n",
       "      <td>...</td>\n",
       "      <td>2.00000</td>\n",
       "      <td>2.000000</td>\n",
       "      <td>2.000000</td>\n",
       "      <td>2.00000</td>\n",
       "      <td>1.000000</td>\n",
       "      <td>85.000000</td>\n",
       "      <td>58.00000</td>\n",
       "      <td>4.000000</td>\n",
       "      <td>61.000000</td>\n",
       "      <td>1.000000</td>\n",
       "    </tr>\n",
       "    <tr>\n",
       "      <th>75%</th>\n",
       "      <td>116.500000</td>\n",
       "      <td>2.000000</td>\n",
       "      <td>50.000000</td>\n",
       "      <td>1.000000</td>\n",
       "      <td>2.000000</td>\n",
       "      <td>2.000000</td>\n",
       "      <td>2.000000</td>\n",
       "      <td>2.000000</td>\n",
       "      <td>2.000000</td>\n",
       "      <td>2.000000</td>\n",
       "      <td>...</td>\n",
       "      <td>2.00000</td>\n",
       "      <td>2.000000</td>\n",
       "      <td>2.000000</td>\n",
       "      <td>2.00000</td>\n",
       "      <td>1.500000</td>\n",
       "      <td>132.250000</td>\n",
       "      <td>100.50000</td>\n",
       "      <td>4.200000</td>\n",
       "      <td>76.250000</td>\n",
       "      <td>2.000000</td>\n",
       "    </tr>\n",
       "    <tr>\n",
       "      <th>max</th>\n",
       "      <td>155.000000</td>\n",
       "      <td>2.000000</td>\n",
       "      <td>78.000000</td>\n",
       "      <td>2.000000</td>\n",
       "      <td>2.000000</td>\n",
       "      <td>2.000000</td>\n",
       "      <td>2.000000</td>\n",
       "      <td>2.000000</td>\n",
       "      <td>2.000000</td>\n",
       "      <td>2.000000</td>\n",
       "      <td>...</td>\n",
       "      <td>2.00000</td>\n",
       "      <td>2.000000</td>\n",
       "      <td>2.000000</td>\n",
       "      <td>2.00000</td>\n",
       "      <td>8.000000</td>\n",
       "      <td>295.000000</td>\n",
       "      <td>648.00000</td>\n",
       "      <td>6.400000</td>\n",
       "      <td>100.000000</td>\n",
       "      <td>2.000000</td>\n",
       "    </tr>\n",
       "  </tbody>\n",
       "</table>\n",
       "<p>8 rows × 21 columns</p>\n",
       "</div>"
      ],
      "text/plain": [
       "               ID      target         age      gender     steroid  antivirals  \\\n",
       "count  155.000000  155.000000  155.000000  155.000000  154.000000  155.000000   \n",
       "mean    78.000000    1.793548   41.200000    1.103226    1.506494    1.845161   \n",
       "std     44.888751    0.406070   12.565878    0.305240    0.501589    0.362923   \n",
       "min      1.000000    1.000000    7.000000    1.000000    1.000000    1.000000   \n",
       "25%     39.500000    2.000000   32.000000    1.000000    1.000000    2.000000   \n",
       "50%     78.000000    2.000000   39.000000    1.000000    2.000000    2.000000   \n",
       "75%    116.500000    2.000000   50.000000    1.000000    2.000000    2.000000   \n",
       "max    155.000000    2.000000   78.000000    2.000000    2.000000    2.000000   \n",
       "\n",
       "          fatigue     malaise    anorexia    liverBig  ...     spleen  \\\n",
       "count  154.000000  154.000000  154.000000  145.000000  ...  150.00000   \n",
       "mean     1.350649    1.603896    1.792208    1.827586  ...    1.80000   \n",
       "std      0.478730    0.490682    0.407051    0.379049  ...    0.40134   \n",
       "min      1.000000    1.000000    1.000000    1.000000  ...    1.00000   \n",
       "25%      1.000000    1.000000    2.000000    2.000000  ...    2.00000   \n",
       "50%      1.000000    2.000000    2.000000    2.000000  ...    2.00000   \n",
       "75%      2.000000    2.000000    2.000000    2.000000  ...    2.00000   \n",
       "max      2.000000    2.000000    2.000000    2.000000  ...    2.00000   \n",
       "\n",
       "          spiders     ascites    varices        bili         alk       sgot  \\\n",
       "count  150.000000  150.000000  150.00000  149.000000  126.000000  151.00000   \n",
       "mean     1.660000    1.866667    1.88000    1.427517  105.325397   85.89404   \n",
       "std      0.475296    0.341073    0.32605    1.212149   51.508109   89.65089   \n",
       "min      1.000000    1.000000    1.00000    0.300000   26.000000   14.00000   \n",
       "25%      1.000000    2.000000    2.00000    0.700000   74.250000   31.50000   \n",
       "50%      2.000000    2.000000    2.00000    1.000000   85.000000   58.00000   \n",
       "75%      2.000000    2.000000    2.00000    1.500000  132.250000  100.50000   \n",
       "max      2.000000    2.000000    2.00000    8.000000  295.000000  648.00000   \n",
       "\n",
       "             albu     protime   histology  \n",
       "count  139.000000   88.000000  155.000000  \n",
       "mean     3.817266   61.852273    1.451613  \n",
       "std      0.651523   22.875244    0.499266  \n",
       "min      2.100000    0.000000    1.000000  \n",
       "25%      3.400000   46.000000    1.000000  \n",
       "50%      4.000000   61.000000    1.000000  \n",
       "75%      4.200000   76.250000    2.000000  \n",
       "max      6.400000  100.000000    2.000000  \n",
       "\n",
       "[8 rows x 21 columns]"
      ]
     },
     "execution_count": 9,
     "metadata": {},
     "output_type": "execute_result"
    }
   ],
   "source": [
    "data.describe()"
   ]
  },
  {
   "cell_type": "markdown",
   "metadata": {
    "id": "hMWOHpk9za-Q"
   },
   "source": [
    "### Check the number of unique levels in each attribute"
   ]
  },
  {
   "cell_type": "code",
   "execution_count": 10,
   "metadata": {
    "id": "npavgGEQza-R"
   },
   "outputs": [
    {
     "data": {
      "text/plain": [
       "ID            155\n",
       "target          2\n",
       "age            49\n",
       "gender          2\n",
       "steroid         2\n",
       "antivirals      2\n",
       "fatigue         2\n",
       "malaise         2\n",
       "anorexia        2\n",
       "liverBig        2\n",
       "liverFirm       2\n",
       "spleen          2\n",
       "spiders         2\n",
       "ascites         2\n",
       "varices         2\n",
       "bili           34\n",
       "alk            83\n",
       "sgot           84\n",
       "albu           29\n",
       "protime        44\n",
       "histology       2\n",
       "dtype: int64"
      ]
     },
     "execution_count": 10,
     "metadata": {},
     "output_type": "execute_result"
    }
   ],
   "source": [
    "data.nunique()"
   ]
  },
  {
   "cell_type": "markdown",
   "metadata": {
    "id": "wjnimMXGza-R"
   },
   "source": [
    "### Target attribute distribution"
   ]
  },
  {
   "cell_type": "code",
   "execution_count": 11,
   "metadata": {
    "id": "ARiwN5vZza-R"
   },
   "outputs": [
    {
     "data": {
      "text/plain": [
       "2.0    123\n",
       "1.0     32\n",
       "Name: target, dtype: int64"
      ]
     },
     "execution_count": 11,
     "metadata": {},
     "output_type": "execute_result"
    }
   ],
   "source": [
    "data.target.value_counts()"
   ]
  },
  {
   "cell_type": "code",
   "execution_count": 12,
   "metadata": {
    "id": "IT3f2NIDza-R"
   },
   "outputs": [
    {
     "data": {
      "text/plain": [
       "2.0    79.354839\n",
       "1.0    20.645161\n",
       "Name: target, dtype: float64"
      ]
     },
     "execution_count": 12,
     "metadata": {},
     "output_type": "execute_result"
    }
   ],
   "source": [
    "data.target.value_counts(normalize=True)*100"
   ]
  },
  {
   "cell_type": "markdown",
   "metadata": {
    "id": "8FApsIwKza-R"
   },
   "source": [
    "## _Data Pre-processing_"
   ]
  },
  {
   "cell_type": "markdown",
   "metadata": {
    "id": "Ccj4gVpUza-R"
   },
   "source": [
    "### Drop column(s) which are not significant"
   ]
  },
  {
   "cell_type": "code",
   "execution_count": 13,
   "metadata": {
    "id": "JUapDkCmza-R"
   },
   "outputs": [],
   "source": [
    "data.drop([\"ID\"], axis = 1, inplace=True)"
   ]
  },
  {
   "cell_type": "markdown",
   "metadata": {
    "id": "jAIbjmJTza-R"
   },
   "source": [
    "### Check for top 5 rows"
   ]
  },
  {
   "cell_type": "code",
   "execution_count": 14,
   "metadata": {
    "id": "ZZ5eHQJwza-R"
   },
   "outputs": [
    {
     "data": {
      "text/html": [
       "<div>\n",
       "<style scoped>\n",
       "    .dataframe tbody tr th:only-of-type {\n",
       "        vertical-align: middle;\n",
       "    }\n",
       "\n",
       "    .dataframe tbody tr th {\n",
       "        vertical-align: top;\n",
       "    }\n",
       "\n",
       "    .dataframe thead th {\n",
       "        text-align: right;\n",
       "    }\n",
       "</style>\n",
       "<table border=\"1\" class=\"dataframe\">\n",
       "  <thead>\n",
       "    <tr style=\"text-align: right;\">\n",
       "      <th></th>\n",
       "      <th>target</th>\n",
       "      <th>age</th>\n",
       "      <th>gender</th>\n",
       "      <th>steroid</th>\n",
       "      <th>antivirals</th>\n",
       "      <th>fatigue</th>\n",
       "      <th>malaise</th>\n",
       "      <th>anorexia</th>\n",
       "      <th>liverBig</th>\n",
       "      <th>liverFirm</th>\n",
       "      <th>spleen</th>\n",
       "      <th>spiders</th>\n",
       "      <th>ascites</th>\n",
       "      <th>varices</th>\n",
       "      <th>bili</th>\n",
       "      <th>alk</th>\n",
       "      <th>sgot</th>\n",
       "      <th>albu</th>\n",
       "      <th>protime</th>\n",
       "      <th>histology</th>\n",
       "    </tr>\n",
       "  </thead>\n",
       "  <tbody>\n",
       "    <tr>\n",
       "      <th>0</th>\n",
       "      <td>2.0</td>\n",
       "      <td>30.0</td>\n",
       "      <td>2.0</td>\n",
       "      <td>1.0</td>\n",
       "      <td>2.0</td>\n",
       "      <td>2.0</td>\n",
       "      <td>2.0</td>\n",
       "      <td>2.0</td>\n",
       "      <td>1.0</td>\n",
       "      <td>2.0</td>\n",
       "      <td>2.0</td>\n",
       "      <td>2.0</td>\n",
       "      <td>2.0</td>\n",
       "      <td>2.0</td>\n",
       "      <td>1.0</td>\n",
       "      <td>85.0</td>\n",
       "      <td>18.0</td>\n",
       "      <td>4.0</td>\n",
       "      <td>NaN</td>\n",
       "      <td>1.0</td>\n",
       "    </tr>\n",
       "    <tr>\n",
       "      <th>1</th>\n",
       "      <td>2.0</td>\n",
       "      <td>50.0</td>\n",
       "      <td>1.0</td>\n",
       "      <td>1.0</td>\n",
       "      <td>2.0</td>\n",
       "      <td>1.0</td>\n",
       "      <td>2.0</td>\n",
       "      <td>2.0</td>\n",
       "      <td>1.0</td>\n",
       "      <td>2.0</td>\n",
       "      <td>2.0</td>\n",
       "      <td>2.0</td>\n",
       "      <td>2.0</td>\n",
       "      <td>2.0</td>\n",
       "      <td>0.9</td>\n",
       "      <td>135.0</td>\n",
       "      <td>42.0</td>\n",
       "      <td>3.5</td>\n",
       "      <td>NaN</td>\n",
       "      <td>1.0</td>\n",
       "    </tr>\n",
       "    <tr>\n",
       "      <th>2</th>\n",
       "      <td>2.0</td>\n",
       "      <td>78.0</td>\n",
       "      <td>1.0</td>\n",
       "      <td>2.0</td>\n",
       "      <td>2.0</td>\n",
       "      <td>1.0</td>\n",
       "      <td>2.0</td>\n",
       "      <td>2.0</td>\n",
       "      <td>2.0</td>\n",
       "      <td>2.0</td>\n",
       "      <td>2.0</td>\n",
       "      <td>2.0</td>\n",
       "      <td>2.0</td>\n",
       "      <td>2.0</td>\n",
       "      <td>0.7</td>\n",
       "      <td>96.0</td>\n",
       "      <td>32.0</td>\n",
       "      <td>4.0</td>\n",
       "      <td>NaN</td>\n",
       "      <td>1.0</td>\n",
       "    </tr>\n",
       "    <tr>\n",
       "      <th>3</th>\n",
       "      <td>2.0</td>\n",
       "      <td>31.0</td>\n",
       "      <td>1.0</td>\n",
       "      <td>NaN</td>\n",
       "      <td>1.0</td>\n",
       "      <td>2.0</td>\n",
       "      <td>2.0</td>\n",
       "      <td>2.0</td>\n",
       "      <td>2.0</td>\n",
       "      <td>2.0</td>\n",
       "      <td>2.0</td>\n",
       "      <td>2.0</td>\n",
       "      <td>2.0</td>\n",
       "      <td>2.0</td>\n",
       "      <td>0.7</td>\n",
       "      <td>46.0</td>\n",
       "      <td>52.0</td>\n",
       "      <td>4.0</td>\n",
       "      <td>80.0</td>\n",
       "      <td>1.0</td>\n",
       "    </tr>\n",
       "    <tr>\n",
       "      <th>4</th>\n",
       "      <td>2.0</td>\n",
       "      <td>34.0</td>\n",
       "      <td>1.0</td>\n",
       "      <td>2.0</td>\n",
       "      <td>2.0</td>\n",
       "      <td>2.0</td>\n",
       "      <td>2.0</td>\n",
       "      <td>2.0</td>\n",
       "      <td>2.0</td>\n",
       "      <td>2.0</td>\n",
       "      <td>2.0</td>\n",
       "      <td>2.0</td>\n",
       "      <td>2.0</td>\n",
       "      <td>2.0</td>\n",
       "      <td>1.0</td>\n",
       "      <td>NaN</td>\n",
       "      <td>200.0</td>\n",
       "      <td>4.0</td>\n",
       "      <td>NaN</td>\n",
       "      <td>1.0</td>\n",
       "    </tr>\n",
       "  </tbody>\n",
       "</table>\n",
       "</div>"
      ],
      "text/plain": [
       "   target   age  gender  steroid  antivirals  fatigue  malaise  anorexia  \\\n",
       "0     2.0  30.0     2.0      1.0         2.0      2.0      2.0       2.0   \n",
       "1     2.0  50.0     1.0      1.0         2.0      1.0      2.0       2.0   \n",
       "2     2.0  78.0     1.0      2.0         2.0      1.0      2.0       2.0   \n",
       "3     2.0  31.0     1.0      NaN         1.0      2.0      2.0       2.0   \n",
       "4     2.0  34.0     1.0      2.0         2.0      2.0      2.0       2.0   \n",
       "\n",
       "   liverBig  liverFirm  spleen  spiders  ascites  varices  bili    alk   sgot  \\\n",
       "0       1.0        2.0     2.0      2.0      2.0      2.0   1.0   85.0   18.0   \n",
       "1       1.0        2.0     2.0      2.0      2.0      2.0   0.9  135.0   42.0   \n",
       "2       2.0        2.0     2.0      2.0      2.0      2.0   0.7   96.0   32.0   \n",
       "3       2.0        2.0     2.0      2.0      2.0      2.0   0.7   46.0   52.0   \n",
       "4       2.0        2.0     2.0      2.0      2.0      2.0   1.0    NaN  200.0   \n",
       "\n",
       "   albu  protime  histology  \n",
       "0   4.0      NaN        1.0  \n",
       "1   3.5      NaN        1.0  \n",
       "2   4.0      NaN        1.0  \n",
       "3   4.0     80.0        1.0  \n",
       "4   4.0      NaN        1.0  "
      ]
     },
     "execution_count": 14,
     "metadata": {},
     "output_type": "execute_result"
    }
   ],
   "source": [
    "data.head()"
   ]
  },
  {
   "cell_type": "markdown",
   "metadata": {
    "id": "-LqaxojUza-R"
   },
   "source": [
    "### Store categorical and numerical attribute name"
   ]
  },
  {
   "cell_type": "code",
   "execution_count": 15,
   "metadata": {
    "id": "oqfoBOwrza-S"
   },
   "outputs": [],
   "source": [
    "num_cols = [\"age\", \"bili\", \"alk\", \"sgot\", \"albu\", \"protime\"]\n",
    "cat_cols = ['gender', 'steroid', 'antivirals', 'fatigue', 'malaise', 'anorexia', 'liverBig', \n",
    "            'liverFirm', 'spleen', 'spiders', 'ascites', 'varices', 'histology']"
   ]
  },
  {
   "cell_type": "markdown",
   "metadata": {
    "id": "GUmj6KZ4za-S"
   },
   "source": [
    "### Convert all attribute to appropriate type "
   ]
  },
  {
   "cell_type": "code",
   "execution_count": 16,
   "metadata": {
    "id": "WXvCZhoIza-S"
   },
   "outputs": [],
   "source": [
    "data[cat_cols] = data[cat_cols].astype('category')"
   ]
  },
  {
   "cell_type": "code",
   "execution_count": 17,
   "metadata": {
    "id": "NHQA3kcZza-S"
   },
   "outputs": [
    {
     "data": {
      "text/plain": [
       "target         float64\n",
       "age            float64\n",
       "gender        category\n",
       "steroid       category\n",
       "antivirals    category\n",
       "fatigue       category\n",
       "malaise       category\n",
       "anorexia      category\n",
       "liverBig      category\n",
       "liverFirm     category\n",
       "spleen        category\n",
       "spiders       category\n",
       "ascites       category\n",
       "varices       category\n",
       "bili           float64\n",
       "alk            float64\n",
       "sgot           float64\n",
       "albu           float64\n",
       "protime        float64\n",
       "histology     category\n",
       "dtype: object"
      ]
     },
     "execution_count": 17,
     "metadata": {},
     "output_type": "execute_result"
    }
   ],
   "source": [
    "data.dtypes"
   ]
  },
  {
   "cell_type": "markdown",
   "metadata": {
    "id": "-fgyRz6mza-S"
   },
   "source": [
    "### Check for null values"
   ]
  },
  {
   "cell_type": "code",
   "execution_count": 18,
   "metadata": {
    "id": "pkgxFFh9za-S"
   },
   "outputs": [
    {
     "data": {
      "text/plain": [
       "target         0\n",
       "age            0\n",
       "gender         0\n",
       "steroid        1\n",
       "antivirals     0\n",
       "fatigue        1\n",
       "malaise        1\n",
       "anorexia       1\n",
       "liverBig      10\n",
       "liverFirm     11\n",
       "spleen         5\n",
       "spiders        5\n",
       "ascites        5\n",
       "varices        5\n",
       "bili           6\n",
       "alk           29\n",
       "sgot           4\n",
       "albu          16\n",
       "protime       67\n",
       "histology      0\n",
       "dtype: int64"
      ]
     },
     "execution_count": 18,
     "metadata": {},
     "output_type": "execute_result"
    }
   ],
   "source": [
    "data.isna().sum()"
   ]
  },
  {
   "cell_type": "markdown",
   "metadata": {
    "id": "kp0hX_jxza-S"
   },
   "source": [
    "## Split the data into X and y"
   ]
  },
  {
   "cell_type": "code",
   "execution_count": 19,
   "metadata": {
    "id": "9Aofajh2za-S"
   },
   "outputs": [],
   "source": [
    "X = data.drop([\"target\"], axis = 1)"
   ]
  },
  {
   "cell_type": "code",
   "execution_count": 20,
   "metadata": {
    "id": "quSxdyD-za-S"
   },
   "outputs": [],
   "source": [
    "y = data[\"target\"]"
   ]
  },
  {
   "cell_type": "markdown",
   "metadata": {
    "id": "h6XTjbYQza-T"
   },
   "source": [
    "Shape of X and y"
   ]
  },
  {
   "cell_type": "code",
   "execution_count": 21,
   "metadata": {
    "id": "kE4xCG-Sza-T"
   },
   "outputs": [
    {
     "name": "stdout",
     "output_type": "stream",
     "text": [
      "(155, 19) (155,)\n"
     ]
    }
   ],
   "source": [
    "print(X.shape, y.shape)"
   ]
  },
  {
   "cell_type": "code",
   "execution_count": 22,
   "metadata": {
    "id": "viYUAM35za-T"
   },
   "outputs": [],
   "source": [
    "X_train, X_test, y_train, y_test = train_test_split(X, y, test_size = 0.2, random_state = 123, stratify=y)"
   ]
  },
  {
   "cell_type": "markdown",
   "metadata": {
    "id": "EeQvHi_Gza-T"
   },
   "source": [
    "Shape of X_train, X_test, y_train, y_test"
   ]
  },
  {
   "cell_type": "code",
   "execution_count": 23,
   "metadata": {
    "id": "SeF9DjLzza-T"
   },
   "outputs": [
    {
     "name": "stdout",
     "output_type": "stream",
     "text": [
      "(124, 19)\n",
      "(31, 19)\n",
      "(124,)\n",
      "(31,)\n"
     ]
    }
   ],
   "source": [
    "print(X_train.shape)\n",
    "print(X_test.shape)\n",
    "print(y_train.shape)\n",
    "print(y_test.shape)"
   ]
  },
  {
   "cell_type": "markdown",
   "metadata": {
    "id": "K-7g87wbza-T"
   },
   "source": [
    "### Check for distribution of target values in y_train"
   ]
  },
  {
   "cell_type": "code",
   "execution_count": 24,
   "metadata": {
    "id": "oaCJiLWzza-T"
   },
   "outputs": [
    {
     "data": {
      "text/plain": [
       "2.0    98\n",
       "1.0    26\n",
       "Name: target, dtype: int64"
      ]
     },
     "execution_count": 24,
     "metadata": {},
     "output_type": "execute_result"
    }
   ],
   "source": [
    "y_train.value_counts()"
   ]
  },
  {
   "cell_type": "code",
   "execution_count": 25,
   "metadata": {
    "id": "lI6WE-XDza-T"
   },
   "outputs": [
    {
     "data": {
      "text/plain": [
       "2.0    79.032258\n",
       "1.0    20.967742\n",
       "Name: target, dtype: float64"
      ]
     },
     "execution_count": 25,
     "metadata": {},
     "output_type": "execute_result"
    }
   ],
   "source": [
    "y_train.value_counts(normalize=True)*100"
   ]
  },
  {
   "cell_type": "markdown",
   "metadata": {
    "id": "85CgcqC6za-T"
   },
   "source": [
    "### Check for distribution of target values in y_test"
   ]
  },
  {
   "cell_type": "code",
   "execution_count": 26,
   "metadata": {
    "id": "WQ0cDRwTza-T"
   },
   "outputs": [
    {
     "data": {
      "text/plain": [
       "2.0    80.645161\n",
       "1.0    19.354839\n",
       "Name: target, dtype: float64"
      ]
     },
     "execution_count": 26,
     "metadata": {},
     "output_type": "execute_result"
    }
   ],
   "source": [
    "y_test.value_counts(normalize=True)*100"
   ]
  },
  {
   "cell_type": "markdown",
   "metadata": {
    "id": "steXYCQ6za-T"
   },
   "source": [
    "## _Data Pre-processing_"
   ]
  },
  {
   "cell_type": "markdown",
   "metadata": {
    "id": "YgbU5aSRza-T"
   },
   "source": [
    "### Handling Missing Data"
   ]
  },
  {
   "cell_type": "markdown",
   "metadata": {
    "id": "r5cscRhqza-U"
   },
   "source": [
    "#### Check null values in train and test"
   ]
  },
  {
   "cell_type": "code",
   "execution_count": 27,
   "metadata": {
    "id": "zm1nM7M9za-U"
   },
   "outputs": [
    {
     "data": {
      "text/plain": [
       "age            0\n",
       "gender         0\n",
       "steroid        0\n",
       "antivirals     0\n",
       "fatigue        0\n",
       "malaise        0\n",
       "anorexia       0\n",
       "liverBig       7\n",
       "liverFirm      8\n",
       "spleen         2\n",
       "spiders        2\n",
       "ascites        2\n",
       "varices        2\n",
       "bili           4\n",
       "alk           22\n",
       "sgot           3\n",
       "albu          11\n",
       "protime       51\n",
       "histology      0\n",
       "dtype: int64"
      ]
     },
     "execution_count": 27,
     "metadata": {},
     "output_type": "execute_result"
    }
   ],
   "source": [
    "X_train.isna().sum()"
   ]
  },
  {
   "cell_type": "code",
   "execution_count": 28,
   "metadata": {
    "id": "8mKOUPduza-U"
   },
   "outputs": [
    {
     "data": {
      "text/plain": [
       "age            0\n",
       "gender         0\n",
       "steroid        1\n",
       "antivirals     0\n",
       "fatigue        1\n",
       "malaise        1\n",
       "anorexia       1\n",
       "liverBig       3\n",
       "liverFirm      3\n",
       "spleen         3\n",
       "spiders        3\n",
       "ascites        3\n",
       "varices        3\n",
       "bili           2\n",
       "alk            7\n",
       "sgot           1\n",
       "albu           5\n",
       "protime       16\n",
       "histology      0\n",
       "dtype: int64"
      ]
     },
     "execution_count": 28,
     "metadata": {},
     "output_type": "execute_result"
    }
   ],
   "source": [
    "X_test.isna().sum()"
   ]
  },
  {
   "cell_type": "markdown",
   "metadata": {
    "id": "p1BDoXQSza-U"
   },
   "source": [
    "#### Imputation missing Categorical columns with Mode"
   ]
  },
  {
   "cell_type": "code",
   "execution_count": 29,
   "metadata": {
    "id": "DL2U9xAYza-U"
   },
   "outputs": [],
   "source": [
    "df_cat_train = X_train[cat_cols]\n",
    "df_cat_test = X_test[cat_cols]"
   ]
  },
  {
   "cell_type": "code",
   "execution_count": 30,
   "metadata": {
    "id": "nOPDpbSIza-U"
   },
   "outputs": [
    {
     "data": {
      "text/plain": [
       "SimpleImputer(strategy='most_frequent')"
      ]
     },
     "execution_count": 30,
     "metadata": {},
     "output_type": "execute_result"
    }
   ],
   "source": [
    "cat_imputer = SimpleImputer(strategy='most_frequent')\n",
    "\n",
    "cat_imputer.fit(df_cat_train)"
   ]
  },
  {
   "cell_type": "code",
   "execution_count": 31,
   "metadata": {
    "id": "ZBzLeIDiza-U"
   },
   "outputs": [],
   "source": [
    "df_cat_train = pd.DataFrame(cat_imputer.transform(df_cat_train), columns=cat_cols)\n",
    "df_cat_test = pd.DataFrame(cat_imputer.transform(df_cat_test), columns=cat_cols)"
   ]
  },
  {
   "cell_type": "markdown",
   "metadata": {
    "id": "ekgtngvNza-U"
   },
   "source": [
    "#### Imputation missing Numerical columns with Median"
   ]
  },
  {
   "cell_type": "code",
   "execution_count": 32,
   "metadata": {
    "id": "s4q7GAZMza-U"
   },
   "outputs": [],
   "source": [
    "df_num_train = X_train[num_cols]\n",
    "df_num_test = X_test[num_cols]"
   ]
  },
  {
   "cell_type": "code",
   "execution_count": 33,
   "metadata": {
    "id": "YdEUhB4Uza-U"
   },
   "outputs": [
    {
     "data": {
      "text/plain": [
       "SimpleImputer(strategy='median')"
      ]
     },
     "execution_count": 33,
     "metadata": {},
     "output_type": "execute_result"
    }
   ],
   "source": [
    "num_imputer = SimpleImputer(strategy='median')\n",
    "\n",
    "num_imputer.fit(df_num_train[num_cols])"
   ]
  },
  {
   "cell_type": "code",
   "execution_count": 34,
   "metadata": {
    "id": "3xtuvpqpza-V"
   },
   "outputs": [],
   "source": [
    "df_num_train = pd.DataFrame(num_imputer.transform(df_num_train), columns=num_cols)\n",
    "df_num_test =  pd.DataFrame(num_imputer.transform(df_num_test), columns=num_cols)"
   ]
  },
  {
   "cell_type": "markdown",
   "metadata": {
    "id": "OYGSkdufza-V"
   },
   "source": [
    "#### Combine imputed categorical and numeric columns"
   ]
  },
  {
   "cell_type": "code",
   "execution_count": 35,
   "metadata": {
    "id": "suaZOpMpza-V"
   },
   "outputs": [],
   "source": [
    "# Combine numeric and categorical in train\n",
    "X_train = pd.concat([df_num_train, df_cat_train], axis = 1)\n",
    "\n",
    "# Combine numeric and categorical in test\n",
    "X_test = pd.concat([df_num_test, df_cat_test], axis = 1)"
   ]
  },
  {
   "cell_type": "code",
   "execution_count": 36,
   "metadata": {
    "id": "9n-c0SJrza-V"
   },
   "outputs": [
    {
     "data": {
      "text/plain": [
       "age           0\n",
       "bili          0\n",
       "alk           0\n",
       "sgot          0\n",
       "albu          0\n",
       "protime       0\n",
       "gender        0\n",
       "steroid       0\n",
       "antivirals    0\n",
       "fatigue       0\n",
       "malaise       0\n",
       "anorexia      0\n",
       "liverBig      0\n",
       "liverFirm     0\n",
       "spleen        0\n",
       "spiders       0\n",
       "ascites       0\n",
       "varices       0\n",
       "histology     0\n",
       "dtype: int64"
      ]
     },
     "execution_count": 36,
     "metadata": {},
     "output_type": "execute_result"
    }
   ],
   "source": [
    "X_train.isna().sum()"
   ]
  },
  {
   "cell_type": "code",
   "execution_count": 37,
   "metadata": {
    "id": "1S5pyJOsza-V",
    "scrolled": true
   },
   "outputs": [
    {
     "data": {
      "text/plain": [
       "age           0\n",
       "bili          0\n",
       "alk           0\n",
       "sgot          0\n",
       "albu          0\n",
       "protime       0\n",
       "gender        0\n",
       "steroid       0\n",
       "antivirals    0\n",
       "fatigue       0\n",
       "malaise       0\n",
       "anorexia      0\n",
       "liverBig      0\n",
       "liverFirm     0\n",
       "spleen        0\n",
       "spiders       0\n",
       "ascites       0\n",
       "varices       0\n",
       "histology     0\n",
       "dtype: int64"
      ]
     },
     "execution_count": 37,
     "metadata": {},
     "output_type": "execute_result"
    }
   ],
   "source": [
    "X_test.isna().sum()"
   ]
  },
  {
   "cell_type": "markdown",
   "metadata": {
    "id": "bFtVjvDjza-V"
   },
   "source": [
    "### Standardize the numerical attributes"
   ]
  },
  {
   "cell_type": "code",
   "execution_count": 38,
   "metadata": {
    "id": "bYGhJwc9za-V"
   },
   "outputs": [
    {
     "data": {
      "text/plain": [
       "StandardScaler()"
      ]
     },
     "execution_count": 38,
     "metadata": {},
     "output_type": "execute_result"
    }
   ],
   "source": [
    "scaler = StandardScaler()\n",
    "\n",
    "scaler.fit(X_train[num_cols])"
   ]
  },
  {
   "cell_type": "code",
   "execution_count": 39,
   "metadata": {
    "id": "LTG_csvLza-V"
   },
   "outputs": [],
   "source": [
    "X_train_std = scaler.transform(X_train[num_cols])\n",
    "X_test_std = scaler.transform(X_test[num_cols])"
   ]
  },
  {
   "cell_type": "code",
   "execution_count": 40,
   "metadata": {
    "id": "KShOxnNjza-V"
   },
   "outputs": [
    {
     "name": "stdout",
     "output_type": "stream",
     "text": [
      "(124, 6)\n",
      "(31, 6)\n"
     ]
    }
   ],
   "source": [
    "print(X_train_std.shape)\n",
    "print(X_test_std.shape)"
   ]
  },
  {
   "cell_type": "markdown",
   "metadata": {
    "id": "KaQ4VkDJza-W"
   },
   "source": [
    "### OneHotEncoder : Converting Categorical attributes to Numeric attributes"
   ]
  },
  {
   "cell_type": "code",
   "execution_count": 41,
   "metadata": {
    "id": "JyJ5vGGvza-W"
   },
   "outputs": [
    {
     "data": {
      "text/plain": [
       "OneHotEncoder(drop='first')"
      ]
     },
     "execution_count": 41,
     "metadata": {},
     "output_type": "execute_result"
    }
   ],
   "source": [
    "enc = OneHotEncoder(drop = 'first')\n",
    "\n",
    "enc.fit(X_train[cat_cols])"
   ]
  },
  {
   "cell_type": "code",
   "execution_count": 42,
   "metadata": {
    "id": "s29D427Qza-W"
   },
   "outputs": [],
   "source": [
    "X_train_ohe=enc.transform(X_train[cat_cols]).toarray()\n",
    "X_test_ohe=enc.transform(X_test[cat_cols]).toarray()"
   ]
  },
  {
   "cell_type": "markdown",
   "metadata": {
    "id": "6DcFUlmrza-W"
   },
   "source": [
    "### Concatenate attribute\n"
   ]
  },
  {
   "cell_type": "code",
   "execution_count": 43,
   "metadata": {
    "id": "9WZpf2dcza-W"
   },
   "outputs": [],
   "source": [
    "X_train_con = np.concatenate([X_train_std, X_train_ohe], axis=1)\n",
    "X_test_con = np.concatenate([X_test_std, X_test_ohe], axis=1)"
   ]
  },
  {
   "cell_type": "code",
   "execution_count": 44,
   "metadata": {
    "id": "MQwZRNGXza-W"
   },
   "outputs": [
    {
     "name": "stdout",
     "output_type": "stream",
     "text": [
      "(124, 19)\n",
      "(31, 19)\n"
     ]
    }
   ],
   "source": [
    "print(X_train_con.shape)\n",
    "print(X_test_con.shape)"
   ]
  },
  {
   "cell_type": "markdown",
   "metadata": {
    "id": "GrVd1r3Oza-W"
   },
   "source": [
    "## MODEL BUILDING"
   ]
  },
  {
   "cell_type": "markdown",
   "metadata": {
    "id": "NHbxETN4za-W"
   },
   "source": [
    "### A. SVM (Linear  and RBF Models)"
   ]
  },
  {
   "cell_type": "markdown",
   "metadata": {
    "id": "WSB4qYScza-X"
   },
   "source": [
    "#### Create a SVC classifier using a linear kernel"
   ]
  },
  {
   "cell_type": "code",
   "execution_count": 45,
   "metadata": {
    "id": "XAddrkE1za-X"
   },
   "outputs": [],
   "source": [
    "linear_svm = SVC(kernel='linear', C=1)"
   ]
  },
  {
   "cell_type": "markdown",
   "metadata": {
    "id": "aphFKKJ4za-X"
   },
   "source": [
    "#### Train the classifier"
   ]
  },
  {
   "cell_type": "code",
   "execution_count": 46,
   "metadata": {
    "id": "s2u-NgVdza-X"
   },
   "outputs": [
    {
     "data": {
      "text/plain": [
       "SVC(C=1, kernel='linear')"
      ]
     },
     "execution_count": 46,
     "metadata": {},
     "output_type": "execute_result"
    }
   ],
   "source": [
    "linear_svm.fit(X=X_train, y= y_train)"
   ]
  },
  {
   "cell_type": "markdown",
   "metadata": {
    "id": "C_p_aRbuza-X"
   },
   "source": [
    "#### Predict"
   ]
  },
  {
   "cell_type": "code",
   "execution_count": 47,
   "metadata": {
    "id": "K_OB8RFhza-X"
   },
   "outputs": [],
   "source": [
    "train_predictions = linear_svm.predict(X_train)\n",
    "test_predictions = linear_svm.predict(X_test)"
   ]
  },
  {
   "cell_type": "markdown",
   "metadata": {
    "id": "M8UQv8j1za-Y"
   },
   "source": [
    "#### Error Matrix"
   ]
  },
  {
   "cell_type": "code",
   "execution_count": 48,
   "metadata": {
    "id": "k5dgi0jUza-Y"
   },
   "outputs": [],
   "source": [
    "def evaluate_model(act, pred):\n",
    "    print(\"Confusion Matrix \\n\", confusion_matrix(act, pred))\n",
    "    print(\"Accurcay : \", accuracy_score(act, pred))\n",
    "    print(\"Recall   : \", recall_score(act, pred))\n",
    "    print(\"Precision: \", precision_score(act, pred))\n",
    "    print(\"F1_score : \", f1_score(act, pred))"
   ]
  },
  {
   "cell_type": "code",
   "execution_count": 49,
   "metadata": {
    "id": "SV356oCsza-Y"
   },
   "outputs": [
    {
     "name": "stdout",
     "output_type": "stream",
     "text": [
      "Confusion Matrix \n",
      " [[20  6]\n",
      " [ 7 91]]\n",
      "Accurcay :  0.8951612903225806\n",
      "Recall   :  0.7692307692307693\n",
      "Precision:  0.7407407407407407\n",
      "F1_score :  0.7547169811320754\n",
      "Confusion Matrix \n",
      " [[ 3  3]\n",
      " [ 2 23]]\n",
      "Accurcay :  0.8387096774193549\n",
      "Recall   :  0.5\n",
      "Precision:  0.6\n",
      "F1_score :  0.5454545454545454\n"
     ]
    }
   ],
   "source": [
    "### Train data accuracy\n",
    "evaluate_model(y_train, train_predictions)\n",
    "\n",
    "### Test data accuracy\n",
    "evaluate_model(y_test, test_predictions)"
   ]
  },
  {
   "cell_type": "markdown",
   "metadata": {
    "id": "Vc_H_M25za-Y"
   },
   "source": [
    "###  Non Linear SVM (RBF)"
   ]
  },
  {
   "cell_type": "markdown",
   "metadata": {
    "id": "8yw07CKDza-Z"
   },
   "source": [
    "#### Create an SVC object "
   ]
  },
  {
   "cell_type": "code",
   "execution_count": 50,
   "metadata": {
    "id": "vwcyE2FIza-Z"
   },
   "outputs": [
    {
     "data": {
      "text/plain": [
       "SVC(C=10, gamma=0.01)"
      ]
     },
     "execution_count": 50,
     "metadata": {},
     "output_type": "execute_result"
    }
   ],
   "source": [
    "svc = SVC(kernel='rbf', gamma=0.01, C=10)\n",
    "svc"
   ]
  },
  {
   "cell_type": "markdown",
   "metadata": {
    "id": "ZgxChI-gza-Z"
   },
   "source": [
    "#### Train the model"
   ]
  },
  {
   "cell_type": "code",
   "execution_count": 51,
   "metadata": {
    "id": "-L4gT1udza-Z"
   },
   "outputs": [
    {
     "data": {
      "text/plain": [
       "SVC(C=10, gamma=0.01)"
      ]
     },
     "execution_count": 51,
     "metadata": {},
     "output_type": "execute_result"
    }
   ],
   "source": [
    "svc.fit(X=X_train, y=y_train)"
   ]
  },
  {
   "cell_type": "markdown",
   "metadata": {
    "id": "Mgrq8SKXza-a"
   },
   "source": [
    "#### Predict"
   ]
  },
  {
   "cell_type": "code",
   "execution_count": 52,
   "metadata": {
    "id": "DSS26FX6za-a"
   },
   "outputs": [],
   "source": [
    "train_predictions = svc.predict(X_train)\n",
    "test_predictions = svc.predict(X_test)"
   ]
  },
  {
   "cell_type": "markdown",
   "metadata": {
    "id": "1ravCB1sza-a"
   },
   "source": [
    "#### Error Matrix"
   ]
  },
  {
   "cell_type": "code",
   "execution_count": 53,
   "metadata": {
    "id": "lVSvglgCza-a"
   },
   "outputs": [
    {
     "name": "stdout",
     "output_type": "stream",
     "text": [
      "Confusion Matrix \n",
      " [[26  0]\n",
      " [ 0 98]]\n",
      "Accurcay :  1.0\n",
      "Recall   :  1.0\n",
      "Precision:  1.0\n",
      "F1_score :  1.0\n",
      "Confusion Matrix \n",
      " [[ 1  5]\n",
      " [ 0 25]]\n",
      "Accurcay :  0.8387096774193549\n",
      "Recall   :  0.16666666666666666\n",
      "Precision:  1.0\n",
      "F1_score :  0.2857142857142857\n"
     ]
    }
   ],
   "source": [
    "### Train data accuracy\n",
    "evaluate_model(y_train, train_predictions)\n",
    "\n",
    "### Test data accuracy\n",
    "evaluate_model(y_test, test_predictions)"
   ]
  },
  {
   "cell_type": "markdown",
   "metadata": {
    "id": "VDUteOKfza-a"
   },
   "source": [
    "### SVM with Grid Search for Paramater Tuning"
   ]
  },
  {
   "cell_type": "markdown",
   "metadata": {
    "id": "749AxOgSza-a"
   },
   "source": [
    "#### Define param and instantiate GridSearchCV"
   ]
  },
  {
   "cell_type": "code",
   "execution_count": 54,
   "metadata": {
    "id": "OZ44pNDNza-a"
   },
   "outputs": [],
   "source": [
    "svc_grid = SVC()\n",
    " \n",
    "param_grid = { \n",
    "                'C': [0.001, 0.01, 0.1, 1, 10, 100 ],\n",
    "                'gamma': [0, 0.0001, 0.001, 0.01, 0.1, 1, 10, 100], \n",
    "                'kernel':['linear', 'rbf', 'poly' ]\n",
    "             }\n",
    "\n",
    "svc_cv_grid = GridSearchCV(estimator = svc_grid, param_grid = param_grid, cv = 3)"
   ]
  },
  {
   "cell_type": "markdown",
   "metadata": {
    "id": "Cvz99gmPza-a"
   },
   "source": [
    "#### Fit the grid search model"
   ]
  },
  {
   "cell_type": "code",
   "execution_count": 55,
   "metadata": {
    "id": "Qto2ozBqza-a",
    "scrolled": true
   },
   "outputs": [
    {
     "ename": "ValueError",
     "evalue": "The gamma value of 0.0 is invalid. Use 'auto' to set gamma to a value of 1 / n_features.",
     "output_type": "error",
     "traceback": [
      "\u001b[1;31m---------------------------------------------------------------------------\u001b[0m",
      "\u001b[1;31mValueError\u001b[0m                                Traceback (most recent call last)",
      "File \u001b[1;32m<timed eval>:1\u001b[0m, in \u001b[0;36m<module>\u001b[1;34m\u001b[0m\n",
      "File \u001b[1;32m~\\anaconda3\\lib\\site-packages\\sklearn\\model_selection\\_search.py:921\u001b[0m, in \u001b[0;36mBaseSearchCV.fit\u001b[1;34m(self, X, y, groups, **fit_params)\u001b[0m\n\u001b[0;32m    916\u001b[0m     \u001b[38;5;28mself\u001b[39m\u001b[38;5;241m.\u001b[39mbest_params_ \u001b[38;5;241m=\u001b[39m results[\u001b[38;5;124m\"\u001b[39m\u001b[38;5;124mparams\u001b[39m\u001b[38;5;124m\"\u001b[39m][\u001b[38;5;28mself\u001b[39m\u001b[38;5;241m.\u001b[39mbest_index_]\n\u001b[0;32m    918\u001b[0m \u001b[38;5;28;01mif\u001b[39;00m \u001b[38;5;28mself\u001b[39m\u001b[38;5;241m.\u001b[39mrefit:\n\u001b[0;32m    919\u001b[0m     \u001b[38;5;66;03m# we clone again after setting params in case some\u001b[39;00m\n\u001b[0;32m    920\u001b[0m     \u001b[38;5;66;03m# of the params are estimators as well.\u001b[39;00m\n\u001b[1;32m--> 921\u001b[0m     \u001b[38;5;28mself\u001b[39m\u001b[38;5;241m.\u001b[39mbest_estimator_ \u001b[38;5;241m=\u001b[39m \u001b[43mclone\u001b[49m\u001b[43m(\u001b[49m\n\u001b[0;32m    922\u001b[0m \u001b[43m        \u001b[49m\u001b[43mclone\u001b[49m\u001b[43m(\u001b[49m\u001b[43mbase_estimator\u001b[49m\u001b[43m)\u001b[49m\u001b[38;5;241;43m.\u001b[39;49m\u001b[43mset_params\u001b[49m\u001b[43m(\u001b[49m\u001b[38;5;241;43m*\u001b[39;49m\u001b[38;5;241;43m*\u001b[39;49m\u001b[38;5;28;43mself\u001b[39;49m\u001b[38;5;241;43m.\u001b[39;49m\u001b[43mbest_params_\u001b[49m\u001b[43m)\u001b[49m\n\u001b[0;32m    923\u001b[0m \u001b[43m    \u001b[49m\u001b[43m)\u001b[49m\n\u001b[0;32m    924\u001b[0m     refit_start_time \u001b[38;5;241m=\u001b[39m time\u001b[38;5;241m.\u001b[39mtime()\n\u001b[0;32m    925\u001b[0m     \u001b[38;5;28;01mif\u001b[39;00m y \u001b[38;5;129;01mis\u001b[39;00m \u001b[38;5;129;01mnot\u001b[39;00m \u001b[38;5;28;01mNone\u001b[39;00m:\n",
      "File \u001b[1;32m~\\anaconda3\\lib\\site-packages\\sklearn\\base.py:87\u001b[0m, in \u001b[0;36mclone\u001b[1;34m(estimator, safe)\u001b[0m\n\u001b[0;32m     85\u001b[0m \u001b[38;5;28;01mfor\u001b[39;00m name, param \u001b[38;5;129;01min\u001b[39;00m new_object_params\u001b[38;5;241m.\u001b[39mitems():\n\u001b[0;32m     86\u001b[0m     new_object_params[name] \u001b[38;5;241m=\u001b[39m clone(param, safe\u001b[38;5;241m=\u001b[39m\u001b[38;5;28;01mFalse\u001b[39;00m)\n\u001b[1;32m---> 87\u001b[0m new_object \u001b[38;5;241m=\u001b[39m klass(\u001b[38;5;241m*\u001b[39m\u001b[38;5;241m*\u001b[39mnew_object_params)\n\u001b[0;32m     88\u001b[0m params_set \u001b[38;5;241m=\u001b[39m new_object\u001b[38;5;241m.\u001b[39mget_params(deep\u001b[38;5;241m=\u001b[39m\u001b[38;5;28;01mFalse\u001b[39;00m)\n\u001b[0;32m     90\u001b[0m \u001b[38;5;66;03m# quick sanity check of the parameters of the clone\u001b[39;00m\n",
      "File \u001b[1;32m~\\anaconda3\\lib\\site-packages\\sklearn\\svm\\_classes.py:751\u001b[0m, in \u001b[0;36mSVC.__init__\u001b[1;34m(self, C, kernel, degree, gamma, coef0, shrinking, probability, tol, cache_size, class_weight, verbose, max_iter, decision_function_shape, break_ties, random_state)\u001b[0m\n\u001b[0;32m    731\u001b[0m \u001b[38;5;28;01mdef\u001b[39;00m \u001b[38;5;21m__init__\u001b[39m(\n\u001b[0;32m    732\u001b[0m     \u001b[38;5;28mself\u001b[39m,\n\u001b[0;32m    733\u001b[0m     \u001b[38;5;241m*\u001b[39m,\n\u001b[1;32m   (...)\u001b[0m\n\u001b[0;32m    748\u001b[0m     random_state\u001b[38;5;241m=\u001b[39m\u001b[38;5;28;01mNone\u001b[39;00m,\n\u001b[0;32m    749\u001b[0m ):\n\u001b[1;32m--> 751\u001b[0m     \u001b[38;5;28;43msuper\u001b[39;49m\u001b[43m(\u001b[49m\u001b[43m)\u001b[49m\u001b[38;5;241;43m.\u001b[39;49m\u001b[38;5;21;43m__init__\u001b[39;49m\u001b[43m(\u001b[49m\n\u001b[0;32m    752\u001b[0m \u001b[43m        \u001b[49m\u001b[43mkernel\u001b[49m\u001b[38;5;241;43m=\u001b[39;49m\u001b[43mkernel\u001b[49m\u001b[43m,\u001b[49m\n\u001b[0;32m    753\u001b[0m \u001b[43m        \u001b[49m\u001b[43mdegree\u001b[49m\u001b[38;5;241;43m=\u001b[39;49m\u001b[43mdegree\u001b[49m\u001b[43m,\u001b[49m\n\u001b[0;32m    754\u001b[0m \u001b[43m        \u001b[49m\u001b[43mgamma\u001b[49m\u001b[38;5;241;43m=\u001b[39;49m\u001b[43mgamma\u001b[49m\u001b[43m,\u001b[49m\n\u001b[0;32m    755\u001b[0m \u001b[43m        \u001b[49m\u001b[43mcoef0\u001b[49m\u001b[38;5;241;43m=\u001b[39;49m\u001b[43mcoef0\u001b[49m\u001b[43m,\u001b[49m\n\u001b[0;32m    756\u001b[0m \u001b[43m        \u001b[49m\u001b[43mtol\u001b[49m\u001b[38;5;241;43m=\u001b[39;49m\u001b[43mtol\u001b[49m\u001b[43m,\u001b[49m\n\u001b[0;32m    757\u001b[0m \u001b[43m        \u001b[49m\u001b[43mC\u001b[49m\u001b[38;5;241;43m=\u001b[39;49m\u001b[43mC\u001b[49m\u001b[43m,\u001b[49m\n\u001b[0;32m    758\u001b[0m \u001b[43m        \u001b[49m\u001b[43mnu\u001b[49m\u001b[38;5;241;43m=\u001b[39;49m\u001b[38;5;241;43m0.0\u001b[39;49m\u001b[43m,\u001b[49m\n\u001b[0;32m    759\u001b[0m \u001b[43m        \u001b[49m\u001b[43mshrinking\u001b[49m\u001b[38;5;241;43m=\u001b[39;49m\u001b[43mshrinking\u001b[49m\u001b[43m,\u001b[49m\n\u001b[0;32m    760\u001b[0m \u001b[43m        \u001b[49m\u001b[43mprobability\u001b[49m\u001b[38;5;241;43m=\u001b[39;49m\u001b[43mprobability\u001b[49m\u001b[43m,\u001b[49m\n\u001b[0;32m    761\u001b[0m \u001b[43m        \u001b[49m\u001b[43mcache_size\u001b[49m\u001b[38;5;241;43m=\u001b[39;49m\u001b[43mcache_size\u001b[49m\u001b[43m,\u001b[49m\n\u001b[0;32m    762\u001b[0m \u001b[43m        \u001b[49m\u001b[43mclass_weight\u001b[49m\u001b[38;5;241;43m=\u001b[39;49m\u001b[43mclass_weight\u001b[49m\u001b[43m,\u001b[49m\n\u001b[0;32m    763\u001b[0m \u001b[43m        \u001b[49m\u001b[43mverbose\u001b[49m\u001b[38;5;241;43m=\u001b[39;49m\u001b[43mverbose\u001b[49m\u001b[43m,\u001b[49m\n\u001b[0;32m    764\u001b[0m \u001b[43m        \u001b[49m\u001b[43mmax_iter\u001b[49m\u001b[38;5;241;43m=\u001b[39;49m\u001b[43mmax_iter\u001b[49m\u001b[43m,\u001b[49m\n\u001b[0;32m    765\u001b[0m \u001b[43m        \u001b[49m\u001b[43mdecision_function_shape\u001b[49m\u001b[38;5;241;43m=\u001b[39;49m\u001b[43mdecision_function_shape\u001b[49m\u001b[43m,\u001b[49m\n\u001b[0;32m    766\u001b[0m \u001b[43m        \u001b[49m\u001b[43mbreak_ties\u001b[49m\u001b[38;5;241;43m=\u001b[39;49m\u001b[43mbreak_ties\u001b[49m\u001b[43m,\u001b[49m\n\u001b[0;32m    767\u001b[0m \u001b[43m        \u001b[49m\u001b[43mrandom_state\u001b[49m\u001b[38;5;241;43m=\u001b[39;49m\u001b[43mrandom_state\u001b[49m\u001b[43m,\u001b[49m\n\u001b[0;32m    768\u001b[0m \u001b[43m    \u001b[49m\u001b[43m)\u001b[49m\n",
      "File \u001b[1;32m~\\anaconda3\\lib\\site-packages\\sklearn\\svm\\_base.py:696\u001b[0m, in \u001b[0;36mBaseSVC.__init__\u001b[1;34m(self, kernel, degree, gamma, coef0, tol, C, nu, shrinking, probability, cache_size, class_weight, verbose, max_iter, decision_function_shape, random_state, break_ties)\u001b[0m\n\u001b[0;32m    694\u001b[0m \u001b[38;5;28mself\u001b[39m\u001b[38;5;241m.\u001b[39mdecision_function_shape \u001b[38;5;241m=\u001b[39m decision_function_shape\n\u001b[0;32m    695\u001b[0m \u001b[38;5;28mself\u001b[39m\u001b[38;5;241m.\u001b[39mbreak_ties \u001b[38;5;241m=\u001b[39m break_ties\n\u001b[1;32m--> 696\u001b[0m \u001b[38;5;28;43msuper\u001b[39;49m\u001b[43m(\u001b[49m\u001b[43m)\u001b[49m\u001b[38;5;241;43m.\u001b[39;49m\u001b[38;5;21;43m__init__\u001b[39;49m\u001b[43m(\u001b[49m\n\u001b[0;32m    697\u001b[0m \u001b[43m    \u001b[49m\u001b[43mkernel\u001b[49m\u001b[38;5;241;43m=\u001b[39;49m\u001b[43mkernel\u001b[49m\u001b[43m,\u001b[49m\n\u001b[0;32m    698\u001b[0m \u001b[43m    \u001b[49m\u001b[43mdegree\u001b[49m\u001b[38;5;241;43m=\u001b[39;49m\u001b[43mdegree\u001b[49m\u001b[43m,\u001b[49m\n\u001b[0;32m    699\u001b[0m \u001b[43m    \u001b[49m\u001b[43mgamma\u001b[49m\u001b[38;5;241;43m=\u001b[39;49m\u001b[43mgamma\u001b[49m\u001b[43m,\u001b[49m\n\u001b[0;32m    700\u001b[0m \u001b[43m    \u001b[49m\u001b[43mcoef0\u001b[49m\u001b[38;5;241;43m=\u001b[39;49m\u001b[43mcoef0\u001b[49m\u001b[43m,\u001b[49m\n\u001b[0;32m    701\u001b[0m \u001b[43m    \u001b[49m\u001b[43mtol\u001b[49m\u001b[38;5;241;43m=\u001b[39;49m\u001b[43mtol\u001b[49m\u001b[43m,\u001b[49m\n\u001b[0;32m    702\u001b[0m \u001b[43m    \u001b[49m\u001b[43mC\u001b[49m\u001b[38;5;241;43m=\u001b[39;49m\u001b[43mC\u001b[49m\u001b[43m,\u001b[49m\n\u001b[0;32m    703\u001b[0m \u001b[43m    \u001b[49m\u001b[43mnu\u001b[49m\u001b[38;5;241;43m=\u001b[39;49m\u001b[43mnu\u001b[49m\u001b[43m,\u001b[49m\n\u001b[0;32m    704\u001b[0m \u001b[43m    \u001b[49m\u001b[43mepsilon\u001b[49m\u001b[38;5;241;43m=\u001b[39;49m\u001b[38;5;241;43m0.0\u001b[39;49m\u001b[43m,\u001b[49m\n\u001b[0;32m    705\u001b[0m \u001b[43m    \u001b[49m\u001b[43mshrinking\u001b[49m\u001b[38;5;241;43m=\u001b[39;49m\u001b[43mshrinking\u001b[49m\u001b[43m,\u001b[49m\n\u001b[0;32m    706\u001b[0m \u001b[43m    \u001b[49m\u001b[43mprobability\u001b[49m\u001b[38;5;241;43m=\u001b[39;49m\u001b[43mprobability\u001b[49m\u001b[43m,\u001b[49m\n\u001b[0;32m    707\u001b[0m \u001b[43m    \u001b[49m\u001b[43mcache_size\u001b[49m\u001b[38;5;241;43m=\u001b[39;49m\u001b[43mcache_size\u001b[49m\u001b[43m,\u001b[49m\n\u001b[0;32m    708\u001b[0m \u001b[43m    \u001b[49m\u001b[43mclass_weight\u001b[49m\u001b[38;5;241;43m=\u001b[39;49m\u001b[43mclass_weight\u001b[49m\u001b[43m,\u001b[49m\n\u001b[0;32m    709\u001b[0m \u001b[43m    \u001b[49m\u001b[43mverbose\u001b[49m\u001b[38;5;241;43m=\u001b[39;49m\u001b[43mverbose\u001b[49m\u001b[43m,\u001b[49m\n\u001b[0;32m    710\u001b[0m \u001b[43m    \u001b[49m\u001b[43mmax_iter\u001b[49m\u001b[38;5;241;43m=\u001b[39;49m\u001b[43mmax_iter\u001b[49m\u001b[43m,\u001b[49m\n\u001b[0;32m    711\u001b[0m \u001b[43m    \u001b[49m\u001b[43mrandom_state\u001b[49m\u001b[38;5;241;43m=\u001b[39;49m\u001b[43mrandom_state\u001b[49m\u001b[43m,\u001b[49m\n\u001b[0;32m    712\u001b[0m \u001b[43m\u001b[49m\u001b[43m)\u001b[49m\n",
      "File \u001b[1;32m~\\anaconda3\\lib\\site-packages\\sklearn\\svm\\_base.py:106\u001b[0m, in \u001b[0;36mBaseLibSVM.__init__\u001b[1;34m(self, kernel, degree, gamma, coef0, tol, C, nu, epsilon, shrinking, probability, cache_size, class_weight, verbose, max_iter, random_state)\u001b[0m\n\u001b[0;32m    101\u001b[0m \u001b[38;5;28;01mif\u001b[39;00m gamma \u001b[38;5;241m==\u001b[39m \u001b[38;5;241m0\u001b[39m:\n\u001b[0;32m    102\u001b[0m     msg \u001b[38;5;241m=\u001b[39m (\n\u001b[0;32m    103\u001b[0m         \u001b[38;5;124m\"\u001b[39m\u001b[38;5;124mThe gamma value of 0.0 is invalid. Use \u001b[39m\u001b[38;5;124m'\u001b[39m\u001b[38;5;124mauto\u001b[39m\u001b[38;5;124m'\u001b[39m\u001b[38;5;124m to set\u001b[39m\u001b[38;5;124m\"\u001b[39m\n\u001b[0;32m    104\u001b[0m         \u001b[38;5;124m\"\u001b[39m\u001b[38;5;124m gamma to a value of 1 / n_features.\u001b[39m\u001b[38;5;124m\"\u001b[39m\n\u001b[0;32m    105\u001b[0m     )\n\u001b[1;32m--> 106\u001b[0m     \u001b[38;5;28;01mraise\u001b[39;00m \u001b[38;5;167;01mValueError\u001b[39;00m(msg)\n\u001b[0;32m    108\u001b[0m \u001b[38;5;28mself\u001b[39m\u001b[38;5;241m.\u001b[39mkernel \u001b[38;5;241m=\u001b[39m kernel\n\u001b[0;32m    109\u001b[0m \u001b[38;5;28mself\u001b[39m\u001b[38;5;241m.\u001b[39mdegree \u001b[38;5;241m=\u001b[39m degree\n",
      "\u001b[1;31mValueError\u001b[0m: The gamma value of 0.0 is invalid. Use 'auto' to set gamma to a value of 1 / n_features."
     ]
    }
   ],
   "source": [
    "%time svc_cv_grid.fit(X=X_train, y=y_train)"
   ]
  },
  {
   "cell_type": "markdown",
   "metadata": {
    "id": "HEGmUikmza-a"
   },
   "source": [
    "#### Get the best parameters"
   ]
  },
  {
   "cell_type": "code",
   "execution_count": 56,
   "metadata": {
    "id": "w_hNc0RLza-b"
   },
   "outputs": [
    {
     "data": {
      "text/plain": [
       "{'C': 0.1, 'gamma': 0, 'kernel': 'linear'}"
      ]
     },
     "execution_count": 56,
     "metadata": {},
     "output_type": "execute_result"
    }
   ],
   "source": [
    "svc_cv_grid.best_params_"
   ]
  },
  {
   "cell_type": "markdown",
   "metadata": {
    "id": "60gRQdnnza-b"
   },
   "source": [
    "#### Predict"
   ]
  },
  {
   "cell_type": "code",
   "execution_count": 57,
   "metadata": {
    "id": "yDGsdLULza-b"
   },
   "outputs": [
    {
     "name": "stdout",
     "output_type": "stream",
     "text": [
      "Confusion Matrix \n",
      " [[26  0]\n",
      " [ 0 98]]\n",
      "Accurcay :  1.0\n",
      "Recall   :  1.0\n",
      "Precision:  1.0\n",
      "F1_score :  1.0\n",
      "Confusion Matrix \n",
      " [[ 1  5]\n",
      " [ 0 25]]\n",
      "Accurcay :  0.8387096774193549\n",
      "Recall   :  0.16666666666666666\n",
      "Precision:  1.0\n",
      "F1_score :  0.2857142857142857\n"
     ]
    }
   ],
   "source": [
    "### Train data accuracy\n",
    "evaluate_model(y_train, train_predictions)\n",
    "\n",
    "### Test data accuracy\n",
    "evaluate_model(y_test, test_predictions)"
   ]
  }
 ],
 "metadata": {
  "colab": {
   "provenance": []
  },
  "kernelspec": {
   "display_name": "Python 3 (ipykernel)",
   "language": "python",
   "name": "python3"
  },
  "language_info": {
   "codemirror_mode": {
    "name": "ipython",
    "version": 3
   },
   "file_extension": ".py",
   "mimetype": "text/x-python",
   "name": "python",
   "nbconvert_exporter": "python",
   "pygments_lexer": "ipython3",
   "version": "3.9.12"
  },
  "toc": {
   "base_numbering": 1,
   "nav_menu": {},
   "number_sections": true,
   "sideBar": true,
   "skip_h1_title": false,
   "title_cell": "Table of Contents",
   "title_sidebar": "Contents",
   "toc_cell": false,
   "toc_position": {},
   "toc_section_display": true,
   "toc_window_display": false
  }
 },
 "nbformat": 4,
 "nbformat_minor": 1
}
