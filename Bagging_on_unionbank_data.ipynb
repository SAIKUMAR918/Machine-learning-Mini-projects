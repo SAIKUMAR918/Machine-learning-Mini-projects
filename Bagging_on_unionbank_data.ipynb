{
 "cells": [
  {
   "cell_type": "markdown",
   "metadata": {
    "id": "edZhSBQCRgB0"
   },
   "source": [
    "# Problem Description :\n",
    "\n",
    "* A relatively young bank is growing rapidly in terms of overall customer acquisition. Majority of these are Liability customers with varying sizes of relationship with the bank. The customer base of Asset customers is quite small, and the bank wants to grow this base rapidly to bring in more loan business. \n",
    "\n",
    "* Specifically, it want to explore ways of converting its liability customers to Personal Loan customers.\n",
    "\n",
    "* A campaign the bank ran for liability customers last year showed a healthy conversion rate of over 9% success. This has encouraged the Retail Marketing department to devise smarter campaigns with better target marketing.\n",
    "\n",
    "## Anlaytics Objectives :\n",
    "\t\n",
    "\t\n",
    "1)\tWhile designing a new campaign, can we model the previous campaign's customer behavior to \n",
    "\tanalyze what combination of parameters make a customer more likely to \n",
    "\taccept a personal loan?\n",
    "\t\n",
    "2)\tThere are several special products / facilities the bank offers like CD and security accounts, \n",
    "\tonline services, credit cards, etc. Can we spot any association among these\n",
    "\tfor finding cross-selling opportunities?\n",
    "\n",
    "## Data Set Description :\n",
    "\n",
    "* ID:\tCustomer ID\t\t\t\n",
    "* Age:\tCustomer's age in completed years\t\t\t\n",
    "* Experience:\t# of years of professional experience\t\t\t\n",
    "* Income:\tAnnual income of the customer in thousands of Dollars\t\t\t\n",
    "* ZIPCode:\tHome Address ZIP code.\t\t\tDo not use ZIP code\n",
    "* Family:\tFamily size of the customer\t\t\t\n",
    "* CCAvg:\tAvg. spending on credit cards per month in thousands of Dollars\t\t\n",
    "* Education:\tEducation Level. 1: Undergrad; 2: Graduate; 3: Advanced/Professional\t\t\t\n",
    "* Mortgage:\tValue of house mortgage if any. (thousands of Dollars)\t\t\t\n",
    "* **PersonalLoan:\tDid this customer accept the personal loan offered in the last campaign?**\t\t\t\n",
    "* SecuritiesAccount:\tDoes the customer have a securities account with the bank?\t\t\t\n",
    "* CDAccount:\tDoes the customer have a certificate of deposit (CD) account with the bank?\t\t\t\n",
    "* Online:\tDoes the customer use internet banking facilities?\t\t\t\n",
    "* CreditCard:\tDoes the customer use a credit card issued by UniversalBank?\t\t\t\n",
    "\n",
    "### Note:\n",
    "* While reading the data set  replace the '?',',' as NAs\n",
    "\n",
    "### Error Metric ?\n",
    "\n",
    "Recall or Sensitivity or True Positive Rate.\n",
    "\n",
    "## Experiment :\n",
    "* Build a BaggingClassifier to predict whether a person will take a personal loan or not"
   ]
  },
  {
   "cell_type": "markdown",
   "metadata": {
    "id": "rgDfTGloRgB1"
   },
   "source": [
    "### Loading required libraries"
   ]
  },
  {
   "cell_type": "code",
   "execution_count": 1,
   "metadata": {
    "id": "Mahu-lHWRgB1"
   },
   "outputs": [],
   "source": [
    "import os\n",
    "import numpy as np\n",
    "import pandas as pd\n",
    "\n",
    "\n",
    "from sklearn.impute import SimpleImputer\n",
    "from sklearn.preprocessing import StandardScaler, OneHotEncoder\n",
    "\n",
    "from sklearn.model_selection import train_test_split"
   ]
  },
  {
   "cell_type": "markdown",
   "metadata": {
    "id": "YqNahiCnpJz1"
   },
   "source": [
    "### Handle Warnings"
   ]
  },
  {
   "cell_type": "code",
   "execution_count": 2,
   "metadata": {
    "id": "aAdlVJNZRgB2"
   },
   "outputs": [],
   "source": [
    "import warnings\n",
    "warnings.filterwarnings('ignore')"
   ]
  },
  {
   "cell_type": "markdown",
   "metadata": {
    "id": "SktXZtkCRgB2"
   },
   "source": [
    "###  Read Data & Check the dimensions"
   ]
  },
  {
   "cell_type": "code",
   "execution_count": 3,
   "metadata": {
    "colab": {
     "base_uri": "https://localhost:8080/"
    },
    "executionInfo": {
     "elapsed": 609,
     "status": "ok",
     "timestamp": 1671699907911,
     "user": {
      "displayName": "Aishwarya komanduru",
      "userId": "18133241959767863584"
     },
     "user_tz": -330
    },
    "id": "ooc4H1HYRgB2",
    "outputId": "a2d2f0ae-03b0-4db8-c39e-0c574ec4edae"
   },
   "outputs": [
    {
     "name": "stdout",
     "output_type": "stream",
     "text": [
      "The number of rows in the bank data set = 5000\n",
      "The number of columns in the bank data set = 14\n"
     ]
    }
   ],
   "source": [
    "bank=pd.read_csv(\"C:/Users/gsk44/OneDrive/Desktop/Ensemble Bagging/UnionBank.csv\",na_values=[\"?\",\",\"])\n",
    "print(\"The number of rows in the bank data set =\",(bank.shape[0]))\n",
    "print(\"The number of columns in the bank data set =\",(bank.shape[1]))"
   ]
  },
  {
   "cell_type": "code",
   "execution_count": 4,
   "metadata": {
    "colab": {
     "base_uri": "https://localhost:8080/"
    },
    "executionInfo": {
     "elapsed": 580,
     "status": "ok",
     "timestamp": 1671699908488,
     "user": {
      "displayName": "Aishwarya komanduru",
      "userId": "18133241959767863584"
     },
     "user_tz": -330
    },
    "id": "s-GBotC_RgB3",
    "outputId": "d0d47b8a-ac41-464c-a87d-edd33802d785"
   },
   "outputs": [
    {
     "data": {
      "text/plain": [
       "(5000, 14)"
      ]
     },
     "execution_count": 4,
     "metadata": {},
     "output_type": "execute_result"
    }
   ],
   "source": [
    "bank.shape"
   ]
  },
  {
   "cell_type": "markdown",
   "metadata": {
    "id": "5GRH24n6RgB3"
   },
   "source": [
    "### Print column names and check the datatypes of columns"
   ]
  },
  {
   "cell_type": "code",
   "execution_count": 5,
   "metadata": {
    "colab": {
     "base_uri": "https://localhost:8080/"
    },
    "executionInfo": {
     "elapsed": 49,
     "status": "ok",
     "timestamp": 1671699908489,
     "user": {
      "displayName": "Aishwarya komanduru",
      "userId": "18133241959767863584"
     },
     "user_tz": -330
    },
    "id": "oEt1XzM6RgB3",
    "outputId": "58037a5f-24d5-41a6-9540-187acecdfaec"
   },
   "outputs": [
    {
     "name": "stdout",
     "output_type": "stream",
     "text": [
      "The columns in the data set are : \n",
      "\n"
     ]
    },
    {
     "data": {
      "text/plain": [
       "Index(['ID', 'Age', 'Experience', 'Income', 'ZIPCode', 'Family', 'CCAvg',\n",
       "       'Education', 'Mortgage', 'PersonalLoan', 'SecuritiesAccount',\n",
       "       'CDAccount', 'Online', 'CreditCard'],\n",
       "      dtype='object')"
      ]
     },
     "execution_count": 5,
     "metadata": {},
     "output_type": "execute_result"
    }
   ],
   "source": [
    "print(\"The columns in the data set are : \\n\")\n",
    "bank.columns"
   ]
  },
  {
   "cell_type": "code",
   "execution_count": 6,
   "metadata": {
    "colab": {
     "base_uri": "https://localhost:8080/"
    },
    "executionInfo": {
     "elapsed": 45,
     "status": "ok",
     "timestamp": 1671699908489,
     "user": {
      "displayName": "Aishwarya komanduru",
      "userId": "18133241959767863584"
     },
     "user_tz": -330
    },
    "id": "n2elP86XRgB3",
    "outputId": "18f34773-c92f-40b9-8c61-8677e2839893",
    "scrolled": true
   },
   "outputs": [
    {
     "name": "stdout",
     "output_type": "stream",
     "text": [
      "The datatypes of the columns are :\n",
      " \n"
     ]
    },
    {
     "data": {
      "text/plain": [
       "ID                     int64\n",
       "Age                  float64\n",
       "Experience           float64\n",
       "Income               float64\n",
       "ZIPCode                int64\n",
       "Family                 int64\n",
       "CCAvg                float64\n",
       "Education              int64\n",
       "Mortgage               int64\n",
       "PersonalLoan           int64\n",
       "SecuritiesAccount      int64\n",
       "CDAccount              int64\n",
       "Online                 int64\n",
       "CreditCard             int64\n",
       "dtype: object"
      ]
     },
     "execution_count": 6,
     "metadata": {},
     "output_type": "execute_result"
    }
   ],
   "source": [
    "print(\"The datatypes of the columns are :\\n \")\n",
    "bank.dtypes"
   ]
  },
  {
   "cell_type": "markdown",
   "metadata": {
    "id": "QQc3BtYlRgB4"
   },
   "source": [
    "### Check the top 10 & Bottom 10 rows to glance the dataset "
   ]
  },
  {
   "cell_type": "code",
   "execution_count": 7,
   "metadata": {
    "colab": {
     "base_uri": "https://localhost:8080/",
     "height": 427
    },
    "executionInfo": {
     "elapsed": 43,
     "status": "ok",
     "timestamp": 1671699908490,
     "user": {
      "displayName": "Aishwarya komanduru",
      "userId": "18133241959767863584"
     },
     "user_tz": -330
    },
    "id": "IBNDVXabRgB4",
    "outputId": "01779176-907b-46bc-be26-f8a4db22fe60"
   },
   "outputs": [
    {
     "data": {
      "text/html": [
       "<div>\n",
       "<style scoped>\n",
       "    .dataframe tbody tr th:only-of-type {\n",
       "        vertical-align: middle;\n",
       "    }\n",
       "\n",
       "    .dataframe tbody tr th {\n",
       "        vertical-align: top;\n",
       "    }\n",
       "\n",
       "    .dataframe thead th {\n",
       "        text-align: right;\n",
       "    }\n",
       "</style>\n",
       "<table border=\"1\" class=\"dataframe\">\n",
       "  <thead>\n",
       "    <tr style=\"text-align: right;\">\n",
       "      <th></th>\n",
       "      <th>ID</th>\n",
       "      <th>Age</th>\n",
       "      <th>Experience</th>\n",
       "      <th>Income</th>\n",
       "      <th>ZIPCode</th>\n",
       "      <th>Family</th>\n",
       "      <th>CCAvg</th>\n",
       "      <th>Education</th>\n",
       "      <th>Mortgage</th>\n",
       "      <th>PersonalLoan</th>\n",
       "      <th>SecuritiesAccount</th>\n",
       "      <th>CDAccount</th>\n",
       "      <th>Online</th>\n",
       "      <th>CreditCard</th>\n",
       "    </tr>\n",
       "  </thead>\n",
       "  <tbody>\n",
       "    <tr>\n",
       "      <th>0</th>\n",
       "      <td>1</td>\n",
       "      <td>25.0</td>\n",
       "      <td>1.0</td>\n",
       "      <td>49.0</td>\n",
       "      <td>91107</td>\n",
       "      <td>4</td>\n",
       "      <td>1.6</td>\n",
       "      <td>1</td>\n",
       "      <td>0</td>\n",
       "      <td>0</td>\n",
       "      <td>1</td>\n",
       "      <td>0</td>\n",
       "      <td>0</td>\n",
       "      <td>0</td>\n",
       "    </tr>\n",
       "    <tr>\n",
       "      <th>1</th>\n",
       "      <td>2</td>\n",
       "      <td>45.0</td>\n",
       "      <td>19.0</td>\n",
       "      <td>34.0</td>\n",
       "      <td>90089</td>\n",
       "      <td>3</td>\n",
       "      <td>1.5</td>\n",
       "      <td>1</td>\n",
       "      <td>0</td>\n",
       "      <td>0</td>\n",
       "      <td>1</td>\n",
       "      <td>0</td>\n",
       "      <td>0</td>\n",
       "      <td>0</td>\n",
       "    </tr>\n",
       "    <tr>\n",
       "      <th>2</th>\n",
       "      <td>3</td>\n",
       "      <td>39.0</td>\n",
       "      <td>15.0</td>\n",
       "      <td>11.0</td>\n",
       "      <td>94720</td>\n",
       "      <td>1</td>\n",
       "      <td>1.0</td>\n",
       "      <td>1</td>\n",
       "      <td>0</td>\n",
       "      <td>0</td>\n",
       "      <td>0</td>\n",
       "      <td>0</td>\n",
       "      <td>0</td>\n",
       "      <td>0</td>\n",
       "    </tr>\n",
       "    <tr>\n",
       "      <th>3</th>\n",
       "      <td>4</td>\n",
       "      <td>35.0</td>\n",
       "      <td>9.0</td>\n",
       "      <td>100.0</td>\n",
       "      <td>94112</td>\n",
       "      <td>1</td>\n",
       "      <td>2.7</td>\n",
       "      <td>2</td>\n",
       "      <td>0</td>\n",
       "      <td>0</td>\n",
       "      <td>0</td>\n",
       "      <td>0</td>\n",
       "      <td>0</td>\n",
       "      <td>0</td>\n",
       "    </tr>\n",
       "    <tr>\n",
       "      <th>4</th>\n",
       "      <td>5</td>\n",
       "      <td>35.0</td>\n",
       "      <td>8.0</td>\n",
       "      <td>45.0</td>\n",
       "      <td>91330</td>\n",
       "      <td>4</td>\n",
       "      <td>1.0</td>\n",
       "      <td>2</td>\n",
       "      <td>0</td>\n",
       "      <td>0</td>\n",
       "      <td>0</td>\n",
       "      <td>0</td>\n",
       "      <td>0</td>\n",
       "      <td>1</td>\n",
       "    </tr>\n",
       "    <tr>\n",
       "      <th>5</th>\n",
       "      <td>6</td>\n",
       "      <td>37.0</td>\n",
       "      <td>13.0</td>\n",
       "      <td>29.0</td>\n",
       "      <td>92121</td>\n",
       "      <td>4</td>\n",
       "      <td>0.4</td>\n",
       "      <td>2</td>\n",
       "      <td>155</td>\n",
       "      <td>0</td>\n",
       "      <td>0</td>\n",
       "      <td>0</td>\n",
       "      <td>1</td>\n",
       "      <td>0</td>\n",
       "    </tr>\n",
       "    <tr>\n",
       "      <th>6</th>\n",
       "      <td>7</td>\n",
       "      <td>53.0</td>\n",
       "      <td>27.0</td>\n",
       "      <td>72.0</td>\n",
       "      <td>91711</td>\n",
       "      <td>2</td>\n",
       "      <td>1.5</td>\n",
       "      <td>2</td>\n",
       "      <td>0</td>\n",
       "      <td>0</td>\n",
       "      <td>0</td>\n",
       "      <td>0</td>\n",
       "      <td>1</td>\n",
       "      <td>0</td>\n",
       "    </tr>\n",
       "    <tr>\n",
       "      <th>7</th>\n",
       "      <td>8</td>\n",
       "      <td>50.0</td>\n",
       "      <td>24.0</td>\n",
       "      <td>22.0</td>\n",
       "      <td>93943</td>\n",
       "      <td>1</td>\n",
       "      <td>0.3</td>\n",
       "      <td>3</td>\n",
       "      <td>0</td>\n",
       "      <td>0</td>\n",
       "      <td>0</td>\n",
       "      <td>0</td>\n",
       "      <td>0</td>\n",
       "      <td>1</td>\n",
       "    </tr>\n",
       "    <tr>\n",
       "      <th>8</th>\n",
       "      <td>9</td>\n",
       "      <td>35.0</td>\n",
       "      <td>10.0</td>\n",
       "      <td>81.0</td>\n",
       "      <td>90089</td>\n",
       "      <td>3</td>\n",
       "      <td>0.6</td>\n",
       "      <td>2</td>\n",
       "      <td>104</td>\n",
       "      <td>0</td>\n",
       "      <td>0</td>\n",
       "      <td>0</td>\n",
       "      <td>1</td>\n",
       "      <td>0</td>\n",
       "    </tr>\n",
       "    <tr>\n",
       "      <th>9</th>\n",
       "      <td>10</td>\n",
       "      <td>NaN</td>\n",
       "      <td>9.0</td>\n",
       "      <td>180.0</td>\n",
       "      <td>93023</td>\n",
       "      <td>1</td>\n",
       "      <td>8.9</td>\n",
       "      <td>3</td>\n",
       "      <td>0</td>\n",
       "      <td>1</td>\n",
       "      <td>0</td>\n",
       "      <td>0</td>\n",
       "      <td>0</td>\n",
       "      <td>0</td>\n",
       "    </tr>\n",
       "  </tbody>\n",
       "</table>\n",
       "</div>"
      ],
      "text/plain": [
       "   ID   Age  Experience  Income  ZIPCode  Family  CCAvg  Education  Mortgage  \\\n",
       "0   1  25.0         1.0    49.0    91107       4    1.6          1         0   \n",
       "1   2  45.0        19.0    34.0    90089       3    1.5          1         0   \n",
       "2   3  39.0        15.0    11.0    94720       1    1.0          1         0   \n",
       "3   4  35.0         9.0   100.0    94112       1    2.7          2         0   \n",
       "4   5  35.0         8.0    45.0    91330       4    1.0          2         0   \n",
       "5   6  37.0        13.0    29.0    92121       4    0.4          2       155   \n",
       "6   7  53.0        27.0    72.0    91711       2    1.5          2         0   \n",
       "7   8  50.0        24.0    22.0    93943       1    0.3          3         0   \n",
       "8   9  35.0        10.0    81.0    90089       3    0.6          2       104   \n",
       "9  10   NaN         9.0   180.0    93023       1    8.9          3         0   \n",
       "\n",
       "   PersonalLoan  SecuritiesAccount  CDAccount  Online  CreditCard  \n",
       "0             0                  1          0       0           0  \n",
       "1             0                  1          0       0           0  \n",
       "2             0                  0          0       0           0  \n",
       "3             0                  0          0       0           0  \n",
       "4             0                  0          0       0           1  \n",
       "5             0                  0          0       1           0  \n",
       "6             0                  0          0       1           0  \n",
       "7             0                  0          0       0           1  \n",
       "8             0                  0          0       1           0  \n",
       "9             1                  0          0       0           0  "
      ]
     },
     "execution_count": 7,
     "metadata": {},
     "output_type": "execute_result"
    }
   ],
   "source": [
    "bank.head(10)"
   ]
  },
  {
   "cell_type": "code",
   "execution_count": 8,
   "metadata": {
    "colab": {
     "base_uri": "https://localhost:8080/",
     "height": 427
    },
    "executionInfo": {
     "elapsed": 40,
     "status": "ok",
     "timestamp": 1671699908490,
     "user": {
      "displayName": "Aishwarya komanduru",
      "userId": "18133241959767863584"
     },
     "user_tz": -330
    },
    "id": "RsEYpQf7pfAB",
    "outputId": "3f81b524-83c9-46a6-efbb-96a3cd02c5d4"
   },
   "outputs": [
    {
     "data": {
      "text/html": [
       "<div>\n",
       "<style scoped>\n",
       "    .dataframe tbody tr th:only-of-type {\n",
       "        vertical-align: middle;\n",
       "    }\n",
       "\n",
       "    .dataframe tbody tr th {\n",
       "        vertical-align: top;\n",
       "    }\n",
       "\n",
       "    .dataframe thead th {\n",
       "        text-align: right;\n",
       "    }\n",
       "</style>\n",
       "<table border=\"1\" class=\"dataframe\">\n",
       "  <thead>\n",
       "    <tr style=\"text-align: right;\">\n",
       "      <th></th>\n",
       "      <th>ID</th>\n",
       "      <th>Age</th>\n",
       "      <th>Experience</th>\n",
       "      <th>Income</th>\n",
       "      <th>ZIPCode</th>\n",
       "      <th>Family</th>\n",
       "      <th>CCAvg</th>\n",
       "      <th>Education</th>\n",
       "      <th>Mortgage</th>\n",
       "      <th>PersonalLoan</th>\n",
       "      <th>SecuritiesAccount</th>\n",
       "      <th>CDAccount</th>\n",
       "      <th>Online</th>\n",
       "      <th>CreditCard</th>\n",
       "    </tr>\n",
       "  </thead>\n",
       "  <tbody>\n",
       "    <tr>\n",
       "      <th>4990</th>\n",
       "      <td>4991</td>\n",
       "      <td>55.0</td>\n",
       "      <td>25.0</td>\n",
       "      <td>58.0</td>\n",
       "      <td>95023</td>\n",
       "      <td>4</td>\n",
       "      <td>2.00</td>\n",
       "      <td>3</td>\n",
       "      <td>219</td>\n",
       "      <td>0</td>\n",
       "      <td>0</td>\n",
       "      <td>0</td>\n",
       "      <td>0</td>\n",
       "      <td>1</td>\n",
       "    </tr>\n",
       "    <tr>\n",
       "      <th>4991</th>\n",
       "      <td>4992</td>\n",
       "      <td>51.0</td>\n",
       "      <td>25.0</td>\n",
       "      <td>92.0</td>\n",
       "      <td>91330</td>\n",
       "      <td>1</td>\n",
       "      <td>1.90</td>\n",
       "      <td>2</td>\n",
       "      <td>100</td>\n",
       "      <td>0</td>\n",
       "      <td>0</td>\n",
       "      <td>0</td>\n",
       "      <td>0</td>\n",
       "      <td>1</td>\n",
       "    </tr>\n",
       "    <tr>\n",
       "      <th>4992</th>\n",
       "      <td>4993</td>\n",
       "      <td>30.0</td>\n",
       "      <td>5.0</td>\n",
       "      <td>13.0</td>\n",
       "      <td>90037</td>\n",
       "      <td>4</td>\n",
       "      <td>0.50</td>\n",
       "      <td>3</td>\n",
       "      <td>0</td>\n",
       "      <td>0</td>\n",
       "      <td>0</td>\n",
       "      <td>0</td>\n",
       "      <td>0</td>\n",
       "      <td>0</td>\n",
       "    </tr>\n",
       "    <tr>\n",
       "      <th>4993</th>\n",
       "      <td>4994</td>\n",
       "      <td>45.0</td>\n",
       "      <td>21.0</td>\n",
       "      <td>218.0</td>\n",
       "      <td>91801</td>\n",
       "      <td>2</td>\n",
       "      <td>6.67</td>\n",
       "      <td>1</td>\n",
       "      <td>0</td>\n",
       "      <td>0</td>\n",
       "      <td>0</td>\n",
       "      <td>0</td>\n",
       "      <td>1</td>\n",
       "      <td>0</td>\n",
       "    </tr>\n",
       "    <tr>\n",
       "      <th>4994</th>\n",
       "      <td>4995</td>\n",
       "      <td>64.0</td>\n",
       "      <td>40.0</td>\n",
       "      <td>75.0</td>\n",
       "      <td>94588</td>\n",
       "      <td>3</td>\n",
       "      <td>2.00</td>\n",
       "      <td>3</td>\n",
       "      <td>0</td>\n",
       "      <td>0</td>\n",
       "      <td>0</td>\n",
       "      <td>0</td>\n",
       "      <td>1</td>\n",
       "      <td>0</td>\n",
       "    </tr>\n",
       "    <tr>\n",
       "      <th>4995</th>\n",
       "      <td>4996</td>\n",
       "      <td>29.0</td>\n",
       "      <td>3.0</td>\n",
       "      <td>40.0</td>\n",
       "      <td>92697</td>\n",
       "      <td>1</td>\n",
       "      <td>1.90</td>\n",
       "      <td>3</td>\n",
       "      <td>0</td>\n",
       "      <td>0</td>\n",
       "      <td>0</td>\n",
       "      <td>0</td>\n",
       "      <td>1</td>\n",
       "      <td>0</td>\n",
       "    </tr>\n",
       "    <tr>\n",
       "      <th>4996</th>\n",
       "      <td>4997</td>\n",
       "      <td>30.0</td>\n",
       "      <td>4.0</td>\n",
       "      <td>15.0</td>\n",
       "      <td>92037</td>\n",
       "      <td>4</td>\n",
       "      <td>0.40</td>\n",
       "      <td>1</td>\n",
       "      <td>85</td>\n",
       "      <td>0</td>\n",
       "      <td>0</td>\n",
       "      <td>0</td>\n",
       "      <td>1</td>\n",
       "      <td>0</td>\n",
       "    </tr>\n",
       "    <tr>\n",
       "      <th>4997</th>\n",
       "      <td>4998</td>\n",
       "      <td>63.0</td>\n",
       "      <td>39.0</td>\n",
       "      <td>24.0</td>\n",
       "      <td>93023</td>\n",
       "      <td>2</td>\n",
       "      <td>0.30</td>\n",
       "      <td>3</td>\n",
       "      <td>0</td>\n",
       "      <td>0</td>\n",
       "      <td>0</td>\n",
       "      <td>0</td>\n",
       "      <td>0</td>\n",
       "      <td>0</td>\n",
       "    </tr>\n",
       "    <tr>\n",
       "      <th>4998</th>\n",
       "      <td>4999</td>\n",
       "      <td>65.0</td>\n",
       "      <td>40.0</td>\n",
       "      <td>49.0</td>\n",
       "      <td>90034</td>\n",
       "      <td>3</td>\n",
       "      <td>0.50</td>\n",
       "      <td>2</td>\n",
       "      <td>0</td>\n",
       "      <td>0</td>\n",
       "      <td>0</td>\n",
       "      <td>0</td>\n",
       "      <td>1</td>\n",
       "      <td>0</td>\n",
       "    </tr>\n",
       "    <tr>\n",
       "      <th>4999</th>\n",
       "      <td>5000</td>\n",
       "      <td>28.0</td>\n",
       "      <td>4.0</td>\n",
       "      <td>83.0</td>\n",
       "      <td>92612</td>\n",
       "      <td>3</td>\n",
       "      <td>0.80</td>\n",
       "      <td>1</td>\n",
       "      <td>0</td>\n",
       "      <td>0</td>\n",
       "      <td>0</td>\n",
       "      <td>0</td>\n",
       "      <td>1</td>\n",
       "      <td>1</td>\n",
       "    </tr>\n",
       "  </tbody>\n",
       "</table>\n",
       "</div>"
      ],
      "text/plain": [
       "        ID   Age  Experience  Income  ZIPCode  Family  CCAvg  Education  \\\n",
       "4990  4991  55.0        25.0    58.0    95023       4   2.00          3   \n",
       "4991  4992  51.0        25.0    92.0    91330       1   1.90          2   \n",
       "4992  4993  30.0         5.0    13.0    90037       4   0.50          3   \n",
       "4993  4994  45.0        21.0   218.0    91801       2   6.67          1   \n",
       "4994  4995  64.0        40.0    75.0    94588       3   2.00          3   \n",
       "4995  4996  29.0         3.0    40.0    92697       1   1.90          3   \n",
       "4996  4997  30.0         4.0    15.0    92037       4   0.40          1   \n",
       "4997  4998  63.0        39.0    24.0    93023       2   0.30          3   \n",
       "4998  4999  65.0        40.0    49.0    90034       3   0.50          2   \n",
       "4999  5000  28.0         4.0    83.0    92612       3   0.80          1   \n",
       "\n",
       "      Mortgage  PersonalLoan  SecuritiesAccount  CDAccount  Online  CreditCard  \n",
       "4990       219             0                  0          0       0           1  \n",
       "4991       100             0                  0          0       0           1  \n",
       "4992         0             0                  0          0       0           0  \n",
       "4993         0             0                  0          0       1           0  \n",
       "4994         0             0                  0          0       1           0  \n",
       "4995         0             0                  0          0       1           0  \n",
       "4996        85             0                  0          0       1           0  \n",
       "4997         0             0                  0          0       0           0  \n",
       "4998         0             0                  0          0       1           0  \n",
       "4999         0             0                  0          0       1           1  "
      ]
     },
     "execution_count": 8,
     "metadata": {},
     "output_type": "execute_result"
    }
   ],
   "source": [
    "bank.tail(10)"
   ]
  },
  {
   "cell_type": "markdown",
   "metadata": {
    "id": "b4fX6vYlRgB4"
   },
   "source": [
    "### Check the summary of the dataframe"
   ]
  },
  {
   "cell_type": "code",
   "execution_count": 9,
   "metadata": {
    "colab": {
     "base_uri": "https://localhost:8080/",
     "height": 364
    },
    "executionInfo": {
     "elapsed": 40,
     "status": "ok",
     "timestamp": 1671699908491,
     "user": {
      "displayName": "Aishwarya komanduru",
      "userId": "18133241959767863584"
     },
     "user_tz": -330
    },
    "id": "qWHr63BSRgB4",
    "outputId": "d5b15165-28e5-44a0-8b61-680db6eecb26"
   },
   "outputs": [
    {
     "data": {
      "text/html": [
       "<div>\n",
       "<style scoped>\n",
       "    .dataframe tbody tr th:only-of-type {\n",
       "        vertical-align: middle;\n",
       "    }\n",
       "\n",
       "    .dataframe tbody tr th {\n",
       "        vertical-align: top;\n",
       "    }\n",
       "\n",
       "    .dataframe thead th {\n",
       "        text-align: right;\n",
       "    }\n",
       "</style>\n",
       "<table border=\"1\" class=\"dataframe\">\n",
       "  <thead>\n",
       "    <tr style=\"text-align: right;\">\n",
       "      <th></th>\n",
       "      <th>ID</th>\n",
       "      <th>Age</th>\n",
       "      <th>Experience</th>\n",
       "      <th>Income</th>\n",
       "      <th>ZIPCode</th>\n",
       "      <th>Family</th>\n",
       "      <th>CCAvg</th>\n",
       "      <th>Education</th>\n",
       "      <th>Mortgage</th>\n",
       "      <th>PersonalLoan</th>\n",
       "      <th>SecuritiesAccount</th>\n",
       "      <th>CDAccount</th>\n",
       "      <th>Online</th>\n",
       "      <th>CreditCard</th>\n",
       "    </tr>\n",
       "  </thead>\n",
       "  <tbody>\n",
       "    <tr>\n",
       "      <th>count</th>\n",
       "      <td>5000.000000</td>\n",
       "      <td>4998.000000</td>\n",
       "      <td>4998.000000</td>\n",
       "      <td>4987.000000</td>\n",
       "      <td>5000.000000</td>\n",
       "      <td>5000.000000</td>\n",
       "      <td>5000.000000</td>\n",
       "      <td>5000.000000</td>\n",
       "      <td>5000.000000</td>\n",
       "      <td>5000.000000</td>\n",
       "      <td>5000.000000</td>\n",
       "      <td>5000.00000</td>\n",
       "      <td>5000.000000</td>\n",
       "      <td>5000.000000</td>\n",
       "    </tr>\n",
       "    <tr>\n",
       "      <th>mean</th>\n",
       "      <td>2500.500000</td>\n",
       "      <td>45.336335</td>\n",
       "      <td>20.108043</td>\n",
       "      <td>73.807098</td>\n",
       "      <td>93152.503000</td>\n",
       "      <td>2.396400</td>\n",
       "      <td>1.937938</td>\n",
       "      <td>1.881000</td>\n",
       "      <td>56.498800</td>\n",
       "      <td>0.096000</td>\n",
       "      <td>0.104400</td>\n",
       "      <td>0.06040</td>\n",
       "      <td>0.596800</td>\n",
       "      <td>0.294000</td>\n",
       "    </tr>\n",
       "    <tr>\n",
       "      <th>std</th>\n",
       "      <td>1443.520003</td>\n",
       "      <td>11.460241</td>\n",
       "      <td>11.468603</td>\n",
       "      <td>46.037325</td>\n",
       "      <td>2121.852197</td>\n",
       "      <td>1.147663</td>\n",
       "      <td>1.747659</td>\n",
       "      <td>0.839869</td>\n",
       "      <td>101.713802</td>\n",
       "      <td>0.294621</td>\n",
       "      <td>0.305809</td>\n",
       "      <td>0.23825</td>\n",
       "      <td>0.490589</td>\n",
       "      <td>0.455637</td>\n",
       "    </tr>\n",
       "    <tr>\n",
       "      <th>min</th>\n",
       "      <td>1.000000</td>\n",
       "      <td>23.000000</td>\n",
       "      <td>-3.000000</td>\n",
       "      <td>8.000000</td>\n",
       "      <td>9307.000000</td>\n",
       "      <td>1.000000</td>\n",
       "      <td>0.000000</td>\n",
       "      <td>1.000000</td>\n",
       "      <td>0.000000</td>\n",
       "      <td>0.000000</td>\n",
       "      <td>0.000000</td>\n",
       "      <td>0.00000</td>\n",
       "      <td>0.000000</td>\n",
       "      <td>0.000000</td>\n",
       "    </tr>\n",
       "    <tr>\n",
       "      <th>25%</th>\n",
       "      <td>1250.750000</td>\n",
       "      <td>35.000000</td>\n",
       "      <td>10.000000</td>\n",
       "      <td>39.000000</td>\n",
       "      <td>91911.000000</td>\n",
       "      <td>1.000000</td>\n",
       "      <td>0.700000</td>\n",
       "      <td>1.000000</td>\n",
       "      <td>0.000000</td>\n",
       "      <td>0.000000</td>\n",
       "      <td>0.000000</td>\n",
       "      <td>0.00000</td>\n",
       "      <td>0.000000</td>\n",
       "      <td>0.000000</td>\n",
       "    </tr>\n",
       "    <tr>\n",
       "      <th>50%</th>\n",
       "      <td>2500.500000</td>\n",
       "      <td>45.000000</td>\n",
       "      <td>20.000000</td>\n",
       "      <td>64.000000</td>\n",
       "      <td>93437.000000</td>\n",
       "      <td>2.000000</td>\n",
       "      <td>1.500000</td>\n",
       "      <td>2.000000</td>\n",
       "      <td>0.000000</td>\n",
       "      <td>0.000000</td>\n",
       "      <td>0.000000</td>\n",
       "      <td>0.00000</td>\n",
       "      <td>1.000000</td>\n",
       "      <td>0.000000</td>\n",
       "    </tr>\n",
       "    <tr>\n",
       "      <th>75%</th>\n",
       "      <td>3750.250000</td>\n",
       "      <td>55.000000</td>\n",
       "      <td>30.000000</td>\n",
       "      <td>98.000000</td>\n",
       "      <td>94608.000000</td>\n",
       "      <td>3.000000</td>\n",
       "      <td>2.500000</td>\n",
       "      <td>3.000000</td>\n",
       "      <td>101.000000</td>\n",
       "      <td>0.000000</td>\n",
       "      <td>0.000000</td>\n",
       "      <td>0.00000</td>\n",
       "      <td>1.000000</td>\n",
       "      <td>1.000000</td>\n",
       "    </tr>\n",
       "    <tr>\n",
       "      <th>max</th>\n",
       "      <td>5000.000000</td>\n",
       "      <td>67.000000</td>\n",
       "      <td>43.000000</td>\n",
       "      <td>224.000000</td>\n",
       "      <td>96651.000000</td>\n",
       "      <td>4.000000</td>\n",
       "      <td>10.000000</td>\n",
       "      <td>3.000000</td>\n",
       "      <td>635.000000</td>\n",
       "      <td>1.000000</td>\n",
       "      <td>1.000000</td>\n",
       "      <td>1.00000</td>\n",
       "      <td>1.000000</td>\n",
       "      <td>1.000000</td>\n",
       "    </tr>\n",
       "  </tbody>\n",
       "</table>\n",
       "</div>"
      ],
      "text/plain": [
       "                ID          Age   Experience       Income       ZIPCode  \\\n",
       "count  5000.000000  4998.000000  4998.000000  4987.000000   5000.000000   \n",
       "mean   2500.500000    45.336335    20.108043    73.807098  93152.503000   \n",
       "std    1443.520003    11.460241    11.468603    46.037325   2121.852197   \n",
       "min       1.000000    23.000000    -3.000000     8.000000   9307.000000   \n",
       "25%    1250.750000    35.000000    10.000000    39.000000  91911.000000   \n",
       "50%    2500.500000    45.000000    20.000000    64.000000  93437.000000   \n",
       "75%    3750.250000    55.000000    30.000000    98.000000  94608.000000   \n",
       "max    5000.000000    67.000000    43.000000   224.000000  96651.000000   \n",
       "\n",
       "            Family        CCAvg    Education     Mortgage  PersonalLoan  \\\n",
       "count  5000.000000  5000.000000  5000.000000  5000.000000   5000.000000   \n",
       "mean      2.396400     1.937938     1.881000    56.498800      0.096000   \n",
       "std       1.147663     1.747659     0.839869   101.713802      0.294621   \n",
       "min       1.000000     0.000000     1.000000     0.000000      0.000000   \n",
       "25%       1.000000     0.700000     1.000000     0.000000      0.000000   \n",
       "50%       2.000000     1.500000     2.000000     0.000000      0.000000   \n",
       "75%       3.000000     2.500000     3.000000   101.000000      0.000000   \n",
       "max       4.000000    10.000000     3.000000   635.000000      1.000000   \n",
       "\n",
       "       SecuritiesAccount   CDAccount       Online   CreditCard  \n",
       "count        5000.000000  5000.00000  5000.000000  5000.000000  \n",
       "mean            0.104400     0.06040     0.596800     0.294000  \n",
       "std             0.305809     0.23825     0.490589     0.455637  \n",
       "min             0.000000     0.00000     0.000000     0.000000  \n",
       "25%             0.000000     0.00000     0.000000     0.000000  \n",
       "50%             0.000000     0.00000     1.000000     0.000000  \n",
       "75%             0.000000     0.00000     1.000000     1.000000  \n",
       "max             1.000000     1.00000     1.000000     1.000000  "
      ]
     },
     "execution_count": 9,
     "metadata": {},
     "output_type": "execute_result"
    }
   ],
   "source": [
    "bank.describe(include='all')"
   ]
  },
  {
   "cell_type": "markdown",
   "metadata": {
    "id": "qks-975HRgB4"
   },
   "source": [
    "### Target Distribution with counts & percentage"
   ]
  },
  {
   "cell_type": "code",
   "execution_count": 10,
   "metadata": {
    "colab": {
     "base_uri": "https://localhost:8080/"
    },
    "executionInfo": {
     "elapsed": 39,
     "status": "ok",
     "timestamp": 1671699908492,
     "user": {
      "displayName": "Aishwarya komanduru",
      "userId": "18133241959767863584"
     },
     "user_tz": -330
    },
    "id": "G88P_siURgB4",
    "outputId": "d91a3e8c-5777-4616-f5e9-6e4f25deebb6"
   },
   "outputs": [
    {
     "name": "stdout",
     "output_type": "stream",
     "text": [
      "0    4520\n",
      "1     480\n",
      "Name: PersonalLoan, dtype: int64\n"
     ]
    }
   ],
   "source": [
    "print(bank[\"PersonalLoan\"].value_counts())"
   ]
  },
  {
   "cell_type": "code",
   "execution_count": 11,
   "metadata": {
    "colab": {
     "base_uri": "https://localhost:8080/"
    },
    "executionInfo": {
     "elapsed": 36,
     "status": "ok",
     "timestamp": 1671699908492,
     "user": {
      "displayName": "Aishwarya komanduru",
      "userId": "18133241959767863584"
     },
     "user_tz": -330
    },
    "id": "O2P_wZdHRgB4",
    "outputId": "2c95062c-6f19-4d95-bfa8-a86a0bd7a114"
   },
   "outputs": [
    {
     "name": "stdout",
     "output_type": "stream",
     "text": [
      "0    90.4\n",
      "1     9.6\n",
      "Name: PersonalLoan, dtype: float64\n"
     ]
    }
   ],
   "source": [
    "print(bank[\"PersonalLoan\"].value_counts(normalize=True)*100)"
   ]
  },
  {
   "cell_type": "markdown",
   "metadata": {
    "id": "daWBVb8JRgB4"
   },
   "source": [
    "### Check the number of unique values for attributes\n",
    "#### Check the unique values under ZIP code"
   ]
  },
  {
   "cell_type": "code",
   "execution_count": 12,
   "metadata": {
    "colab": {
     "base_uri": "https://localhost:8080/"
    },
    "executionInfo": {
     "elapsed": 34,
     "status": "ok",
     "timestamp": 1671699908493,
     "user": {
      "displayName": "Aishwarya komanduru",
      "userId": "18133241959767863584"
     },
     "user_tz": -330
    },
    "id": "DhPCJMB0RgB5",
    "outputId": "e32578bc-5e35-4b21-be88-c44ad604c10d"
   },
   "outputs": [
    {
     "name": "stdout",
     "output_type": "stream",
     "text": [
      "The number of Unique ZIP Codes in the bank data set is 467\n",
      "\n",
      "\n",
      "94720    169\n",
      "94305    127\n",
      "95616    116\n",
      "90095     71\n",
      "93106     57\n",
      "        ... \n",
      "96145      1\n",
      "94087      1\n",
      "91024      1\n",
      "9307       1\n",
      "94598      1\n",
      "Name: ZIPCode, Length: 467, dtype: int64\n"
     ]
    }
   ],
   "source": [
    "print(\"The number of Unique ZIP Codes in the bank data set is\",bank['ZIPCode'].nunique())\n",
    "print(\"\\n\")\n",
    "print(bank['ZIPCode'].value_counts())"
   ]
  },
  {
   "cell_type": "markdown",
   "metadata": {
    "id": "v5DpIbcdRgB5"
   },
   "source": [
    "#### Check unique values of  family attribute"
   ]
  },
  {
   "cell_type": "code",
   "execution_count": 13,
   "metadata": {
    "colab": {
     "base_uri": "https://localhost:8080/"
    },
    "executionInfo": {
     "elapsed": 31,
     "status": "ok",
     "timestamp": 1671699908493,
     "user": {
      "displayName": "Aishwarya komanduru",
      "userId": "18133241959767863584"
     },
     "user_tz": -330
    },
    "id": "_EUjqMABRgB5",
    "outputId": "5edf8c2d-ff83-44a6-e1f5-9f1a3bf4eca1"
   },
   "outputs": [
    {
     "name": "stdout",
     "output_type": "stream",
     "text": [
      "The number of family members for each level in the bank data set:\n",
      "\n",
      "1    1472\n",
      "2    1296\n",
      "4    1222\n",
      "3    1010\n",
      "Name: Family, dtype: int64\n"
     ]
    }
   ],
   "source": [
    "print(\"The number of family members for each level in the bank data set:\\n\")\n",
    "print(bank['Family'].value_counts())"
   ]
  },
  {
   "cell_type": "markdown",
   "metadata": {
    "id": "YwE-2jiPRgB5"
   },
   "source": [
    "#### Check unique values of Education attribute"
   ]
  },
  {
   "cell_type": "code",
   "execution_count": 14,
   "metadata": {
    "colab": {
     "base_uri": "https://localhost:8080/"
    },
    "executionInfo": {
     "elapsed": 28,
     "status": "ok",
     "timestamp": 1671699908494,
     "user": {
      "displayName": "Aishwarya komanduru",
      "userId": "18133241959767863584"
     },
     "user_tz": -330
    },
    "id": "dzV_p7GuRgB5",
    "outputId": "d3beae5f-cc81-4053-af12-30946ef57fa4"
   },
   "outputs": [
    {
     "name": "stdout",
     "output_type": "stream",
     "text": [
      "The number of Education levels in the bank data set:\n",
      "\n",
      "1    2096\n",
      "3    1501\n",
      "2    1403\n",
      "Name: Education, dtype: int64\n"
     ]
    }
   ],
   "source": [
    "print(\"The number of Education levels in the bank data set:\\n\")\n",
    "print(bank['Education'].value_counts())"
   ]
  },
  {
   "cell_type": "markdown",
   "metadata": {
    "id": "X0n30UmLRgB6"
   },
   "source": [
    "### TypeCasting of attributes"
   ]
  },
  {
   "cell_type": "code",
   "execution_count": 15,
   "metadata": {
    "id": "HrGitSRARgB6"
   },
   "outputs": [],
   "source": [
    "cat_cols = ['Education', 'CDAccount', 'Online','CreditCard',\n",
    "            'SecuritiesAccount','Family','ZIPCode','PersonalLoan']\n",
    "bank[cat_cols]=bank[cat_cols].astype('category')"
   ]
  },
  {
   "cell_type": "code",
   "execution_count": 16,
   "metadata": {
    "colab": {
     "base_uri": "https://localhost:8080/"
    },
    "executionInfo": {
     "elapsed": 24,
     "status": "ok",
     "timestamp": 1671699908494,
     "user": {
      "displayName": "Aishwarya komanduru",
      "userId": "18133241959767863584"
     },
     "user_tz": -330
    },
    "id": "gir5ryr_RgB6",
    "outputId": "38352b13-9c47-44da-8a07-2c8bf832e9de"
   },
   "outputs": [
    {
     "data": {
      "text/plain": [
       "ID                      int64\n",
       "Age                   float64\n",
       "Experience            float64\n",
       "Income                float64\n",
       "ZIPCode              category\n",
       "Family               category\n",
       "CCAvg                 float64\n",
       "Education            category\n",
       "Mortgage                int64\n",
       "PersonalLoan         category\n",
       "SecuritiesAccount    category\n",
       "CDAccount            category\n",
       "Online               category\n",
       "CreditCard           category\n",
       "dtype: object"
      ]
     },
     "execution_count": 16,
     "metadata": {},
     "output_type": "execute_result"
    }
   ],
   "source": [
    "bank.dtypes"
   ]
  },
  {
   "cell_type": "markdown",
   "metadata": {
    "id": "8ryQ0vwuRgB6"
   },
   "source": [
    "### Remove the unncessary Columns"
   ]
  },
  {
   "cell_type": "code",
   "execution_count": 17,
   "metadata": {
    "id": "MCT0BHO9RgB6"
   },
   "outputs": [],
   "source": [
    "bank=bank.drop([\"ID\",\"ZIPCode\"],axis=1)"
   ]
  },
  {
   "cell_type": "code",
   "execution_count": 18,
   "metadata": {
    "colab": {
     "base_uri": "https://localhost:8080/",
     "height": 270
    },
    "executionInfo": {
     "elapsed": 810,
     "status": "ok",
     "timestamp": 1671699909284,
     "user": {
      "displayName": "Aishwarya komanduru",
      "userId": "18133241959767863584"
     },
     "user_tz": -330
    },
    "id": "Rlq1zLC5RgB6",
    "outputId": "af8a0aab-4970-4a27-d737-1fea5e028124"
   },
   "outputs": [
    {
     "data": {
      "text/html": [
       "<div>\n",
       "<style scoped>\n",
       "    .dataframe tbody tr th:only-of-type {\n",
       "        vertical-align: middle;\n",
       "    }\n",
       "\n",
       "    .dataframe tbody tr th {\n",
       "        vertical-align: top;\n",
       "    }\n",
       "\n",
       "    .dataframe thead th {\n",
       "        text-align: right;\n",
       "    }\n",
       "</style>\n",
       "<table border=\"1\" class=\"dataframe\">\n",
       "  <thead>\n",
       "    <tr style=\"text-align: right;\">\n",
       "      <th></th>\n",
       "      <th>Age</th>\n",
       "      <th>Experience</th>\n",
       "      <th>Income</th>\n",
       "      <th>Family</th>\n",
       "      <th>CCAvg</th>\n",
       "      <th>Education</th>\n",
       "      <th>Mortgage</th>\n",
       "      <th>PersonalLoan</th>\n",
       "      <th>SecuritiesAccount</th>\n",
       "      <th>CDAccount</th>\n",
       "      <th>Online</th>\n",
       "      <th>CreditCard</th>\n",
       "    </tr>\n",
       "  </thead>\n",
       "  <tbody>\n",
       "    <tr>\n",
       "      <th>0</th>\n",
       "      <td>25.0</td>\n",
       "      <td>1.0</td>\n",
       "      <td>49.0</td>\n",
       "      <td>4</td>\n",
       "      <td>1.6</td>\n",
       "      <td>1</td>\n",
       "      <td>0</td>\n",
       "      <td>0</td>\n",
       "      <td>1</td>\n",
       "      <td>0</td>\n",
       "      <td>0</td>\n",
       "      <td>0</td>\n",
       "    </tr>\n",
       "    <tr>\n",
       "      <th>1</th>\n",
       "      <td>45.0</td>\n",
       "      <td>19.0</td>\n",
       "      <td>34.0</td>\n",
       "      <td>3</td>\n",
       "      <td>1.5</td>\n",
       "      <td>1</td>\n",
       "      <td>0</td>\n",
       "      <td>0</td>\n",
       "      <td>1</td>\n",
       "      <td>0</td>\n",
       "      <td>0</td>\n",
       "      <td>0</td>\n",
       "    </tr>\n",
       "    <tr>\n",
       "      <th>2</th>\n",
       "      <td>39.0</td>\n",
       "      <td>15.0</td>\n",
       "      <td>11.0</td>\n",
       "      <td>1</td>\n",
       "      <td>1.0</td>\n",
       "      <td>1</td>\n",
       "      <td>0</td>\n",
       "      <td>0</td>\n",
       "      <td>0</td>\n",
       "      <td>0</td>\n",
       "      <td>0</td>\n",
       "      <td>0</td>\n",
       "    </tr>\n",
       "    <tr>\n",
       "      <th>3</th>\n",
       "      <td>35.0</td>\n",
       "      <td>9.0</td>\n",
       "      <td>100.0</td>\n",
       "      <td>1</td>\n",
       "      <td>2.7</td>\n",
       "      <td>2</td>\n",
       "      <td>0</td>\n",
       "      <td>0</td>\n",
       "      <td>0</td>\n",
       "      <td>0</td>\n",
       "      <td>0</td>\n",
       "      <td>0</td>\n",
       "    </tr>\n",
       "    <tr>\n",
       "      <th>4</th>\n",
       "      <td>35.0</td>\n",
       "      <td>8.0</td>\n",
       "      <td>45.0</td>\n",
       "      <td>4</td>\n",
       "      <td>1.0</td>\n",
       "      <td>2</td>\n",
       "      <td>0</td>\n",
       "      <td>0</td>\n",
       "      <td>0</td>\n",
       "      <td>0</td>\n",
       "      <td>0</td>\n",
       "      <td>1</td>\n",
       "    </tr>\n",
       "  </tbody>\n",
       "</table>\n",
       "</div>"
      ],
      "text/plain": [
       "    Age  Experience  Income Family  CCAvg Education  Mortgage PersonalLoan  \\\n",
       "0  25.0         1.0    49.0      4    1.6         1         0            0   \n",
       "1  45.0        19.0    34.0      3    1.5         1         0            0   \n",
       "2  39.0        15.0    11.0      1    1.0         1         0            0   \n",
       "3  35.0         9.0   100.0      1    2.7         2         0            0   \n",
       "4  35.0         8.0    45.0      4    1.0         2         0            0   \n",
       "\n",
       "  SecuritiesAccount CDAccount Online CreditCard  \n",
       "0                 1         0      0          0  \n",
       "1                 1         0      0          0  \n",
       "2                 0         0      0          0  \n",
       "3                 0         0      0          0  \n",
       "4                 0         0      0          1  "
      ]
     },
     "execution_count": 18,
     "metadata": {},
     "output_type": "execute_result"
    }
   ],
   "source": [
    "bank.head()"
   ]
  },
  {
   "cell_type": "markdown",
   "metadata": {
    "id": "S8Le6zfzRgB6"
   },
   "source": [
    "###  Missing values "
   ]
  },
  {
   "cell_type": "code",
   "execution_count": 19,
   "metadata": {
    "colab": {
     "base_uri": "https://localhost:8080/"
    },
    "executionInfo": {
     "elapsed": 85,
     "status": "ok",
     "timestamp": 1671699909285,
     "user": {
      "displayName": "Aishwarya komanduru",
      "userId": "18133241959767863584"
     },
     "user_tz": -330
    },
    "id": "N0F_0zWGRgB6",
    "outputId": "c8f3f275-ad22-4690-b4d6-dc7e8b59d510"
   },
   "outputs": [
    {
     "data": {
      "text/plain": [
       "Age                   2\n",
       "Experience            2\n",
       "Income               13\n",
       "Family                0\n",
       "CCAvg                 0\n",
       "Education             0\n",
       "Mortgage              0\n",
       "PersonalLoan          0\n",
       "SecuritiesAccount     0\n",
       "CDAccount             0\n",
       "Online                0\n",
       "CreditCard            0\n",
       "dtype: int64"
      ]
     },
     "execution_count": 19,
     "metadata": {},
     "output_type": "execute_result"
    }
   ],
   "source": [
    "bank.isnull().sum()"
   ]
  },
  {
   "cell_type": "code",
   "execution_count": 20,
   "metadata": {
    "colab": {
     "base_uri": "https://localhost:8080/"
    },
    "executionInfo": {
     "elapsed": 81,
     "status": "ok",
     "timestamp": 1671699909286,
     "user": {
      "displayName": "Aishwarya komanduru",
      "userId": "18133241959767863584"
     },
     "user_tz": -330
    },
    "id": "OYkDfvANRgB7",
    "outputId": "8f04af75-3e55-41fd-e190-6f8cd52ace60"
   },
   "outputs": [
    {
     "data": {
      "text/plain": [
       "Age                   2\n",
       "Experience            2\n",
       "Income               13\n",
       "Family                0\n",
       "CCAvg                 0\n",
       "Education             0\n",
       "Mortgage              0\n",
       "PersonalLoan          0\n",
       "SecuritiesAccount     0\n",
       "CDAccount             0\n",
       "Online                0\n",
       "CreditCard            0\n",
       "dtype: int64"
      ]
     },
     "execution_count": 20,
     "metadata": {},
     "output_type": "execute_result"
    }
   ],
   "source": [
    "bank.isna().sum()"
   ]
  },
  {
   "cell_type": "markdown",
   "metadata": {
    "id": "uoLqZYuZRgB7"
   },
   "source": [
    "### Split the data into train and test"
   ]
  },
  {
   "cell_type": "code",
   "execution_count": 21,
   "metadata": {
    "id": "gb1fPFVoRgB7"
   },
   "outputs": [],
   "source": [
    "y=bank[\"PersonalLoan\"]\n",
    "X=bank.drop('PersonalLoan', axis=1)\n",
    "X_train, X_val, y_train, y_val = train_test_split(X, y, test_size=0.20,random_state=123,stratify=y)  "
   ]
  },
  {
   "cell_type": "code",
   "execution_count": 22,
   "metadata": {
    "colab": {
     "base_uri": "https://localhost:8080/"
    },
    "executionInfo": {
     "elapsed": 78,
     "status": "ok",
     "timestamp": 1671699909287,
     "user": {
      "displayName": "Aishwarya komanduru",
      "userId": "18133241959767863584"
     },
     "user_tz": -330
    },
    "id": "FAoh5t0YRgB7",
    "outputId": "f2168361-a3df-457d-b7e0-7272cd9dbf44"
   },
   "outputs": [
    {
     "name": "stdout",
     "output_type": "stream",
     "text": [
      "(4000, 11)\n",
      "(1000, 11)\n",
      "(4000,)\n",
      "(1000,)\n"
     ]
    }
   ],
   "source": [
    "print(X_train.shape)\n",
    "print(X_val.shape)\n",
    "print(y_train.shape)\n",
    "print(y_val.shape)"
   ]
  },
  {
   "cell_type": "code",
   "execution_count": 23,
   "metadata": {
    "colab": {
     "base_uri": "https://localhost:8080/"
    },
    "executionInfo": {
     "elapsed": 78,
     "status": "ok",
     "timestamp": 1671699909290,
     "user": {
      "displayName": "Aishwarya komanduru",
      "userId": "18133241959767863584"
     },
     "user_tz": -330
    },
    "id": "xOai0-xmRgB7",
    "outputId": "dc22f6bb-e694-4fb4-80f3-3627e7068d46"
   },
   "outputs": [
    {
     "name": "stdout",
     "output_type": "stream",
     "text": [
      "<class 'pandas.core.frame.DataFrame'>\n",
      "<class 'pandas.core.series.Series'>\n"
     ]
    }
   ],
   "source": [
    "print(type(X_train))\n",
    "print(type(y_train))"
   ]
  },
  {
   "cell_type": "markdown",
   "metadata": {
    "id": "lJHUJQOHRgB7"
   },
   "source": [
    "#### Split the attributes into numerical and categorical types"
   ]
  },
  {
   "cell_type": "code",
   "execution_count": 24,
   "metadata": {
    "colab": {
     "base_uri": "https://localhost:8080/"
    },
    "executionInfo": {
     "elapsed": 76,
     "status": "ok",
     "timestamp": 1671699909291,
     "user": {
      "displayName": "Aishwarya komanduru",
      "userId": "18133241959767863584"
     },
     "user_tz": -330
    },
    "id": "yoAn6nGVRgB7",
    "outputId": "bd4ea08b-1957-434d-a516-ef7219e7371f"
   },
   "outputs": [
    {
     "data": {
      "text/plain": [
       "Index(['Age', 'Experience', 'Income', 'CCAvg', 'Mortgage'], dtype='object')"
      ]
     },
     "execution_count": 24,
     "metadata": {},
     "output_type": "execute_result"
    }
   ],
   "source": [
    "num_attr=X_train.select_dtypes(['int64','float64']).columns\n",
    "num_attr"
   ]
  },
  {
   "cell_type": "code",
   "execution_count": 25,
   "metadata": {
    "colab": {
     "base_uri": "https://localhost:8080/"
    },
    "executionInfo": {
     "elapsed": 73,
     "status": "ok",
     "timestamp": 1671699909292,
     "user": {
      "displayName": "Aishwarya komanduru",
      "userId": "18133241959767863584"
     },
     "user_tz": -330
    },
    "id": "2Lm-YxVCRgB8",
    "outputId": "acbb5d4f-de14-48a5-fc10-b68148818bd9"
   },
   "outputs": [
    {
     "data": {
      "text/plain": [
       "Index(['Family', 'Education', 'SecuritiesAccount', 'CDAccount', 'Online',\n",
       "       'CreditCard'],\n",
       "      dtype='object')"
      ]
     },
     "execution_count": 25,
     "metadata": {},
     "output_type": "execute_result"
    }
   ],
   "source": [
    "cat_attr = X_train.select_dtypes('category').columns\n",
    "cat_attr"
   ]
  },
  {
   "cell_type": "markdown",
   "metadata": {
    "id": "-97EZieqRgB8"
   },
   "source": [
    "### Imputation"
   ]
  },
  {
   "cell_type": "code",
   "execution_count": 26,
   "metadata": {
    "colab": {
     "base_uri": "https://localhost:8080/"
    },
    "executionInfo": {
     "elapsed": 71,
     "status": "ok",
     "timestamp": 1671699909293,
     "user": {
      "displayName": "Aishwarya komanduru",
      "userId": "18133241959767863584"
     },
     "user_tz": -330
    },
    "id": "gz45B6DlRgB8",
    "outputId": "03663a4b-7580-4d6a-a7f7-03d924842a5e"
   },
   "outputs": [
    {
     "data": {
      "text/plain": [
       "Age                   2\n",
       "Experience            2\n",
       "Income               10\n",
       "Family                0\n",
       "CCAvg                 0\n",
       "Education             0\n",
       "Mortgage              0\n",
       "SecuritiesAccount     0\n",
       "CDAccount             0\n",
       "Online                0\n",
       "CreditCard            0\n",
       "dtype: int64"
      ]
     },
     "execution_count": 26,
     "metadata": {},
     "output_type": "execute_result"
    }
   ],
   "source": [
    "X_train.isnull().sum()"
   ]
  },
  {
   "cell_type": "code",
   "execution_count": 27,
   "metadata": {
    "colab": {
     "base_uri": "https://localhost:8080/"
    },
    "executionInfo": {
     "elapsed": 68,
     "status": "ok",
     "timestamp": 1671699909293,
     "user": {
      "displayName": "Aishwarya komanduru",
      "userId": "18133241959767863584"
     },
     "user_tz": -330
    },
    "id": "FlqwlO2rRgB8",
    "outputId": "d9c6f8f3-a7a1-4aa0-91a5-e80d1d532775"
   },
   "outputs": [
    {
     "data": {
      "text/plain": [
       "Age                  0\n",
       "Experience           0\n",
       "Income               3\n",
       "Family               0\n",
       "CCAvg                0\n",
       "Education            0\n",
       "Mortgage             0\n",
       "SecuritiesAccount    0\n",
       "CDAccount            0\n",
       "Online               0\n",
       "CreditCard           0\n",
       "dtype: int64"
      ]
     },
     "execution_count": 27,
     "metadata": {},
     "output_type": "execute_result"
    }
   ],
   "source": [
    "X_val.isnull().sum()"
   ]
  },
  {
   "cell_type": "markdown",
   "metadata": {
    "id": "hFM779OfRgB8"
   },
   "source": [
    "#### Imputing missing values with median"
   ]
  },
  {
   "cell_type": "code",
   "execution_count": 28,
   "metadata": {
    "id": "ZzzqdW29RgB8"
   },
   "outputs": [],
   "source": [
    "imputer = SimpleImputer(strategy='median')\n",
    "imputer = imputer.fit(X_train[num_attr])\n",
    "\n",
    "X_train[num_attr] = imputer.transform(X_train[num_attr])\n",
    "X_val[num_attr] = imputer.transform(X_val[num_attr])"
   ]
  },
  {
   "cell_type": "code",
   "execution_count": 29,
   "metadata": {
    "colab": {
     "base_uri": "https://localhost:8080/"
    },
    "executionInfo": {
     "elapsed": 66,
     "status": "ok",
     "timestamp": 1671699909294,
     "user": {
      "displayName": "Aishwarya komanduru",
      "userId": "18133241959767863584"
     },
     "user_tz": -330
    },
    "id": "SfO3YzBtRgB8",
    "outputId": "11776c46-93ed-4653-f496-d5019f014910"
   },
   "outputs": [
    {
     "data": {
      "text/plain": [
       "Age                  0\n",
       "Experience           0\n",
       "Income               0\n",
       "Family               0\n",
       "CCAvg                0\n",
       "Education            0\n",
       "Mortgage             0\n",
       "SecuritiesAccount    0\n",
       "CDAccount            0\n",
       "Online               0\n",
       "CreditCard           0\n",
       "dtype: int64"
      ]
     },
     "execution_count": 29,
     "metadata": {},
     "output_type": "execute_result"
    }
   ],
   "source": [
    "X_train.isnull().sum()"
   ]
  },
  {
   "cell_type": "code",
   "execution_count": 30,
   "metadata": {
    "colab": {
     "base_uri": "https://localhost:8080/"
    },
    "executionInfo": {
     "elapsed": 65,
     "status": "ok",
     "timestamp": 1671699909295,
     "user": {
      "displayName": "Aishwarya komanduru",
      "userId": "18133241959767863584"
     },
     "user_tz": -330
    },
    "id": "BddT4y79RgB8",
    "outputId": "d6f58116-bf1f-4678-a7d8-9638b1edd2bc"
   },
   "outputs": [
    {
     "data": {
      "text/plain": [
       "Age                  0\n",
       "Experience           0\n",
       "Income               0\n",
       "Family               0\n",
       "CCAvg                0\n",
       "Education            0\n",
       "Mortgage             0\n",
       "SecuritiesAccount    0\n",
       "CDAccount            0\n",
       "Online               0\n",
       "CreditCard           0\n",
       "dtype: int64"
      ]
     },
     "execution_count": 30,
     "metadata": {},
     "output_type": "execute_result"
    }
   ],
   "source": [
    "X_val.isnull().sum()"
   ]
  },
  {
   "cell_type": "markdown",
   "metadata": {
    "collapsed": true,
    "id": "iARjOyn3RgB8"
   },
   "source": [
    "### Standardize the data \n"
   ]
  },
  {
   "cell_type": "code",
   "execution_count": 31,
   "metadata": {
    "colab": {
     "base_uri": "https://localhost:8080/"
    },
    "executionInfo": {
     "elapsed": 61,
     "status": "ok",
     "timestamp": 1671699909295,
     "user": {
      "displayName": "Aishwarya komanduru",
      "userId": "18133241959767863584"
     },
     "user_tz": -330
    },
    "id": "_5sa7w5ARgB8",
    "outputId": "224925ce-3255-49f2-a6b2-baed7aad8ad6"
   },
   "outputs": [
    {
     "data": {
      "text/plain": [
       "StandardScaler()"
      ]
     },
     "execution_count": 31,
     "metadata": {},
     "output_type": "execute_result"
    }
   ],
   "source": [
    "scaler = StandardScaler()\n",
    "scaler.fit(X_train[num_attr])"
   ]
  },
  {
   "cell_type": "code",
   "execution_count": 32,
   "metadata": {
    "colab": {
     "base_uri": "https://localhost:8080/"
    },
    "executionInfo": {
     "elapsed": 62,
     "status": "ok",
     "timestamp": 1671699909298,
     "user": {
      "displayName": "Aishwarya komanduru",
      "userId": "18133241959767863584"
     },
     "user_tz": -330
    },
    "id": "Dl_EoRP9RgB9",
    "outputId": "39e46e51-4eb3-47c3-978f-8099542046fb"
   },
   "outputs": [
    {
     "data": {
      "text/plain": [
       "Index(['Age', 'Experience', 'Income', 'CCAvg', 'Mortgage'], dtype='object')"
      ]
     },
     "execution_count": 32,
     "metadata": {},
     "output_type": "execute_result"
    }
   ],
   "source": [
    "num_attr"
   ]
  },
  {
   "cell_type": "code",
   "execution_count": 33,
   "metadata": {
    "colab": {
     "base_uri": "https://localhost:8080/"
    },
    "executionInfo": {
     "elapsed": 61,
     "status": "ok",
     "timestamp": 1671699909300,
     "user": {
      "displayName": "Aishwarya komanduru",
      "userId": "18133241959767863584"
     },
     "user_tz": -330
    },
    "id": "ej9EdhHrRgB9",
    "outputId": "92a587e4-b4e3-4c19-9b54-bb31543c4860"
   },
   "outputs": [
    {
     "data": {
      "text/plain": [
       "array([45.30675  , 20.08275  , 74.03225  ,  1.9490125, 56.8095   ])"
      ]
     },
     "execution_count": 33,
     "metadata": {},
     "output_type": "execute_result"
    }
   ],
   "source": [
    "scaler.mean_"
   ]
  },
  {
   "cell_type": "code",
   "execution_count": 34,
   "metadata": {
    "colab": {
     "base_uri": "https://localhost:8080/"
    },
    "executionInfo": {
     "elapsed": 60,
     "status": "ok",
     "timestamp": 1671699909301,
     "user": {
      "displayName": "Aishwarya komanduru",
      "userId": "18133241959767863584"
     },
     "user_tz": -330
    },
    "id": "Atte-31BRgB9",
    "outputId": "a3588d50-3e61-4774-cb37-56595bbdaf6a"
   },
   "outputs": [
    {
     "data": {
      "text/plain": [
       "array([1.29518154e+02, 1.29723402e+02, 2.15864758e+03, 3.11726960e+00,\n",
       "       1.03160472e+04])"
      ]
     },
     "execution_count": 34,
     "metadata": {},
     "output_type": "execute_result"
    }
   ],
   "source": [
    "scaler.var_"
   ]
  },
  {
   "cell_type": "code",
   "execution_count": 35,
   "metadata": {
    "id": "9lcNbDBLRgB9"
   },
   "outputs": [],
   "source": [
    "X_train_num = pd.DataFrame(scaler.transform(X_train[num_attr]), columns=num_attr)\n",
    "X_val_num = pd.DataFrame(scaler.transform(X_val[num_attr]), columns=num_attr)"
   ]
  },
  {
   "cell_type": "code",
   "execution_count": 36,
   "metadata": {
    "colab": {
     "base_uri": "https://localhost:8080/"
    },
    "executionInfo": {
     "elapsed": 59,
     "status": "ok",
     "timestamp": 1671699909303,
     "user": {
      "displayName": "Aishwarya komanduru",
      "userId": "18133241959767863584"
     },
     "user_tz": -330
    },
    "id": "LOAVpy96RgB9",
    "outputId": "c541eedf-7526-4f36-d1c5-58ac44b502b1"
   },
   "outputs": [
    {
     "name": "stdout",
     "output_type": "stream",
     "text": [
      "(4000, 5)\n",
      "(1000, 5)\n",
      "<class 'pandas.core.frame.DataFrame'>\n",
      "<class 'pandas.core.frame.DataFrame'>\n"
     ]
    }
   ],
   "source": [
    "print(X_train_num.shape)\n",
    "print(X_val_num.shape)\n",
    "\n",
    "print(type(X_train_num))\n",
    "print(type(X_val_num))"
   ]
  },
  {
   "cell_type": "markdown",
   "metadata": {
    "id": "BA-svFoaRgB9"
   },
   "source": [
    "### One Hot Encoding of categorical attributes"
   ]
  },
  {
   "cell_type": "code",
   "execution_count": 37,
   "metadata": {
    "id": "X3bjwbiLRgB9"
   },
   "outputs": [],
   "source": [
    "ohe = OneHotEncoder(handle_unknown='error')"
   ]
  },
  {
   "cell_type": "code",
   "execution_count": null,
   "metadata": {
    "colab": {
     "base_uri": "https://localhost:8080/"
    },
    "executionInfo": {
     "elapsed": 56,
     "status": "ok",
     "timestamp": 1671699909304,
     "user": {
      "displayName": "Aishwarya komanduru",
      "userId": "18133241959767863584"
     },
     "user_tz": -330
    },
    "id": "LGKvHJR7RgB9",
    "outputId": "e3bb2fe0-2c49-4007-b849-5b3abff8300e"
   },
   "outputs": [],
   "source": [
    "ohe.fit(X_train[cat_attr])\n",
    "\n",
    "columns_ohe = list(ohe.get_feature_names(cat_attr))\n",
    "print(columns_ohe)\n",
    "\n",
    "X_train_cat = ohe.transform(X_train[cat_attr])\n",
    "X_val_cat = ohe.transform(X_val[cat_attr])"
   ]
  },
  {
   "cell_type": "code",
   "execution_count": null,
   "metadata": {
    "colab": {
     "base_uri": "https://localhost:8080/"
    },
    "executionInfo": {
     "elapsed": 52,
     "status": "ok",
     "timestamp": 1671699909304,
     "user": {
      "displayName": "Aishwarya komanduru",
      "userId": "18133241959767863584"
     },
     "user_tz": -330
    },
    "id": "mciMdKMojKIq",
    "outputId": "8372806a-19eb-4730-85d5-3fc05398a9a2"
   },
   "outputs": [
    {
     "name": "stdout",
     "output_type": "stream",
     "text": [
      "  (0, 1)\t1.0\n",
      "  (0, 4)\t1.0\n",
      "  (0, 7)\t1.0\n",
      "  (0, 9)\t1.0\n",
      "  (0, 11)\t1.0\n",
      "  (0, 13)\t1.0\n",
      "  (1, 0)\t1.0\n",
      "  (1, 4)\t1.0\n",
      "  (1, 7)\t1.0\n",
      "  (1, 9)\t1.0\n",
      "  (1, 11)\t1.0\n",
      "  (1, 13)\t1.0\n",
      "  (2, 2)\t1.0\n",
      "  (2, 5)\t1.0\n",
      "  (2, 7)\t1.0\n",
      "  (2, 9)\t1.0\n",
      "  (2, 11)\t1.0\n",
      "  (2, 13)\t1.0\n",
      "  (3, 1)\t1.0\n",
      "  (3, 5)\t1.0\n",
      "  (3, 7)\t1.0\n",
      "  (3, 9)\t1.0\n",
      "  (3, 12)\t1.0\n",
      "  (3, 13)\t1.0\n",
      "  (4, 3)\t1.0\n",
      "  (4, 5)\t1.0\n",
      "  (4, 7)\t1.0\n",
      "  (4, 9)\t1.0\n",
      "  (4, 12)\t1.0\n",
      "  (4, 13)\t1.0\n",
      "  (0, 0)\t1.0\n",
      "  (0, 4)\t1.0\n",
      "  (0, 7)\t1.0\n",
      "  (0, 9)\t1.0\n",
      "  (0, 11)\t1.0\n",
      "  (0, 13)\t1.0\n",
      "  (1, 2)\t1.0\n",
      "  (1, 4)\t1.0\n",
      "  (1, 7)\t1.0\n",
      "  (1, 9)\t1.0\n",
      "  (1, 12)\t1.0\n",
      "  (1, 14)\t1.0\n",
      "  (2, 1)\t1.0\n",
      "  (2, 6)\t1.0\n",
      "  (2, 7)\t1.0\n",
      "  (2, 9)\t1.0\n",
      "  (2, 11)\t1.0\n",
      "  (2, 14)\t1.0\n",
      "  (3, 3)\t1.0\n",
      "  (3, 6)\t1.0\n",
      "  (3, 7)\t1.0\n",
      "  (3, 9)\t1.0\n",
      "  (3, 12)\t1.0\n",
      "  (3, 13)\t1.0\n",
      "  (4, 2)\t1.0\n",
      "  (4, 5)\t1.0\n",
      "  (4, 7)\t1.0\n",
      "  (4, 9)\t1.0\n",
      "  (4, 11)\t1.0\n",
      "  (4, 13)\t1.0\n"
     ]
    }
   ],
   "source": [
    "print(X_train_cat[0:5])\n",
    "print(X_val_cat[0:5])"
   ]
  },
  {
   "cell_type": "code",
   "execution_count": null,
   "metadata": {
    "id": "5eVn18tHRgB9"
   },
   "outputs": [],
   "source": [
    "X_train_cat = pd.DataFrame(X_train_cat.todense(), columns=columns_ohe)\n",
    "X_val_cat = pd.DataFrame(X_val_cat.todense(), columns=columns_ohe)"
   ]
  },
  {
   "cell_type": "code",
   "execution_count": null,
   "metadata": {
    "colab": {
     "base_uri": "https://localhost:8080/"
    },
    "executionInfo": {
     "elapsed": 49,
     "status": "ok",
     "timestamp": 1671699909305,
     "user": {
      "displayName": "Aishwarya komanduru",
      "userId": "18133241959767863584"
     },
     "user_tz": -330
    },
    "id": "K61KjC16RgB9",
    "outputId": "2ec90c17-eea0-4098-9ee2-d7d34bf31f9f"
   },
   "outputs": [
    {
     "name": "stdout",
     "output_type": "stream",
     "text": [
      "   Family_1  Family_2  Family_3  Family_4  Education_1  Education_2  \\\n",
      "0       0.0       1.0       0.0       0.0          1.0          0.0   \n",
      "1       1.0       0.0       0.0       0.0          1.0          0.0   \n",
      "2       0.0       0.0       1.0       0.0          0.0          1.0   \n",
      "3       0.0       1.0       0.0       0.0          0.0          1.0   \n",
      "\n",
      "   Education_3  SecuritiesAccount_0  SecuritiesAccount_1  CDAccount_0  \\\n",
      "0          0.0                  1.0                  0.0          1.0   \n",
      "1          0.0                  1.0                  0.0          1.0   \n",
      "2          0.0                  1.0                  0.0          1.0   \n",
      "3          0.0                  1.0                  0.0          1.0   \n",
      "\n",
      "   CDAccount_1  Online_0  Online_1  CreditCard_0  CreditCard_1  \n",
      "0          0.0       1.0       0.0           1.0           0.0  \n",
      "1          0.0       1.0       0.0           1.0           0.0  \n",
      "2          0.0       1.0       0.0           1.0           0.0  \n",
      "3          0.0       0.0       1.0           1.0           0.0  \n"
     ]
    }
   ],
   "source": [
    "print(X_train_cat.head(4))"
   ]
  },
  {
   "cell_type": "code",
   "execution_count": null,
   "metadata": {
    "colab": {
     "base_uri": "https://localhost:8080/"
    },
    "executionInfo": {
     "elapsed": 46,
     "status": "ok",
     "timestamp": 1671699909305,
     "user": {
      "displayName": "Aishwarya komanduru",
      "userId": "18133241959767863584"
     },
     "user_tz": -330
    },
    "id": "dbZDs71-RgB-",
    "outputId": "b2bb5008-2c93-442c-a858-f2baf8fc131e"
   },
   "outputs": [
    {
     "name": "stdout",
     "output_type": "stream",
     "text": [
      "(4000, 15)\n",
      "(1000, 15)\n",
      "<class 'pandas.core.frame.DataFrame'>\n",
      "<class 'pandas.core.frame.DataFrame'>\n"
     ]
    }
   ],
   "source": [
    "print(X_train_cat.shape)\n",
    "print(X_val_cat.shape)\n",
    "\n",
    "print(type(X_train_cat))\n",
    "print(type(X_val_cat))"
   ]
  },
  {
   "cell_type": "markdown",
   "metadata": {
    "id": "TJzh-8yoRgB-"
   },
   "source": [
    "### Merging of Numerical and Categorical Dataframes"
   ]
  },
  {
   "cell_type": "code",
   "execution_count": null,
   "metadata": {
    "id": "2LY9zZJyRgB-"
   },
   "outputs": [],
   "source": [
    "X_train_proc = pd.concat([X_train_num, X_train_cat], axis=1)\n",
    "X_val_proc = pd.concat([X_val_num, X_val_cat], axis=1)"
   ]
  },
  {
   "cell_type": "code",
   "execution_count": null,
   "metadata": {
    "colab": {
     "base_uri": "https://localhost:8080/"
    },
    "executionInfo": {
     "elapsed": 45,
     "status": "ok",
     "timestamp": 1671699909308,
     "user": {
      "displayName": "Aishwarya komanduru",
      "userId": "18133241959767863584"
     },
     "user_tz": -330
    },
    "id": "G0wHApiERgB-",
    "outputId": "b5281cdb-0758-4157-83cd-4adae964fa90"
   },
   "outputs": [
    {
     "name": "stdout",
     "output_type": "stream",
     "text": [
      "(4000, 20)\n",
      "(4000,)\n",
      "(1000, 20)\n",
      "(1000,)\n"
     ]
    }
   ],
   "source": [
    "print(X_train_proc.shape)\n",
    "print(y_train.shape)\n",
    "print(X_val_proc.shape)\n",
    "print(y_val.shape)"
   ]
  },
  {
   "cell_type": "markdown",
   "metadata": {
    "id": "k-9PQTEORgB-"
   },
   "source": [
    "# Model Building "
   ]
  },
  {
   "cell_type": "markdown",
   "metadata": {
    "id": "h0ORS1loRgB-"
   },
   "source": [
    "###  Build Bagging Tree Classifier"
   ]
  },
  {
   "cell_type": "code",
   "execution_count": null,
   "metadata": {
    "id": "ZtgQtfxcRgB_"
   },
   "outputs": [],
   "source": [
    "from sklearn.ensemble import BaggingClassifier"
   ]
  },
  {
   "cell_type": "code",
   "execution_count": null,
   "metadata": {
    "colab": {
     "base_uri": "https://localhost:8080/"
    },
    "executionInfo": {
     "elapsed": 15,
     "status": "ok",
     "timestamp": 1671699909703,
     "user": {
      "displayName": "Aishwarya komanduru",
      "userId": "18133241959767863584"
     },
     "user_tz": -330
    },
    "id": "ejOamjA-RgB_",
    "outputId": "5edd796c-d375-4bdf-a79f-eed7504f1174",
    "scrolled": false
   },
   "outputs": [
    {
     "data": {
      "text/plain": [
       "BaggingClassifier(random_state=0)"
      ]
     },
     "execution_count": 47,
     "metadata": {},
     "output_type": "execute_result"
    }
   ],
   "source": [
    "clf = BaggingClassifier(n_estimators=10, random_state=0)\n",
    "clf.fit(X=X_train_proc, y=y_train)"
   ]
  },
  {
   "cell_type": "code",
   "execution_count": null,
   "metadata": {
    "id": "cdwDlI7nRgB_"
   },
   "outputs": [],
   "source": [
    "from sklearn.metrics import accuracy_score\n",
    "from sklearn.metrics import recall_score\n",
    "from sklearn.metrics import precision_score"
   ]
  },
  {
   "cell_type": "code",
   "execution_count": null,
   "metadata": {
    "colab": {
     "base_uri": "https://localhost:8080/"
    },
    "executionInfo": {
     "elapsed": 12,
     "status": "ok",
     "timestamp": 1671699909704,
     "user": {
      "displayName": "Aishwarya komanduru",
      "userId": "18133241959767863584"
     },
     "user_tz": -330
    },
    "id": "x9y22VnmRgB_",
    "outputId": "3cd759ed-1d0c-4635-d774-1b594286120f"
   },
   "outputs": [
    {
     "name": "stdout",
     "output_type": "stream",
     "text": [
      "Accuracy for Train set:\n",
      "0.999\n",
      "Accuracy for Validation set:\n",
      "0.984\n",
      "\n",
      "\n",
      "Recall for Train set:\n",
      "0.9895833333333334\n",
      "Recall for Validation set:\n",
      "0.875\n",
      "\n",
      "\n",
      "Precision for Train set:\n",
      "1.0\n",
      "Precision for Validation set:\n",
      "0.9545454545454546\n"
     ]
    }
   ],
   "source": [
    "y_pred = clf.predict(X_train_proc)\n",
    "print(\"Accuracy for Train set:\")\n",
    "print(accuracy_score(y_train,y_pred))\n",
    "\n",
    "y_pred_val = clf.predict(X_val_proc)\n",
    "print(\"Accuracy for Validation set:\")\n",
    "print(accuracy_score(y_val,y_pred_val))\n",
    "\n",
    "print(\"\\n\")\n",
    "\n",
    "print(\"Recall for Train set:\")\n",
    "print(recall_score(y_train,y_pred,pos_label=1))\n",
    "\n",
    "print(\"Recall for Validation set:\")\n",
    "print(recall_score(y_val,y_pred_val,pos_label=1))\n",
    "\n",
    "print(\"\\n\")\n",
    "\n",
    "print(\"Precision for Train set:\")\n",
    "print(precision_score(y_train,y_pred,pos_label=1))\n",
    "\n",
    "print(\"Precision for Validation set:\")\n",
    "print(precision_score(y_val,y_pred_val,pos_label=1))\n"
   ]
  },
  {
   "cell_type": "markdown",
   "metadata": {
    "id": "6uTW6x8qRgB_"
   },
   "source": [
    "### Hyperparameter Tuning\n"
   ]
  },
  {
   "cell_type": "code",
   "execution_count": null,
   "metadata": {
    "id": "Vu3n8mtFRgCA"
   },
   "outputs": [],
   "source": [
    "from sklearn.model_selection import GridSearchCV"
   ]
  },
  {
   "cell_type": "code",
   "execution_count": null,
   "metadata": {
    "id": "XPgNN5CaRgCA"
   },
   "outputs": [],
   "source": [
    "# set of parameters to test\n",
    "param_grid = {\"n_estimators\": [10, 15, 20, 25],\n",
    "              \"bootstrap\": [False, True]\n",
    "              }"
   ]
  },
  {
   "cell_type": "code",
   "execution_count": null,
   "metadata": {
    "colab": {
     "base_uri": "https://localhost:8080/"
    },
    "executionInfo": {
     "elapsed": 5060,
     "status": "ok",
     "timestamp": 1671699914756,
     "user": {
      "displayName": "Aishwarya komanduru",
      "userId": "18133241959767863584"
     },
     "user_tz": -330
    },
    "id": "273ciV8rRgCA",
    "outputId": "2d0669cf-8e70-4ed8-effe-cb13f869c10b"
   },
   "outputs": [
    {
     "data": {
      "text/plain": [
       "GridSearchCV(cv=5, estimator=BaggingClassifier(random_state=0), n_jobs=-1,\n",
       "             param_grid={'bootstrap': [False, True],\n",
       "                         'n_estimators': [10, 15, 20, 25]},\n",
       "             scoring='recall')"
      ]
     },
     "execution_count": 52,
     "metadata": {},
     "output_type": "execute_result"
    }
   ],
   "source": [
    "bt = BaggingClassifier(random_state=0)\n",
    "clf2 = GridSearchCV(bt, param_grid, cv=5, scoring='recall', n_jobs=-1)\n",
    "clf2.fit(X_train_proc, y_train)"
   ]
  },
  {
   "cell_type": "code",
   "execution_count": null,
   "metadata": {
    "colab": {
     "base_uri": "https://localhost:8080/"
    },
    "executionInfo": {
     "elapsed": 29,
     "status": "ok",
     "timestamp": 1671699914756,
     "user": {
      "displayName": "Aishwarya komanduru",
      "userId": "18133241959767863584"
     },
     "user_tz": -330
    },
    "id": "dVLEyVOTRgCA",
    "outputId": "47914735-65ba-4f8d-f147-19234fc77496"
   },
   "outputs": [
    {
     "data": {
      "text/plain": [
       "{'bootstrap': True, 'n_estimators': 15}"
      ]
     },
     "execution_count": 53,
     "metadata": {},
     "output_type": "execute_result"
    }
   ],
   "source": [
    "clf2.best_params_"
   ]
  },
  {
   "cell_type": "code",
   "execution_count": null,
   "metadata": {
    "colab": {
     "base_uri": "https://localhost:8080/"
    },
    "executionInfo": {
     "elapsed": 23,
     "status": "ok",
     "timestamp": 1671699914757,
     "user": {
      "displayName": "Aishwarya komanduru",
      "userId": "18133241959767863584"
     },
     "user_tz": -330
    },
    "id": "iOGAK2mdRgCA",
    "outputId": "6499f758-11ec-47f0-e6e5-11ce8e920249"
   },
   "outputs": [
    {
     "data": {
      "text/plain": [
       "BaggingClassifier(n_estimators=15, random_state=0)"
      ]
     },
     "execution_count": 54,
     "metadata": {},
     "output_type": "execute_result"
    }
   ],
   "source": [
    "clf2.best_estimator_"
   ]
  },
  {
   "cell_type": "code",
   "execution_count": null,
   "metadata": {
    "id": "Kh4KZq5vRgCA"
   },
   "outputs": [],
   "source": [
    "train_pred = clf2.predict(X_train_proc)\n",
    "val_pred = clf2.predict(X_val_proc)"
   ]
  },
  {
   "cell_type": "markdown",
   "metadata": {
    "id": "sbRbOxIzRgCA"
   },
   "source": [
    "#### Calculate Accuracy and True Positive Rate"
   ]
  },
  {
   "cell_type": "code",
   "execution_count": null,
   "metadata": {
    "id": "L6Ak3uTXRgCA"
   },
   "outputs": [],
   "source": [
    "from sklearn.metrics import confusion_matrix"
   ]
  },
  {
   "cell_type": "code",
   "execution_count": null,
   "metadata": {
    "id": "ncG_OWxQRgCA"
   },
   "outputs": [],
   "source": [
    "confusion_matrix_train = confusion_matrix(y_train, train_pred)\n",
    "confusion_matrix_val = confusion_matrix(y_val, val_pred)"
   ]
  },
  {
   "cell_type": "code",
   "execution_count": null,
   "metadata": {
    "colab": {
     "base_uri": "https://localhost:8080/"
    },
    "executionInfo": {
     "elapsed": 19,
     "status": "ok",
     "timestamp": 1671699914758,
     "user": {
      "displayName": "Aishwarya komanduru",
      "userId": "18133241959767863584"
     },
     "user_tz": -330
    },
    "id": "W2w6cQvFRgCA",
    "outputId": "6f1c69eb-d2fc-4134-af5d-53772778cab7"
   },
   "outputs": [
    {
     "name": "stdout",
     "output_type": "stream",
     "text": [
      "[[3616    0]\n",
      " [   0  384]]\n",
      "\n",
      "\n",
      "[[900   4]\n",
      " [ 11  85]]\n"
     ]
    }
   ],
   "source": [
    "print(confusion_matrix_train)\n",
    "print(\"\\n\")\n",
    "print(confusion_matrix_val)"
   ]
  },
  {
   "cell_type": "code",
   "execution_count": null,
   "metadata": {
    "colab": {
     "base_uri": "https://localhost:8080/"
    },
    "executionInfo": {
     "elapsed": 15,
     "status": "ok",
     "timestamp": 1671699914758,
     "user": {
      "displayName": "Aishwarya komanduru",
      "userId": "18133241959767863584"
     },
     "user_tz": -330
    },
    "id": "BDDdmqz0RgCB",
    "outputId": "655bdf7b-0800-469e-cd59-9e8cbf8c9677"
   },
   "outputs": [
    {
     "name": "stdout",
     "output_type": "stream",
     "text": [
      "Train TPR:  1.0\n",
      "Train Accuracy:  1.0\n",
      "Validation TPR:  0.8854166666666666\n",
      "Validation Accuracy:  0.985\n"
     ]
    }
   ],
   "source": [
    "Accuracy_Train=(confusion_matrix_train[0,0]+confusion_matrix_train[1,1])/(confusion_matrix_train[0,0]+confusion_matrix_train[0,1]+confusion_matrix_train[1,0]+confusion_matrix_train[1,1])\n",
    "TPR_Train= confusion_matrix_train[1,1]/(confusion_matrix_train[1,0]+confusion_matrix_train[1,1])\n",
    "\n",
    "print(\"Train TPR: \",TPR_Train)\n",
    "print(\"Train Accuracy: \",Accuracy_Train)\n",
    "\n",
    "Accuracy_val=(confusion_matrix_val[0,0]+confusion_matrix_val[1,1])/(confusion_matrix_val[0,0]+confusion_matrix_val[0,1]+confusion_matrix_val[1,0]+confusion_matrix_val[1,1])\n",
    "TPR_val= confusion_matrix_val[1,1]/(confusion_matrix_val[1,0] +confusion_matrix_val[1,1])\n",
    "\n",
    "print(\"Validation TPR: \",TPR_val)\n",
    "print(\"Validation Accuracy: \",Accuracy_val)"
   ]
  }
 ],
 "metadata": {
  "anaconda-cloud": {},
  "colab": {
   "provenance": []
  },
  "kernelspec": {
   "display_name": "Python 3 (ipykernel)",
   "language": "python",
   "name": "python3"
  },
  "language_info": {
   "codemirror_mode": {
    "name": "ipython",
    "version": 3
   },
   "file_extension": ".py",
   "mimetype": "text/x-python",
   "name": "python",
   "nbconvert_exporter": "python",
   "pygments_lexer": "ipython3",
   "version": "3.9.12"
  },
  "toc": {
   "base_numbering": 1,
   "nav_menu": {},
   "number_sections": true,
   "sideBar": true,
   "skip_h1_title": false,
   "title_cell": "Table of Contents",
   "title_sidebar": "Contents",
   "toc_cell": true,
   "toc_position": {},
   "toc_section_display": true,
   "toc_window_display": false
  },
  "varInspector": {
   "cols": {
    "lenName": 16,
    "lenType": 16,
    "lenVar": 40
   },
   "kernels_config": {
    "python": {
     "delete_cmd_postfix": "",
     "delete_cmd_prefix": "del ",
     "library": "var_list.py",
     "varRefreshCmd": "print(var_dic_list())"
    },
    "r": {
     "delete_cmd_postfix": ") ",
     "delete_cmd_prefix": "rm(",
     "library": "var_list.r",
     "varRefreshCmd": "cat(var_dic_list()) "
    }
   },
   "types_to_exclude": [
    "module",
    "function",
    "builtin_function_or_method",
    "instance",
    "_Feature"
   ],
   "window_display": false
  }
 },
 "nbformat": 4,
 "nbformat_minor": 1
}
