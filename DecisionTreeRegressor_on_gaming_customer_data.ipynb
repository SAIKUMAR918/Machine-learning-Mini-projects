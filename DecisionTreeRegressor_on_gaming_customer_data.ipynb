{
  "cells": [
    {
      "cell_type": "markdown",
      "metadata": {
        "id": "view-in-github",
        "colab_type": "text"
      },
      "source": [
        "<a href=\"https://colab.research.google.com/github/SAIKUMAR918/Machine-learning-Mini-projects/blob/main/DecisionTreeRegressor_on_gaming_customer_data.ipynb\" target=\"_parent\"><img src=\"https://colab.research.google.com/assets/colab-badge.svg\" alt=\"Open In Colab\"/></a>"
      ]
    },
    {
      "cell_type": "markdown",
      "metadata": {
        "toc": true,
        "id": "HyVaz0P-R_XM"
      },
      "source": [
        "# **Agenda:**\n",
        "## **Decision Tree Regressor**\n",
        "<h1>Table of Contents<span class=\"tocSkip\"></span></h1>\n",
        "<div class=\"toc\"><ul class=\"toc-item\"><li><span><a href=\"#Problem-Statement\" data-toc-modified-id=\"Problem-Statement-1\"><span class=\"toc-item-num\">1&nbsp;&nbsp;</span>Problem Statement</a></span><ul class=\"toc-item\"><li><span><a href=\"#Identify-right-Error-Metrics\" data-toc-modified-id=\"Identify-right-Error-Metrics-1.1\"><span class=\"toc-item-num\">1.1&nbsp;&nbsp;</span>Identify right Error Metrics</a></span></li></ul></li><li><span><a href=\"#Loading-the-required-libraries\" data-toc-modified-id=\"Loading-the-required-libraries-2\"><span class=\"toc-item-num\">2&nbsp;&nbsp;</span>Loading the required libraries</a></span></li><li><span><a href=\"#Loading-the-data\" data-toc-modified-id=\"Loading-the-data-3\"><span class=\"toc-item-num\">3&nbsp;&nbsp;</span>Loading the data</a></span></li><li><span><a href=\"#Understand-the-Data---Exploratory-Data-Analysis-(EDA)\" data-toc-modified-id=\"Understand-the-Data---Exploratory-Data-Analysis-(EDA)-4\"><span class=\"toc-item-num\">4&nbsp;&nbsp;</span>Understand the Data - Exploratory Data Analysis (EDA)</a></span><ul class=\"toc-item\"><li><span><a href=\"#Number-of-rows-and-columns\" data-toc-modified-id=\"Number-of-rows-and-columns-4.1\"><span class=\"toc-item-num\">4.1&nbsp;&nbsp;</span>Number of rows and columns</a></span></li><li><span><a href=\"#Display-the-columns\" data-toc-modified-id=\"Display-the-columns-4.2\"><span class=\"toc-item-num\">4.2&nbsp;&nbsp;</span>Display the columns</a></span></li><li><span><a href=\"#Display-first-five-records\" data-toc-modified-id=\"Display-first-five-records-4.3\"><span class=\"toc-item-num\">4.3&nbsp;&nbsp;</span>Display first five records</a></span></li><li><span><a href=\"#Summary-Stats\" data-toc-modified-id=\"Summary-Stats-4.4\"><span class=\"toc-item-num\">4.4&nbsp;&nbsp;</span>Summary Stats</a></span><ul class=\"toc-item\"><li><span><a href=\"#Observations:\" data-toc-modified-id=\"Observations:-4.4.1\"><span class=\"toc-item-num\">4.4.1&nbsp;&nbsp;</span>Observations:</a></span></li></ul></li></ul></li><li><span><a href=\"#Data-Maipulation-&amp;-Feature-Engineering\" data-toc-modified-id=\"Data-Maipulation-&amp;-Feature-Engineering-5\"><span class=\"toc-item-num\">5&nbsp;&nbsp;</span>Data Maipulation &amp; Feature Engineering</a></span><ul class=\"toc-item\"><li><span><a href=\"#Not-useful-attributes\" data-toc-modified-id=\"Not-useful-attributes-5.1\"><span class=\"toc-item-num\">5.1&nbsp;&nbsp;</span>Not useful attributes</a></span></li><li><span><a href=\"#Display-the-data-type-of-attributes\" data-toc-modified-id=\"Display-the-data-type-of-attributes-5.2\"><span class=\"toc-item-num\">5.2&nbsp;&nbsp;</span>Display the data type of attributes</a></span><ul class=\"toc-item\"><li><span><a href=\"#Data-type-conversion-*\" data-toc-modified-id=\"Data-type-conversion-*-5.2.1\"><span class=\"toc-item-num\">5.2.1&nbsp;&nbsp;</span>Data type conversion *</a></span></li></ul></li><li><span><a href=\"#Handling-Outliers\" data-toc-modified-id=\"Handling-Outliers-5.3\"><span class=\"toc-item-num\">5.3&nbsp;&nbsp;</span>Handling Outliers</a></span><ul class=\"toc-item\"><li><span><a href=\"#Removing-outliers\" data-toc-modified-id=\"Removing-outliers-5.3.1\"><span class=\"toc-item-num\">5.3.1&nbsp;&nbsp;</span>Removing outliers</a></span></li></ul></li><li><span><a href=\"#Missing-Data\" data-toc-modified-id=\"Missing-Data-5.4\"><span class=\"toc-item-num\">5.4&nbsp;&nbsp;</span>Missing Data</a></span></li><li><span><a href=\"#Encoding-Categorical-to-Numeric---Dummification\" data-toc-modified-id=\"Encoding-Categorical-to-Numeric---Dummification-5.5\"><span class=\"toc-item-num\">5.5&nbsp;&nbsp;</span>Encoding Categorical to Numeric - Dummification</a></span><ul class=\"toc-item\"><li><span><a href=\"#Data-types\" data-toc-modified-id=\"Data-types-5.5.1\"><span class=\"toc-item-num\">5.5.1&nbsp;&nbsp;</span>Data types</a></span></li><li><span><a href=\"#Creating-dummy-variables.\" data-toc-modified-id=\"Creating-dummy-variables.-5.5.2\"><span class=\"toc-item-num\">5.5.2&nbsp;&nbsp;</span>Creating dummy variables.</a></span></li></ul></li><li><span><a href=\"#Split-the-data-into-train-and-test:\" data-toc-modified-id=\"Split-the-data-into-train-and-test:-5.6\"><span class=\"toc-item-num\">5.6&nbsp;&nbsp;</span>Split the data into train and test:</a></span></li></ul></li><li><span><a href=\"#Modelling\" data-toc-modified-id=\"Modelling-6\"><span class=\"toc-item-num\">6&nbsp;&nbsp;</span>Modelling</a></span><ul class=\"toc-item\"><li><span><a href=\"#Building-a-Decision-Tree-Model\" data-toc-modified-id=\"Building-a-Decision-Tree-Model-6.1\"><span class=\"toc-item-num\">6.1&nbsp;&nbsp;</span>Building a Decision Tree Model</a></span><ul class=\"toc-item\"><li><span><a href=\"#Instantiate-DecisionTreeRegressor\" data-toc-modified-id=\"Instantiate-DecisionTreeRegressor-6.1.1\"><span class=\"toc-item-num\">6.1.1&nbsp;&nbsp;</span>Instantiate DecisionTreeRegressor</a></span></li><li><span><a href=\"#Train-the-model\" data-toc-modified-id=\"Train-the-model-6.1.2\"><span class=\"toc-item-num\">6.1.2&nbsp;&nbsp;</span>Train the model</a></span></li><li><span><a href=\"#Feature-Importances\" data-toc-modified-id=\"Feature-Importances-6.1.3\"><span class=\"toc-item-num\">6.1.3&nbsp;&nbsp;</span>Feature Importances</a></span></li><li><span><a href=\"#Predict\" data-toc-modified-id=\"Predict-6.1.4\"><span class=\"toc-item-num\">6.1.4&nbsp;&nbsp;</span>Predict</a></span></li><li><span><a href=\"#Evaluation\" data-toc-modified-id=\"Evaluation-6.1.5\"><span class=\"toc-item-num\">6.1.5&nbsp;&nbsp;</span>Evaluation</a></span></li></ul></li><li><span><a href=\"#Building-Decision-Tree-Model-using-attributes-Importance\" data-toc-modified-id=\"Building-Decision-Tree-Model-using-attributes-Importance-6.2\"><span class=\"toc-item-num\">6.2&nbsp;&nbsp;</span>Building Decision Tree Model using attributes Importance</a></span><ul class=\"toc-item\"><li><span><a href=\"#Select-important-attributes\" data-toc-modified-id=\"Select-important-attributes-6.2.1\"><span class=\"toc-item-num\">6.2.1&nbsp;&nbsp;</span>Select important attributes</a></span></li><li><span><a href=\"#Instantiate-DecisionTreeRegressor\" data-toc-modified-id=\"Instantiate-DecisionTreeRegressor-6.2.2\"><span class=\"toc-item-num\">6.2.2&nbsp;&nbsp;</span>Instantiate DecisionTreeRegressor</a></span></li><li><span><a href=\"#Train-the-model\" data-toc-modified-id=\"Train-the-model-6.2.3\"><span class=\"toc-item-num\">6.2.3&nbsp;&nbsp;</span>Train the model</a></span></li><li><span><a href=\"#Predict\" data-toc-modified-id=\"Predict-6.2.4\"><span class=\"toc-item-num\">6.2.4&nbsp;&nbsp;</span>Predict</a></span></li><li><span><a href=\"#Evaluation\" data-toc-modified-id=\"Evaluation-6.2.5\"><span class=\"toc-item-num\">6.2.5&nbsp;&nbsp;</span>Evaluation</a></span></li></ul></li><li><span><a href=\"#Grid-Search-for-Hyper-parameter-tuning\" data-toc-modified-id=\"Grid-Search-for-Hyper-parameter-tuning-6.3\"><span class=\"toc-item-num\">6.3&nbsp;&nbsp;</span>Grid Search for Hyper-parameter tuning</a></span><ul class=\"toc-item\"><li><span><a href=\"#Hyper-parameter\" data-toc-modified-id=\"Hyper-parameter-6.3.1\"><span class=\"toc-item-num\">6.3.1&nbsp;&nbsp;</span>Hyper-parameter</a></span></li><li><span><a href=\"#Instantiate-DecisionTreeRegressor\" data-toc-modified-id=\"Instantiate-DecisionTreeRegressor-6.3.2\"><span class=\"toc-item-num\">6.3.2&nbsp;&nbsp;</span>Instantiate DecisionTreeRegressor</a></span></li><li><span><a href=\"#GridSearchCV\" data-toc-modified-id=\"GridSearchCV-6.3.3\"><span class=\"toc-item-num\">6.3.3&nbsp;&nbsp;</span>GridSearchCV</a></span></li><li><span><a href=\"#Train\" data-toc-modified-id=\"Train-6.3.4\"><span class=\"toc-item-num\">6.3.4&nbsp;&nbsp;</span>Train</a></span></li><li><span><a href=\"#Best-params\" data-toc-modified-id=\"Best-params-6.3.5\"><span class=\"toc-item-num\">6.3.5&nbsp;&nbsp;</span>Best params</a></span></li><li><span><a href=\"#Predict\" data-toc-modified-id=\"Predict-6.3.6\"><span class=\"toc-item-num\">6.3.6&nbsp;&nbsp;</span>Predict</a></span></li><li><span><a href=\"#Evaluations\" data-toc-modified-id=\"Evaluations-6.3.7\"><span class=\"toc-item-num\">6.3.7&nbsp;&nbsp;</span>Evaluations</a></span></li><li><span><a href=\"#Visualizing-Decision-Trees\" data-toc-modified-id=\"Visualizing-Decision-Trees-6.3.8\"><span class=\"toc-item-num\">6.3.8&nbsp;&nbsp;</span>Visualizing Decision Trees</a></span></li></ul></li></ul></li></ul></div>"
      ]
    },
    {
      "cell_type": "markdown",
      "metadata": {
        "id": "F5kFo3ybR_XW"
      },
      "source": [
        "# Problem Statement\n",
        "\n",
        "A large child education toy company which sells edutainment tablets and gaming systems\n",
        "both online and in retail stores wanted to analyze the customer data. They are operating\n",
        "from last few years and maintaining all transactional information data. The given data\n",
        "‘CustomerData.csv’ is a sample of customer level data extracted and processed for the\n",
        "analysis from various set of transactional files.\n",
        "\n",
        "The objectives of today’s activity are :\n",
        "* Building a regression model to predict the customer revenue based on other factors and understand the influence of other attributes on revenue"
      ]
    },
    {
      "cell_type": "markdown",
      "metadata": {
        "id": "o6iKaVzYR_XY"
      },
      "source": [
        "## Identify right Error Metrics"
      ]
    },
    {
      "cell_type": "markdown",
      "metadata": {
        "id": "W8woe6qrR_XY"
      },
      "source": [
        "##### Error Metrics for Regression\n",
        "\n",
        "* Mean Absolute Error (MAE):\n",
        "\n",
        "$$MAE = \\dfrac{1}{n}\\times\\sum_{i = 1}^{n}|y_{i} - \\hat{y_{i}}|$$\n",
        "\n",
        "\n",
        "* Mean Squared Error (MSE):\n",
        "\n",
        "$$MSE = \\dfrac{1}{n}\\times\\sum_{i = 1}^{n}(y_{i} - \\hat{y_{i}})^2$$\n",
        "\n",
        "\n",
        "* Root Mean Squared Error (RMSE):\n",
        "\n",
        "$$RMSE = \\sqrt{\\dfrac{1}{n}\\times\\sum_{i = 1}^{n}(y_{i} - \\hat{y_{i}})^2}$$\n",
        "\n",
        "\n",
        "* Mean Absolute Percentage Error (MAPE):\n",
        "\n",
        "$$MAPE = \\dfrac{100}{n}\\times\\dfrac{\\sum_{i = 1}^{n}\\mid y_{i} - \\hat{y_{i}}\\mid}{y_{i}}$$"
      ]
    },
    {
      "cell_type": "markdown",
      "source": [
        "# Installing Necessary Packages"
      ],
      "metadata": {
        "id": "pwBqaE4nf5gb"
      }
    },
    {
      "cell_type": "code",
      "source": [
        "!pip install graphviz"
      ],
      "metadata": {
        "colab": {
          "base_uri": "https://localhost:8080/"
        },
        "id": "cIcM_vMhgA5U",
        "outputId": "9255aaf4-bf4b-4f0e-dd23-cc103757db60"
      },
      "execution_count": 1,
      "outputs": [
        {
          "output_type": "stream",
          "name": "stdout",
          "text": [
            "Looking in indexes: https://pypi.org/simple, https://us-python.pkg.dev/colab-wheels/public/simple/\n",
            "Requirement already satisfied: graphviz in /usr/local/lib/python3.10/dist-packages (0.20.1)\n"
          ]
        }
      ]
    },
    {
      "cell_type": "markdown",
      "source": [
        "# Mounting the Google Drive"
      ],
      "metadata": {
        "id": "q3PL-3UrSdjK"
      }
    },
    {
      "cell_type": "code",
      "source": [
        "from google.colab import drive\n",
        "drive.mount('/content/drive')"
      ],
      "metadata": {
        "id": "5wkpzEvOSk00",
        "colab": {
          "base_uri": "https://localhost:8080/"
        },
        "outputId": "0df61d25-c674-4705-caf8-178fa42b7a94"
      },
      "execution_count": 2,
      "outputs": [
        {
          "output_type": "stream",
          "name": "stdout",
          "text": [
            "Drive already mounted at /content/drive; to attempt to forcibly remount, call drive.mount(\"/content/drive\", force_remount=True).\n"
          ]
        }
      ]
    },
    {
      "cell_type": "code",
      "source": [
        "import warnings\n",
        "warnings.filterwarnings(\"ignore\")"
      ],
      "metadata": {
        "id": "GMwOmGKkaJNh"
      },
      "execution_count": 3,
      "outputs": []
    },
    {
      "cell_type": "markdown",
      "metadata": {
        "id": "ypLAllGZR_Xa"
      },
      "source": [
        "# Loading the required libraries"
      ]
    },
    {
      "cell_type": "code",
      "execution_count": 4,
      "metadata": {
        "id": "G_60euBCR_Xb"
      },
      "outputs": [],
      "source": [
        "import numpy as np\n",
        "import pandas as pd\n",
        "\n",
        "from sklearn.model_selection import train_test_split, GridSearchCV\n",
        "\n",
        "from sklearn.metrics import mean_squared_error, mean_absolute_error, r2_score\n",
        "from sklearn.tree import DecisionTreeRegressor, export_graphviz\n",
        "\n",
        "import matplotlib.pyplot as plt\n",
        "\n",
        "import graphviz\n",
        "import math"
      ]
    },
    {
      "cell_type": "markdown",
      "metadata": {
        "id": "HiQqIgdkR_Xd"
      },
      "source": [
        "# Loading the data"
      ]
    },
    {
      "cell_type": "code",
      "execution_count": 5,
      "metadata": {
        "id": "7BBieSfDR_Xe"
      },
      "outputs": [],
      "source": [
        "data = pd.read_excel(\"/content/drive/MyDrive/CustomerData.xlsx\", header=0)"
      ]
    },
    {
      "cell_type": "markdown",
      "metadata": {
        "id": "o2ny2JW5R_Xf"
      },
      "source": [
        "# Understand the Data - Exploratory Data Analysis (EDA)"
      ]
    },
    {
      "cell_type": "markdown",
      "metadata": {
        "id": "QUuXrkpGR_Xg"
      },
      "source": [
        "## Number of rows and columns"
      ]
    },
    {
      "cell_type": "code",
      "execution_count": 6,
      "metadata": {
        "id": "lYLqTQaBR_Xg",
        "outputId": "d4f6f5c6-197a-44e5-d97b-36564301190a",
        "colab": {
          "base_uri": "https://localhost:8080/"
        }
      },
      "outputs": [
        {
          "output_type": "execute_result",
          "data": {
            "text/plain": [
              "(3209, 14)"
            ]
          },
          "metadata": {},
          "execution_count": 6
        }
      ],
      "source": [
        "data.shape"
      ]
    },
    {
      "cell_type": "markdown",
      "metadata": {
        "id": "zkTld4KkR_Xk"
      },
      "source": [
        "## Display the columns"
      ]
    },
    {
      "cell_type": "code",
      "execution_count": 7,
      "metadata": {
        "scrolled": true,
        "id": "zQ9XQggTR_Xk",
        "outputId": "ee6bc4b0-7968-4090-9861-eb70c7449e53",
        "colab": {
          "base_uri": "https://localhost:8080/"
        }
      },
      "outputs": [
        {
          "output_type": "execute_result",
          "data": {
            "text/plain": [
              "Index(['CustomerID', 'City', 'NoOfChildren', 'MinAgeOfChild', 'MaxAgeOfChild',\n",
              "       'Tenure', 'FrquncyOfPurchase', 'NoOfUnitsPurchased', 'FrequencyOfPlay',\n",
              "       'NoOfGamesPlayed', 'NoOfGamesBought', 'FavoriteChannelOfTransaction',\n",
              "       'FavoriteGame', 'TotalRevenueGenerated'],\n",
              "      dtype='object')"
            ]
          },
          "metadata": {},
          "execution_count": 7
        }
      ],
      "source": [
        "data.columns"
      ]
    },
    {
      "cell_type": "markdown",
      "metadata": {
        "id": "R23jX2PcR_Xl"
      },
      "source": [
        "## Display first five records"
      ]
    },
    {
      "cell_type": "code",
      "execution_count": 8,
      "metadata": {
        "id": "DLxPPcr6R_Xm",
        "outputId": "e3e9918c-1898-4bd1-d033-6a2c2c6be121",
        "colab": {
          "base_uri": "https://localhost:8080/",
          "height": 270
        }
      },
      "outputs": [
        {
          "output_type": "execute_result",
          "data": {
            "text/plain": [
              "   CustomerID  City  NoOfChildren  MinAgeOfChild  MaxAgeOfChild  Tenure  \\\n",
              "0        1001     1             2              3              8     210   \n",
              "1        1002     1             2              3              6     442   \n",
              "2        1003     1             4              3              5     424   \n",
              "3        1004     1             1              6              6     261   \n",
              "4        1005     1             3              6              9     422   \n",
              "\n",
              "   FrquncyOfPurchase  NoOfUnitsPurchased  FrequencyOfPlay  NoOfGamesPlayed  \\\n",
              "0                 11                  11             2344              108   \n",
              "1                 20                  20              245               22   \n",
              "2                 18                  18             1059              130   \n",
              "3                 11                   9              365               34   \n",
              "4                 44                  31             1066              102   \n",
              "\n",
              "   NoOfGamesBought FavoriteChannelOfTransaction FavoriteGame  \\\n",
              "0               10                      Uniform      Uniform   \n",
              "1                7                     Favorite      Uniform   \n",
              "2               18                     Favorite      Uniform   \n",
              "3               11                     Favorite      Uniform   \n",
              "4               44                      Uniform      Uniform   \n",
              "\n",
              "   TotalRevenueGenerated  \n",
              "0                 107.51  \n",
              "1                 382.40  \n",
              "2                 135.01  \n",
              "3                 125.00  \n",
              "4                 335.05  "
            ],
            "text/html": [
              "\n",
              "  <div id=\"df-ae387b24-f64d-45e9-abbd-03b1c0e0a05e\">\n",
              "    <div class=\"colab-df-container\">\n",
              "      <div>\n",
              "<style scoped>\n",
              "    .dataframe tbody tr th:only-of-type {\n",
              "        vertical-align: middle;\n",
              "    }\n",
              "\n",
              "    .dataframe tbody tr th {\n",
              "        vertical-align: top;\n",
              "    }\n",
              "\n",
              "    .dataframe thead th {\n",
              "        text-align: right;\n",
              "    }\n",
              "</style>\n",
              "<table border=\"1\" class=\"dataframe\">\n",
              "  <thead>\n",
              "    <tr style=\"text-align: right;\">\n",
              "      <th></th>\n",
              "      <th>CustomerID</th>\n",
              "      <th>City</th>\n",
              "      <th>NoOfChildren</th>\n",
              "      <th>MinAgeOfChild</th>\n",
              "      <th>MaxAgeOfChild</th>\n",
              "      <th>Tenure</th>\n",
              "      <th>FrquncyOfPurchase</th>\n",
              "      <th>NoOfUnitsPurchased</th>\n",
              "      <th>FrequencyOfPlay</th>\n",
              "      <th>NoOfGamesPlayed</th>\n",
              "      <th>NoOfGamesBought</th>\n",
              "      <th>FavoriteChannelOfTransaction</th>\n",
              "      <th>FavoriteGame</th>\n",
              "      <th>TotalRevenueGenerated</th>\n",
              "    </tr>\n",
              "  </thead>\n",
              "  <tbody>\n",
              "    <tr>\n",
              "      <th>0</th>\n",
              "      <td>1001</td>\n",
              "      <td>1</td>\n",
              "      <td>2</td>\n",
              "      <td>3</td>\n",
              "      <td>8</td>\n",
              "      <td>210</td>\n",
              "      <td>11</td>\n",
              "      <td>11</td>\n",
              "      <td>2344</td>\n",
              "      <td>108</td>\n",
              "      <td>10</td>\n",
              "      <td>Uniform</td>\n",
              "      <td>Uniform</td>\n",
              "      <td>107.51</td>\n",
              "    </tr>\n",
              "    <tr>\n",
              "      <th>1</th>\n",
              "      <td>1002</td>\n",
              "      <td>1</td>\n",
              "      <td>2</td>\n",
              "      <td>3</td>\n",
              "      <td>6</td>\n",
              "      <td>442</td>\n",
              "      <td>20</td>\n",
              "      <td>20</td>\n",
              "      <td>245</td>\n",
              "      <td>22</td>\n",
              "      <td>7</td>\n",
              "      <td>Favorite</td>\n",
              "      <td>Uniform</td>\n",
              "      <td>382.40</td>\n",
              "    </tr>\n",
              "    <tr>\n",
              "      <th>2</th>\n",
              "      <td>1003</td>\n",
              "      <td>1</td>\n",
              "      <td>4</td>\n",
              "      <td>3</td>\n",
              "      <td>5</td>\n",
              "      <td>424</td>\n",
              "      <td>18</td>\n",
              "      <td>18</td>\n",
              "      <td>1059</td>\n",
              "      <td>130</td>\n",
              "      <td>18</td>\n",
              "      <td>Favorite</td>\n",
              "      <td>Uniform</td>\n",
              "      <td>135.01</td>\n",
              "    </tr>\n",
              "    <tr>\n",
              "      <th>3</th>\n",
              "      <td>1004</td>\n",
              "      <td>1</td>\n",
              "      <td>1</td>\n",
              "      <td>6</td>\n",
              "      <td>6</td>\n",
              "      <td>261</td>\n",
              "      <td>11</td>\n",
              "      <td>9</td>\n",
              "      <td>365</td>\n",
              "      <td>34</td>\n",
              "      <td>11</td>\n",
              "      <td>Favorite</td>\n",
              "      <td>Uniform</td>\n",
              "      <td>125.00</td>\n",
              "    </tr>\n",
              "    <tr>\n",
              "      <th>4</th>\n",
              "      <td>1005</td>\n",
              "      <td>1</td>\n",
              "      <td>3</td>\n",
              "      <td>6</td>\n",
              "      <td>9</td>\n",
              "      <td>422</td>\n",
              "      <td>44</td>\n",
              "      <td>31</td>\n",
              "      <td>1066</td>\n",
              "      <td>102</td>\n",
              "      <td>44</td>\n",
              "      <td>Uniform</td>\n",
              "      <td>Uniform</td>\n",
              "      <td>335.05</td>\n",
              "    </tr>\n",
              "  </tbody>\n",
              "</table>\n",
              "</div>\n",
              "      <button class=\"colab-df-convert\" onclick=\"convertToInteractive('df-ae387b24-f64d-45e9-abbd-03b1c0e0a05e')\"\n",
              "              title=\"Convert this dataframe to an interactive table.\"\n",
              "              style=\"display:none;\">\n",
              "        \n",
              "  <svg xmlns=\"http://www.w3.org/2000/svg\" height=\"24px\"viewBox=\"0 0 24 24\"\n",
              "       width=\"24px\">\n",
              "    <path d=\"M0 0h24v24H0V0z\" fill=\"none\"/>\n",
              "    <path d=\"M18.56 5.44l.94 2.06.94-2.06 2.06-.94-2.06-.94-.94-2.06-.94 2.06-2.06.94zm-11 1L8.5 8.5l.94-2.06 2.06-.94-2.06-.94L8.5 2.5l-.94 2.06-2.06.94zm10 10l.94 2.06.94-2.06 2.06-.94-2.06-.94-.94-2.06-.94 2.06-2.06.94z\"/><path d=\"M17.41 7.96l-1.37-1.37c-.4-.4-.92-.59-1.43-.59-.52 0-1.04.2-1.43.59L10.3 9.45l-7.72 7.72c-.78.78-.78 2.05 0 2.83L4 21.41c.39.39.9.59 1.41.59.51 0 1.02-.2 1.41-.59l7.78-7.78 2.81-2.81c.8-.78.8-2.07 0-2.86zM5.41 20L4 18.59l7.72-7.72 1.47 1.35L5.41 20z\"/>\n",
              "  </svg>\n",
              "      </button>\n",
              "      \n",
              "  <style>\n",
              "    .colab-df-container {\n",
              "      display:flex;\n",
              "      flex-wrap:wrap;\n",
              "      gap: 12px;\n",
              "    }\n",
              "\n",
              "    .colab-df-convert {\n",
              "      background-color: #E8F0FE;\n",
              "      border: none;\n",
              "      border-radius: 50%;\n",
              "      cursor: pointer;\n",
              "      display: none;\n",
              "      fill: #1967D2;\n",
              "      height: 32px;\n",
              "      padding: 0 0 0 0;\n",
              "      width: 32px;\n",
              "    }\n",
              "\n",
              "    .colab-df-convert:hover {\n",
              "      background-color: #E2EBFA;\n",
              "      box-shadow: 0px 1px 2px rgba(60, 64, 67, 0.3), 0px 1px 3px 1px rgba(60, 64, 67, 0.15);\n",
              "      fill: #174EA6;\n",
              "    }\n",
              "\n",
              "    [theme=dark] .colab-df-convert {\n",
              "      background-color: #3B4455;\n",
              "      fill: #D2E3FC;\n",
              "    }\n",
              "\n",
              "    [theme=dark] .colab-df-convert:hover {\n",
              "      background-color: #434B5C;\n",
              "      box-shadow: 0px 1px 3px 1px rgba(0, 0, 0, 0.15);\n",
              "      filter: drop-shadow(0px 1px 2px rgba(0, 0, 0, 0.3));\n",
              "      fill: #FFFFFF;\n",
              "    }\n",
              "  </style>\n",
              "\n",
              "      <script>\n",
              "        const buttonEl =\n",
              "          document.querySelector('#df-ae387b24-f64d-45e9-abbd-03b1c0e0a05e button.colab-df-convert');\n",
              "        buttonEl.style.display =\n",
              "          google.colab.kernel.accessAllowed ? 'block' : 'none';\n",
              "\n",
              "        async function convertToInteractive(key) {\n",
              "          const element = document.querySelector('#df-ae387b24-f64d-45e9-abbd-03b1c0e0a05e');\n",
              "          const dataTable =\n",
              "            await google.colab.kernel.invokeFunction('convertToInteractive',\n",
              "                                                     [key], {});\n",
              "          if (!dataTable) return;\n",
              "\n",
              "          const docLinkHtml = 'Like what you see? Visit the ' +\n",
              "            '<a target=\"_blank\" href=https://colab.research.google.com/notebooks/data_table.ipynb>data table notebook</a>'\n",
              "            + ' to learn more about interactive tables.';\n",
              "          element.innerHTML = '';\n",
              "          dataTable['output_type'] = 'display_data';\n",
              "          await google.colab.output.renderOutput(dataTable, element);\n",
              "          const docLink = document.createElement('div');\n",
              "          docLink.innerHTML = docLinkHtml;\n",
              "          element.appendChild(docLink);\n",
              "        }\n",
              "      </script>\n",
              "    </div>\n",
              "  </div>\n",
              "  "
            ]
          },
          "metadata": {},
          "execution_count": 8
        }
      ],
      "source": [
        "data.head()"
      ]
    },
    {
      "cell_type": "markdown",
      "metadata": {
        "id": "eXLe-L4HR_Xo"
      },
      "source": [
        "## Summary Stats"
      ]
    },
    {
      "cell_type": "code",
      "execution_count": 9,
      "metadata": {
        "scrolled": true,
        "id": "d36VrdGjR_Xp",
        "outputId": "9ad380b2-48cc-44d5-abcd-4850ce6b3e7f",
        "colab": {
          "base_uri": "https://localhost:8080/",
          "height": 458
        }
      },
      "outputs": [
        {
          "output_type": "execute_result",
          "data": {
            "text/plain": [
              "         CustomerID         City  NoOfChildren  MinAgeOfChild  MaxAgeOfChild  \\\n",
              "count   3209.000000  3209.000000   3209.000000    3209.000000    3209.000000   \n",
              "unique          NaN          NaN           NaN            NaN            NaN   \n",
              "top             NaN          NaN           NaN            NaN            NaN   \n",
              "freq            NaN          NaN           NaN            NaN            NaN   \n",
              "mean    2605.000000     1.114054      2.128389       4.960735       7.990651   \n",
              "std      926.502833     0.317927      1.035092       3.714191       8.784084   \n",
              "min     1001.000000     1.000000      1.000000       0.000000       3.000000   \n",
              "25%     1803.000000     1.000000      1.000000       4.000000       6.000000   \n",
              "50%     2605.000000     1.000000      2.000000       5.000000       7.000000   \n",
              "75%     3407.000000     1.000000      3.000000       6.000000       8.000000   \n",
              "max     4209.000000     2.000000     11.000000     113.000000     113.000000   \n",
              "\n",
              "             Tenure  FrquncyOfPurchase  NoOfUnitsPurchased  FrequencyOfPlay  \\\n",
              "count   3209.000000        3209.000000         3209.000000      3209.000000   \n",
              "unique          NaN                NaN                 NaN              NaN   \n",
              "top             NaN                NaN                 NaN              NaN   \n",
              "freq            NaN                NaN                 NaN              NaN   \n",
              "mean     347.520411          16.269554           14.684014      1568.207853   \n",
              "std       90.520118           8.441670            7.182029      1810.630464   \n",
              "min      100.000000           1.000000            1.000000         0.000000   \n",
              "25%      301.000000          11.000000           10.000000       446.000000   \n",
              "50%      368.000000          14.000000           13.000000      1029.000000   \n",
              "75%      417.000000          19.000000           17.000000      2029.000000   \n",
              "max      472.000000         119.000000          112.000000     27829.000000   \n",
              "\n",
              "        NoOfGamesPlayed  NoOfGamesBought FavoriteChannelOfTransaction  \\\n",
              "count       3209.000000      3209.000000                         3209   \n",
              "unique              NaN              NaN                            2   \n",
              "top                 NaN              NaN                     Favorite   \n",
              "freq                NaN              NaN                         2637   \n",
              "mean          93.627921        14.761608                          NaN   \n",
              "std           88.936372         8.773910                          NaN   \n",
              "min            0.000000         0.000000                          NaN   \n",
              "25%           37.000000        10.000000                          NaN   \n",
              "50%           70.000000        14.000000                          NaN   \n",
              "75%          119.000000        19.000000                          NaN   \n",
              "max         1166.000000       115.000000                          NaN   \n",
              "\n",
              "       FavoriteGame  TotalRevenueGenerated  \n",
              "count          3209            3209.000000  \n",
              "unique            2                    NaN  \n",
              "top         Uniform                    NaN  \n",
              "freq           3083                    NaN  \n",
              "mean            NaN             168.477183  \n",
              "std             NaN              81.798528  \n",
              "min             NaN             100.000000  \n",
              "25%             NaN             116.640000  \n",
              "50%             NaN             142.390000  \n",
              "75%             NaN             191.250000  \n",
              "max             NaN             990.560000  "
            ],
            "text/html": [
              "\n",
              "  <div id=\"df-7023a327-c758-4f3a-8872-db469645500e\">\n",
              "    <div class=\"colab-df-container\">\n",
              "      <div>\n",
              "<style scoped>\n",
              "    .dataframe tbody tr th:only-of-type {\n",
              "        vertical-align: middle;\n",
              "    }\n",
              "\n",
              "    .dataframe tbody tr th {\n",
              "        vertical-align: top;\n",
              "    }\n",
              "\n",
              "    .dataframe thead th {\n",
              "        text-align: right;\n",
              "    }\n",
              "</style>\n",
              "<table border=\"1\" class=\"dataframe\">\n",
              "  <thead>\n",
              "    <tr style=\"text-align: right;\">\n",
              "      <th></th>\n",
              "      <th>CustomerID</th>\n",
              "      <th>City</th>\n",
              "      <th>NoOfChildren</th>\n",
              "      <th>MinAgeOfChild</th>\n",
              "      <th>MaxAgeOfChild</th>\n",
              "      <th>Tenure</th>\n",
              "      <th>FrquncyOfPurchase</th>\n",
              "      <th>NoOfUnitsPurchased</th>\n",
              "      <th>FrequencyOfPlay</th>\n",
              "      <th>NoOfGamesPlayed</th>\n",
              "      <th>NoOfGamesBought</th>\n",
              "      <th>FavoriteChannelOfTransaction</th>\n",
              "      <th>FavoriteGame</th>\n",
              "      <th>TotalRevenueGenerated</th>\n",
              "    </tr>\n",
              "  </thead>\n",
              "  <tbody>\n",
              "    <tr>\n",
              "      <th>count</th>\n",
              "      <td>3209.000000</td>\n",
              "      <td>3209.000000</td>\n",
              "      <td>3209.000000</td>\n",
              "      <td>3209.000000</td>\n",
              "      <td>3209.000000</td>\n",
              "      <td>3209.000000</td>\n",
              "      <td>3209.000000</td>\n",
              "      <td>3209.000000</td>\n",
              "      <td>3209.000000</td>\n",
              "      <td>3209.000000</td>\n",
              "      <td>3209.000000</td>\n",
              "      <td>3209</td>\n",
              "      <td>3209</td>\n",
              "      <td>3209.000000</td>\n",
              "    </tr>\n",
              "    <tr>\n",
              "      <th>unique</th>\n",
              "      <td>NaN</td>\n",
              "      <td>NaN</td>\n",
              "      <td>NaN</td>\n",
              "      <td>NaN</td>\n",
              "      <td>NaN</td>\n",
              "      <td>NaN</td>\n",
              "      <td>NaN</td>\n",
              "      <td>NaN</td>\n",
              "      <td>NaN</td>\n",
              "      <td>NaN</td>\n",
              "      <td>NaN</td>\n",
              "      <td>2</td>\n",
              "      <td>2</td>\n",
              "      <td>NaN</td>\n",
              "    </tr>\n",
              "    <tr>\n",
              "      <th>top</th>\n",
              "      <td>NaN</td>\n",
              "      <td>NaN</td>\n",
              "      <td>NaN</td>\n",
              "      <td>NaN</td>\n",
              "      <td>NaN</td>\n",
              "      <td>NaN</td>\n",
              "      <td>NaN</td>\n",
              "      <td>NaN</td>\n",
              "      <td>NaN</td>\n",
              "      <td>NaN</td>\n",
              "      <td>NaN</td>\n",
              "      <td>Favorite</td>\n",
              "      <td>Uniform</td>\n",
              "      <td>NaN</td>\n",
              "    </tr>\n",
              "    <tr>\n",
              "      <th>freq</th>\n",
              "      <td>NaN</td>\n",
              "      <td>NaN</td>\n",
              "      <td>NaN</td>\n",
              "      <td>NaN</td>\n",
              "      <td>NaN</td>\n",
              "      <td>NaN</td>\n",
              "      <td>NaN</td>\n",
              "      <td>NaN</td>\n",
              "      <td>NaN</td>\n",
              "      <td>NaN</td>\n",
              "      <td>NaN</td>\n",
              "      <td>2637</td>\n",
              "      <td>3083</td>\n",
              "      <td>NaN</td>\n",
              "    </tr>\n",
              "    <tr>\n",
              "      <th>mean</th>\n",
              "      <td>2605.000000</td>\n",
              "      <td>1.114054</td>\n",
              "      <td>2.128389</td>\n",
              "      <td>4.960735</td>\n",
              "      <td>7.990651</td>\n",
              "      <td>347.520411</td>\n",
              "      <td>16.269554</td>\n",
              "      <td>14.684014</td>\n",
              "      <td>1568.207853</td>\n",
              "      <td>93.627921</td>\n",
              "      <td>14.761608</td>\n",
              "      <td>NaN</td>\n",
              "      <td>NaN</td>\n",
              "      <td>168.477183</td>\n",
              "    </tr>\n",
              "    <tr>\n",
              "      <th>std</th>\n",
              "      <td>926.502833</td>\n",
              "      <td>0.317927</td>\n",
              "      <td>1.035092</td>\n",
              "      <td>3.714191</td>\n",
              "      <td>8.784084</td>\n",
              "      <td>90.520118</td>\n",
              "      <td>8.441670</td>\n",
              "      <td>7.182029</td>\n",
              "      <td>1810.630464</td>\n",
              "      <td>88.936372</td>\n",
              "      <td>8.773910</td>\n",
              "      <td>NaN</td>\n",
              "      <td>NaN</td>\n",
              "      <td>81.798528</td>\n",
              "    </tr>\n",
              "    <tr>\n",
              "      <th>min</th>\n",
              "      <td>1001.000000</td>\n",
              "      <td>1.000000</td>\n",
              "      <td>1.000000</td>\n",
              "      <td>0.000000</td>\n",
              "      <td>3.000000</td>\n",
              "      <td>100.000000</td>\n",
              "      <td>1.000000</td>\n",
              "      <td>1.000000</td>\n",
              "      <td>0.000000</td>\n",
              "      <td>0.000000</td>\n",
              "      <td>0.000000</td>\n",
              "      <td>NaN</td>\n",
              "      <td>NaN</td>\n",
              "      <td>100.000000</td>\n",
              "    </tr>\n",
              "    <tr>\n",
              "      <th>25%</th>\n",
              "      <td>1803.000000</td>\n",
              "      <td>1.000000</td>\n",
              "      <td>1.000000</td>\n",
              "      <td>4.000000</td>\n",
              "      <td>6.000000</td>\n",
              "      <td>301.000000</td>\n",
              "      <td>11.000000</td>\n",
              "      <td>10.000000</td>\n",
              "      <td>446.000000</td>\n",
              "      <td>37.000000</td>\n",
              "      <td>10.000000</td>\n",
              "      <td>NaN</td>\n",
              "      <td>NaN</td>\n",
              "      <td>116.640000</td>\n",
              "    </tr>\n",
              "    <tr>\n",
              "      <th>50%</th>\n",
              "      <td>2605.000000</td>\n",
              "      <td>1.000000</td>\n",
              "      <td>2.000000</td>\n",
              "      <td>5.000000</td>\n",
              "      <td>7.000000</td>\n",
              "      <td>368.000000</td>\n",
              "      <td>14.000000</td>\n",
              "      <td>13.000000</td>\n",
              "      <td>1029.000000</td>\n",
              "      <td>70.000000</td>\n",
              "      <td>14.000000</td>\n",
              "      <td>NaN</td>\n",
              "      <td>NaN</td>\n",
              "      <td>142.390000</td>\n",
              "    </tr>\n",
              "    <tr>\n",
              "      <th>75%</th>\n",
              "      <td>3407.000000</td>\n",
              "      <td>1.000000</td>\n",
              "      <td>3.000000</td>\n",
              "      <td>6.000000</td>\n",
              "      <td>8.000000</td>\n",
              "      <td>417.000000</td>\n",
              "      <td>19.000000</td>\n",
              "      <td>17.000000</td>\n",
              "      <td>2029.000000</td>\n",
              "      <td>119.000000</td>\n",
              "      <td>19.000000</td>\n",
              "      <td>NaN</td>\n",
              "      <td>NaN</td>\n",
              "      <td>191.250000</td>\n",
              "    </tr>\n",
              "    <tr>\n",
              "      <th>max</th>\n",
              "      <td>4209.000000</td>\n",
              "      <td>2.000000</td>\n",
              "      <td>11.000000</td>\n",
              "      <td>113.000000</td>\n",
              "      <td>113.000000</td>\n",
              "      <td>472.000000</td>\n",
              "      <td>119.000000</td>\n",
              "      <td>112.000000</td>\n",
              "      <td>27829.000000</td>\n",
              "      <td>1166.000000</td>\n",
              "      <td>115.000000</td>\n",
              "      <td>NaN</td>\n",
              "      <td>NaN</td>\n",
              "      <td>990.560000</td>\n",
              "    </tr>\n",
              "  </tbody>\n",
              "</table>\n",
              "</div>\n",
              "      <button class=\"colab-df-convert\" onclick=\"convertToInteractive('df-7023a327-c758-4f3a-8872-db469645500e')\"\n",
              "              title=\"Convert this dataframe to an interactive table.\"\n",
              "              style=\"display:none;\">\n",
              "        \n",
              "  <svg xmlns=\"http://www.w3.org/2000/svg\" height=\"24px\"viewBox=\"0 0 24 24\"\n",
              "       width=\"24px\">\n",
              "    <path d=\"M0 0h24v24H0V0z\" fill=\"none\"/>\n",
              "    <path d=\"M18.56 5.44l.94 2.06.94-2.06 2.06-.94-2.06-.94-.94-2.06-.94 2.06-2.06.94zm-11 1L8.5 8.5l.94-2.06 2.06-.94-2.06-.94L8.5 2.5l-.94 2.06-2.06.94zm10 10l.94 2.06.94-2.06 2.06-.94-2.06-.94-.94-2.06-.94 2.06-2.06.94z\"/><path d=\"M17.41 7.96l-1.37-1.37c-.4-.4-.92-.59-1.43-.59-.52 0-1.04.2-1.43.59L10.3 9.45l-7.72 7.72c-.78.78-.78 2.05 0 2.83L4 21.41c.39.39.9.59 1.41.59.51 0 1.02-.2 1.41-.59l7.78-7.78 2.81-2.81c.8-.78.8-2.07 0-2.86zM5.41 20L4 18.59l7.72-7.72 1.47 1.35L5.41 20z\"/>\n",
              "  </svg>\n",
              "      </button>\n",
              "      \n",
              "  <style>\n",
              "    .colab-df-container {\n",
              "      display:flex;\n",
              "      flex-wrap:wrap;\n",
              "      gap: 12px;\n",
              "    }\n",
              "\n",
              "    .colab-df-convert {\n",
              "      background-color: #E8F0FE;\n",
              "      border: none;\n",
              "      border-radius: 50%;\n",
              "      cursor: pointer;\n",
              "      display: none;\n",
              "      fill: #1967D2;\n",
              "      height: 32px;\n",
              "      padding: 0 0 0 0;\n",
              "      width: 32px;\n",
              "    }\n",
              "\n",
              "    .colab-df-convert:hover {\n",
              "      background-color: #E2EBFA;\n",
              "      box-shadow: 0px 1px 2px rgba(60, 64, 67, 0.3), 0px 1px 3px 1px rgba(60, 64, 67, 0.15);\n",
              "      fill: #174EA6;\n",
              "    }\n",
              "\n",
              "    [theme=dark] .colab-df-convert {\n",
              "      background-color: #3B4455;\n",
              "      fill: #D2E3FC;\n",
              "    }\n",
              "\n",
              "    [theme=dark] .colab-df-convert:hover {\n",
              "      background-color: #434B5C;\n",
              "      box-shadow: 0px 1px 3px 1px rgba(0, 0, 0, 0.15);\n",
              "      filter: drop-shadow(0px 1px 2px rgba(0, 0, 0, 0.3));\n",
              "      fill: #FFFFFF;\n",
              "    }\n",
              "  </style>\n",
              "\n",
              "      <script>\n",
              "        const buttonEl =\n",
              "          document.querySelector('#df-7023a327-c758-4f3a-8872-db469645500e button.colab-df-convert');\n",
              "        buttonEl.style.display =\n",
              "          google.colab.kernel.accessAllowed ? 'block' : 'none';\n",
              "\n",
              "        async function convertToInteractive(key) {\n",
              "          const element = document.querySelector('#df-7023a327-c758-4f3a-8872-db469645500e');\n",
              "          const dataTable =\n",
              "            await google.colab.kernel.invokeFunction('convertToInteractive',\n",
              "                                                     [key], {});\n",
              "          if (!dataTable) return;\n",
              "\n",
              "          const docLinkHtml = 'Like what you see? Visit the ' +\n",
              "            '<a target=\"_blank\" href=https://colab.research.google.com/notebooks/data_table.ipynb>data table notebook</a>'\n",
              "            + ' to learn more about interactive tables.';\n",
              "          element.innerHTML = '';\n",
              "          dataTable['output_type'] = 'display_data';\n",
              "          await google.colab.output.renderOutput(dataTable, element);\n",
              "          const docLink = document.createElement('div');\n",
              "          docLink.innerHTML = docLinkHtml;\n",
              "          element.appendChild(docLink);\n",
              "        }\n",
              "      </script>\n",
              "    </div>\n",
              "  </div>\n",
              "  "
            ]
          },
          "metadata": {},
          "execution_count": 9
        }
      ],
      "source": [
        "data.describe(include='all')"
      ]
    },
    {
      "cell_type": "markdown",
      "metadata": {
        "id": "jUG3yG1dR_Xv"
      },
      "source": [
        "# Data Manipulation & Feature Engineering"
      ]
    },
    {
      "cell_type": "code",
      "execution_count": 10,
      "metadata": {
        "id": "9nzviImjR_Xx",
        "outputId": "26adc1ef-f34f-43da-ebb9-6df8b3f10dd0",
        "colab": {
          "base_uri": "https://localhost:8080/"
        }
      },
      "outputs": [
        {
          "output_type": "execute_result",
          "data": {
            "text/plain": [
              "3209"
            ]
          },
          "metadata": {},
          "execution_count": 10
        }
      ],
      "source": [
        "np.size(np.unique(data.CustomerID, return_counts=True)[0])"
      ]
    },
    {
      "cell_type": "code",
      "execution_count": 11,
      "metadata": {
        "id": "cNpSwp7eR_Xy"
      },
      "outputs": [],
      "source": [
        "data.drop('CustomerID', axis=1, inplace=True)"
      ]
    },
    {
      "cell_type": "markdown",
      "metadata": {
        "id": "RvBRjBjZR_Xz"
      },
      "source": [
        "## Display the data type of attributes"
      ]
    },
    {
      "cell_type": "code",
      "execution_count": 12,
      "metadata": {
        "id": "-FfiBnPJR_X0",
        "outputId": "65f08f90-9938-4d7b-b6ff-b3e08b3f25b6",
        "colab": {
          "base_uri": "https://localhost:8080/"
        }
      },
      "outputs": [
        {
          "output_type": "execute_result",
          "data": {
            "text/plain": [
              "City                              int64\n",
              "NoOfChildren                      int64\n",
              "MinAgeOfChild                     int64\n",
              "MaxAgeOfChild                     int64\n",
              "Tenure                            int64\n",
              "FrquncyOfPurchase                 int64\n",
              "NoOfUnitsPurchased                int64\n",
              "FrequencyOfPlay                   int64\n",
              "NoOfGamesPlayed                   int64\n",
              "NoOfGamesBought                   int64\n",
              "FavoriteChannelOfTransaction     object\n",
              "FavoriteGame                     object\n",
              "TotalRevenueGenerated           float64\n",
              "dtype: object"
            ]
          },
          "metadata": {},
          "execution_count": 12
        }
      ],
      "source": [
        "data.dtypes"
      ]
    },
    {
      "cell_type": "markdown",
      "metadata": {
        "id": "9sTnIWzIR_X1"
      },
      "source": [
        "### Data type conversion *\n"
      ]
    },
    {
      "cell_type": "code",
      "execution_count": 13,
      "metadata": {
        "id": "fdR7-MNsR_X2"
      },
      "outputs": [],
      "source": [
        "for col in ['City', 'FavoriteChannelOfTransaction', 'FavoriteGame']:\n",
        "    data[col] = data[col].astype('category')"
      ]
    },
    {
      "cell_type": "code",
      "execution_count": 14,
      "metadata": {
        "id": "oyZqT4XdR_X2",
        "outputId": "5329ab64-425d-4abc-8490-643127ee8315",
        "colab": {
          "base_uri": "https://localhost:8080/"
        }
      },
      "outputs": [
        {
          "output_type": "execute_result",
          "data": {
            "text/plain": [
              "City                            category\n",
              "NoOfChildren                       int64\n",
              "MinAgeOfChild                      int64\n",
              "MaxAgeOfChild                      int64\n",
              "Tenure                             int64\n",
              "FrquncyOfPurchase                  int64\n",
              "NoOfUnitsPurchased                 int64\n",
              "FrequencyOfPlay                    int64\n",
              "NoOfGamesPlayed                    int64\n",
              "NoOfGamesBought                    int64\n",
              "FavoriteChannelOfTransaction    category\n",
              "FavoriteGame                    category\n",
              "TotalRevenueGenerated            float64\n",
              "dtype: object"
            ]
          },
          "metadata": {},
          "execution_count": 14
        }
      ],
      "source": [
        "data.dtypes"
      ]
    },
    {
      "cell_type": "markdown",
      "metadata": {
        "id": "KsESViGpR_X5"
      },
      "source": [
        "## Handling Outliers"
      ]
    },
    {
      "cell_type": "code",
      "execution_count": 15,
      "metadata": {
        "id": "FOMnjbewR_X6",
        "outputId": "6d7bb9f3-ab49-4ca2-cbe1-b9e717f9440a",
        "colab": {
          "base_uri": "https://localhost:8080/",
          "height": 458
        }
      },
      "outputs": [
        {
          "output_type": "execute_result",
          "data": {
            "text/plain": [
              "          City  NoOfChildren  MinAgeOfChild  MaxAgeOfChild       Tenure  \\\n",
              "count   3209.0   3209.000000    3209.000000    3209.000000  3209.000000   \n",
              "unique     2.0           NaN            NaN            NaN          NaN   \n",
              "top        1.0           NaN            NaN            NaN          NaN   \n",
              "freq    2843.0           NaN            NaN            NaN          NaN   \n",
              "mean       NaN      2.128389       4.960735       7.990651   347.520411   \n",
              "std        NaN      1.035092       3.714191       8.784084    90.520118   \n",
              "min        NaN      1.000000       0.000000       3.000000   100.000000   \n",
              "25%        NaN      1.000000       4.000000       6.000000   301.000000   \n",
              "50%        NaN      2.000000       5.000000       7.000000   368.000000   \n",
              "75%        NaN      3.000000       6.000000       8.000000   417.000000   \n",
              "max        NaN     11.000000     113.000000     113.000000   472.000000   \n",
              "\n",
              "        FrquncyOfPurchase  NoOfUnitsPurchased  FrequencyOfPlay  \\\n",
              "count         3209.000000         3209.000000      3209.000000   \n",
              "unique                NaN                 NaN              NaN   \n",
              "top                   NaN                 NaN              NaN   \n",
              "freq                  NaN                 NaN              NaN   \n",
              "mean            16.269554           14.684014      1568.207853   \n",
              "std              8.441670            7.182029      1810.630464   \n",
              "min              1.000000            1.000000         0.000000   \n",
              "25%             11.000000           10.000000       446.000000   \n",
              "50%             14.000000           13.000000      1029.000000   \n",
              "75%             19.000000           17.000000      2029.000000   \n",
              "max            119.000000          112.000000     27829.000000   \n",
              "\n",
              "        NoOfGamesPlayed  NoOfGamesBought FavoriteChannelOfTransaction  \\\n",
              "count       3209.000000      3209.000000                         3209   \n",
              "unique              NaN              NaN                            2   \n",
              "top                 NaN              NaN                     Favorite   \n",
              "freq                NaN              NaN                         2637   \n",
              "mean          93.627921        14.761608                          NaN   \n",
              "std           88.936372         8.773910                          NaN   \n",
              "min            0.000000         0.000000                          NaN   \n",
              "25%           37.000000        10.000000                          NaN   \n",
              "50%           70.000000        14.000000                          NaN   \n",
              "75%          119.000000        19.000000                          NaN   \n",
              "max         1166.000000       115.000000                          NaN   \n",
              "\n",
              "       FavoriteGame  TotalRevenueGenerated  \n",
              "count          3209            3209.000000  \n",
              "unique            2                    NaN  \n",
              "top         Uniform                    NaN  \n",
              "freq           3083                    NaN  \n",
              "mean            NaN             168.477183  \n",
              "std             NaN              81.798528  \n",
              "min             NaN             100.000000  \n",
              "25%             NaN             116.640000  \n",
              "50%             NaN             142.390000  \n",
              "75%             NaN             191.250000  \n",
              "max             NaN             990.560000  "
            ],
            "text/html": [
              "\n",
              "  <div id=\"df-d72bbefa-d6f2-4b7d-84bf-3df40ea65411\">\n",
              "    <div class=\"colab-df-container\">\n",
              "      <div>\n",
              "<style scoped>\n",
              "    .dataframe tbody tr th:only-of-type {\n",
              "        vertical-align: middle;\n",
              "    }\n",
              "\n",
              "    .dataframe tbody tr th {\n",
              "        vertical-align: top;\n",
              "    }\n",
              "\n",
              "    .dataframe thead th {\n",
              "        text-align: right;\n",
              "    }\n",
              "</style>\n",
              "<table border=\"1\" class=\"dataframe\">\n",
              "  <thead>\n",
              "    <tr style=\"text-align: right;\">\n",
              "      <th></th>\n",
              "      <th>City</th>\n",
              "      <th>NoOfChildren</th>\n",
              "      <th>MinAgeOfChild</th>\n",
              "      <th>MaxAgeOfChild</th>\n",
              "      <th>Tenure</th>\n",
              "      <th>FrquncyOfPurchase</th>\n",
              "      <th>NoOfUnitsPurchased</th>\n",
              "      <th>FrequencyOfPlay</th>\n",
              "      <th>NoOfGamesPlayed</th>\n",
              "      <th>NoOfGamesBought</th>\n",
              "      <th>FavoriteChannelOfTransaction</th>\n",
              "      <th>FavoriteGame</th>\n",
              "      <th>TotalRevenueGenerated</th>\n",
              "    </tr>\n",
              "  </thead>\n",
              "  <tbody>\n",
              "    <tr>\n",
              "      <th>count</th>\n",
              "      <td>3209.0</td>\n",
              "      <td>3209.000000</td>\n",
              "      <td>3209.000000</td>\n",
              "      <td>3209.000000</td>\n",
              "      <td>3209.000000</td>\n",
              "      <td>3209.000000</td>\n",
              "      <td>3209.000000</td>\n",
              "      <td>3209.000000</td>\n",
              "      <td>3209.000000</td>\n",
              "      <td>3209.000000</td>\n",
              "      <td>3209</td>\n",
              "      <td>3209</td>\n",
              "      <td>3209.000000</td>\n",
              "    </tr>\n",
              "    <tr>\n",
              "      <th>unique</th>\n",
              "      <td>2.0</td>\n",
              "      <td>NaN</td>\n",
              "      <td>NaN</td>\n",
              "      <td>NaN</td>\n",
              "      <td>NaN</td>\n",
              "      <td>NaN</td>\n",
              "      <td>NaN</td>\n",
              "      <td>NaN</td>\n",
              "      <td>NaN</td>\n",
              "      <td>NaN</td>\n",
              "      <td>2</td>\n",
              "      <td>2</td>\n",
              "      <td>NaN</td>\n",
              "    </tr>\n",
              "    <tr>\n",
              "      <th>top</th>\n",
              "      <td>1.0</td>\n",
              "      <td>NaN</td>\n",
              "      <td>NaN</td>\n",
              "      <td>NaN</td>\n",
              "      <td>NaN</td>\n",
              "      <td>NaN</td>\n",
              "      <td>NaN</td>\n",
              "      <td>NaN</td>\n",
              "      <td>NaN</td>\n",
              "      <td>NaN</td>\n",
              "      <td>Favorite</td>\n",
              "      <td>Uniform</td>\n",
              "      <td>NaN</td>\n",
              "    </tr>\n",
              "    <tr>\n",
              "      <th>freq</th>\n",
              "      <td>2843.0</td>\n",
              "      <td>NaN</td>\n",
              "      <td>NaN</td>\n",
              "      <td>NaN</td>\n",
              "      <td>NaN</td>\n",
              "      <td>NaN</td>\n",
              "      <td>NaN</td>\n",
              "      <td>NaN</td>\n",
              "      <td>NaN</td>\n",
              "      <td>NaN</td>\n",
              "      <td>2637</td>\n",
              "      <td>3083</td>\n",
              "      <td>NaN</td>\n",
              "    </tr>\n",
              "    <tr>\n",
              "      <th>mean</th>\n",
              "      <td>NaN</td>\n",
              "      <td>2.128389</td>\n",
              "      <td>4.960735</td>\n",
              "      <td>7.990651</td>\n",
              "      <td>347.520411</td>\n",
              "      <td>16.269554</td>\n",
              "      <td>14.684014</td>\n",
              "      <td>1568.207853</td>\n",
              "      <td>93.627921</td>\n",
              "      <td>14.761608</td>\n",
              "      <td>NaN</td>\n",
              "      <td>NaN</td>\n",
              "      <td>168.477183</td>\n",
              "    </tr>\n",
              "    <tr>\n",
              "      <th>std</th>\n",
              "      <td>NaN</td>\n",
              "      <td>1.035092</td>\n",
              "      <td>3.714191</td>\n",
              "      <td>8.784084</td>\n",
              "      <td>90.520118</td>\n",
              "      <td>8.441670</td>\n",
              "      <td>7.182029</td>\n",
              "      <td>1810.630464</td>\n",
              "      <td>88.936372</td>\n",
              "      <td>8.773910</td>\n",
              "      <td>NaN</td>\n",
              "      <td>NaN</td>\n",
              "      <td>81.798528</td>\n",
              "    </tr>\n",
              "    <tr>\n",
              "      <th>min</th>\n",
              "      <td>NaN</td>\n",
              "      <td>1.000000</td>\n",
              "      <td>0.000000</td>\n",
              "      <td>3.000000</td>\n",
              "      <td>100.000000</td>\n",
              "      <td>1.000000</td>\n",
              "      <td>1.000000</td>\n",
              "      <td>0.000000</td>\n",
              "      <td>0.000000</td>\n",
              "      <td>0.000000</td>\n",
              "      <td>NaN</td>\n",
              "      <td>NaN</td>\n",
              "      <td>100.000000</td>\n",
              "    </tr>\n",
              "    <tr>\n",
              "      <th>25%</th>\n",
              "      <td>NaN</td>\n",
              "      <td>1.000000</td>\n",
              "      <td>4.000000</td>\n",
              "      <td>6.000000</td>\n",
              "      <td>301.000000</td>\n",
              "      <td>11.000000</td>\n",
              "      <td>10.000000</td>\n",
              "      <td>446.000000</td>\n",
              "      <td>37.000000</td>\n",
              "      <td>10.000000</td>\n",
              "      <td>NaN</td>\n",
              "      <td>NaN</td>\n",
              "      <td>116.640000</td>\n",
              "    </tr>\n",
              "    <tr>\n",
              "      <th>50%</th>\n",
              "      <td>NaN</td>\n",
              "      <td>2.000000</td>\n",
              "      <td>5.000000</td>\n",
              "      <td>7.000000</td>\n",
              "      <td>368.000000</td>\n",
              "      <td>14.000000</td>\n",
              "      <td>13.000000</td>\n",
              "      <td>1029.000000</td>\n",
              "      <td>70.000000</td>\n",
              "      <td>14.000000</td>\n",
              "      <td>NaN</td>\n",
              "      <td>NaN</td>\n",
              "      <td>142.390000</td>\n",
              "    </tr>\n",
              "    <tr>\n",
              "      <th>75%</th>\n",
              "      <td>NaN</td>\n",
              "      <td>3.000000</td>\n",
              "      <td>6.000000</td>\n",
              "      <td>8.000000</td>\n",
              "      <td>417.000000</td>\n",
              "      <td>19.000000</td>\n",
              "      <td>17.000000</td>\n",
              "      <td>2029.000000</td>\n",
              "      <td>119.000000</td>\n",
              "      <td>19.000000</td>\n",
              "      <td>NaN</td>\n",
              "      <td>NaN</td>\n",
              "      <td>191.250000</td>\n",
              "    </tr>\n",
              "    <tr>\n",
              "      <th>max</th>\n",
              "      <td>NaN</td>\n",
              "      <td>11.000000</td>\n",
              "      <td>113.000000</td>\n",
              "      <td>113.000000</td>\n",
              "      <td>472.000000</td>\n",
              "      <td>119.000000</td>\n",
              "      <td>112.000000</td>\n",
              "      <td>27829.000000</td>\n",
              "      <td>1166.000000</td>\n",
              "      <td>115.000000</td>\n",
              "      <td>NaN</td>\n",
              "      <td>NaN</td>\n",
              "      <td>990.560000</td>\n",
              "    </tr>\n",
              "  </tbody>\n",
              "</table>\n",
              "</div>\n",
              "      <button class=\"colab-df-convert\" onclick=\"convertToInteractive('df-d72bbefa-d6f2-4b7d-84bf-3df40ea65411')\"\n",
              "              title=\"Convert this dataframe to an interactive table.\"\n",
              "              style=\"display:none;\">\n",
              "        \n",
              "  <svg xmlns=\"http://www.w3.org/2000/svg\" height=\"24px\"viewBox=\"0 0 24 24\"\n",
              "       width=\"24px\">\n",
              "    <path d=\"M0 0h24v24H0V0z\" fill=\"none\"/>\n",
              "    <path d=\"M18.56 5.44l.94 2.06.94-2.06 2.06-.94-2.06-.94-.94-2.06-.94 2.06-2.06.94zm-11 1L8.5 8.5l.94-2.06 2.06-.94-2.06-.94L8.5 2.5l-.94 2.06-2.06.94zm10 10l.94 2.06.94-2.06 2.06-.94-2.06-.94-.94-2.06-.94 2.06-2.06.94z\"/><path d=\"M17.41 7.96l-1.37-1.37c-.4-.4-.92-.59-1.43-.59-.52 0-1.04.2-1.43.59L10.3 9.45l-7.72 7.72c-.78.78-.78 2.05 0 2.83L4 21.41c.39.39.9.59 1.41.59.51 0 1.02-.2 1.41-.59l7.78-7.78 2.81-2.81c.8-.78.8-2.07 0-2.86zM5.41 20L4 18.59l7.72-7.72 1.47 1.35L5.41 20z\"/>\n",
              "  </svg>\n",
              "      </button>\n",
              "      \n",
              "  <style>\n",
              "    .colab-df-container {\n",
              "      display:flex;\n",
              "      flex-wrap:wrap;\n",
              "      gap: 12px;\n",
              "    }\n",
              "\n",
              "    .colab-df-convert {\n",
              "      background-color: #E8F0FE;\n",
              "      border: none;\n",
              "      border-radius: 50%;\n",
              "      cursor: pointer;\n",
              "      display: none;\n",
              "      fill: #1967D2;\n",
              "      height: 32px;\n",
              "      padding: 0 0 0 0;\n",
              "      width: 32px;\n",
              "    }\n",
              "\n",
              "    .colab-df-convert:hover {\n",
              "      background-color: #E2EBFA;\n",
              "      box-shadow: 0px 1px 2px rgba(60, 64, 67, 0.3), 0px 1px 3px 1px rgba(60, 64, 67, 0.15);\n",
              "      fill: #174EA6;\n",
              "    }\n",
              "\n",
              "    [theme=dark] .colab-df-convert {\n",
              "      background-color: #3B4455;\n",
              "      fill: #D2E3FC;\n",
              "    }\n",
              "\n",
              "    [theme=dark] .colab-df-convert:hover {\n",
              "      background-color: #434B5C;\n",
              "      box-shadow: 0px 1px 3px 1px rgba(0, 0, 0, 0.15);\n",
              "      filter: drop-shadow(0px 1px 2px rgba(0, 0, 0, 0.3));\n",
              "      fill: #FFFFFF;\n",
              "    }\n",
              "  </style>\n",
              "\n",
              "      <script>\n",
              "        const buttonEl =\n",
              "          document.querySelector('#df-d72bbefa-d6f2-4b7d-84bf-3df40ea65411 button.colab-df-convert');\n",
              "        buttonEl.style.display =\n",
              "          google.colab.kernel.accessAllowed ? 'block' : 'none';\n",
              "\n",
              "        async function convertToInteractive(key) {\n",
              "          const element = document.querySelector('#df-d72bbefa-d6f2-4b7d-84bf-3df40ea65411');\n",
              "          const dataTable =\n",
              "            await google.colab.kernel.invokeFunction('convertToInteractive',\n",
              "                                                     [key], {});\n",
              "          if (!dataTable) return;\n",
              "\n",
              "          const docLinkHtml = 'Like what you see? Visit the ' +\n",
              "            '<a target=\"_blank\" href=https://colab.research.google.com/notebooks/data_table.ipynb>data table notebook</a>'\n",
              "            + ' to learn more about interactive tables.';\n",
              "          element.innerHTML = '';\n",
              "          dataTable['output_type'] = 'display_data';\n",
              "          await google.colab.output.renderOutput(dataTable, element);\n",
              "          const docLink = document.createElement('div');\n",
              "          docLink.innerHTML = docLinkHtml;\n",
              "          element.appendChild(docLink);\n",
              "        }\n",
              "      </script>\n",
              "    </div>\n",
              "  </div>\n",
              "  "
            ]
          },
          "metadata": {},
          "execution_count": 15
        }
      ],
      "source": [
        "data.describe(include='all')"
      ]
    },
    {
      "cell_type": "markdown",
      "metadata": {
        "id": "t3egb3KTR_X6"
      },
      "source": [
        "Observe how many records have values 113 for age of children"
      ]
    },
    {
      "cell_type": "code",
      "execution_count": 16,
      "metadata": {
        "id": "EW0uHPZeR_X8",
        "outputId": "57c4c632-b189-4e1f-fdf9-1e04e04821eb",
        "colab": {
          "base_uri": "https://localhost:8080/"
        }
      },
      "outputs": [
        {
          "output_type": "execute_result",
          "data": {
            "text/plain": [
              "(20, 13)"
            ]
          },
          "metadata": {},
          "execution_count": 16
        }
      ],
      "source": [
        "data.loc[(data['MinAgeOfChild']==113) | (data['MaxAgeOfChild']==113),].shape"
      ]
    },
    {
      "cell_type": "code",
      "execution_count": 17,
      "metadata": {
        "id": "7SmtM2e6R_X8",
        "outputId": "7d946e26-097f-4f51-9b0f-f6b6e5262db5",
        "colab": {
          "base_uri": "https://localhost:8080/"
        }
      },
      "outputs": [
        {
          "output_type": "stream",
          "name": "stdout",
          "text": [
            "(3209, 13)\n"
          ]
        }
      ],
      "source": [
        "print (data.shape)"
      ]
    },
    {
      "cell_type": "markdown",
      "metadata": {
        "id": "RoCQLSJtR_X9"
      },
      "source": [
        "### Removing outliers"
      ]
    },
    {
      "cell_type": "markdown",
      "metadata": {
        "id": "gFhspKgSR_X_"
      },
      "source": [
        "Lets ignore these 20 records for the analysis"
      ]
    },
    {
      "cell_type": "code",
      "execution_count": 18,
      "metadata": {
        "id": "VIEHG586R_X_"
      },
      "outputs": [],
      "source": [
        "data=data.loc[(data['MinAgeOfChild'] !=113) & (data['MaxAgeOfChild']!=113),:]"
      ]
    },
    {
      "cell_type": "markdown",
      "metadata": {
        "id": "unlGqP3fR_YA"
      },
      "source": [
        "Observe that the number of rows in data is less than those in data"
      ]
    },
    {
      "cell_type": "code",
      "execution_count": 19,
      "metadata": {
        "id": "lbS3nvJ_R_YA",
        "outputId": "f8a0e784-ba27-40e5-9230-930afa4eb4c2",
        "colab": {
          "base_uri": "https://localhost:8080/"
        }
      },
      "outputs": [
        {
          "output_type": "stream",
          "name": "stdout",
          "text": [
            "(3189, 13)\n"
          ]
        }
      ],
      "source": [
        "print (data.shape)"
      ]
    },
    {
      "cell_type": "markdown",
      "metadata": {
        "id": "e9qmBvg7R_YC"
      },
      "source": [
        "## Missing Data\n"
      ]
    },
    {
      "cell_type": "code",
      "execution_count": 20,
      "metadata": {
        "id": "qUGbOmEmR_YD",
        "outputId": "99b6ad4d-2854-43a5-98ad-4c089959d339",
        "colab": {
          "base_uri": "https://localhost:8080/"
        }
      },
      "outputs": [
        {
          "output_type": "execute_result",
          "data": {
            "text/plain": [
              "City                            0\n",
              "NoOfChildren                    0\n",
              "MinAgeOfChild                   0\n",
              "MaxAgeOfChild                   0\n",
              "Tenure                          0\n",
              "FrquncyOfPurchase               0\n",
              "NoOfUnitsPurchased              0\n",
              "FrequencyOfPlay                 0\n",
              "NoOfGamesPlayed                 0\n",
              "NoOfGamesBought                 0\n",
              "FavoriteChannelOfTransaction    0\n",
              "FavoriteGame                    0\n",
              "TotalRevenueGenerated           0\n",
              "dtype: int64"
            ]
          },
          "metadata": {},
          "execution_count": 20
        }
      ],
      "source": [
        "data.isnull().sum()"
      ]
    },
    {
      "cell_type": "markdown",
      "metadata": {
        "id": "LkOzJa9FR_YG"
      },
      "source": [
        "## Encoding Categorical to Numeric - Dummification\n"
      ]
    },
    {
      "cell_type": "markdown",
      "metadata": {
        "id": "QfGG39ViR_YG"
      },
      "source": [
        "### Data types"
      ]
    },
    {
      "cell_type": "code",
      "execution_count": 21,
      "metadata": {
        "scrolled": true,
        "id": "D3SqnEIlR_YH",
        "outputId": "f9711e6b-e9b7-4edd-c1ff-8a30219e0306",
        "colab": {
          "base_uri": "https://localhost:8080/"
        }
      },
      "outputs": [
        {
          "output_type": "execute_result",
          "data": {
            "text/plain": [
              "City                            category\n",
              "NoOfChildren                       int64\n",
              "MinAgeOfChild                      int64\n",
              "MaxAgeOfChild                      int64\n",
              "Tenure                             int64\n",
              "FrquncyOfPurchase                  int64\n",
              "NoOfUnitsPurchased                 int64\n",
              "FrequencyOfPlay                    int64\n",
              "NoOfGamesPlayed                    int64\n",
              "NoOfGamesBought                    int64\n",
              "FavoriteChannelOfTransaction    category\n",
              "FavoriteGame                    category\n",
              "TotalRevenueGenerated            float64\n",
              "dtype: object"
            ]
          },
          "metadata": {},
          "execution_count": 21
        }
      ],
      "source": [
        "data.dtypes"
      ]
    },
    {
      "cell_type": "markdown",
      "metadata": {
        "id": "1wwUdsiFR_YI"
      },
      "source": [
        "### Creating dummy variables.\n",
        ""
      ]
    },
    {
      "cell_type": "code",
      "execution_count": 22,
      "metadata": {
        "id": "E4byI4EQR_YI"
      },
      "outputs": [],
      "source": [
        "cols_to_transform = data.select_dtypes(include=['category']).columns"
      ]
    },
    {
      "cell_type": "code",
      "execution_count": 23,
      "metadata": {
        "id": "oy7TdnyRR_YJ"
      },
      "outputs": [],
      "source": [
        "data = pd.get_dummies(columns=cols_to_transform, data=data, prefix=cols_to_transform, prefix_sep=\"_\",drop_first=True)"
      ]
    },
    {
      "cell_type": "code",
      "execution_count": 24,
      "metadata": {
        "id": "Y-R2FuagR_YJ",
        "outputId": "916a6efe-48de-4d95-d44a-3442fe77d856",
        "colab": {
          "base_uri": "https://localhost:8080/"
        }
      },
      "outputs": [
        {
          "output_type": "stream",
          "name": "stdout",
          "text": [
            "Index(['NoOfChildren', 'MinAgeOfChild', 'MaxAgeOfChild', 'Tenure',\n",
            "       'FrquncyOfPurchase', 'NoOfUnitsPurchased', 'FrequencyOfPlay',\n",
            "       'NoOfGamesPlayed', 'NoOfGamesBought', 'TotalRevenueGenerated', 'City_2',\n",
            "       'FavoriteChannelOfTransaction_Uniform', 'FavoriteGame_Uniform'],\n",
            "      dtype='object')\n"
          ]
        }
      ],
      "source": [
        "print (data.columns)"
      ]
    },
    {
      "cell_type": "code",
      "execution_count": 25,
      "metadata": {
        "id": "I--ZXYToR_YK",
        "outputId": "01c17ad6-c93a-4ac4-bbcb-3163a64c2524",
        "colab": {
          "base_uri": "https://localhost:8080/",
          "height": 270
        }
      },
      "outputs": [
        {
          "output_type": "execute_result",
          "data": {
            "text/plain": [
              "   NoOfChildren  MinAgeOfChild  MaxAgeOfChild  Tenure  FrquncyOfPurchase  \\\n",
              "0             2              3              8     210                 11   \n",
              "1             2              3              6     442                 20   \n",
              "2             4              3              5     424                 18   \n",
              "3             1              6              6     261                 11   \n",
              "4             3              6              9     422                 44   \n",
              "\n",
              "   NoOfUnitsPurchased  FrequencyOfPlay  NoOfGamesPlayed  NoOfGamesBought  \\\n",
              "0                  11             2344              108               10   \n",
              "1                  20              245               22                7   \n",
              "2                  18             1059              130               18   \n",
              "3                   9              365               34               11   \n",
              "4                  31             1066              102               44   \n",
              "\n",
              "   TotalRevenueGenerated  City_2  FavoriteChannelOfTransaction_Uniform  \\\n",
              "0                 107.51       0                                     1   \n",
              "1                 382.40       0                                     0   \n",
              "2                 135.01       0                                     0   \n",
              "3                 125.00       0                                     0   \n",
              "4                 335.05       0                                     1   \n",
              "\n",
              "   FavoriteGame_Uniform  \n",
              "0                     1  \n",
              "1                     1  \n",
              "2                     1  \n",
              "3                     1  \n",
              "4                     1  "
            ],
            "text/html": [
              "\n",
              "  <div id=\"df-aa0cfa60-74a5-44bc-87dc-d62da4ce245e\">\n",
              "    <div class=\"colab-df-container\">\n",
              "      <div>\n",
              "<style scoped>\n",
              "    .dataframe tbody tr th:only-of-type {\n",
              "        vertical-align: middle;\n",
              "    }\n",
              "\n",
              "    .dataframe tbody tr th {\n",
              "        vertical-align: top;\n",
              "    }\n",
              "\n",
              "    .dataframe thead th {\n",
              "        text-align: right;\n",
              "    }\n",
              "</style>\n",
              "<table border=\"1\" class=\"dataframe\">\n",
              "  <thead>\n",
              "    <tr style=\"text-align: right;\">\n",
              "      <th></th>\n",
              "      <th>NoOfChildren</th>\n",
              "      <th>MinAgeOfChild</th>\n",
              "      <th>MaxAgeOfChild</th>\n",
              "      <th>Tenure</th>\n",
              "      <th>FrquncyOfPurchase</th>\n",
              "      <th>NoOfUnitsPurchased</th>\n",
              "      <th>FrequencyOfPlay</th>\n",
              "      <th>NoOfGamesPlayed</th>\n",
              "      <th>NoOfGamesBought</th>\n",
              "      <th>TotalRevenueGenerated</th>\n",
              "      <th>City_2</th>\n",
              "      <th>FavoriteChannelOfTransaction_Uniform</th>\n",
              "      <th>FavoriteGame_Uniform</th>\n",
              "    </tr>\n",
              "  </thead>\n",
              "  <tbody>\n",
              "    <tr>\n",
              "      <th>0</th>\n",
              "      <td>2</td>\n",
              "      <td>3</td>\n",
              "      <td>8</td>\n",
              "      <td>210</td>\n",
              "      <td>11</td>\n",
              "      <td>11</td>\n",
              "      <td>2344</td>\n",
              "      <td>108</td>\n",
              "      <td>10</td>\n",
              "      <td>107.51</td>\n",
              "      <td>0</td>\n",
              "      <td>1</td>\n",
              "      <td>1</td>\n",
              "    </tr>\n",
              "    <tr>\n",
              "      <th>1</th>\n",
              "      <td>2</td>\n",
              "      <td>3</td>\n",
              "      <td>6</td>\n",
              "      <td>442</td>\n",
              "      <td>20</td>\n",
              "      <td>20</td>\n",
              "      <td>245</td>\n",
              "      <td>22</td>\n",
              "      <td>7</td>\n",
              "      <td>382.40</td>\n",
              "      <td>0</td>\n",
              "      <td>0</td>\n",
              "      <td>1</td>\n",
              "    </tr>\n",
              "    <tr>\n",
              "      <th>2</th>\n",
              "      <td>4</td>\n",
              "      <td>3</td>\n",
              "      <td>5</td>\n",
              "      <td>424</td>\n",
              "      <td>18</td>\n",
              "      <td>18</td>\n",
              "      <td>1059</td>\n",
              "      <td>130</td>\n",
              "      <td>18</td>\n",
              "      <td>135.01</td>\n",
              "      <td>0</td>\n",
              "      <td>0</td>\n",
              "      <td>1</td>\n",
              "    </tr>\n",
              "    <tr>\n",
              "      <th>3</th>\n",
              "      <td>1</td>\n",
              "      <td>6</td>\n",
              "      <td>6</td>\n",
              "      <td>261</td>\n",
              "      <td>11</td>\n",
              "      <td>9</td>\n",
              "      <td>365</td>\n",
              "      <td>34</td>\n",
              "      <td>11</td>\n",
              "      <td>125.00</td>\n",
              "      <td>0</td>\n",
              "      <td>0</td>\n",
              "      <td>1</td>\n",
              "    </tr>\n",
              "    <tr>\n",
              "      <th>4</th>\n",
              "      <td>3</td>\n",
              "      <td>6</td>\n",
              "      <td>9</td>\n",
              "      <td>422</td>\n",
              "      <td>44</td>\n",
              "      <td>31</td>\n",
              "      <td>1066</td>\n",
              "      <td>102</td>\n",
              "      <td>44</td>\n",
              "      <td>335.05</td>\n",
              "      <td>0</td>\n",
              "      <td>1</td>\n",
              "      <td>1</td>\n",
              "    </tr>\n",
              "  </tbody>\n",
              "</table>\n",
              "</div>\n",
              "      <button class=\"colab-df-convert\" onclick=\"convertToInteractive('df-aa0cfa60-74a5-44bc-87dc-d62da4ce245e')\"\n",
              "              title=\"Convert this dataframe to an interactive table.\"\n",
              "              style=\"display:none;\">\n",
              "        \n",
              "  <svg xmlns=\"http://www.w3.org/2000/svg\" height=\"24px\"viewBox=\"0 0 24 24\"\n",
              "       width=\"24px\">\n",
              "    <path d=\"M0 0h24v24H0V0z\" fill=\"none\"/>\n",
              "    <path d=\"M18.56 5.44l.94 2.06.94-2.06 2.06-.94-2.06-.94-.94-2.06-.94 2.06-2.06.94zm-11 1L8.5 8.5l.94-2.06 2.06-.94-2.06-.94L8.5 2.5l-.94 2.06-2.06.94zm10 10l.94 2.06.94-2.06 2.06-.94-2.06-.94-.94-2.06-.94 2.06-2.06.94z\"/><path d=\"M17.41 7.96l-1.37-1.37c-.4-.4-.92-.59-1.43-.59-.52 0-1.04.2-1.43.59L10.3 9.45l-7.72 7.72c-.78.78-.78 2.05 0 2.83L4 21.41c.39.39.9.59 1.41.59.51 0 1.02-.2 1.41-.59l7.78-7.78 2.81-2.81c.8-.78.8-2.07 0-2.86zM5.41 20L4 18.59l7.72-7.72 1.47 1.35L5.41 20z\"/>\n",
              "  </svg>\n",
              "      </button>\n",
              "      \n",
              "  <style>\n",
              "    .colab-df-container {\n",
              "      display:flex;\n",
              "      flex-wrap:wrap;\n",
              "      gap: 12px;\n",
              "    }\n",
              "\n",
              "    .colab-df-convert {\n",
              "      background-color: #E8F0FE;\n",
              "      border: none;\n",
              "      border-radius: 50%;\n",
              "      cursor: pointer;\n",
              "      display: none;\n",
              "      fill: #1967D2;\n",
              "      height: 32px;\n",
              "      padding: 0 0 0 0;\n",
              "      width: 32px;\n",
              "    }\n",
              "\n",
              "    .colab-df-convert:hover {\n",
              "      background-color: #E2EBFA;\n",
              "      box-shadow: 0px 1px 2px rgba(60, 64, 67, 0.3), 0px 1px 3px 1px rgba(60, 64, 67, 0.15);\n",
              "      fill: #174EA6;\n",
              "    }\n",
              "\n",
              "    [theme=dark] .colab-df-convert {\n",
              "      background-color: #3B4455;\n",
              "      fill: #D2E3FC;\n",
              "    }\n",
              "\n",
              "    [theme=dark] .colab-df-convert:hover {\n",
              "      background-color: #434B5C;\n",
              "      box-shadow: 0px 1px 3px 1px rgba(0, 0, 0, 0.15);\n",
              "      filter: drop-shadow(0px 1px 2px rgba(0, 0, 0, 0.3));\n",
              "      fill: #FFFFFF;\n",
              "    }\n",
              "  </style>\n",
              "\n",
              "      <script>\n",
              "        const buttonEl =\n",
              "          document.querySelector('#df-aa0cfa60-74a5-44bc-87dc-d62da4ce245e button.colab-df-convert');\n",
              "        buttonEl.style.display =\n",
              "          google.colab.kernel.accessAllowed ? 'block' : 'none';\n",
              "\n",
              "        async function convertToInteractive(key) {\n",
              "          const element = document.querySelector('#df-aa0cfa60-74a5-44bc-87dc-d62da4ce245e');\n",
              "          const dataTable =\n",
              "            await google.colab.kernel.invokeFunction('convertToInteractive',\n",
              "                                                     [key], {});\n",
              "          if (!dataTable) return;\n",
              "\n",
              "          const docLinkHtml = 'Like what you see? Visit the ' +\n",
              "            '<a target=\"_blank\" href=https://colab.research.google.com/notebooks/data_table.ipynb>data table notebook</a>'\n",
              "            + ' to learn more about interactive tables.';\n",
              "          element.innerHTML = '';\n",
              "          dataTable['output_type'] = 'display_data';\n",
              "          await google.colab.output.renderOutput(dataTable, element);\n",
              "          const docLink = document.createElement('div');\n",
              "          docLink.innerHTML = docLinkHtml;\n",
              "          element.appendChild(docLink);\n",
              "        }\n",
              "      </script>\n",
              "    </div>\n",
              "  </div>\n",
              "  "
            ]
          },
          "metadata": {},
          "execution_count": 25
        }
      ],
      "source": [
        "data.head()"
      ]
    },
    {
      "cell_type": "markdown",
      "metadata": {
        "id": "B-iG8XTPR_YK"
      },
      "source": [
        "##  Split the data into train and test:\n"
      ]
    },
    {
      "cell_type": "code",
      "execution_count": 26,
      "metadata": {
        "id": "eRKE4CqdR_YL"
      },
      "outputs": [],
      "source": [
        "X = data.loc[:,data.columns!='TotalRevenueGenerated'].values\n",
        "y = data.loc[:,'TotalRevenueGenerated'].values\n",
        "\n",
        "X_train, X_test, y_train, y_test = train_test_split(X, y, test_size=0.3, random_state=123)"
      ]
    },
    {
      "cell_type": "code",
      "execution_count": 27,
      "metadata": {
        "id": "N86KQDreR_YM",
        "outputId": "c9886395-8426-420a-c228-7513776a8b40",
        "colab": {
          "base_uri": "https://localhost:8080/"
        }
      },
      "outputs": [
        {
          "output_type": "stream",
          "name": "stdout",
          "text": [
            "<class 'numpy.ndarray'>\n",
            "<class 'numpy.ndarray'>\n"
          ]
        }
      ],
      "source": [
        "print (type(X_train))\n",
        "print (type(y_train))"
      ]
    },
    {
      "cell_type": "markdown",
      "metadata": {
        "id": "x9aFUCuAR_YM"
      },
      "source": [
        "# Modelling"
      ]
    },
    {
      "cell_type": "markdown",
      "metadata": {
        "id": "makGMxN7R_YN"
      },
      "source": [
        "## Building a Decision Tree Model"
      ]
    },
    {
      "cell_type": "markdown",
      "metadata": {
        "id": "0up-ftiqR_YN"
      },
      "source": [
        "### Instantiate DecisionTreeRegressor"
      ]
    },
    {
      "cell_type": "code",
      "execution_count": 28,
      "metadata": {
        "id": "JH6VHgKSR_YN"
      },
      "outputs": [],
      "source": [
        "clf = DecisionTreeRegressor()"
      ]
    },
    {
      "cell_type": "markdown",
      "metadata": {
        "id": "UlyUZiSER_YO"
      },
      "source": [
        "### Train the model"
      ]
    },
    {
      "cell_type": "code",
      "execution_count": 29,
      "metadata": {
        "id": "btX3j9ZPR_YO"
      },
      "outputs": [],
      "source": [
        "clf = clf.fit(X_train, y_train)"
      ]
    },
    {
      "cell_type": "markdown",
      "metadata": {
        "id": "fOshkti9R_YP"
      },
      "source": [
        "### Feature Importances"
      ]
    },
    {
      "cell_type": "code",
      "execution_count": 30,
      "metadata": {
        "id": "e21scux-R_YP",
        "outputId": "1117e014-7fae-4ff8-9989-4c0bbe46264e",
        "colab": {
          "base_uri": "https://localhost:8080/",
          "height": 176
        }
      },
      "outputs": [
        {
          "output_type": "execute_result",
          "data": {
            "text/plain": [
              "                   0                1                  2                3   \\\n",
              "0  NoOfUnitsPurchased  NoOfGamesBought  FrquncyOfPurchase  FrequencyOfPlay   \n",
              "1             0.62524         0.108961           0.059399         0.052568   \n",
              "\n",
              "         4                5              6              7             8   \\\n",
              "0    Tenure  NoOfGamesPlayed  MinAgeOfChild  MaxAgeOfChild  NoOfChildren   \n",
              "1  0.047233         0.038549        0.02727       0.020493      0.009716   \n",
              "\n",
              "         9                      10                                    11  \n",
              "0    City_2  TotalRevenueGenerated  FavoriteChannelOfTransaction_Uniform  \n",
              "1  0.007469               0.002387                              0.000717  "
            ],
            "text/html": [
              "\n",
              "  <div id=\"df-c7ea6e2d-2dd8-428e-bb8e-e49574d03a00\">\n",
              "    <div class=\"colab-df-container\">\n",
              "      <div>\n",
              "<style scoped>\n",
              "    .dataframe tbody tr th:only-of-type {\n",
              "        vertical-align: middle;\n",
              "    }\n",
              "\n",
              "    .dataframe tbody tr th {\n",
              "        vertical-align: top;\n",
              "    }\n",
              "\n",
              "    .dataframe thead th {\n",
              "        text-align: right;\n",
              "    }\n",
              "</style>\n",
              "<table border=\"1\" class=\"dataframe\">\n",
              "  <thead>\n",
              "    <tr style=\"text-align: right;\">\n",
              "      <th></th>\n",
              "      <th>0</th>\n",
              "      <th>1</th>\n",
              "      <th>2</th>\n",
              "      <th>3</th>\n",
              "      <th>4</th>\n",
              "      <th>5</th>\n",
              "      <th>6</th>\n",
              "      <th>7</th>\n",
              "      <th>8</th>\n",
              "      <th>9</th>\n",
              "      <th>10</th>\n",
              "      <th>11</th>\n",
              "    </tr>\n",
              "  </thead>\n",
              "  <tbody>\n",
              "    <tr>\n",
              "      <th>0</th>\n",
              "      <td>NoOfUnitsPurchased</td>\n",
              "      <td>NoOfGamesBought</td>\n",
              "      <td>FrquncyOfPurchase</td>\n",
              "      <td>FrequencyOfPlay</td>\n",
              "      <td>Tenure</td>\n",
              "      <td>NoOfGamesPlayed</td>\n",
              "      <td>MinAgeOfChild</td>\n",
              "      <td>MaxAgeOfChild</td>\n",
              "      <td>NoOfChildren</td>\n",
              "      <td>City_2</td>\n",
              "      <td>TotalRevenueGenerated</td>\n",
              "      <td>FavoriteChannelOfTransaction_Uniform</td>\n",
              "    </tr>\n",
              "    <tr>\n",
              "      <th>1</th>\n",
              "      <td>0.62524</td>\n",
              "      <td>0.108961</td>\n",
              "      <td>0.059399</td>\n",
              "      <td>0.052568</td>\n",
              "      <td>0.047233</td>\n",
              "      <td>0.038549</td>\n",
              "      <td>0.02727</td>\n",
              "      <td>0.020493</td>\n",
              "      <td>0.009716</td>\n",
              "      <td>0.007469</td>\n",
              "      <td>0.002387</td>\n",
              "      <td>0.000717</td>\n",
              "    </tr>\n",
              "  </tbody>\n",
              "</table>\n",
              "</div>\n",
              "      <button class=\"colab-df-convert\" onclick=\"convertToInteractive('df-c7ea6e2d-2dd8-428e-bb8e-e49574d03a00')\"\n",
              "              title=\"Convert this dataframe to an interactive table.\"\n",
              "              style=\"display:none;\">\n",
              "        \n",
              "  <svg xmlns=\"http://www.w3.org/2000/svg\" height=\"24px\"viewBox=\"0 0 24 24\"\n",
              "       width=\"24px\">\n",
              "    <path d=\"M0 0h24v24H0V0z\" fill=\"none\"/>\n",
              "    <path d=\"M18.56 5.44l.94 2.06.94-2.06 2.06-.94-2.06-.94-.94-2.06-.94 2.06-2.06.94zm-11 1L8.5 8.5l.94-2.06 2.06-.94-2.06-.94L8.5 2.5l-.94 2.06-2.06.94zm10 10l.94 2.06.94-2.06 2.06-.94-2.06-.94-.94-2.06-.94 2.06-2.06.94z\"/><path d=\"M17.41 7.96l-1.37-1.37c-.4-.4-.92-.59-1.43-.59-.52 0-1.04.2-1.43.59L10.3 9.45l-7.72 7.72c-.78.78-.78 2.05 0 2.83L4 21.41c.39.39.9.59 1.41.59.51 0 1.02-.2 1.41-.59l7.78-7.78 2.81-2.81c.8-.78.8-2.07 0-2.86zM5.41 20L4 18.59l7.72-7.72 1.47 1.35L5.41 20z\"/>\n",
              "  </svg>\n",
              "      </button>\n",
              "      \n",
              "  <style>\n",
              "    .colab-df-container {\n",
              "      display:flex;\n",
              "      flex-wrap:wrap;\n",
              "      gap: 12px;\n",
              "    }\n",
              "\n",
              "    .colab-df-convert {\n",
              "      background-color: #E8F0FE;\n",
              "      border: none;\n",
              "      border-radius: 50%;\n",
              "      cursor: pointer;\n",
              "      display: none;\n",
              "      fill: #1967D2;\n",
              "      height: 32px;\n",
              "      padding: 0 0 0 0;\n",
              "      width: 32px;\n",
              "    }\n",
              "\n",
              "    .colab-df-convert:hover {\n",
              "      background-color: #E2EBFA;\n",
              "      box-shadow: 0px 1px 2px rgba(60, 64, 67, 0.3), 0px 1px 3px 1px rgba(60, 64, 67, 0.15);\n",
              "      fill: #174EA6;\n",
              "    }\n",
              "\n",
              "    [theme=dark] .colab-df-convert {\n",
              "      background-color: #3B4455;\n",
              "      fill: #D2E3FC;\n",
              "    }\n",
              "\n",
              "    [theme=dark] .colab-df-convert:hover {\n",
              "      background-color: #434B5C;\n",
              "      box-shadow: 0px 1px 3px 1px rgba(0, 0, 0, 0.15);\n",
              "      filter: drop-shadow(0px 1px 2px rgba(0, 0, 0, 0.3));\n",
              "      fill: #FFFFFF;\n",
              "    }\n",
              "  </style>\n",
              "\n",
              "      <script>\n",
              "        const buttonEl =\n",
              "          document.querySelector('#df-c7ea6e2d-2dd8-428e-bb8e-e49574d03a00 button.colab-df-convert');\n",
              "        buttonEl.style.display =\n",
              "          google.colab.kernel.accessAllowed ? 'block' : 'none';\n",
              "\n",
              "        async function convertToInteractive(key) {\n",
              "          const element = document.querySelector('#df-c7ea6e2d-2dd8-428e-bb8e-e49574d03a00');\n",
              "          const dataTable =\n",
              "            await google.colab.kernel.invokeFunction('convertToInteractive',\n",
              "                                                     [key], {});\n",
              "          if (!dataTable) return;\n",
              "\n",
              "          const docLinkHtml = 'Like what you see? Visit the ' +\n",
              "            '<a target=\"_blank\" href=https://colab.research.google.com/notebooks/data_table.ipynb>data table notebook</a>'\n",
              "            + ' to learn more about interactive tables.';\n",
              "          element.innerHTML = '';\n",
              "          dataTable['output_type'] = 'display_data';\n",
              "          await google.colab.output.renderOutput(dataTable, element);\n",
              "          const docLink = document.createElement('div');\n",
              "          docLink.innerHTML = docLinkHtml;\n",
              "          element.appendChild(docLink);\n",
              "        }\n",
              "      </script>\n",
              "    </div>\n",
              "  </div>\n",
              "  "
            ]
          },
          "metadata": {},
          "execution_count": 30
        }
      ],
      "source": [
        "features = data.columns\n",
        "importances = clf.feature_importances_\n",
        "\n",
        "indices = np.argsort(importances)[::-1]\n",
        "pd.DataFrame([data.columns[indices],np.sort(importances)[::-1]])"
      ]
    },
    {
      "cell_type": "code",
      "execution_count": 31,
      "metadata": {
        "id": "svzf1e9jR_YP",
        "outputId": "a06ffd39-1ec5-46ec-a751-39d5f08bea3b",
        "colab": {
          "base_uri": "https://localhost:8080/",
          "height": 472
        }
      },
      "outputs": [
        {
          "output_type": "display_data",
          "data": {
            "text/plain": [
              "<Figure size 640x480 with 1 Axes>"
            ],
            "image/png": "[encoded data removed]"
          },
          "metadata": {}
        }
      ],
      "source": [
        "plt.title('Feature Importances')\n",
        "plt.barh(range(len(indices)), importances[indices], color='black')\n",
        "plt.yticks(range(len(indices)), [features[i] for i in indices])\n",
        "plt.xlabel('Relative Importance')\n",
        "plt.show()"
      ]
    },
    {
      "cell_type": "markdown",
      "metadata": {
        "id": "XKOqRFfpR_YQ"
      },
      "source": [
        "### Predict"
      ]
    },
    {
      "cell_type": "code",
      "execution_count": 32,
      "metadata": {
        "id": "8US5PmYYR_YR"
      },
      "outputs": [],
      "source": [
        "train_pred = clf.predict(X_train)\n",
        "test_pred = clf.predict(X_test)"
      ]
    },
    {
      "cell_type": "code",
      "execution_count": 33,
      "metadata": {
        "id": "tTcMfriuR_YR",
        "outputId": "4fb6660c-aa4b-40f5-ac5a-29f6be408312",
        "colab": {
          "base_uri": "https://localhost:8080/"
        }
      },
      "outputs": [
        {
          "output_type": "stream",
          "name": "stdout",
          "text": [
            "[229.56 140.   399.85 125.   102.5 ]\n",
            "[130.01 170.   130.   140.49 197.47]\n"
          ]
        }
      ],
      "source": [
        "print(train_pred[:5])\n",
        "print(test_pred[:5])"
      ]
    },
    {
      "cell_type": "markdown",
      "metadata": {
        "id": "JLjPGD_wR_YS"
      },
      "source": [
        "### Evaluation"
      ]
    },
    {
      "cell_type": "code",
      "execution_count": 34,
      "metadata": {
        "id": "C-c5Hky2R_YU",
        "outputId": "76c4aa69-17c3-407b-ac2a-040c1e836627",
        "colab": {
          "base_uri": "https://localhost:8080/"
        }
      },
      "outputs": [
        {
          "output_type": "stream",
          "name": "stdout",
          "text": [
            "The Mean Absolute Error on train dataset: 0.0 \n",
            "\n",
            "The Mean Absolute Error on test dataset: 43.09513061650993 \n",
            "\n",
            "The Mean Squared Error on train dataset: 0.0 \n",
            "\n",
            "The Mean Squared Error on test dataset: 4324.0138043887155 \n",
            "\n",
            "The Root Mean Squared Error on train dataset: 0.0 \n",
            "\n",
            "The Root Mean Squared Error on test dataset: 65.75723385596991 \n",
            "\n",
            "The Mean Absolute Percentage Error on train dataset: 0.0 \n",
            "\n",
            "The Mean Absolute Percentage Error on test dataset: 24.761981060812563 \n",
            "\n"
          ]
        }
      ],
      "source": [
        "print(\"The Mean Absolute Error on train dataset: {} \\n\".format(mean_absolute_error(y_pred=train_pred,y_true=y_train)))\n",
        "print(\"The Mean Absolute Error on test dataset: {} \\n\".format(mean_absolute_error(y_pred=test_pred,y_true=y_test)))\n",
        "\n",
        "print(\"The Mean Squared Error on train dataset: {} \\n\".format(mean_squared_error(y_pred=train_pred,y_true=y_train)))\n",
        "print(\"The Mean Squared Error on test dataset: {} \\n\".format(mean_squared_error(y_pred=test_pred,y_true=y_test)))\n",
        "\n",
        "print(\"The Root Mean Squared Error on train dataset: {} \\n\".format(math.sqrt(mean_squared_error(y_pred=train_pred,y_true=y_train))))\n",
        "print(\"The Root Mean Squared Error on test dataset: {} \\n\".format(math.sqrt(mean_squared_error(y_pred=test_pred,y_true=y_test))))\n",
        "\n",
        "def mean_absolute_percentage_error(y_true, y_pred):\n",
        "    y_true, y_pred = np.array(y_true), np.array(y_pred)\n",
        "    return np.mean(np.abs((y_true - y_pred) / y_true)) * 100\n",
        "\n",
        "print(\"The Mean Absolute Percentage Error on train dataset: {} \\n\".format(mean_absolute_percentage_error(y_pred=train_pred,y_true=y_train)))\n",
        "print(\"The Mean Absolute Percentage Error on test dataset: {} \\n\".format(mean_absolute_percentage_error(y_pred=test_pred,y_true=y_test)))\n"
      ]
    },
    {
      "cell_type": "markdown",
      "metadata": {
        "id": "PhnCDL1ZR_YV"
      },
      "source": [
        "## Building Decision Tree Model using attributes Importance"
      ]
    },
    {
      "cell_type": "markdown",
      "metadata": {
        "id": "NdCMAzBQR_YW"
      },
      "source": [
        "### Select important attributes"
      ]
    },
    {
      "cell_type": "code",
      "execution_count": 35,
      "metadata": {
        "scrolled": true,
        "id": "39F9M8UOR_YW"
      },
      "outputs": [],
      "source": [
        "select = indices[0:3].tolist()"
      ]
    },
    {
      "cell_type": "markdown",
      "metadata": {
        "id": "X9f18t4nR_YX"
      },
      "source": [
        "### Instantiate DecisionTreeRegressor"
      ]
    },
    {
      "cell_type": "code",
      "execution_count": 36,
      "metadata": {
        "id": "sH762EjCR_YY"
      },
      "outputs": [],
      "source": [
        "clf = DecisionTreeRegressor()"
      ]
    },
    {
      "cell_type": "markdown",
      "metadata": {
        "id": "lFY5qIHNR_YY"
      },
      "source": [
        "### Train the model"
      ]
    },
    {
      "cell_type": "code",
      "execution_count": 37,
      "metadata": {
        "id": "z9HP9BAHR_YZ"
      },
      "outputs": [],
      "source": [
        "clf = clf.fit(X_train[:,select], y_train)"
      ]
    },
    {
      "cell_type": "markdown",
      "metadata": {
        "id": "Dl4FsUVXR_Yb"
      },
      "source": [
        "### Predict"
      ]
    },
    {
      "cell_type": "code",
      "execution_count": 38,
      "metadata": {
        "id": "nl23WWjTR_Yf"
      },
      "outputs": [],
      "source": [
        "train_pred = clf.predict(X_train[:,select])\n",
        "test_pred = clf.predict(X_test[:,select])"
      ]
    },
    {
      "cell_type": "code",
      "execution_count": 39,
      "metadata": {
        "id": "eUSYAYgqR_Yf",
        "outputId": "27233845-f415-47bb-b4c9-dab5dba54a83",
        "colab": {
          "base_uri": "https://localhost:8080/"
        }
      },
      "outputs": [
        {
          "output_type": "stream",
          "name": "stdout",
          "text": [
            "[229.56       114.375      399.85       122.6355     120.35714286]\n",
            "[105.         147.504      114.4        148.14709677 182.59125   ]\n"
          ]
        }
      ],
      "source": [
        "print(train_pred[:5])\n",
        "print(test_pred[:5])"
      ]
    },
    {
      "cell_type": "markdown",
      "metadata": {
        "id": "WHtVp7O5R_Yh"
      },
      "source": [
        "### Evaluation"
      ]
    },
    {
      "cell_type": "code",
      "execution_count": 40,
      "metadata": {
        "id": "tJIkQV1hR_Yi",
        "outputId": "69d57c0b-5a7a-42a9-ae21-a97447a7563b",
        "colab": {
          "base_uri": "https://localhost:8080/"
        }
      },
      "outputs": [
        {
          "output_type": "stream",
          "name": "stdout",
          "text": [
            "The Mean Absolute Error on train dataset: 17.500409229475412 \n",
            "\n",
            "The Mean Absolute Error on test dataset: 34.7564175333528 \n",
            "\n",
            "The Mean Squared Error on train dataset: 699.4056056218994 \n",
            "\n",
            "The Mean Squared Error on test dataset: 2994.559443833135 \n",
            "\n",
            "The Root Mean Squared Error on train dataset: 26.446277727156602 \n",
            "\n",
            "The Root Mean Squared Error on test dataset: 54.722567957225245 \n",
            "\n",
            "The Mean Absolute Percentage Error on train dataset: 11.56089384834198 \n",
            "\n",
            "The Mean Absolute Percentage Error on test dataset: 19.247937652202502 \n",
            "\n"
          ]
        }
      ],
      "source": [
        "print(\"The Mean Absolute Error on train dataset: {} \\n\".format(mean_absolute_error(y_pred=train_pred,y_true=y_train)))\n",
        "print(\"The Mean Absolute Error on test dataset: {} \\n\".format(mean_absolute_error(y_pred=test_pred,y_true=y_test)))\n",
        "\n",
        "print(\"The Mean Squared Error on train dataset: {} \\n\".format(mean_squared_error(y_pred=train_pred,y_true=y_train)))\n",
        "print(\"The Mean Squared Error on test dataset: {} \\n\".format(mean_squared_error(y_pred=test_pred,y_true=y_test)))\n",
        "\n",
        "print(\"The Root Mean Squared Error on train dataset: {} \\n\".format(math.sqrt(mean_squared_error(y_pred=train_pred,y_true=y_train))))\n",
        "print(\"The Root Mean Squared Error on test dataset: {} \\n\".format(math.sqrt(mean_squared_error(y_pred=test_pred,y_true=y_test))))\n",
        "\n",
        "def mean_absolute_percentage_error(y_true, y_pred):\n",
        "    y_true, y_pred = np.array(y_true), np.array(y_pred)\n",
        "    return np.mean(np.abs((y_true - y_pred) / y_true)) * 100\n",
        "\n",
        "print(\"The Mean Absolute Percentage Error on train dataset: {} \\n\".format(mean_absolute_percentage_error(y_pred=train_pred,y_true=y_train)))\n",
        "print(\"The Mean Absolute Percentage Error on test dataset: {} \\n\".format(mean_absolute_percentage_error(y_pred=test_pred,y_true=y_test)))\n"
      ]
    },
    {
      "cell_type": "markdown",
      "metadata": {
        "id": "QjnU_QJMR_Yj"
      },
      "source": [
        "## Grid Search for Hyper-parameter tuning"
      ]
    },
    {
      "cell_type": "markdown",
      "metadata": {
        "id": "oSTn1GjjR_Yj"
      },
      "source": [
        "### Hyper-parameter"
      ]
    },
    {
      "cell_type": "code",
      "execution_count": 41,
      "metadata": {
        "id": "JolrFPYIR_Yk"
      },
      "outputs": [],
      "source": [
        "param_grid = {'max_depth': range(1, 11)}"
      ]
    },
    {
      "cell_type": "markdown",
      "metadata": {
        "id": "Hn9YH5bzR_Yk"
      },
      "source": [
        "### Instantiate DecisionTreeRegressor"
      ]
    },
    {
      "cell_type": "code",
      "execution_count": 42,
      "metadata": {
        "id": "LVIonMJqR_Ym"
      },
      "outputs": [],
      "source": [
        "dt = DecisionTreeRegressor()"
      ]
    },
    {
      "cell_type": "markdown",
      "metadata": {
        "id": "-2G_3pSER_Ym"
      },
      "source": [
        "### GridSearchCV"
      ]
    },
    {
      "cell_type": "code",
      "execution_count": 43,
      "metadata": {
        "id": "GxlZk6w6R_Ym"
      },
      "outputs": [],
      "source": [
        "clf = GridSearchCV(dt, param_grid, cv=10)"
      ]
    },
    {
      "cell_type": "markdown",
      "metadata": {
        "id": "l_CwuHKLR_Yn"
      },
      "source": [
        "### Train"
      ]
    },
    {
      "cell_type": "code",
      "execution_count": 44,
      "metadata": {
        "id": "2Q9vvT_DR_Yo",
        "outputId": "b4580c1c-911c-4bab-f9db-f881e16a73b6",
        "colab": {
          "base_uri": "https://localhost:8080/",
          "height": 117
        }
      },
      "outputs": [
        {
          "output_type": "execute_result",
          "data": {
            "text/plain": [
              "GridSearchCV(cv=10, estimator=DecisionTreeRegressor(),\n",
              "             param_grid={'max_depth': range(1, 11)})"
            ],
            "text/html": [
              "<style>#sk-container-id-1 {color: black;background-color: white;}#sk-container-id-1 pre{padding: 0;}#sk-container-id-1 div.sk-toggleable {background-color: white;}#sk-container-id-1 label.sk-toggleable__label {cursor: pointer;display: block;width: 100%;margin-bottom: 0;padding: 0.3em;box-sizing: border-box;text-align: center;}#sk-container-id-1 label.sk-toggleable__label-arrow:before {content: \"▸\";float: left;margin-right: 0.25em;color: #696969;}#sk-container-id-1 label.sk-toggleable__label-arrow:hover:before {color: black;}#sk-container-id-1 div.sk-estimator:hover label.sk-toggleable__label-arrow:before {color: black;}#sk-container-id-1 div.sk-toggleable__content {max-height: 0;max-width: 0;overflow: hidden;text-align: left;background-color: #f0f8ff;}#sk-container-id-1 div.sk-toggleable__content pre {margin: 0.2em;color: black;border-radius: 0.25em;background-color: #f0f8ff;}#sk-container-id-1 input.sk-toggleable__control:checked~div.sk-toggleable__content {max-height: 200px;max-width: 100%;overflow: auto;}#sk-container-id-1 input.sk-toggleable__control:checked~label.sk-toggleable__label-arrow:before {content: \"▾\";}#sk-container-id-1 div.sk-estimator input.sk-toggleable__control:checked~label.sk-toggleable__label {background-color: #d4ebff;}#sk-container-id-1 div.sk-label input.sk-toggleable__control:checked~label.sk-toggleable__label {background-color: #d4ebff;}#sk-container-id-1 input.sk-hidden--visually {border: 0;clip: rect(1px 1px 1px 1px);clip: rect(1px, 1px, 1px, 1px);height: 1px;margin: -1px;overflow: hidden;padding: 0;position: absolute;width: 1px;}#sk-container-id-1 div.sk-estimator {font-family: monospace;background-color: #f0f8ff;border: 1px dotted black;border-radius: 0.25em;box-sizing: border-box;margin-bottom: 0.5em;}#sk-container-id-1 div.sk-estimator:hover {background-color: #d4ebff;}#sk-container-id-1 div.sk-parallel-item::after {content: \"\";width: 100%;border-bottom: 1px solid gray;flex-grow: 1;}#sk-container-id-1 div.sk-label:hover label.sk-toggleable__label {background-color: #d4ebff;}#sk-container-id-1 div.sk-serial::before {content: \"\";position: absolute;border-left: 1px solid gray;box-sizing: border-box;top: 0;bottom: 0;left: 50%;z-index: 0;}#sk-container-id-1 div.sk-serial {display: flex;flex-direction: column;align-items: center;background-color: white;padding-right: 0.2em;padding-left: 0.2em;position: relative;}#sk-container-id-1 div.sk-item {position: relative;z-index: 1;}#sk-container-id-1 div.sk-parallel {display: flex;align-items: stretch;justify-content: center;background-color: white;position: relative;}#sk-container-id-1 div.sk-item::before, #sk-container-id-1 div.sk-parallel-item::before {content: \"\";position: absolute;border-left: 1px solid gray;box-sizing: border-box;top: 0;bottom: 0;left: 50%;z-index: -1;}#sk-container-id-1 div.sk-parallel-item {display: flex;flex-direction: column;z-index: 1;position: relative;background-color: white;}#sk-container-id-1 div.sk-parallel-item:first-child::after {align-self: flex-end;width: 50%;}#sk-container-id-1 div.sk-parallel-item:last-child::after {align-self: flex-start;width: 50%;}#sk-container-id-1 div.sk-parallel-item:only-child::after {width: 0;}#sk-container-id-1 div.sk-dashed-wrapped {border: 1px dashed gray;margin: 0 0.4em 0.5em 0.4em;box-sizing: border-box;padding-bottom: 0.4em;background-color: white;}#sk-container-id-1 div.sk-label label {font-family: monospace;font-weight: bold;display: inline-block;line-height: 1.2em;}#sk-container-id-1 div.sk-label-container {text-align: center;}#sk-container-id-1 div.sk-container {/* jupyter's `normalize.less` sets `[hidden] { display: none; }` but bootstrap.min.css set `[hidden] { display: none !important; }` so we also need the `!important` here to be able to override the default hidden behavior on the sphinx rendered scikit-learn.org. See: https://github.com/scikit-learn/scikit-learn/issues/21755 */display: inline-block !important;position: relative;}#sk-container-id-1 div.sk-text-repr-fallback {display: none;}</style><div id=\"sk-container-id-1\" class=\"sk-top-container\"><div class=\"sk-text-repr-fallback\"><pre>GridSearchCV(cv=10, estimator=DecisionTreeRegressor(),\n",
              "             param_grid={&#x27;max_depth&#x27;: range(1, 11)})</pre><b>In a Jupyter environment, please rerun this cell to show the HTML representation or trust the notebook. <br />On GitHub, the HTML representation is unable to render, please try loading this page with nbviewer.org.</b></div><div class=\"sk-container\" hidden><div class=\"sk-item sk-dashed-wrapped\"><div class=\"sk-label-container\"><div class=\"sk-label sk-toggleable\"><input class=\"sk-toggleable__control sk-hidden--visually\" id=\"sk-estimator-id-1\" type=\"checkbox\" ><label for=\"sk-estimator-id-1\" class=\"sk-toggleable__label sk-toggleable__label-arrow\">GridSearchCV</label><div class=\"sk-toggleable__content\"><pre>GridSearchCV(cv=10, estimator=DecisionTreeRegressor(),\n",
              "             param_grid={&#x27;max_depth&#x27;: range(1, 11)})</pre></div></div></div><div class=\"sk-parallel\"><div class=\"sk-parallel-item\"><div class=\"sk-item\"><div class=\"sk-label-container\"><div class=\"sk-label sk-toggleable\"><input class=\"sk-toggleable__control sk-hidden--visually\" id=\"sk-estimator-id-2\" type=\"checkbox\" ><label for=\"sk-estimator-id-2\" class=\"sk-toggleable__label sk-toggleable__label-arrow\">estimator: DecisionTreeRegressor</label><div class=\"sk-toggleable__content\"><pre>DecisionTreeRegressor()</pre></div></div></div><div class=\"sk-serial\"><div class=\"sk-item\"><div class=\"sk-estimator sk-toggleable\"><input class=\"sk-toggleable__control sk-hidden--visually\" id=\"sk-estimator-id-3\" type=\"checkbox\" ><label for=\"sk-estimator-id-3\" class=\"sk-toggleable__label sk-toggleable__label-arrow\">DecisionTreeRegressor</label><div class=\"sk-toggleable__content\"><pre>DecisionTreeRegressor()</pre></div></div></div></div></div></div></div></div></div></div>"
            ]
          },
          "metadata": {},
          "execution_count": 44
        }
      ],
      "source": [
        "clf.fit(X_train, y_train)"
      ]
    },
    {
      "cell_type": "markdown",
      "metadata": {
        "id": "YimxzxnDR_Yp"
      },
      "source": [
        "### Best params"
      ]
    },
    {
      "cell_type": "code",
      "execution_count": 45,
      "metadata": {
        "id": "TK5lH6TDR_Yq",
        "outputId": "08ab3ca8-43a1-4f4b-ea27-fb2e30010102",
        "colab": {
          "base_uri": "https://localhost:8080/"
        }
      },
      "outputs": [
        {
          "output_type": "stream",
          "name": "stdout",
          "text": [
            "{'max_depth': 4}\n",
            "DecisionTreeRegressor(max_depth=4)\n"
          ]
        }
      ],
      "source": [
        "print(clf.best_params_)\n",
        "print(clf.best_estimator_)"
      ]
    },
    {
      "cell_type": "markdown",
      "metadata": {
        "id": "udjvmo6aR_Yq"
      },
      "source": [
        "### Predict"
      ]
    },
    {
      "cell_type": "code",
      "execution_count": 46,
      "metadata": {
        "id": "DCPpve1UR_Yq"
      },
      "outputs": [],
      "source": [
        "train_pred = clf.predict(X_train)\n",
        "test_pred = clf.predict(X_test)"
      ]
    },
    {
      "cell_type": "markdown",
      "metadata": {
        "id": "1aK8WrrxR_Ys"
      },
      "source": [
        "### Evaluations"
      ]
    },
    {
      "cell_type": "code",
      "execution_count": 47,
      "metadata": {
        "id": "Com7YnS8R_Yu",
        "outputId": "38c0549c-011d-4ed1-dbd7-dfd47780ea45",
        "colab": {
          "base_uri": "https://localhost:8080/"
        }
      },
      "outputs": [
        {
          "output_type": "stream",
          "name": "stdout",
          "text": [
            "The Mean Absolute Error on train dataset: 31.514483067683333 \n",
            "\n",
            "The Mean Absolute Error on test dataset: 36.247333725950526 \n",
            "\n",
            "The Mean Squared Error on train dataset: 1918.9243955780705 \n",
            "\n",
            "The Mean Squared Error on test dataset: 2956.4093210816413 \n",
            "\n",
            "The Root Mean Squared Error on train dataset: 43.80552928088041 \n",
            "\n",
            "The Root Mean Squared Error on test dataset: 54.37287302581721 \n",
            "\n",
            "The Mean Absolute Percentage Error on train dataset: 18.759043177979123 \n",
            "\n",
            "The Mean Absolute Percentage Error on test dataset: 20.54128783158817 \n",
            "\n"
          ]
        }
      ],
      "source": [
        "\n",
        "print(\"The Mean Absolute Error on train dataset: {} \\n\".format(mean_absolute_error(y_pred=train_pred,y_true=y_train)))\n",
        "print(\"The Mean Absolute Error on test dataset: {} \\n\".format(mean_absolute_error(y_pred=test_pred,y_true=y_test)))\n",
        "\n",
        "print(\"The Mean Squared Error on train dataset: {} \\n\".format(mean_squared_error(y_pred=train_pred,y_true=y_train)))\n",
        "print(\"The Mean Squared Error on test dataset: {} \\n\".format(mean_squared_error(y_pred=test_pred,y_true=y_test)))\n",
        "\n",
        "print(\"The Root Mean Squared Error on train dataset: {} \\n\".format(math.sqrt(mean_squared_error(y_pred=train_pred,y_true=y_train))))\n",
        "print(\"The Root Mean Squared Error on test dataset: {} \\n\".format(math.sqrt(mean_squared_error(y_pred=test_pred,y_true=y_test))))\n",
        "\n",
        "def mean_absolute_percentage_error(y_true, y_pred):\n",
        "    y_true, y_pred = np.array(y_true), np.array(y_pred)\n",
        "    return np.mean(np.abs((y_true - y_pred) / y_true)) * 100\n",
        "\n",
        "print(\"The Mean Absolute Percentage Error on train dataset: {} \\n\".format(mean_absolute_percentage_error(y_pred=train_pred,y_true=y_train)))\n",
        "print(\"The Mean Absolute Percentage Error on test dataset: {} \\n\".format(mean_absolute_percentage_error(y_pred=test_pred,y_true=y_test)))"
      ]
    },
    {
      "cell_type": "markdown",
      "metadata": {
        "id": "Zl6AP_6jR_Yu"
      },
      "source": [
        "### Visualizing Decision Trees"
      ]
    },
    {
      "cell_type": "code",
      "execution_count": 52,
      "metadata": {
        "id": "FnFA3UXeR_Yu",
        "outputId": "53c5c4cf-6453-45df-d924-27bf3aac0193",
        "colab": {
          "base_uri": "https://localhost:8080/",
          "height": 36
        }
      },
      "outputs": [
        {
          "output_type": "execute_result",
          "data": {
            "text/plain": [
              "'/content/drive/My Drive/ML/DecisionTree/final/DTRegressor/RegressionTree.pdf'"
            ],
            "application/vnd.google.colaboratory.intrinsic+json": {
              "type": "string"
            }
          },
          "metadata": {},
          "execution_count": 52
        }
      ],
      "source": [
        "dot_data = export_graphviz(clf.best_estimator_, out_file=None,\n",
        "                                feature_names=data.drop(columns=['TotalRevenueGenerated']).columns,\n",
        "                                class_names='TotalRevenueGenerated', filled=True, rounded=True,\n",
        "                                special_characters=True)\n",
        "graph = graphviz.Source(dot_data)\n",
        "\n",
        "graph.render(\"/content/drive/My Drive/ML/DecisionTree/final/DTRegressor/RegressionTree\", view=True)"
      ]
    },
    {
      "cell_type": "code",
      "source": [],
      "metadata": {
        "id": "l1W3idJHVGj8"
      },
      "execution_count": null,
      "outputs": []
    }
  ],
  "metadata": {
    "anaconda-cloud": {},
    "kernelspec": {
      "display_name": "Python 3 (ipykernel)",
      "language": "python",
      "name": "python3"
    },
    "language_info": {
      "codemirror_mode": {
        "name": "ipython",
        "version": 3
      },
      "file_extension": ".py",
      "mimetype": "text/x-python",
      "name": "python",
      "nbconvert_exporter": "python",
      "pygments_lexer": "ipython3",
      "version": "3.9.7"
    },
    "toc": {
      "base_numbering": 1,
      "nav_menu": {},
      "number_sections": true,
      "sideBar": true,
      "skip_h1_title": false,
      "title_cell": "Table of Contents",
      "title_sidebar": "Contents",
      "toc_cell": true,
      "toc_position": {},
      "toc_section_display": true,
      "toc_window_display": false
    },
    "colab": {
      "provenance": [],
      "include_colab_link": true
    }
  },
  "nbformat": 4,
  "nbformat_minor": 0
}