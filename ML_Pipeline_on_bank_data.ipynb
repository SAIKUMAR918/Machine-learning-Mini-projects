{
 "cells": [
  {
   "cell_type": "markdown",
   "metadata": {
    "id": "DVVu01r9U307",
    "nbgrader": {
     "grade": false,
     "grade_id": "ml_01",
     "locked": true,
     "schema_version": 3,
     "solution": false,
     "task": false
    }
   },
   "source": [
    "## _Response Modeling of Bank Marketing Campaign_\n",
    "\n",
    "### _Business Scenario_\n",
    "\n",
    "There has been a revenue decline for the Portuguese bank and they would like to know what actions to take. After investigation, we found out that the root cause is that their clients are not depositing as frequently as before. Knowing that term deposits allow banks to hold onto a deposit for a specific amount of time, so banks can invest in higher gain financial products to make a profit. In addition, banks also hold better chance to persuade term deposit clients into buying other products such as funds or insurance to further increase their revenues. As a result, the Portuguese bank would like to identify existing clients that have higher chance to subscribe for a term deposit and focus marketing effort on such clients.\n",
    "\n",
    "\n",
    "* The task is to build a POC for the problem\n",
    "\n",
    "* The data is related with direct marketing campaigns of a Portuguese banking institution. \n",
    "\n",
    "* The marketing campaigns were based on phone calls. \n",
    "\n",
    "* Often, more than one contact to the same client was required, in order to access if the product (bank term deposit) would be ('yes') or not ('no') subscribed. \n",
    "\n",
    "\n",
    "\n",
    "## _Attributes Information_\n",
    "\n",
    "\n",
    "### _Bank client data:_\n",
    "1 - age (numeric)\n",
    "\n",
    "2 - job : type of job \n",
    "(categorical: 'admin.','blue-collar','entrepreneur','housemaid','management','retired','self-employed','services','student','technician','unemployed','unknown')\n",
    "\n",
    "3 - marital : marital status \n",
    "(categorical: 'divorced','married','single','unknown'; note: 'divorced' means divorced or widowed)\n",
    "\n",
    "4 - education (categorical:'basic.4y','basic.6y','basic.9y','high.school','illiterate','professional.course','university.degree','unknown')\n",
    "\n",
    "5 - default: has credit in default? (categorical: 'no','yes','unknown')\n",
    "\n",
    "6 - housing: has housing loan? (categorical: 'no','yes','unknown')\n",
    "\n",
    "7 - loan: has personal loan? (categorical: 'no','yes','unknown')\n",
    "\n",
    "### _Data Related to the last contact of the current campaign:_\n",
    "8 - contact: contact communication type (categorical: 'cellular','telephone') \n",
    "\n",
    "9 - month: last contact month of year \n",
    "(categorical: 'jan', 'feb', 'mar', ..., 'nov', 'dec')\n",
    "\n",
    "10 - day_of_week: last contact day of the week \n",
    "(categorical: 'mon','tue','wed','thu','fri')\n",
    "\n",
    "11 - duration: last contact duration, in seconds (numeric). \n",
    "Important note: this attribute highly affects the output target (e.g., if duration=0 then y='no'). Yet, the duration is not known before a call is performed. Also, after the end of the call y is obviously known. Thus, this input should only be included for benchmark purposes and should be discarded if the intention is to have a realistic predictive model.\n",
    "\n",
    "### _Other attributes:_\n",
    "\n",
    "12 - campaign: number of contacts performed during this campaign and for this client \n",
    "(numeric, includes last contact)\n",
    "\n",
    "13 - pdays: number of days that passed by after the client was last contacted from a previous campaign \n",
    "(numeric; 999 means client was not previously contacted)\n",
    "\n",
    "14 - previous: number of contacts performed before this campaign and for this client (numeric)\n",
    "\n",
    "15 - poutcome: outcome of the previous marketing campaign (categorical: 'failure','nonexistent','success')\n",
    "\n",
    "### _Social and economic context attributes_\n",
    "16 - emp.var.rate: employment variation rate - quarterly indicator (numeric)\n",
    "\n",
    "17 - cons.price.idx: consumer price index - monthly indicator (numeric) \n",
    "\n",
    "18 - cons.conf.idx: consumer confidence index - monthly indicator (numeric) \n",
    "\n",
    "19 - euribor3m: euribor 3 month rate - daily indicator (numeric)\n",
    "\n",
    "20 - nr.employed: number of employees - quarterly indicator (numeric)\n",
    "\n",
    "Output variable (desired target):\n",
    "21 - y - has the client subscribed a term deposit? (binary: 'yes','no')"
   ]
  },
  {
   "cell_type": "markdown",
   "metadata": {
    "id": "YqNahiCnpJz1"
   },
   "source": [
    "### Handle Warnings"
   ]
  },
  {
   "cell_type": "code",
   "execution_count": 1,
   "metadata": {
    "id": "aAdlVJNZRgB2"
   },
   "outputs": [],
   "source": [
    "import warnings\n",
    "warnings.filterwarnings('ignore')"
   ]
  },
  {
   "cell_type": "markdown",
   "metadata": {
    "id": "q-JS5zc8U309",
    "nbgrader": {
     "grade": false,
     "grade_id": "ml_02",
     "locked": true,
     "schema_version": 3,
     "solution": false,
     "task": false
    }
   },
   "source": [
    "## _Exploratory Analysis_\n",
    "\n",
    "### _Import Libraries_"
   ]
  },
  {
   "cell_type": "code",
   "execution_count": 2,
   "metadata": {
    "id": "X893516dU30-",
    "nbgrader": {
     "grade": false,
     "grade_id": "ml_04",
     "locked": true,
     "schema_version": 3,
     "solution": false,
     "task": false
    }
   },
   "outputs": [
    {
     "name": "stdout",
     "output_type": "stream",
     "text": [
      "Requirement already satisfied: seaborn in c:\\users\\gsk44\\anaconda3\\lib\\site-packages (0.11.2)\n",
      "Requirement already satisfied: pandas>=0.23 in c:\\users\\gsk44\\anaconda3\\lib\\site-packages (from seaborn) (1.4.2)\n",
      "Requirement already satisfied: scipy>=1.0 in c:\\users\\gsk44\\anaconda3\\lib\\site-packages (from seaborn) (1.9.3)\n",
      "Requirement already satisfied: numpy>=1.15 in c:\\users\\gsk44\\anaconda3\\lib\\site-packages (from seaborn) (1.21.5)\n",
      "Requirement already satisfied: matplotlib>=2.2 in c:\\users\\gsk44\\anaconda3\\lib\\site-packages (from seaborn) (3.7.1)\n",
      "Requirement already satisfied: python-dateutil>=2.7 in c:\\users\\gsk44\\anaconda3\\lib\\site-packages (from matplotlib>=2.2->seaborn) (2.8.2)\n",
      "Requirement already satisfied: pyparsing>=2.3.1 in c:\\users\\gsk44\\anaconda3\\lib\\site-packages (from matplotlib>=2.2->seaborn) (3.0.4)\n",
      "Requirement already satisfied: kiwisolver>=1.0.1 in c:\\users\\gsk44\\anaconda3\\lib\\site-packages (from matplotlib>=2.2->seaborn) (1.3.2)\n",
      "Requirement already satisfied: packaging>=20.0 in c:\\users\\gsk44\\anaconda3\\lib\\site-packages (from matplotlib>=2.2->seaborn) (21.3)\n",
      "Requirement already satisfied: fonttools>=4.22.0 in c:\\users\\gsk44\\anaconda3\\lib\\site-packages (from matplotlib>=2.2->seaborn) (4.25.0)\n",
      "Requirement already satisfied: cycler>=0.10 in c:\\users\\gsk44\\anaconda3\\lib\\site-packages (from matplotlib>=2.2->seaborn) (0.11.0)\n",
      "Requirement already satisfied: contourpy>=1.0.1 in c:\\users\\gsk44\\anaconda3\\lib\\site-packages (from matplotlib>=2.2->seaborn) (1.0.7)\n",
      "Requirement already satisfied: importlib-resources>=3.2.0 in c:\\users\\gsk44\\anaconda3\\lib\\site-packages (from matplotlib>=2.2->seaborn) (5.2.0)\n",
      "Requirement already satisfied: pillow>=6.2.0 in c:\\users\\gsk44\\anaconda3\\lib\\site-packages (from matplotlib>=2.2->seaborn) (9.0.1)\n",
      "Requirement already satisfied: zipp>=3.1.0 in c:\\users\\gsk44\\anaconda3\\lib\\site-packages (from importlib-resources>=3.2.0->matplotlib>=2.2->seaborn) (3.7.0)\n",
      "Requirement already satisfied: pytz>=2020.1 in c:\\users\\gsk44\\anaconda3\\lib\\site-packages (from pandas>=0.23->seaborn) (2022.7.1)\n",
      "Requirement already satisfied: six>=1.5 in c:\\users\\gsk44\\anaconda3\\lib\\site-packages (from python-dateutil>=2.7->matplotlib>=2.2->seaborn) (1.16.0)\n",
      "Requirement already satisfied: imblearn in c:\\users\\gsk44\\anaconda3\\lib\\site-packages (0.0)\n",
      "Requirement already satisfied: imbalanced-learn in c:\\users\\gsk44\\anaconda3\\lib\\site-packages (from imblearn) (0.10.1)\n",
      "Requirement already satisfied: numpy>=1.17.3 in c:\\users\\gsk44\\anaconda3\\lib\\site-packages (from imbalanced-learn->imblearn) (1.21.5)\n",
      "Requirement already satisfied: scipy>=1.3.2 in c:\\users\\gsk44\\anaconda3\\lib\\site-packages (from imbalanced-learn->imblearn) (1.9.3)\n",
      "Requirement already satisfied: joblib>=1.1.1 in c:\\users\\gsk44\\anaconda3\\lib\\site-packages (from imbalanced-learn->imblearn) (1.2.0)\n",
      "Requirement already satisfied: scikit-learn>=1.0.2 in c:\\users\\gsk44\\anaconda3\\lib\\site-packages (from imbalanced-learn->imblearn) (1.0.2)\n",
      "Requirement already satisfied: threadpoolctl>=2.0.0 in c:\\users\\gsk44\\anaconda3\\lib\\site-packages (from imbalanced-learn->imblearn) (2.2.0)\n"
     ]
    }
   ],
   "source": [
    "!pip install seaborn\n",
    "!pip install imblearn"
   ]
  },
  {
   "cell_type": "code",
   "execution_count": 3,
   "metadata": {
    "id": "CZlgJXa5U30-",
    "nbgrader": {
     "grade": false,
     "grade_id": "ml_05",
     "locked": true,
     "schema_version": 3,
     "solution": false,
     "task": false
    }
   },
   "outputs": [],
   "source": [
    "import warnings\n",
    "warnings.filterwarnings('ignore')"
   ]
  },
  {
   "cell_type": "code",
   "execution_count": 4,
   "metadata": {
    "id": "DbEstFeiU30-",
    "nbgrader": {
     "grade": false,
     "grade_id": "ml_06",
     "locked": true,
     "schema_version": 3,
     "solution": false,
     "task": false
    }
   },
   "outputs": [],
   "source": [
    "import os\n",
    "import numpy as np\n",
    "import pandas as pd\n",
    "\n",
    "from sklearn import preprocessing\n",
    "from sklearn.impute import SimpleImputer\n",
    "\n",
    "from sklearn.compose import ColumnTransformer\n",
    "\n",
    "from sklearn.preprocessing import StandardScaler\n",
    "from sklearn.preprocessing import OneHotEncoder\n",
    "from sklearn.model_selection import train_test_split\n",
    "from sklearn.pipeline import Pipeline\n",
    "from sklearn.model_selection import GridSearchCV, cross_val_score, StratifiedKFold\n",
    "\n",
    "from sklearn.tree import DecisionTreeClassifier\n",
    "from sklearn.ensemble import RandomForestClassifier\n",
    "from sklearn.svm import SVC\n",
    "from sklearn.linear_model import LogisticRegression\n",
    "\n",
    "from sklearn.ensemble import GradientBoostingClassifier\n",
    "from sklearn.ensemble import AdaBoostClassifier\n",
    "from sklearn.metrics import confusion_matrix\n",
    "from sklearn.metrics import classification_report\n",
    "\n",
    "import matplotlib.pyplot as plt\n",
    "import seaborn as sns\n",
    "\n",
    "from imblearn.over_sampling import SMOTE\n",
    "from sklearn.metrics import accuracy_score, recall_score, precision_score\n"
   ]
  },
  {
   "cell_type": "code",
   "execution_count": 5,
   "metadata": {
    "id": "UQF6XejuU30_",
    "nbgrader": {
     "grade": false,
     "grade_id": "ml_07",
     "locked": true,
     "schema_version": 3,
     "solution": false,
     "task": false
    }
   },
   "outputs": [],
   "source": [
    "# Define custom function to print accuracy, precision and recall\n",
    "\n",
    "def convert_for_sklearn(label_list):\n",
    "    return [1 if i == 'yes' else 0 for i in label_list]\n",
    "\n",
    "\n",
    "def accuracy_precision_recall_metrics(y_true, y_pred):\n",
    "    \n",
    "    y_test_scoring = convert_for_sklearn(y_true)\n",
    "    test_pred_scoring = convert_for_sklearn(y_pred)\n",
    "\n",
    "    acc = accuracy_score(y_true= y_test_scoring, y_pred = test_pred_scoring)\n",
    "    prec = precision_score(y_true= y_test_scoring, y_pred = test_pred_scoring)\n",
    "    rec = recall_score(y_true= y_test_scoring, y_pred = test_pred_scoring)\n",
    "    \n",
    "    print(\"Test Precision: \",prec)\n",
    "    print(\"Test Recall: \",rec)\n",
    "    print(\"Test Accuracy: \",acc)"
   ]
  },
  {
   "cell_type": "markdown",
   "metadata": {
    "id": "ldrbOX00U30_",
    "nbgrader": {
     "grade": false,
     "grade_id": "ml_08",
     "locked": true,
     "schema_version": 3,
     "solution": false,
     "task": false
    }
   },
   "source": [
    "### _Read in the data_"
   ]
  },
  {
   "cell_type": "code",
   "execution_count": 6,
   "metadata": {
    "id": "uAbFsGNCU30_",
    "nbgrader": {
     "grade": false,
     "grade_id": "ml_09",
     "locked": true,
     "schema_version": 3,
     "solution": false,
     "task": false
    },
    "outputId": "8d21f1d1-79f8-4138-dd0c-5a35db6cf87e"
   },
   "outputs": [
    {
     "name": "stdout",
     "output_type": "stream",
     "text": [
      "(41188, 22)\n",
      "(4119, 22)\n"
     ]
    },
    {
     "data": {
      "text/html": [
       "<div>\n",
       "<style scoped>\n",
       "    .dataframe tbody tr th:only-of-type {\n",
       "        vertical-align: middle;\n",
       "    }\n",
       "\n",
       "    .dataframe tbody tr th {\n",
       "        vertical-align: top;\n",
       "    }\n",
       "\n",
       "    .dataframe thead th {\n",
       "        text-align: right;\n",
       "    }\n",
       "</style>\n",
       "<table border=\"1\" class=\"dataframe\">\n",
       "  <thead>\n",
       "    <tr style=\"text-align: right;\">\n",
       "      <th></th>\n",
       "      <th>customer_no</th>\n",
       "      <th>age</th>\n",
       "      <th>job</th>\n",
       "      <th>marital</th>\n",
       "      <th>education</th>\n",
       "      <th>credit_default</th>\n",
       "      <th>housing</th>\n",
       "      <th>loan</th>\n",
       "      <th>contact</th>\n",
       "      <th>contacted_month</th>\n",
       "      <th>...</th>\n",
       "      <th>campaign</th>\n",
       "      <th>pdays</th>\n",
       "      <th>previous</th>\n",
       "      <th>poutcome</th>\n",
       "      <th>emp_var_rate</th>\n",
       "      <th>cons_price_idx</th>\n",
       "      <th>cons_conf_idx</th>\n",
       "      <th>euribor3m</th>\n",
       "      <th>nr_employed</th>\n",
       "      <th>y</th>\n",
       "    </tr>\n",
       "  </thead>\n",
       "  <tbody>\n",
       "    <tr>\n",
       "      <th>0</th>\n",
       "      <td>1</td>\n",
       "      <td>56</td>\n",
       "      <td>housemaid</td>\n",
       "      <td>married</td>\n",
       "      <td>basic.4y</td>\n",
       "      <td>no</td>\n",
       "      <td>no</td>\n",
       "      <td>no</td>\n",
       "      <td>telephone</td>\n",
       "      <td>may</td>\n",
       "      <td>...</td>\n",
       "      <td>1</td>\n",
       "      <td>999</td>\n",
       "      <td>0</td>\n",
       "      <td>nonexistent</td>\n",
       "      <td>1.1</td>\n",
       "      <td>93.994</td>\n",
       "      <td>-36.4</td>\n",
       "      <td>4.857</td>\n",
       "      <td>5191.0</td>\n",
       "      <td>no</td>\n",
       "    </tr>\n",
       "    <tr>\n",
       "      <th>1</th>\n",
       "      <td>2</td>\n",
       "      <td>57</td>\n",
       "      <td>services</td>\n",
       "      <td>married</td>\n",
       "      <td>high.school</td>\n",
       "      <td>NaN</td>\n",
       "      <td>no</td>\n",
       "      <td>no</td>\n",
       "      <td>telephone</td>\n",
       "      <td>may</td>\n",
       "      <td>...</td>\n",
       "      <td>1</td>\n",
       "      <td>999</td>\n",
       "      <td>0</td>\n",
       "      <td>nonexistent</td>\n",
       "      <td>1.1</td>\n",
       "      <td>93.994</td>\n",
       "      <td>-36.4</td>\n",
       "      <td>4.857</td>\n",
       "      <td>5191.0</td>\n",
       "      <td>no</td>\n",
       "    </tr>\n",
       "    <tr>\n",
       "      <th>2</th>\n",
       "      <td>3</td>\n",
       "      <td>37</td>\n",
       "      <td>services</td>\n",
       "      <td>married</td>\n",
       "      <td>high.school</td>\n",
       "      <td>no</td>\n",
       "      <td>yes</td>\n",
       "      <td>no</td>\n",
       "      <td>telephone</td>\n",
       "      <td>may</td>\n",
       "      <td>...</td>\n",
       "      <td>1</td>\n",
       "      <td>999</td>\n",
       "      <td>0</td>\n",
       "      <td>nonexistent</td>\n",
       "      <td>1.1</td>\n",
       "      <td>93.994</td>\n",
       "      <td>-36.4</td>\n",
       "      <td>4.857</td>\n",
       "      <td>5191.0</td>\n",
       "      <td>no</td>\n",
       "    </tr>\n",
       "    <tr>\n",
       "      <th>3</th>\n",
       "      <td>4</td>\n",
       "      <td>40</td>\n",
       "      <td>admin.</td>\n",
       "      <td>married</td>\n",
       "      <td>basic.6y</td>\n",
       "      <td>no</td>\n",
       "      <td>no</td>\n",
       "      <td>no</td>\n",
       "      <td>telephone</td>\n",
       "      <td>may</td>\n",
       "      <td>...</td>\n",
       "      <td>1</td>\n",
       "      <td>999</td>\n",
       "      <td>0</td>\n",
       "      <td>nonexistent</td>\n",
       "      <td>1.1</td>\n",
       "      <td>93.994</td>\n",
       "      <td>-36.4</td>\n",
       "      <td>4.857</td>\n",
       "      <td>5191.0</td>\n",
       "      <td>no</td>\n",
       "    </tr>\n",
       "    <tr>\n",
       "      <th>4</th>\n",
       "      <td>5</td>\n",
       "      <td>56</td>\n",
       "      <td>services</td>\n",
       "      <td>married</td>\n",
       "      <td>high.school</td>\n",
       "      <td>no</td>\n",
       "      <td>no</td>\n",
       "      <td>yes</td>\n",
       "      <td>telephone</td>\n",
       "      <td>may</td>\n",
       "      <td>...</td>\n",
       "      <td>1</td>\n",
       "      <td>999</td>\n",
       "      <td>0</td>\n",
       "      <td>nonexistent</td>\n",
       "      <td>1.1</td>\n",
       "      <td>93.994</td>\n",
       "      <td>-36.4</td>\n",
       "      <td>4.857</td>\n",
       "      <td>5191.0</td>\n",
       "      <td>no</td>\n",
       "    </tr>\n",
       "  </tbody>\n",
       "</table>\n",
       "<p>5 rows × 22 columns</p>\n",
       "</div>"
      ],
      "text/plain": [
       "   customer_no  age        job  marital    education credit_default housing  \\\n",
       "0            1   56  housemaid  married     basic.4y             no      no   \n",
       "1            2   57   services  married  high.school            NaN      no   \n",
       "2            3   37   services  married  high.school             no     yes   \n",
       "3            4   40     admin.  married     basic.6y             no      no   \n",
       "4            5   56   services  married  high.school             no      no   \n",
       "\n",
       "  loan    contact contacted_month  ... campaign  pdays  previous     poutcome  \\\n",
       "0   no  telephone             may  ...        1    999         0  nonexistent   \n",
       "1   no  telephone             may  ...        1    999         0  nonexistent   \n",
       "2   no  telephone             may  ...        1    999         0  nonexistent   \n",
       "3   no  telephone             may  ...        1    999         0  nonexistent   \n",
       "4  yes  telephone             may  ...        1    999         0  nonexistent   \n",
       "\n",
       "   emp_var_rate cons_price_idx  cons_conf_idx  euribor3m  nr_employed   y  \n",
       "0           1.1         93.994          -36.4      4.857       5191.0  no  \n",
       "1           1.1         93.994          -36.4      4.857       5191.0  no  \n",
       "2           1.1         93.994          -36.4      4.857       5191.0  no  \n",
       "3           1.1         93.994          -36.4      4.857       5191.0  no  \n",
       "4           1.1         93.994          -36.4      4.857       5191.0  no  \n",
       "\n",
       "[5 rows x 22 columns]"
      ]
     },
     "execution_count": 6,
     "metadata": {},
     "output_type": "execute_result"
    }
   ],
   "source": [
    "bank_data = pd.read_csv(\"C:/Users/gsk44/OneDrive/Desktop/Pipeline/Bank_Train_Cases.csv\", na_values='unknown')\n",
    "test_data =  pd.read_csv(\"C:/Users/gsk44/OneDrive/Desktop/Pipeline/Bank_Test_Cases.csv\", na_values='unknown')\n",
    "\n",
    "print(bank_data.shape)\n",
    "print(test_data.shape)\n",
    "\n",
    "bank_data.head()"
   ]
  },
  {
   "cell_type": "markdown",
   "metadata": {
    "id": "Vw4oDipkU30_",
    "nbgrader": {
     "grade": false,
     "grade_id": "ml_10",
     "locked": true,
     "schema_version": 3,
     "solution": false,
     "task": false
    }
   },
   "source": [
    "### _Understand the dataset_"
   ]
  },
  {
   "cell_type": "code",
   "execution_count": 7,
   "metadata": {
    "id": "1X4ksgqyU30_",
    "nbgrader": {
     "grade": false,
     "grade_id": "ml_11",
     "locked": true,
     "schema_version": 3,
     "solution": false,
     "task": false
    },
    "outputId": "e8c8d91d-7ef3-4950-bbfd-9b5f1c330469"
   },
   "outputs": [
    {
     "data": {
      "text/plain": [
       "customer_no          int64\n",
       "age                  int64\n",
       "job                 object\n",
       "marital             object\n",
       "education           object\n",
       "credit_default      object\n",
       "housing             object\n",
       "loan                object\n",
       "contact             object\n",
       "contacted_month     object\n",
       "day_of_week         object\n",
       "duration             int64\n",
       "campaign             int64\n",
       "pdays                int64\n",
       "previous             int64\n",
       "poutcome            object\n",
       "emp_var_rate       float64\n",
       "cons_price_idx     float64\n",
       "cons_conf_idx      float64\n",
       "euribor3m          float64\n",
       "nr_employed        float64\n",
       "y                   object\n",
       "dtype: object"
      ]
     },
     "execution_count": 7,
     "metadata": {},
     "output_type": "execute_result"
    }
   ],
   "source": [
    "# What are the data types?\n",
    "bank_data.dtypes"
   ]
  },
  {
   "cell_type": "code",
   "execution_count": 8,
   "metadata": {
    "id": "SHz9-xwiU31A",
    "nbgrader": {
     "grade": false,
     "grade_id": "ml_12",
     "locked": true,
     "schema_version": 3,
     "solution": false,
     "task": false
    },
    "outputId": "ddce1769-c6e0-4914-f5d6-ef7652e0caa7"
   },
   "outputs": [
    {
     "data": {
      "text/html": [
       "<div>\n",
       "<style scoped>\n",
       "    .dataframe tbody tr th:only-of-type {\n",
       "        vertical-align: middle;\n",
       "    }\n",
       "\n",
       "    .dataframe tbody tr th {\n",
       "        vertical-align: top;\n",
       "    }\n",
       "\n",
       "    .dataframe thead th {\n",
       "        text-align: right;\n",
       "    }\n",
       "</style>\n",
       "<table border=\"1\" class=\"dataframe\">\n",
       "  <thead>\n",
       "    <tr style=\"text-align: right;\">\n",
       "      <th></th>\n",
       "      <th>customer_no</th>\n",
       "      <th>age</th>\n",
       "      <th>duration</th>\n",
       "      <th>campaign</th>\n",
       "      <th>pdays</th>\n",
       "      <th>previous</th>\n",
       "      <th>emp_var_rate</th>\n",
       "      <th>cons_price_idx</th>\n",
       "      <th>cons_conf_idx</th>\n",
       "      <th>euribor3m</th>\n",
       "      <th>nr_employed</th>\n",
       "    </tr>\n",
       "  </thead>\n",
       "  <tbody>\n",
       "    <tr>\n",
       "      <th>count</th>\n",
       "      <td>41188.00000</td>\n",
       "      <td>41188.00000</td>\n",
       "      <td>41188.000000</td>\n",
       "      <td>41188.000000</td>\n",
       "      <td>41188.000000</td>\n",
       "      <td>41188.000000</td>\n",
       "      <td>41188.000000</td>\n",
       "      <td>41188.000000</td>\n",
       "      <td>41188.000000</td>\n",
       "      <td>41188.000000</td>\n",
       "      <td>41188.000000</td>\n",
       "    </tr>\n",
       "    <tr>\n",
       "      <th>mean</th>\n",
       "      <td>20594.50000</td>\n",
       "      <td>40.02406</td>\n",
       "      <td>258.285010</td>\n",
       "      <td>2.567593</td>\n",
       "      <td>962.475454</td>\n",
       "      <td>0.172963</td>\n",
       "      <td>0.081886</td>\n",
       "      <td>93.575664</td>\n",
       "      <td>-40.502600</td>\n",
       "      <td>3.621291</td>\n",
       "      <td>5167.035911</td>\n",
       "    </tr>\n",
       "    <tr>\n",
       "      <th>std</th>\n",
       "      <td>11890.09578</td>\n",
       "      <td>10.42125</td>\n",
       "      <td>259.279249</td>\n",
       "      <td>2.770014</td>\n",
       "      <td>186.910907</td>\n",
       "      <td>0.494901</td>\n",
       "      <td>1.570960</td>\n",
       "      <td>0.578840</td>\n",
       "      <td>4.628198</td>\n",
       "      <td>1.734447</td>\n",
       "      <td>72.251528</td>\n",
       "    </tr>\n",
       "    <tr>\n",
       "      <th>min</th>\n",
       "      <td>1.00000</td>\n",
       "      <td>17.00000</td>\n",
       "      <td>0.000000</td>\n",
       "      <td>1.000000</td>\n",
       "      <td>0.000000</td>\n",
       "      <td>0.000000</td>\n",
       "      <td>-3.400000</td>\n",
       "      <td>92.201000</td>\n",
       "      <td>-50.800000</td>\n",
       "      <td>0.634000</td>\n",
       "      <td>4963.600000</td>\n",
       "    </tr>\n",
       "    <tr>\n",
       "      <th>25%</th>\n",
       "      <td>10297.75000</td>\n",
       "      <td>32.00000</td>\n",
       "      <td>102.000000</td>\n",
       "      <td>1.000000</td>\n",
       "      <td>999.000000</td>\n",
       "      <td>0.000000</td>\n",
       "      <td>-1.800000</td>\n",
       "      <td>93.075000</td>\n",
       "      <td>-42.700000</td>\n",
       "      <td>1.344000</td>\n",
       "      <td>5099.100000</td>\n",
       "    </tr>\n",
       "    <tr>\n",
       "      <th>50%</th>\n",
       "      <td>20594.50000</td>\n",
       "      <td>38.00000</td>\n",
       "      <td>180.000000</td>\n",
       "      <td>2.000000</td>\n",
       "      <td>999.000000</td>\n",
       "      <td>0.000000</td>\n",
       "      <td>1.100000</td>\n",
       "      <td>93.749000</td>\n",
       "      <td>-41.800000</td>\n",
       "      <td>4.857000</td>\n",
       "      <td>5191.000000</td>\n",
       "    </tr>\n",
       "    <tr>\n",
       "      <th>75%</th>\n",
       "      <td>30891.25000</td>\n",
       "      <td>47.00000</td>\n",
       "      <td>319.000000</td>\n",
       "      <td>3.000000</td>\n",
       "      <td>999.000000</td>\n",
       "      <td>0.000000</td>\n",
       "      <td>1.400000</td>\n",
       "      <td>93.994000</td>\n",
       "      <td>-36.400000</td>\n",
       "      <td>4.961000</td>\n",
       "      <td>5228.100000</td>\n",
       "    </tr>\n",
       "    <tr>\n",
       "      <th>max</th>\n",
       "      <td>41188.00000</td>\n",
       "      <td>98.00000</td>\n",
       "      <td>4918.000000</td>\n",
       "      <td>56.000000</td>\n",
       "      <td>999.000000</td>\n",
       "      <td>7.000000</td>\n",
       "      <td>1.400000</td>\n",
       "      <td>94.767000</td>\n",
       "      <td>-26.900000</td>\n",
       "      <td>5.045000</td>\n",
       "      <td>5228.100000</td>\n",
       "    </tr>\n",
       "  </tbody>\n",
       "</table>\n",
       "</div>"
      ],
      "text/plain": [
       "       customer_no          age      duration      campaign         pdays  \\\n",
       "count  41188.00000  41188.00000  41188.000000  41188.000000  41188.000000   \n",
       "mean   20594.50000     40.02406    258.285010      2.567593    962.475454   \n",
       "std    11890.09578     10.42125    259.279249      2.770014    186.910907   \n",
       "min        1.00000     17.00000      0.000000      1.000000      0.000000   \n",
       "25%    10297.75000     32.00000    102.000000      1.000000    999.000000   \n",
       "50%    20594.50000     38.00000    180.000000      2.000000    999.000000   \n",
       "75%    30891.25000     47.00000    319.000000      3.000000    999.000000   \n",
       "max    41188.00000     98.00000   4918.000000     56.000000    999.000000   \n",
       "\n",
       "           previous  emp_var_rate  cons_price_idx  cons_conf_idx  \\\n",
       "count  41188.000000  41188.000000    41188.000000   41188.000000   \n",
       "mean       0.172963      0.081886       93.575664     -40.502600   \n",
       "std        0.494901      1.570960        0.578840       4.628198   \n",
       "min        0.000000     -3.400000       92.201000     -50.800000   \n",
       "25%        0.000000     -1.800000       93.075000     -42.700000   \n",
       "50%        0.000000      1.100000       93.749000     -41.800000   \n",
       "75%        0.000000      1.400000       93.994000     -36.400000   \n",
       "max        7.000000      1.400000       94.767000     -26.900000   \n",
       "\n",
       "          euribor3m   nr_employed  \n",
       "count  41188.000000  41188.000000  \n",
       "mean       3.621291   5167.035911  \n",
       "std        1.734447     72.251528  \n",
       "min        0.634000   4963.600000  \n",
       "25%        1.344000   5099.100000  \n",
       "50%        4.857000   5191.000000  \n",
       "75%        4.961000   5228.100000  \n",
       "max        5.045000   5228.100000  "
      ]
     },
     "execution_count": 8,
     "metadata": {},
     "output_type": "execute_result"
    }
   ],
   "source": [
    "# What is the distribution of numerical columns?\n",
    "bank_data.describe()"
   ]
  },
  {
   "cell_type": "code",
   "execution_count": 9,
   "metadata": {
    "id": "4X1tWrQtU31A",
    "nbgrader": {
     "grade": false,
     "grade_id": "ml_13",
     "locked": true,
     "schema_version": 3,
     "solution": false,
     "task": false
    },
    "outputId": "414372bc-1cbd-4476-9db7-60d75508b669"
   },
   "outputs": [
    {
     "data": {
      "text/html": [
       "<div>\n",
       "<style scoped>\n",
       "    .dataframe tbody tr th:only-of-type {\n",
       "        vertical-align: middle;\n",
       "    }\n",
       "\n",
       "    .dataframe tbody tr th {\n",
       "        vertical-align: top;\n",
       "    }\n",
       "\n",
       "    .dataframe thead th {\n",
       "        text-align: right;\n",
       "    }\n",
       "</style>\n",
       "<table border=\"1\" class=\"dataframe\">\n",
       "  <thead>\n",
       "    <tr style=\"text-align: right;\">\n",
       "      <th></th>\n",
       "      <th>job</th>\n",
       "      <th>marital</th>\n",
       "      <th>education</th>\n",
       "      <th>credit_default</th>\n",
       "      <th>housing</th>\n",
       "      <th>loan</th>\n",
       "      <th>contact</th>\n",
       "      <th>contacted_month</th>\n",
       "      <th>day_of_week</th>\n",
       "      <th>poutcome</th>\n",
       "      <th>y</th>\n",
       "    </tr>\n",
       "  </thead>\n",
       "  <tbody>\n",
       "    <tr>\n",
       "      <th>count</th>\n",
       "      <td>40858</td>\n",
       "      <td>41108</td>\n",
       "      <td>39457</td>\n",
       "      <td>32591</td>\n",
       "      <td>40198</td>\n",
       "      <td>40198</td>\n",
       "      <td>41188</td>\n",
       "      <td>41188</td>\n",
       "      <td>41188</td>\n",
       "      <td>41188</td>\n",
       "      <td>41188</td>\n",
       "    </tr>\n",
       "    <tr>\n",
       "      <th>unique</th>\n",
       "      <td>11</td>\n",
       "      <td>3</td>\n",
       "      <td>7</td>\n",
       "      <td>2</td>\n",
       "      <td>2</td>\n",
       "      <td>2</td>\n",
       "      <td>2</td>\n",
       "      <td>10</td>\n",
       "      <td>5</td>\n",
       "      <td>3</td>\n",
       "      <td>2</td>\n",
       "    </tr>\n",
       "    <tr>\n",
       "      <th>top</th>\n",
       "      <td>admin.</td>\n",
       "      <td>married</td>\n",
       "      <td>university.degree</td>\n",
       "      <td>no</td>\n",
       "      <td>yes</td>\n",
       "      <td>no</td>\n",
       "      <td>cellular</td>\n",
       "      <td>may</td>\n",
       "      <td>thu</td>\n",
       "      <td>nonexistent</td>\n",
       "      <td>no</td>\n",
       "    </tr>\n",
       "    <tr>\n",
       "      <th>freq</th>\n",
       "      <td>10422</td>\n",
       "      <td>24928</td>\n",
       "      <td>12168</td>\n",
       "      <td>32588</td>\n",
       "      <td>21576</td>\n",
       "      <td>33950</td>\n",
       "      <td>26144</td>\n",
       "      <td>13769</td>\n",
       "      <td>8623</td>\n",
       "      <td>35563</td>\n",
       "      <td>36548</td>\n",
       "    </tr>\n",
       "  </tbody>\n",
       "</table>\n",
       "</div>"
      ],
      "text/plain": [
       "           job  marital          education credit_default housing   loan  \\\n",
       "count    40858    41108              39457          32591   40198  40198   \n",
       "unique      11        3                  7              2       2      2   \n",
       "top     admin.  married  university.degree             no     yes     no   \n",
       "freq     10422    24928              12168          32588   21576  33950   \n",
       "\n",
       "         contact contacted_month day_of_week     poutcome      y  \n",
       "count      41188           41188       41188        41188  41188  \n",
       "unique         2              10           5            3      2  \n",
       "top     cellular             may         thu  nonexistent     no  \n",
       "freq       26144           13769        8623        35563  36548  "
      ]
     },
     "execution_count": 9,
     "metadata": {},
     "output_type": "execute_result"
    }
   ],
   "source": [
    "# What about categorical variable levels count?\n",
    "bank_data.describe(include=['object'])"
   ]
  },
  {
   "cell_type": "code",
   "execution_count": 10,
   "metadata": {
    "id": "_Tuv1OxIU31A",
    "nbgrader": {
     "grade": false,
     "grade_id": "ml_14",
     "locked": true,
     "schema_version": 3,
     "solution": false,
     "task": false
    },
    "outputId": "d90ca608-5459-4b5a-b14b-dd6ed1838a34"
   },
   "outputs": [
    {
     "data": {
      "text/plain": [
       "married     24928\n",
       "single      11568\n",
       "divorced     4612\n",
       "Name: marital, dtype: int64"
      ]
     },
     "execution_count": 10,
     "metadata": {},
     "output_type": "execute_result"
    }
   ],
   "source": [
    "bank_data.marital.value_counts()"
   ]
  },
  {
   "cell_type": "markdown",
   "metadata": {
    "id": "YU4RDwzVU31A",
    "nbgrader": {
     "grade": false,
     "grade_id": "ml_15",
     "locked": true,
     "schema_version": 3,
     "solution": false,
     "task": false
    }
   },
   "source": [
    "### _Distribution of dependent variable_"
   ]
  },
  {
   "cell_type": "code",
   "execution_count": 11,
   "metadata": {
    "id": "iWWJ2-LTU31A",
    "nbgrader": {
     "grade": false,
     "grade_id": "ml_16",
     "locked": true,
     "schema_version": 3,
     "solution": false,
     "task": false
    },
    "outputId": "ff9ed734-2519-466a-98db-27695df5092a"
   },
   "outputs": [
    {
     "data": {
      "text/plain": [
       "no     36548\n",
       "yes     4640\n",
       "Name: y, dtype: int64"
      ]
     },
     "execution_count": 11,
     "metadata": {},
     "output_type": "execute_result"
    }
   ],
   "source": [
    "bank_data.y.value_counts()"
   ]
  },
  {
   "cell_type": "code",
   "execution_count": 12,
   "metadata": {
    "id": "N5BCHMweU31A",
    "nbgrader": {
     "grade": false,
     "grade_id": "ml_17",
     "locked": true,
     "schema_version": 3,
     "solution": false,
     "task": false
    },
    "outputId": "33cf7ee0-c6c3-4f8e-deeb-175d60fd255b"
   },
   "outputs": [
    {
     "data": {
      "text/plain": [
       "no     88.734583\n",
       "yes    11.265417\n",
       "Name: y, dtype: float64"
      ]
     },
     "execution_count": 12,
     "metadata": {},
     "output_type": "execute_result"
    }
   ],
   "source": [
    "# Check the distribution of target values\n",
    "bank_data.y.value_counts(normalize=True)*100"
   ]
  },
  {
   "cell_type": "code",
   "execution_count": 13,
   "metadata": {
    "id": "_XB7k3KqU31A",
    "nbgrader": {
     "grade": false,
     "grade_id": "ml_18",
     "locked": true,
     "schema_version": 3,
     "solution": false,
     "task": false
    },
    "outputId": "03287511-2533-47a5-c469-8b5861dc7456"
   },
   "outputs": [
    {
     "data": {
      "image/png": "[encoded data removed]",
      "text/plain": [
       "<Figure size 432x288 with 1 Axes>"
      ]
     },
     "metadata": {
      "needs_background": "light"
     },
     "output_type": "display_data"
    },
    {
     "name": "stdout",
     "output_type": "stream",
     "text": [
      "no     36548\n",
      "yes     4640\n",
      "Name: y, dtype: int64\n",
      "Percentage of people who have taken the campaign: 11.265417111780131 %\n"
     ]
    }
   ],
   "source": [
    "# Plot Distribution\n",
    "sns.countplot(x='y',data=bank_data)\n",
    "plt.show()\n",
    "\n",
    "# What are the counts?\n",
    "print(bank_data.y.value_counts())\n",
    "\n",
    "# What is the percentage?\n",
    "count_yes = len(bank_data[bank_data.y == 'yes'])\n",
    "count_no = len(bank_data[bank_data.y != 'yes'])\n",
    "\n",
    "percent_success = (count_yes/(count_yes + count_no))*100\n",
    "\n",
    "print('Percentage of people who have taken the campaign:', percent_success, \"%\")"
   ]
  },
  {
   "cell_type": "markdown",
   "metadata": {
    "id": "j4v0hVfAU31B",
    "nbgrader": {
     "grade": false,
     "grade_id": "ml_19",
     "locked": true,
     "schema_version": 3,
     "solution": false,
     "task": false
    }
   },
   "source": [
    "### _Distribution of Other Variables_"
   ]
  },
  {
   "cell_type": "code",
   "execution_count": 14,
   "metadata": {
    "id": "AT4PDXFbU31B",
    "nbgrader": {
     "grade": false,
     "grade_id": "ml_20",
     "locked": true,
     "schema_version": 3,
     "solution": false,
     "task": false
    },
    "outputId": "a37ced91-c3ce-4ffb-da87-48266be67e15"
   },
   "outputs": [
    {
     "data": {
      "image/png": "[encoded data removed]",
      "text/plain": [
       "<Figure size 432x288 with 1 Axes>"
      ]
     },
     "metadata": {
      "needs_background": "light"
     },
     "output_type": "display_data"
    },
    {
     "data": {
      "text/plain": [
       "no     32588\n",
       "yes        3\n",
       "Name: credit_default, dtype: int64"
      ]
     },
     "execution_count": 14,
     "metadata": {},
     "output_type": "execute_result"
    }
   ],
   "source": [
    "sns.countplot(x=\"credit_default\", data=bank_data)\n",
    "plt.show()\n",
    "\n",
    "bank_data.credit_default.value_counts()"
   ]
  },
  {
   "cell_type": "code",
   "execution_count": 15,
   "metadata": {
    "id": "U9LoQNYfU31B",
    "nbgrader": {
     "grade": false,
     "grade_id": "ml_21",
     "locked": true,
     "schema_version": 3,
     "solution": false,
     "task": false
    },
    "outputId": "22d14e19-e4a3-4a4a-82c9-9271df2895ad"
   },
   "outputs": [
    {
     "data": {
      "text/plain": [
       "thu    22.521552\n",
       "tue    20.538793\n",
       "wed    20.452586\n",
       "mon    18.254310\n",
       "fri    18.232759\n",
       "Name: day_of_week, dtype: float64"
      ]
     },
     "execution_count": 15,
     "metadata": {},
     "output_type": "execute_result"
    }
   ],
   "source": [
    "## when someone is subscribing for the campaign, is it on a particular day of the week?\n",
    "bank_data[bank_data.y == 'yes'].day_of_week.value_counts(normalize=True)*100"
   ]
  },
  {
   "cell_type": "markdown",
   "metadata": {
    "id": "pBbIAR6IU31B",
    "nbgrader": {
     "grade": false,
     "grade_id": "ml_22",
     "locked": true,
     "schema_version": 3,
     "solution": false,
     "task": false
    }
   },
   "source": [
    "### _Drawing trends toward the target variable_"
   ]
  },
  {
   "cell_type": "code",
   "execution_count": 16,
   "metadata": {
    "id": "Vf5KFQxyU31B",
    "nbgrader": {
     "grade": false,
     "grade_id": "ml_23",
     "locked": true,
     "schema_version": 3,
     "solution": false,
     "task": false
    },
    "outputId": "47e557a8-0c3f-4b2d-ada6-af5e16f7e892"
   },
   "outputs": [
    {
     "data": {
      "text/html": [
       "<div>\n",
       "<style scoped>\n",
       "    .dataframe tbody tr th:only-of-type {\n",
       "        vertical-align: middle;\n",
       "    }\n",
       "\n",
       "    .dataframe tbody tr th {\n",
       "        vertical-align: top;\n",
       "    }\n",
       "\n",
       "    .dataframe thead th {\n",
       "        text-align: right;\n",
       "    }\n",
       "</style>\n",
       "<table border=\"1\" class=\"dataframe\">\n",
       "  <thead>\n",
       "    <tr style=\"text-align: right;\">\n",
       "      <th></th>\n",
       "      <th>customer_no</th>\n",
       "      <th>age</th>\n",
       "      <th>duration</th>\n",
       "      <th>campaign</th>\n",
       "      <th>pdays</th>\n",
       "      <th>previous</th>\n",
       "      <th>emp_var_rate</th>\n",
       "      <th>cons_price_idx</th>\n",
       "      <th>cons_conf_idx</th>\n",
       "      <th>euribor3m</th>\n",
       "      <th>nr_employed</th>\n",
       "    </tr>\n",
       "    <tr>\n",
       "      <th>y</th>\n",
       "      <th></th>\n",
       "      <th></th>\n",
       "      <th></th>\n",
       "      <th></th>\n",
       "      <th></th>\n",
       "      <th></th>\n",
       "      <th></th>\n",
       "      <th></th>\n",
       "      <th></th>\n",
       "      <th></th>\n",
       "      <th></th>\n",
       "    </tr>\n",
       "  </thead>\n",
       "  <tbody>\n",
       "    <tr>\n",
       "      <th>no</th>\n",
       "      <td>19354.359719</td>\n",
       "      <td>39.911185</td>\n",
       "      <td>220.844807</td>\n",
       "      <td>2.633085</td>\n",
       "      <td>984.113878</td>\n",
       "      <td>0.132374</td>\n",
       "      <td>0.248875</td>\n",
       "      <td>93.603757</td>\n",
       "      <td>-40.593097</td>\n",
       "      <td>3.811491</td>\n",
       "      <td>5176.166600</td>\n",
       "    </tr>\n",
       "    <tr>\n",
       "      <th>yes</th>\n",
       "      <td>30362.742888</td>\n",
       "      <td>40.913147</td>\n",
       "      <td>553.191164</td>\n",
       "      <td>2.051724</td>\n",
       "      <td>792.035560</td>\n",
       "      <td>0.492672</td>\n",
       "      <td>-1.233448</td>\n",
       "      <td>93.354386</td>\n",
       "      <td>-39.789784</td>\n",
       "      <td>2.123135</td>\n",
       "      <td>5095.115991</td>\n",
       "    </tr>\n",
       "  </tbody>\n",
       "</table>\n",
       "</div>"
      ],
      "text/plain": [
       "      customer_no        age    duration  campaign       pdays  previous  \\\n",
       "y                                                                          \n",
       "no   19354.359719  39.911185  220.844807  2.633085  984.113878  0.132374   \n",
       "yes  30362.742888  40.913147  553.191164  2.051724  792.035560  0.492672   \n",
       "\n",
       "     emp_var_rate  cons_price_idx  cons_conf_idx  euribor3m  nr_employed  \n",
       "y                                                                         \n",
       "no       0.248875       93.603757     -40.593097   3.811491  5176.166600  \n",
       "yes     -1.233448       93.354386     -39.789784   2.123135  5095.115991  "
      ]
     },
     "execution_count": 16,
     "metadata": {},
     "output_type": "execute_result"
    }
   ],
   "source": [
    "bank_data.groupby('y').mean()"
   ]
  },
  {
   "cell_type": "code",
   "execution_count": 17,
   "metadata": {
    "id": "CEzCX8UDU31B",
    "nbgrader": {
     "grade": false,
     "grade_id": "ml_24",
     "locked": true,
     "schema_version": 3,
     "solution": false,
     "task": false
    },
    "outputId": "cd60739d-2ec6-4a32-f97a-2150bf16a8b0"
   },
   "outputs": [
    {
     "data": {
      "text/plain": [
       "<Axes: xlabel='age', ylabel='Density'>"
      ]
     },
     "execution_count": 17,
     "metadata": {},
     "output_type": "execute_result"
    },
    {
     "data": {
      "image/png": "[encoded data removed]",
      "text/plain": [
       "<Figure size 432x288 with 1 Axes>"
      ]
     },
     "metadata": {
      "needs_background": "light"
     },
     "output_type": "display_data"
    }
   ],
   "source": [
    "# Check distribution of age\n",
    "%matplotlib inline\n",
    "sns.distplot(bank_data[\"age\"] )"
   ]
  },
  {
   "cell_type": "code",
   "execution_count": 18,
   "metadata": {
    "id": "a7kjKo58U31B",
    "nbgrader": {
     "grade": false,
     "grade_id": "ml_25",
     "locked": true,
     "schema_version": 3,
     "solution": false,
     "task": false
    },
    "outputId": "818a9bee-396f-4529-f18e-238058e978ab"
   },
   "outputs": [
    {
     "data": {
      "text/html": [
       "<div>\n",
       "<style scoped>\n",
       "    .dataframe tbody tr th:only-of-type {\n",
       "        vertical-align: middle;\n",
       "    }\n",
       "\n",
       "    .dataframe tbody tr th {\n",
       "        vertical-align: top;\n",
       "    }\n",
       "\n",
       "    .dataframe thead th {\n",
       "        text-align: right;\n",
       "    }\n",
       "</style>\n",
       "<table border=\"1\" class=\"dataframe\">\n",
       "  <thead>\n",
       "    <tr style=\"text-align: right;\">\n",
       "      <th></th>\n",
       "      <th></th>\n",
       "      <th>customer_no</th>\n",
       "      <th>age</th>\n",
       "      <th>duration</th>\n",
       "      <th>campaign</th>\n",
       "      <th>pdays</th>\n",
       "      <th>previous</th>\n",
       "      <th>emp_var_rate</th>\n",
       "      <th>cons_price_idx</th>\n",
       "      <th>cons_conf_idx</th>\n",
       "      <th>euribor3m</th>\n",
       "      <th>nr_employed</th>\n",
       "    </tr>\n",
       "    <tr>\n",
       "      <th>job</th>\n",
       "      <th>y</th>\n",
       "      <th></th>\n",
       "      <th></th>\n",
       "      <th></th>\n",
       "      <th></th>\n",
       "      <th></th>\n",
       "      <th></th>\n",
       "      <th></th>\n",
       "      <th></th>\n",
       "      <th></th>\n",
       "      <th></th>\n",
       "      <th></th>\n",
       "    </tr>\n",
       "  </thead>\n",
       "  <tbody>\n",
       "    <tr>\n",
       "      <th rowspan=\"2\" valign=\"top\">admin.</th>\n",
       "      <th>no</th>\n",
       "      <td>20442.671555</td>\n",
       "      <td>38.219846</td>\n",
       "      <td>215.093385</td>\n",
       "      <td>2.707718</td>\n",
       "      <td>981.270783</td>\n",
       "      <td>0.141125</td>\n",
       "      <td>0.224068</td>\n",
       "      <td>93.566030</td>\n",
       "      <td>-40.349768</td>\n",
       "      <td>3.786567</td>\n",
       "      <td>5175.512051</td>\n",
       "    </tr>\n",
       "    <tr>\n",
       "      <th>yes</th>\n",
       "      <td>31593.672337</td>\n",
       "      <td>37.968935</td>\n",
       "      <td>517.414201</td>\n",
       "      <td>2.058432</td>\n",
       "      <td>773.512574</td>\n",
       "      <td>0.510355</td>\n",
       "      <td>-1.383210</td>\n",
       "      <td>93.319537</td>\n",
       "      <td>-39.545488</td>\n",
       "      <td>1.965078</td>\n",
       "      <td>5087.736760</td>\n",
       "    </tr>\n",
       "    <tr>\n",
       "      <th rowspan=\"2\" valign=\"top\">blue-collar</th>\n",
       "      <th>no</th>\n",
       "      <td>17463.693013</td>\n",
       "      <td>39.582057</td>\n",
       "      <td>229.878018</td>\n",
       "      <td>2.588208</td>\n",
       "      <td>991.516365</td>\n",
       "      <td>0.111653</td>\n",
       "      <td>0.303552</td>\n",
       "      <td>93.668887</td>\n",
       "      <td>-41.346565</td>\n",
       "      <td>3.835402</td>\n",
       "      <td>5178.296031</td>\n",
       "    </tr>\n",
       "    <tr>\n",
       "      <th>yes</th>\n",
       "      <td>24442.830721</td>\n",
       "      <td>39.200627</td>\n",
       "      <td>732.673981</td>\n",
       "      <td>2.156740</td>\n",
       "      <td>899.324451</td>\n",
       "      <td>0.269592</td>\n",
       "      <td>-0.487774</td>\n",
       "      <td>93.491480</td>\n",
       "      <td>-41.770846</td>\n",
       "      <td>2.915715</td>\n",
       "      <td>5139.410658</td>\n",
       "    </tr>\n",
       "    <tr>\n",
       "      <th rowspan=\"2\" valign=\"top\">entrepreneur</th>\n",
       "      <th>no</th>\n",
       "      <td>18595.058559</td>\n",
       "      <td>41.703453</td>\n",
       "      <td>225.632883</td>\n",
       "      <td>2.579580</td>\n",
       "      <td>987.813814</td>\n",
       "      <td>0.128378</td>\n",
       "      <td>0.242868</td>\n",
       "      <td>93.626245</td>\n",
       "      <td>-41.319820</td>\n",
       "      <td>3.881632</td>\n",
       "      <td>5180.205631</td>\n",
       "    </tr>\n",
       "    <tr>\n",
       "      <th>yes</th>\n",
       "      <td>25937.862903</td>\n",
       "      <td>41.935484</td>\n",
       "      <td>667.540323</td>\n",
       "      <td>2.064516</td>\n",
       "      <td>910.943548</td>\n",
       "      <td>0.250000</td>\n",
       "      <td>-0.745161</td>\n",
       "      <td>93.381153</td>\n",
       "      <td>-40.895161</td>\n",
       "      <td>2.818839</td>\n",
       "      <td>5134.504839</td>\n",
       "    </tr>\n",
       "    <tr>\n",
       "      <th rowspan=\"2\" valign=\"top\">housemaid</th>\n",
       "      <th>no</th>\n",
       "      <td>17192.181342</td>\n",
       "      <td>44.705451</td>\n",
       "      <td>218.778826</td>\n",
       "      <td>2.722222</td>\n",
       "      <td>986.491614</td>\n",
       "      <td>0.089099</td>\n",
       "      <td>0.641300</td>\n",
       "      <td>93.712759</td>\n",
       "      <td>-39.626834</td>\n",
       "      <td>4.243082</td>\n",
       "      <td>5190.553249</td>\n",
       "    </tr>\n",
       "    <tr>\n",
       "      <th>yes</th>\n",
       "      <td>31707.264151</td>\n",
       "      <td>52.650943</td>\n",
       "      <td>535.537736</td>\n",
       "      <td>1.896226</td>\n",
       "      <td>727.367925</td>\n",
       "      <td>0.575472</td>\n",
       "      <td>-1.437736</td>\n",
       "      <td>93.350934</td>\n",
       "      <td>-38.311321</td>\n",
       "      <td>1.908717</td>\n",
       "      <td>5080.316981</td>\n",
       "    </tr>\n",
       "    <tr>\n",
       "      <th rowspan=\"2\" valign=\"top\">management</th>\n",
       "      <th>no</th>\n",
       "      <td>19867.435285</td>\n",
       "      <td>42.309707</td>\n",
       "      <td>220.828197</td>\n",
       "      <td>2.532357</td>\n",
       "      <td>984.848613</td>\n",
       "      <td>0.140986</td>\n",
       "      <td>0.141217</td>\n",
       "      <td>93.550062</td>\n",
       "      <td>-40.619992</td>\n",
       "      <td>3.785477</td>\n",
       "      <td>5175.037442</td>\n",
       "    </tr>\n",
       "    <tr>\n",
       "      <th>yes</th>\n",
       "      <td>30088.923780</td>\n",
       "      <td>42.783537</td>\n",
       "      <td>543.804878</td>\n",
       "      <td>2.030488</td>\n",
       "      <td>786.929878</td>\n",
       "      <td>0.533537</td>\n",
       "      <td>-1.230793</td>\n",
       "      <td>93.306631</td>\n",
       "      <td>-39.456402</td>\n",
       "      <td>2.232896</td>\n",
       "      <td>5100.271037</td>\n",
       "    </tr>\n",
       "    <tr>\n",
       "      <th rowspan=\"2\" valign=\"top\">retired</th>\n",
       "      <th>no</th>\n",
       "      <td>23081.006221</td>\n",
       "      <td>59.926128</td>\n",
       "      <td>224.263608</td>\n",
       "      <td>2.657076</td>\n",
       "      <td>960.369362</td>\n",
       "      <td>0.212286</td>\n",
       "      <td>-0.283904</td>\n",
       "      <td>93.493273</td>\n",
       "      <td>-38.920762</td>\n",
       "      <td>3.249794</td>\n",
       "      <td>5146.043313</td>\n",
       "    </tr>\n",
       "    <tr>\n",
       "      <th>yes</th>\n",
       "      <td>34996.403226</td>\n",
       "      <td>68.253456</td>\n",
       "      <td>420.235023</td>\n",
       "      <td>1.942396</td>\n",
       "      <td>712.937788</td>\n",
       "      <td>0.668203</td>\n",
       "      <td>-1.926267</td>\n",
       "      <td>93.245629</td>\n",
       "      <td>-37.542857</td>\n",
       "      <td>1.348569</td>\n",
       "      <td>5051.795392</td>\n",
       "    </tr>\n",
       "    <tr>\n",
       "      <th rowspan=\"2\" valign=\"top\">self-employed</th>\n",
       "      <th>no</th>\n",
       "      <td>19662.977201</td>\n",
       "      <td>40.176887</td>\n",
       "      <td>222.220912</td>\n",
       "      <td>2.724843</td>\n",
       "      <td>988.073113</td>\n",
       "      <td>0.123428</td>\n",
       "      <td>0.242610</td>\n",
       "      <td>93.591786</td>\n",
       "      <td>-40.501022</td>\n",
       "      <td>3.854206</td>\n",
       "      <td>5177.958019</td>\n",
       "    </tr>\n",
       "    <tr>\n",
       "      <th>yes</th>\n",
       "      <td>29785.093960</td>\n",
       "      <td>38.006711</td>\n",
       "      <td>622.020134</td>\n",
       "      <td>2.114094</td>\n",
       "      <td>878.859060</td>\n",
       "      <td>0.315436</td>\n",
       "      <td>-1.173154</td>\n",
       "      <td>93.288470</td>\n",
       "      <td>-40.377852</td>\n",
       "      <td>2.282242</td>\n",
       "      <td>5108.494631</td>\n",
       "    </tr>\n",
       "    <tr>\n",
       "      <th rowspan=\"2\" valign=\"top\">services</th>\n",
       "      <th>no</th>\n",
       "      <td>18244.544158</td>\n",
       "      <td>38.090236</td>\n",
       "      <td>225.047998</td>\n",
       "      <td>2.619309</td>\n",
       "      <td>991.091607</td>\n",
       "      <td>0.136314</td>\n",
       "      <td>0.256720</td>\n",
       "      <td>93.650433</td>\n",
       "      <td>-41.327537</td>\n",
       "      <td>3.793805</td>\n",
       "      <td>5176.038069</td>\n",
       "    </tr>\n",
       "    <tr>\n",
       "      <th>yes</th>\n",
       "      <td>26681.931889</td>\n",
       "      <td>36.077399</td>\n",
       "      <td>634.851393</td>\n",
       "      <td>2.232198</td>\n",
       "      <td>854.479876</td>\n",
       "      <td>0.365325</td>\n",
       "      <td>-0.743034</td>\n",
       "      <td>93.456598</td>\n",
       "      <td>-40.866873</td>\n",
       "      <td>2.631139</td>\n",
       "      <td>5121.504954</td>\n",
       "    </tr>\n",
       "    <tr>\n",
       "      <th rowspan=\"2\" valign=\"top\">student</th>\n",
       "      <th>no</th>\n",
       "      <td>28542.213333</td>\n",
       "      <td>26.396667</td>\n",
       "      <td>228.851667</td>\n",
       "      <td>2.238333</td>\n",
       "      <td>924.596667</td>\n",
       "      <td>0.395000</td>\n",
       "      <td>-1.133167</td>\n",
       "      <td>93.350790</td>\n",
       "      <td>-40.751500</td>\n",
       "      <td>2.208683</td>\n",
       "      <td>5104.507500</td>\n",
       "    </tr>\n",
       "    <tr>\n",
       "      <th>yes</th>\n",
       "      <td>35871.487273</td>\n",
       "      <td>24.800000</td>\n",
       "      <td>403.316364</td>\n",
       "      <td>1.810909</td>\n",
       "      <td>656.116364</td>\n",
       "      <td>0.807273</td>\n",
       "      <td>-2.007636</td>\n",
       "      <td>93.289771</td>\n",
       "      <td>-38.957091</td>\n",
       "      <td>1.176313</td>\n",
       "      <td>5045.426182</td>\n",
       "    </tr>\n",
       "    <tr>\n",
       "      <th rowspan=\"2\" valign=\"top\">technician</th>\n",
       "      <th>no</th>\n",
       "      <td>19682.693165</td>\n",
       "      <td>38.600033</td>\n",
       "      <td>213.452021</td>\n",
       "      <td>2.641776</td>\n",
       "      <td>985.135540</td>\n",
       "      <td>0.111093</td>\n",
       "      <td>0.441693</td>\n",
       "      <td>93.584196</td>\n",
       "      <td>-39.918310</td>\n",
       "      <td>4.012318</td>\n",
       "      <td>5184.951705</td>\n",
       "    </tr>\n",
       "    <tr>\n",
       "      <th>yes</th>\n",
       "      <td>30276.449315</td>\n",
       "      <td>37.746575</td>\n",
       "      <td>553.190411</td>\n",
       "      <td>2.046575</td>\n",
       "      <td>793.676712</td>\n",
       "      <td>0.505479</td>\n",
       "      <td>-1.102055</td>\n",
       "      <td>93.374286</td>\n",
       "      <td>-40.003836</td>\n",
       "      <td>2.239584</td>\n",
       "      <td>5099.017123</td>\n",
       "    </tr>\n",
       "    <tr>\n",
       "      <th rowspan=\"2\" valign=\"top\">unemployed</th>\n",
       "      <th>no</th>\n",
       "      <td>19952.900000</td>\n",
       "      <td>39.844828</td>\n",
       "      <td>212.706897</td>\n",
       "      <td>2.668966</td>\n",
       "      <td>973.879310</td>\n",
       "      <td>0.131034</td>\n",
       "      <td>0.147241</td>\n",
       "      <td>93.604369</td>\n",
       "      <td>-40.193908</td>\n",
       "      <td>3.775461</td>\n",
       "      <td>5172.245172</td>\n",
       "    </tr>\n",
       "    <tr>\n",
       "      <th>yes</th>\n",
       "      <td>33586.687500</td>\n",
       "      <td>39.062500</td>\n",
       "      <td>471.451389</td>\n",
       "      <td>1.930556</td>\n",
       "      <td>702.333333</td>\n",
       "      <td>0.611111</td>\n",
       "      <td>-1.676389</td>\n",
       "      <td>93.318562</td>\n",
       "      <td>-38.881944</td>\n",
       "      <td>1.600444</td>\n",
       "      <td>5065.995833</td>\n",
       "    </tr>\n",
       "  </tbody>\n",
       "</table>\n",
       "</div>"
      ],
      "text/plain": [
       "                    customer_no        age    duration  campaign       pdays  \\\n",
       "job           y                                                                \n",
       "admin.        no   20442.671555  38.219846  215.093385  2.707718  981.270783   \n",
       "              yes  31593.672337  37.968935  517.414201  2.058432  773.512574   \n",
       "blue-collar   no   17463.693013  39.582057  229.878018  2.588208  991.516365   \n",
       "              yes  24442.830721  39.200627  732.673981  2.156740  899.324451   \n",
       "entrepreneur  no   18595.058559  41.703453  225.632883  2.579580  987.813814   \n",
       "              yes  25937.862903  41.935484  667.540323  2.064516  910.943548   \n",
       "housemaid     no   17192.181342  44.705451  218.778826  2.722222  986.491614   \n",
       "              yes  31707.264151  52.650943  535.537736  1.896226  727.367925   \n",
       "management    no   19867.435285  42.309707  220.828197  2.532357  984.848613   \n",
       "              yes  30088.923780  42.783537  543.804878  2.030488  786.929878   \n",
       "retired       no   23081.006221  59.926128  224.263608  2.657076  960.369362   \n",
       "              yes  34996.403226  68.253456  420.235023  1.942396  712.937788   \n",
       "self-employed no   19662.977201  40.176887  222.220912  2.724843  988.073113   \n",
       "              yes  29785.093960  38.006711  622.020134  2.114094  878.859060   \n",
       "services      no   18244.544158  38.090236  225.047998  2.619309  991.091607   \n",
       "              yes  26681.931889  36.077399  634.851393  2.232198  854.479876   \n",
       "student       no   28542.213333  26.396667  228.851667  2.238333  924.596667   \n",
       "              yes  35871.487273  24.800000  403.316364  1.810909  656.116364   \n",
       "technician    no   19682.693165  38.600033  213.452021  2.641776  985.135540   \n",
       "              yes  30276.449315  37.746575  553.190411  2.046575  793.676712   \n",
       "unemployed    no   19952.900000  39.844828  212.706897  2.668966  973.879310   \n",
       "              yes  33586.687500  39.062500  471.451389  1.930556  702.333333   \n",
       "\n",
       "                   previous  emp_var_rate  cons_price_idx  cons_conf_idx  \\\n",
       "job           y                                                            \n",
       "admin.        no   0.141125      0.224068       93.566030     -40.349768   \n",
       "              yes  0.510355     -1.383210       93.319537     -39.545488   \n",
       "blue-collar   no   0.111653      0.303552       93.668887     -41.346565   \n",
       "              yes  0.269592     -0.487774       93.491480     -41.770846   \n",
       "entrepreneur  no   0.128378      0.242868       93.626245     -41.319820   \n",
       "              yes  0.250000     -0.745161       93.381153     -40.895161   \n",
       "housemaid     no   0.089099      0.641300       93.712759     -39.626834   \n",
       "              yes  0.575472     -1.437736       93.350934     -38.311321   \n",
       "management    no   0.140986      0.141217       93.550062     -40.619992   \n",
       "              yes  0.533537     -1.230793       93.306631     -39.456402   \n",
       "retired       no   0.212286     -0.283904       93.493273     -38.920762   \n",
       "              yes  0.668203     -1.926267       93.245629     -37.542857   \n",
       "self-employed no   0.123428      0.242610       93.591786     -40.501022   \n",
       "              yes  0.315436     -1.173154       93.288470     -40.377852   \n",
       "services      no   0.136314      0.256720       93.650433     -41.327537   \n",
       "              yes  0.365325     -0.743034       93.456598     -40.866873   \n",
       "student       no   0.395000     -1.133167       93.350790     -40.751500   \n",
       "              yes  0.807273     -2.007636       93.289771     -38.957091   \n",
       "technician    no   0.111093      0.441693       93.584196     -39.918310   \n",
       "              yes  0.505479     -1.102055       93.374286     -40.003836   \n",
       "unemployed    no   0.131034      0.147241       93.604369     -40.193908   \n",
       "              yes  0.611111     -1.676389       93.318562     -38.881944   \n",
       "\n",
       "                   euribor3m  nr_employed  \n",
       "job           y                            \n",
       "admin.        no    3.786567  5175.512051  \n",
       "              yes   1.965078  5087.736760  \n",
       "blue-collar   no    3.835402  5178.296031  \n",
       "              yes   2.915715  5139.410658  \n",
       "entrepreneur  no    3.881632  5180.205631  \n",
       "              yes   2.818839  5134.504839  \n",
       "housemaid     no    4.243082  5190.553249  \n",
       "              yes   1.908717  5080.316981  \n",
       "management    no    3.785477  5175.037442  \n",
       "              yes   2.232896  5100.271037  \n",
       "retired       no    3.249794  5146.043313  \n",
       "              yes   1.348569  5051.795392  \n",
       "self-employed no    3.854206  5177.958019  \n",
       "              yes   2.282242  5108.494631  \n",
       "services      no    3.793805  5176.038069  \n",
       "              yes   2.631139  5121.504954  \n",
       "student       no    2.208683  5104.507500  \n",
       "              yes   1.176313  5045.426182  \n",
       "technician    no    4.012318  5184.951705  \n",
       "              yes   2.239584  5099.017123  \n",
       "unemployed    no    3.775461  5172.245172  \n",
       "              yes   1.600444  5065.995833  "
      ]
     },
     "execution_count": 18,
     "metadata": {},
     "output_type": "execute_result"
    }
   ],
   "source": [
    "# Does the kind of job matter to a subscription? (groupby job and aggregate by mean) \n",
    "# Extend to education, marital, etc.\n",
    "\n",
    "bank_data.groupby(['job','y']).mean()"
   ]
  },
  {
   "cell_type": "code",
   "execution_count": 19,
   "metadata": {
    "id": "UmUQjraPU31B",
    "nbgrader": {
     "grade": false,
     "grade_id": "ml_26",
     "locked": true,
     "schema_version": 3,
     "solution": false,
     "task": false
    },
    "outputId": "50d0daff-4381-4b6d-ccdc-9b4ecf0d5639"
   },
   "outputs": [
    {
     "data": {
      "text/plain": [
       "admin.           29.372149\n",
       "technician       15.859222\n",
       "blue-collar      13.860526\n",
       "retired           9.428633\n",
       "management        7.125788\n",
       "services          7.017163\n",
       "student           5.974365\n",
       "self-employed     3.237019\n",
       "unemployed        3.128395\n",
       "entrepreneur      2.693895\n",
       "housemaid         2.302846\n",
       "Name: job, dtype: float64"
      ]
     },
     "execution_count": 19,
     "metadata": {},
     "output_type": "execute_result"
    }
   ],
   "source": [
    "# Who are subscribing the most across job ranks?\n",
    "bank_data[bank_data.y == 'yes'].job.value_counts(normalize=True)*100"
   ]
  },
  {
   "cell_type": "markdown",
   "metadata": {
    "id": "daC1aOfxU31C",
    "nbgrader": {
     "grade": false,
     "grade_id": "ml_28",
     "locked": true,
     "schema_version": 3,
     "solution": false,
     "task": false
    }
   },
   "source": [
    "### _Feature Engineering_"
   ]
  },
  {
   "cell_type": "markdown",
   "metadata": {
    "id": "6-uTyDNMU31C",
    "nbgrader": {
     "grade": false,
     "grade_id": "ml_29",
     "locked": true,
     "schema_version": 3,
     "solution": false,
     "task": false
    }
   },
   "source": [
    "#### _Fix levels of categorical variable by domain_"
   ]
  },
  {
   "cell_type": "code",
   "execution_count": 20,
   "metadata": {
    "id": "_af17EZFU31C",
    "nbgrader": {
     "grade": false,
     "grade_id": "ml_30",
     "locked": true,
     "schema_version": 3,
     "solution": false,
     "task": false
    },
    "outputId": "6c08e996-3951-414d-8ef9-0f36d5ad4d89"
   },
   "outputs": [
    {
     "name": "stdout",
     "output_type": "stream",
     "text": [
      "university.degree      12168\n",
      "high.school             9515\n",
      "basic.9y                6045\n",
      "professional.course     5243\n",
      "basic.4y                4176\n",
      "basic.6y                2292\n",
      "illiterate                18\n",
      "Name: education, dtype: int64\n"
     ]
    }
   ],
   "source": [
    "# Check levels of education. Is there anything wrong?\n",
    "print(bank_data.education.value_counts())\n",
    "\n",
    "# clean up basic level \n",
    "bank_data.replace(['basic.6y','basic.4y', 'basic.9y'], 'basic', inplace=True)\n",
    "test_data.replace(['basic.6y','basic.4y', 'basic.9y'], 'basic', inplace=True)"
   ]
  },
  {
   "cell_type": "code",
   "execution_count": 21,
   "metadata": {
    "id": "jlbaRFOcU31C",
    "nbgrader": {
     "grade": false,
     "grade_id": "ml_31",
     "locked": true,
     "schema_version": 3,
     "solution": false,
     "task": false
    },
    "outputId": "5c8878a9-37d4-4bc7-ce1c-5b4a7bd4dfc9"
   },
   "outputs": [
    {
     "data": {
      "text/plain": [
       "basic                  12513\n",
       "university.degree      12168\n",
       "high.school             9515\n",
       "professional.course     5243\n",
       "illiterate                18\n",
       "Name: education, dtype: int64"
      ]
     },
     "execution_count": 21,
     "metadata": {},
     "output_type": "execute_result"
    }
   ],
   "source": [
    "bank_data.education.value_counts()"
   ]
  },
  {
   "cell_type": "code",
   "execution_count": 22,
   "metadata": {
    "id": "LmWK-vn-U31C",
    "nbgrader": {
     "grade": false,
     "grade_id": "ml_32",
     "locked": true,
     "schema_version": 3,
     "solution": false,
     "task": false
    },
    "outputId": "5d62aaae-267d-4834-d510-7fc17cd3aae3"
   },
   "outputs": [
    {
     "data": {
      "text/plain": [
       "university.degree      1246\n",
       "basic                  1239\n",
       "high.school             948\n",
       "professional.course     521\n",
       "illiterate                1\n",
       "Name: education, dtype: int64"
      ]
     },
     "execution_count": 22,
     "metadata": {},
     "output_type": "execute_result"
    }
   ],
   "source": [
    "test_data.education.value_counts()"
   ]
  },
  {
   "cell_type": "markdown",
   "metadata": {
    "id": "27k5gFRPU31C",
    "nbgrader": {
     "grade": false,
     "grade_id": "ml_33",
     "locked": true,
     "schema_version": 3,
     "solution": false,
     "task": false
    }
   },
   "source": [
    "#### _Drop unnecessary variables_ from both bank_data and test_data"
   ]
  },
  {
   "cell_type": "code",
   "execution_count": 23,
   "metadata": {
    "id": "yLW0ltLjU31C",
    "nbgrader": {
     "grade": false,
     "grade_id": "ml_34",
     "locked": true,
     "schema_version": 3,
     "solution": false,
     "task": false
    },
    "outputId": "111d0d99-b369-494e-eaa2-1157f5be671c"
   },
   "outputs": [
    {
     "data": {
      "text/html": [
       "<div>\n",
       "<style scoped>\n",
       "    .dataframe tbody tr th:only-of-type {\n",
       "        vertical-align: middle;\n",
       "    }\n",
       "\n",
       "    .dataframe tbody tr th {\n",
       "        vertical-align: top;\n",
       "    }\n",
       "\n",
       "    .dataframe thead th {\n",
       "        text-align: right;\n",
       "    }\n",
       "</style>\n",
       "<table border=\"1\" class=\"dataframe\">\n",
       "  <thead>\n",
       "    <tr style=\"text-align: right;\">\n",
       "      <th></th>\n",
       "      <th>age</th>\n",
       "      <th>job</th>\n",
       "      <th>marital</th>\n",
       "      <th>education</th>\n",
       "      <th>credit_default</th>\n",
       "      <th>housing</th>\n",
       "      <th>loan</th>\n",
       "      <th>contact</th>\n",
       "      <th>contacted_month</th>\n",
       "      <th>day_of_week</th>\n",
       "      <th>...</th>\n",
       "      <th>campaign</th>\n",
       "      <th>pdays</th>\n",
       "      <th>previous</th>\n",
       "      <th>poutcome</th>\n",
       "      <th>emp_var_rate</th>\n",
       "      <th>cons_price_idx</th>\n",
       "      <th>cons_conf_idx</th>\n",
       "      <th>euribor3m</th>\n",
       "      <th>nr_employed</th>\n",
       "      <th>y</th>\n",
       "    </tr>\n",
       "  </thead>\n",
       "  <tbody>\n",
       "    <tr>\n",
       "      <th>0</th>\n",
       "      <td>56</td>\n",
       "      <td>housemaid</td>\n",
       "      <td>married</td>\n",
       "      <td>basic</td>\n",
       "      <td>no</td>\n",
       "      <td>no</td>\n",
       "      <td>no</td>\n",
       "      <td>telephone</td>\n",
       "      <td>may</td>\n",
       "      <td>mon</td>\n",
       "      <td>...</td>\n",
       "      <td>1</td>\n",
       "      <td>999</td>\n",
       "      <td>0</td>\n",
       "      <td>nonexistent</td>\n",
       "      <td>1.1</td>\n",
       "      <td>93.994</td>\n",
       "      <td>-36.4</td>\n",
       "      <td>4.857</td>\n",
       "      <td>5191.0</td>\n",
       "      <td>no</td>\n",
       "    </tr>\n",
       "    <tr>\n",
       "      <th>1</th>\n",
       "      <td>57</td>\n",
       "      <td>services</td>\n",
       "      <td>married</td>\n",
       "      <td>high.school</td>\n",
       "      <td>NaN</td>\n",
       "      <td>no</td>\n",
       "      <td>no</td>\n",
       "      <td>telephone</td>\n",
       "      <td>may</td>\n",
       "      <td>mon</td>\n",
       "      <td>...</td>\n",
       "      <td>1</td>\n",
       "      <td>999</td>\n",
       "      <td>0</td>\n",
       "      <td>nonexistent</td>\n",
       "      <td>1.1</td>\n",
       "      <td>93.994</td>\n",
       "      <td>-36.4</td>\n",
       "      <td>4.857</td>\n",
       "      <td>5191.0</td>\n",
       "      <td>no</td>\n",
       "    </tr>\n",
       "    <tr>\n",
       "      <th>2</th>\n",
       "      <td>37</td>\n",
       "      <td>services</td>\n",
       "      <td>married</td>\n",
       "      <td>high.school</td>\n",
       "      <td>no</td>\n",
       "      <td>yes</td>\n",
       "      <td>no</td>\n",
       "      <td>telephone</td>\n",
       "      <td>may</td>\n",
       "      <td>mon</td>\n",
       "      <td>...</td>\n",
       "      <td>1</td>\n",
       "      <td>999</td>\n",
       "      <td>0</td>\n",
       "      <td>nonexistent</td>\n",
       "      <td>1.1</td>\n",
       "      <td>93.994</td>\n",
       "      <td>-36.4</td>\n",
       "      <td>4.857</td>\n",
       "      <td>5191.0</td>\n",
       "      <td>no</td>\n",
       "    </tr>\n",
       "    <tr>\n",
       "      <th>3</th>\n",
       "      <td>40</td>\n",
       "      <td>admin.</td>\n",
       "      <td>married</td>\n",
       "      <td>basic</td>\n",
       "      <td>no</td>\n",
       "      <td>no</td>\n",
       "      <td>no</td>\n",
       "      <td>telephone</td>\n",
       "      <td>may</td>\n",
       "      <td>mon</td>\n",
       "      <td>...</td>\n",
       "      <td>1</td>\n",
       "      <td>999</td>\n",
       "      <td>0</td>\n",
       "      <td>nonexistent</td>\n",
       "      <td>1.1</td>\n",
       "      <td>93.994</td>\n",
       "      <td>-36.4</td>\n",
       "      <td>4.857</td>\n",
       "      <td>5191.0</td>\n",
       "      <td>no</td>\n",
       "    </tr>\n",
       "    <tr>\n",
       "      <th>4</th>\n",
       "      <td>56</td>\n",
       "      <td>services</td>\n",
       "      <td>married</td>\n",
       "      <td>high.school</td>\n",
       "      <td>no</td>\n",
       "      <td>no</td>\n",
       "      <td>yes</td>\n",
       "      <td>telephone</td>\n",
       "      <td>may</td>\n",
       "      <td>mon</td>\n",
       "      <td>...</td>\n",
       "      <td>1</td>\n",
       "      <td>999</td>\n",
       "      <td>0</td>\n",
       "      <td>nonexistent</td>\n",
       "      <td>1.1</td>\n",
       "      <td>93.994</td>\n",
       "      <td>-36.4</td>\n",
       "      <td>4.857</td>\n",
       "      <td>5191.0</td>\n",
       "      <td>no</td>\n",
       "    </tr>\n",
       "  </tbody>\n",
       "</table>\n",
       "<p>5 rows × 21 columns</p>\n",
       "</div>"
      ],
      "text/plain": [
       "   age        job  marital    education credit_default housing loan  \\\n",
       "0   56  housemaid  married        basic             no      no   no   \n",
       "1   57   services  married  high.school            NaN      no   no   \n",
       "2   37   services  married  high.school             no     yes   no   \n",
       "3   40     admin.  married        basic             no      no   no   \n",
       "4   56   services  married  high.school             no      no  yes   \n",
       "\n",
       "     contact contacted_month day_of_week  ...  campaign  pdays  previous  \\\n",
       "0  telephone             may         mon  ...         1    999         0   \n",
       "1  telephone             may         mon  ...         1    999         0   \n",
       "2  telephone             may         mon  ...         1    999         0   \n",
       "3  telephone             may         mon  ...         1    999         0   \n",
       "4  telephone             may         mon  ...         1    999         0   \n",
       "\n",
       "      poutcome emp_var_rate  cons_price_idx  cons_conf_idx  euribor3m  \\\n",
       "0  nonexistent          1.1          93.994          -36.4      4.857   \n",
       "1  nonexistent          1.1          93.994          -36.4      4.857   \n",
       "2  nonexistent          1.1          93.994          -36.4      4.857   \n",
       "3  nonexistent          1.1          93.994          -36.4      4.857   \n",
       "4  nonexistent          1.1          93.994          -36.4      4.857   \n",
       "\n",
       "   nr_employed   y  \n",
       "0       5191.0  no  \n",
       "1       5191.0  no  \n",
       "2       5191.0  no  \n",
       "3       5191.0  no  \n",
       "4       5191.0  no  \n",
       "\n",
       "[5 rows x 21 columns]"
      ]
     },
     "execution_count": 23,
     "metadata": {},
     "output_type": "execute_result"
    }
   ],
   "source": [
    "bank_data.drop(\"customer_no\", axis = 1, inplace= True)\n",
    "test_data.drop(\"customer_no\", axis = 1, inplace= True)\n",
    "\n",
    "bank_data.head()"
   ]
  },
  {
   "cell_type": "code",
   "execution_count": 24,
   "metadata": {
    "id": "iZKwCKp7U31C",
    "nbgrader": {
     "grade": false,
     "grade_id": "ml_35",
     "locked": true,
     "schema_version": 3,
     "solution": false,
     "task": false
    },
    "outputId": "52306b24-1034-41ae-f8f0-1297e8c46399"
   },
   "outputs": [
    {
     "name": "stdout",
     "output_type": "stream",
     "text": [
      "(41188, 21)\n",
      "(4119, 21)\n"
     ]
    }
   ],
   "source": [
    "print(bank_data.shape)\n",
    "print(test_data.shape)"
   ]
  },
  {
   "cell_type": "markdown",
   "metadata": {
    "id": "r69HO4wwU31C",
    "nbgrader": {
     "grade": false,
     "grade_id": "ml_36",
     "locked": true,
     "schema_version": 3,
     "solution": false,
     "task": false
    }
   },
   "source": [
    "#### _Type Casting_"
   ]
  },
  {
   "cell_type": "code",
   "execution_count": 25,
   "metadata": {
    "id": "QEZmbWOrU31D",
    "nbgrader": {
     "grade": false,
     "grade_id": "ml_37",
     "locked": true,
     "schema_version": 3,
     "solution": false,
     "task": false
    }
   },
   "outputs": [],
   "source": [
    "col = ['job', 'marital', 'education', 'credit_default', 'housing', 'loan', 'contact', 'contacted_month', 'day_of_week', 'poutcome', 'y']\n",
    "bank_data[col] = bank_data[col].astype('category')"
   ]
  },
  {
   "cell_type": "code",
   "execution_count": 26,
   "metadata": {
    "id": "QyDz8wfJU31D",
    "nbgrader": {
     "grade": false,
     "grade_id": "ml_39",
     "locked": true,
     "schema_version": 3,
     "solution": false,
     "task": false
    },
    "outputId": "705a92dc-ee8b-480d-c196-27d78fab5967"
   },
   "outputs": [
    {
     "data": {
      "text/plain": [
       "age                   int64\n",
       "job                category\n",
       "marital            category\n",
       "education          category\n",
       "credit_default     category\n",
       "housing            category\n",
       "loan               category\n",
       "contact            category\n",
       "contacted_month    category\n",
       "day_of_week        category\n",
       "duration              int64\n",
       "campaign              int64\n",
       "pdays                 int64\n",
       "previous              int64\n",
       "poutcome           category\n",
       "emp_var_rate        float64\n",
       "cons_price_idx      float64\n",
       "cons_conf_idx       float64\n",
       "euribor3m           float64\n",
       "nr_employed         float64\n",
       "y                  category\n",
       "dtype: object"
      ]
     },
     "execution_count": 26,
     "metadata": {},
     "output_type": "execute_result"
    }
   ],
   "source": [
    "bank_data.dtypes"
   ]
  },
  {
   "cell_type": "markdown",
   "metadata": {
    "id": "kjrU4fFPU31D",
    "nbgrader": {
     "grade": false,
     "grade_id": "ml_40",
     "locked": true,
     "schema_version": 3,
     "solution": false,
     "task": false
    }
   },
   "source": [
    "#### Split Numeric and Categorical Columns"
   ]
  },
  {
   "cell_type": "code",
   "execution_count": 27,
   "metadata": {
    "id": "f0fkFV1-U31D",
    "nbgrader": {
     "grade": false,
     "grade_id": "ml_41",
     "locked": true,
     "schema_version": 3,
     "solution": false,
     "task": false
    },
    "outputId": "d8ffae3a-1f45-4660-e15a-727eebfd1737"
   },
   "outputs": [
    {
     "data": {
      "text/plain": [
       "'y'"
      ]
     },
     "execution_count": 27,
     "metadata": {},
     "output_type": "execute_result"
    }
   ],
   "source": [
    "cat_attr = list(bank_data.select_dtypes(\"category\").columns)\n",
    "num_attr = list(bank_data.columns.difference(cat_attr))\n",
    "\n",
    "cat_attr.pop()"
   ]
  },
  {
   "cell_type": "code",
   "execution_count": 28,
   "metadata": {
    "id": "CCM37NqsU31D",
    "nbgrader": {
     "grade": false,
     "grade_id": "ml_42",
     "locked": true,
     "schema_version": 3,
     "solution": false,
     "task": false
    },
    "outputId": "551fd24e-e78e-48c6-fa78-5a770913c375"
   },
   "outputs": [
    {
     "data": {
      "text/plain": [
       "['job',\n",
       " 'marital',\n",
       " 'education',\n",
       " 'credit_default',\n",
       " 'housing',\n",
       " 'loan',\n",
       " 'contact',\n",
       " 'contacted_month',\n",
       " 'day_of_week',\n",
       " 'poutcome']"
      ]
     },
     "execution_count": 28,
     "metadata": {},
     "output_type": "execute_result"
    }
   ],
   "source": [
    "cat_attr"
   ]
  },
  {
   "cell_type": "code",
   "execution_count": 29,
   "metadata": {
    "id": "XP5GpBjIU31D",
    "nbgrader": {
     "grade": false,
     "grade_id": "ml_43",
     "locked": true,
     "schema_version": 3,
     "solution": false,
     "task": false
    },
    "outputId": "d13846e6-b1eb-4a50-e213-38bdcd7acb68"
   },
   "outputs": [
    {
     "data": {
      "text/plain": [
       "['age',\n",
       " 'campaign',\n",
       " 'cons_conf_idx',\n",
       " 'cons_price_idx',\n",
       " 'duration',\n",
       " 'emp_var_rate',\n",
       " 'euribor3m',\n",
       " 'nr_employed',\n",
       " 'pdays',\n",
       " 'previous']"
      ]
     },
     "execution_count": 29,
     "metadata": {},
     "output_type": "execute_result"
    }
   ],
   "source": [
    "num_attr"
   ]
  },
  {
   "cell_type": "markdown",
   "metadata": {
    "id": "KzE7YpGmU31D",
    "nbgrader": {
     "grade": false,
     "grade_id": "ml_44",
     "locked": true,
     "schema_version": 3,
     "solution": false,
     "task": false
    }
   },
   "source": [
    "#### _Handle Missing Values_"
   ]
  },
  {
   "cell_type": "code",
   "execution_count": 30,
   "metadata": {
    "id": "5dIbHKcuU31E",
    "nbgrader": {
     "grade": false,
     "grade_id": "ml_45",
     "locked": true,
     "schema_version": 3,
     "solution": false,
     "task": false
    },
    "outputId": "4c704aa9-596d-4491-92cf-e494a7cddf2d"
   },
   "outputs": [
    {
     "data": {
      "text/plain": [
       "age                   0\n",
       "job                 330\n",
       "marital              80\n",
       "education          1731\n",
       "credit_default     8597\n",
       "housing             990\n",
       "loan                990\n",
       "contact               0\n",
       "contacted_month       0\n",
       "day_of_week           0\n",
       "duration              0\n",
       "campaign              0\n",
       "pdays                 0\n",
       "previous              0\n",
       "poutcome              0\n",
       "emp_var_rate          0\n",
       "cons_price_idx        0\n",
       "cons_conf_idx         0\n",
       "euribor3m             0\n",
       "nr_employed           0\n",
       "y                     0\n",
       "dtype: int64"
      ]
     },
     "execution_count": 30,
     "metadata": {},
     "output_type": "execute_result"
    }
   ],
   "source": [
    "bank_data.isnull().sum()"
   ]
  },
  {
   "cell_type": "code",
   "execution_count": 31,
   "metadata": {
    "id": "UVya8zcrU31E",
    "nbgrader": {
     "grade": false,
     "grade_id": "ml_46",
     "locked": true,
     "schema_version": 3,
     "solution": false,
     "task": false
    },
    "outputId": "c131f058-a35f-4700-b80d-c327fd9464cb"
   },
   "outputs": [
    {
     "data": {
      "text/plain": [
       "12718"
      ]
     },
     "execution_count": 31,
     "metadata": {},
     "output_type": "execute_result"
    }
   ],
   "source": [
    "# print total number of missing values\n",
    "bank_data.isnull().sum().sum()"
   ]
  },
  {
   "cell_type": "markdown",
   "metadata": {
    "id": "JMOfB9t4U31E",
    "nbgrader": {
     "grade": false,
     "grade_id": "ml_47",
     "locked": true,
     "schema_version": 3,
     "solution": false,
     "task": false
    }
   },
   "source": [
    "## Sklearn pipelines\n"
   ]
  },
  {
   "cell_type": "markdown",
   "metadata": {
    "id": "IkoNS9wQU31E",
    "nbgrader": {
     "grade": false,
     "grade_id": "ml_48",
     "locked": true,
     "schema_version": 3,
     "solution": false,
     "task": false
    }
   },
   "source": [
    "#### _Instantiate Pre-processing Objects for Pipeline_"
   ]
  },
  {
   "cell_type": "code",
   "execution_count": 32,
   "metadata": {
    "id": "T0y_yCDzU31E",
    "nbgrader": {
     "grade": false,
     "grade_id": "ml_49",
     "locked": true,
     "schema_version": 3,
     "solution": false,
     "task": false
    }
   },
   "outputs": [],
   "source": [
    "numeric_transformer = Pipeline(steps=[\n",
    "    ('imputer', SimpleImputer(strategy='median')),\n",
    "    ('scaler', StandardScaler())])\n",
    "\n",
    "categorical_transformer = Pipeline(steps=[\n",
    "    ('imputer', SimpleImputer(strategy='most_frequent')),\n",
    "    ('onehot', OneHotEncoder(handle_unknown='ignore'))])\n",
    "\n",
    "preprocessor = ColumnTransformer(\n",
    "    transformers=[\n",
    "        ('num', numeric_transformer, num_attr),\n",
    "        ('cat', categorical_transformer, cat_attr)])"
   ]
  },
  {
   "cell_type": "code",
   "execution_count": 33,
   "metadata": {
    "id": "GV4IQ7z2U31E",
    "nbgrader": {
     "grade": false,
     "grade_id": "ml_50",
     "locked": true,
     "schema_version": 3,
     "solution": false,
     "task": false
    },
    "outputId": "606f5137-8057-4072-c744-d638b76baa4e"
   },
   "outputs": [
    {
     "data": {
      "text/plain": [
       "Pipeline(steps=[('imputer', SimpleImputer(strategy='median')),\n",
       "                ('scaler', StandardScaler())])"
      ]
     },
     "execution_count": 33,
     "metadata": {},
     "output_type": "execute_result"
    }
   ],
   "source": [
    "numeric_transformer"
   ]
  },
  {
   "cell_type": "code",
   "execution_count": 34,
   "metadata": {
    "id": "JJsJsHnoU31E",
    "nbgrader": {
     "grade": false,
     "grade_id": "ml_51",
     "locked": true,
     "schema_version": 3,
     "solution": false,
     "task": false
    },
    "outputId": "03fbde4c-effd-4fb8-c3f3-0933229d21a0"
   },
   "outputs": [
    {
     "data": {
      "text/plain": [
       "{'imputer': SimpleImputer(strategy='median'), 'scaler': StandardScaler()}"
      ]
     },
     "execution_count": 34,
     "metadata": {},
     "output_type": "execute_result"
    }
   ],
   "source": [
    "numeric_transformer.named_steps"
   ]
  },
  {
   "cell_type": "code",
   "execution_count": 35,
   "metadata": {
    "id": "0df3ktjEU31E",
    "nbgrader": {
     "grade": false,
     "grade_id": "ml_52",
     "locked": true,
     "schema_version": 3,
     "solution": false,
     "task": false
    },
    "outputId": "a0b24cbd-7290-4350-92d1-b898b54b515e"
   },
   "outputs": [
    {
     "data": {
      "text/plain": [
       "StandardScaler()"
      ]
     },
     "execution_count": 35,
     "metadata": {},
     "output_type": "execute_result"
    }
   ],
   "source": [
    "numeric_transformer.named_steps.scaler"
   ]
  },
  {
   "cell_type": "code",
   "execution_count": 36,
   "metadata": {
    "id": "kOTDaZ-bU31E",
    "nbgrader": {
     "grade": false,
     "grade_id": "ml_53",
     "locked": true,
     "schema_version": 3,
     "solution": false,
     "task": false
    },
    "outputId": "09106506-c452-4cbd-b999-6c860c3ecf5f"
   },
   "outputs": [
    {
     "data": {
      "text/plain": [
       "Pipeline(steps=[('imputer', SimpleImputer(strategy='most_frequent')),\n",
       "                ('onehot', OneHotEncoder(handle_unknown='ignore'))])"
      ]
     },
     "execution_count": 36,
     "metadata": {},
     "output_type": "execute_result"
    }
   ],
   "source": [
    "categorical_transformer"
   ]
  },
  {
   "cell_type": "code",
   "execution_count": 37,
   "metadata": {
    "id": "n38I-WrYU31E",
    "nbgrader": {
     "grade": false,
     "grade_id": "ml_54",
     "locked": true,
     "schema_version": 3,
     "solution": false,
     "task": false
    },
    "outputId": "7fb25918-4c5d-4e4a-9596-477dd2f6a4cd"
   },
   "outputs": [
    {
     "data": {
      "text/plain": [
       "ColumnTransformer(transformers=[('num',\n",
       "                                 Pipeline(steps=[('imputer',\n",
       "                                                  SimpleImputer(strategy='median')),\n",
       "                                                 ('scaler', StandardScaler())]),\n",
       "                                 ['age', 'campaign', 'cons_conf_idx',\n",
       "                                  'cons_price_idx', 'duration', 'emp_var_rate',\n",
       "                                  'euribor3m', 'nr_employed', 'pdays',\n",
       "                                  'previous']),\n",
       "                                ('cat',\n",
       "                                 Pipeline(steps=[('imputer',\n",
       "                                                  SimpleImputer(strategy='most_frequent')),\n",
       "                                                 ('onehot',\n",
       "                                                  OneHotEncoder(handle_unknown='ignore'))]),\n",
       "                                 ['job', 'marital', 'education',\n",
       "                                  'credit_default', 'housing', 'loan',\n",
       "                                  'contact', 'contacted_month', 'day_of_week',\n",
       "                                  'poutcome'])])"
      ]
     },
     "execution_count": 37,
     "metadata": {},
     "output_type": "execute_result"
    }
   ],
   "source": [
    "preprocessor"
   ]
  },
  {
   "cell_type": "code",
   "execution_count": 38,
   "metadata": {
    "id": "U9r136ssU31F",
    "nbgrader": {
     "grade": false,
     "grade_id": "ml_55",
     "locked": true,
     "schema_version": 3,
     "solution": false,
     "task": false
    },
    "outputId": "a331d21a-5785-49c2-e5ad-1329ff61c8ea"
   },
   "outputs": [
    {
     "data": {
      "text/plain": [
       "sklearn.compose._column_transformer.ColumnTransformer"
      ]
     },
     "execution_count": 38,
     "metadata": {},
     "output_type": "execute_result"
    }
   ],
   "source": [
    "type(preprocessor)"
   ]
  },
  {
   "cell_type": "markdown",
   "metadata": {
    "id": "l1AQ3_OzU31F",
    "nbgrader": {
     "grade": false,
     "grade_id": "ml_56",
     "locked": true,
     "schema_version": 3,
     "solution": false,
     "task": false
    }
   },
   "source": [
    "### _Train-Test Split_"
   ]
  },
  {
   "cell_type": "code",
   "execution_count": 39,
   "metadata": {
    "id": "ZAVhd_4UU31F",
    "nbgrader": {
     "grade": false,
     "grade_id": "ml_57",
     "locked": true,
     "schema_version": 3,
     "solution": false,
     "task": false
    }
   },
   "outputs": [],
   "source": [
    "X_train, y_train = bank_data.loc[:,bank_data.columns!='y'], bank_data.loc[:,'y']\n",
    "\n",
    "X_test, y_test = test_data.loc[:,test_data.columns!='y'], test_data.loc[:,'y']"
   ]
  },
  {
   "cell_type": "code",
   "execution_count": 40,
   "metadata": {
    "id": "-FSYZVfPU31F",
    "nbgrader": {
     "grade": false,
     "grade_id": "ml_58",
     "locked": true,
     "schema_version": 3,
     "solution": false,
     "task": false
    },
    "outputId": "60740b7b-2242-41db-e700-a85ee58897ff"
   },
   "outputs": [
    {
     "data": {
      "text/html": [
       "<div>\n",
       "<style scoped>\n",
       "    .dataframe tbody tr th:only-of-type {\n",
       "        vertical-align: middle;\n",
       "    }\n",
       "\n",
       "    .dataframe tbody tr th {\n",
       "        vertical-align: top;\n",
       "    }\n",
       "\n",
       "    .dataframe thead th {\n",
       "        text-align: right;\n",
       "    }\n",
       "</style>\n",
       "<table border=\"1\" class=\"dataframe\">\n",
       "  <thead>\n",
       "    <tr style=\"text-align: right;\">\n",
       "      <th></th>\n",
       "      <th>age</th>\n",
       "      <th>job</th>\n",
       "      <th>marital</th>\n",
       "      <th>education</th>\n",
       "      <th>credit_default</th>\n",
       "      <th>housing</th>\n",
       "      <th>loan</th>\n",
       "      <th>contact</th>\n",
       "      <th>contacted_month</th>\n",
       "      <th>day_of_week</th>\n",
       "      <th>duration</th>\n",
       "      <th>campaign</th>\n",
       "      <th>pdays</th>\n",
       "      <th>previous</th>\n",
       "      <th>poutcome</th>\n",
       "      <th>emp_var_rate</th>\n",
       "      <th>cons_price_idx</th>\n",
       "      <th>cons_conf_idx</th>\n",
       "      <th>euribor3m</th>\n",
       "      <th>nr_employed</th>\n",
       "    </tr>\n",
       "  </thead>\n",
       "  <tbody>\n",
       "    <tr>\n",
       "      <th>0</th>\n",
       "      <td>56</td>\n",
       "      <td>housemaid</td>\n",
       "      <td>married</td>\n",
       "      <td>basic</td>\n",
       "      <td>no</td>\n",
       "      <td>no</td>\n",
       "      <td>no</td>\n",
       "      <td>telephone</td>\n",
       "      <td>may</td>\n",
       "      <td>mon</td>\n",
       "      <td>261</td>\n",
       "      <td>1</td>\n",
       "      <td>999</td>\n",
       "      <td>0</td>\n",
       "      <td>nonexistent</td>\n",
       "      <td>1.1</td>\n",
       "      <td>93.994</td>\n",
       "      <td>-36.4</td>\n",
       "      <td>4.857</td>\n",
       "      <td>5191.0</td>\n",
       "    </tr>\n",
       "    <tr>\n",
       "      <th>1</th>\n",
       "      <td>57</td>\n",
       "      <td>services</td>\n",
       "      <td>married</td>\n",
       "      <td>high.school</td>\n",
       "      <td>NaN</td>\n",
       "      <td>no</td>\n",
       "      <td>no</td>\n",
       "      <td>telephone</td>\n",
       "      <td>may</td>\n",
       "      <td>mon</td>\n",
       "      <td>149</td>\n",
       "      <td>1</td>\n",
       "      <td>999</td>\n",
       "      <td>0</td>\n",
       "      <td>nonexistent</td>\n",
       "      <td>1.1</td>\n",
       "      <td>93.994</td>\n",
       "      <td>-36.4</td>\n",
       "      <td>4.857</td>\n",
       "      <td>5191.0</td>\n",
       "    </tr>\n",
       "    <tr>\n",
       "      <th>2</th>\n",
       "      <td>37</td>\n",
       "      <td>services</td>\n",
       "      <td>married</td>\n",
       "      <td>high.school</td>\n",
       "      <td>no</td>\n",
       "      <td>yes</td>\n",
       "      <td>no</td>\n",
       "      <td>telephone</td>\n",
       "      <td>may</td>\n",
       "      <td>mon</td>\n",
       "      <td>226</td>\n",
       "      <td>1</td>\n",
       "      <td>999</td>\n",
       "      <td>0</td>\n",
       "      <td>nonexistent</td>\n",
       "      <td>1.1</td>\n",
       "      <td>93.994</td>\n",
       "      <td>-36.4</td>\n",
       "      <td>4.857</td>\n",
       "      <td>5191.0</td>\n",
       "    </tr>\n",
       "    <tr>\n",
       "      <th>3</th>\n",
       "      <td>40</td>\n",
       "      <td>admin.</td>\n",
       "      <td>married</td>\n",
       "      <td>basic</td>\n",
       "      <td>no</td>\n",
       "      <td>no</td>\n",
       "      <td>no</td>\n",
       "      <td>telephone</td>\n",
       "      <td>may</td>\n",
       "      <td>mon</td>\n",
       "      <td>151</td>\n",
       "      <td>1</td>\n",
       "      <td>999</td>\n",
       "      <td>0</td>\n",
       "      <td>nonexistent</td>\n",
       "      <td>1.1</td>\n",
       "      <td>93.994</td>\n",
       "      <td>-36.4</td>\n",
       "      <td>4.857</td>\n",
       "      <td>5191.0</td>\n",
       "    </tr>\n",
       "    <tr>\n",
       "      <th>4</th>\n",
       "      <td>56</td>\n",
       "      <td>services</td>\n",
       "      <td>married</td>\n",
       "      <td>high.school</td>\n",
       "      <td>no</td>\n",
       "      <td>no</td>\n",
       "      <td>yes</td>\n",
       "      <td>telephone</td>\n",
       "      <td>may</td>\n",
       "      <td>mon</td>\n",
       "      <td>307</td>\n",
       "      <td>1</td>\n",
       "      <td>999</td>\n",
       "      <td>0</td>\n",
       "      <td>nonexistent</td>\n",
       "      <td>1.1</td>\n",
       "      <td>93.994</td>\n",
       "      <td>-36.4</td>\n",
       "      <td>4.857</td>\n",
       "      <td>5191.0</td>\n",
       "    </tr>\n",
       "  </tbody>\n",
       "</table>\n",
       "</div>"
      ],
      "text/plain": [
       "   age        job  marital    education credit_default housing loan  \\\n",
       "0   56  housemaid  married        basic             no      no   no   \n",
       "1   57   services  married  high.school            NaN      no   no   \n",
       "2   37   services  married  high.school             no     yes   no   \n",
       "3   40     admin.  married        basic             no      no   no   \n",
       "4   56   services  married  high.school             no      no  yes   \n",
       "\n",
       "     contact contacted_month day_of_week  duration  campaign  pdays  previous  \\\n",
       "0  telephone             may         mon       261         1    999         0   \n",
       "1  telephone             may         mon       149         1    999         0   \n",
       "2  telephone             may         mon       226         1    999         0   \n",
       "3  telephone             may         mon       151         1    999         0   \n",
       "4  telephone             may         mon       307         1    999         0   \n",
       "\n",
       "      poutcome  emp_var_rate  cons_price_idx  cons_conf_idx  euribor3m  \\\n",
       "0  nonexistent           1.1          93.994          -36.4      4.857   \n",
       "1  nonexistent           1.1          93.994          -36.4      4.857   \n",
       "2  nonexistent           1.1          93.994          -36.4      4.857   \n",
       "3  nonexistent           1.1          93.994          -36.4      4.857   \n",
       "4  nonexistent           1.1          93.994          -36.4      4.857   \n",
       "\n",
       "   nr_employed  \n",
       "0       5191.0  \n",
       "1       5191.0  \n",
       "2       5191.0  \n",
       "3       5191.0  \n",
       "4       5191.0  "
      ]
     },
     "execution_count": 40,
     "metadata": {},
     "output_type": "execute_result"
    }
   ],
   "source": [
    "X_train.head()"
   ]
  },
  {
   "cell_type": "code",
   "execution_count": 41,
   "metadata": {
    "id": "MedGj8s8U31F",
    "nbgrader": {
     "grade": false,
     "grade_id": "ml_59",
     "locked": true,
     "schema_version": 3,
     "solution": false,
     "task": false
    },
    "outputId": "48c2eac5-2500-4054-ee8a-f83991cbfe21"
   },
   "outputs": [
    {
     "data": {
      "text/plain": [
       "0    no\n",
       "1    no\n",
       "2    no\n",
       "3    no\n",
       "4    no\n",
       "Name: y, dtype: category\n",
       "Categories (2, object): ['no', 'yes']"
      ]
     },
     "execution_count": 41,
     "metadata": {},
     "output_type": "execute_result"
    }
   ],
   "source": [
    "y_train.head()"
   ]
  },
  {
   "cell_type": "markdown",
   "metadata": {
    "id": "pUocicXxU31F",
    "nbgrader": {
     "grade": false,
     "grade_id": "ml_62",
     "locked": true,
     "schema_version": 3,
     "solution": false,
     "task": false
    }
   },
   "source": [
    "###  _Build Logistic Regression Model - 1_"
   ]
  },
  {
   "cell_type": "markdown",
   "metadata": {
    "id": "1dCkzi3dU31F",
    "nbgrader": {
     "grade": false,
     "grade_id": "ml_60",
     "locked": true,
     "schema_version": 3,
     "solution": false,
     "task": false
    }
   },
   "source": [
    "#### _Instantiate Pipeline Object_"
   ]
  },
  {
   "cell_type": "code",
   "execution_count": 42,
   "metadata": {
    "id": "qnEk4-guU31F",
    "nbgrader": {
     "grade": false,
     "grade_id": "ml_61",
     "locked": true,
     "schema_version": 3,
     "solution": false,
     "task": false
    }
   },
   "outputs": [],
   "source": [
    "clf_logreg = Pipeline(steps=[('preprocessor', preprocessor),\n",
    "                      ('classifier', LogisticRegression())])"
   ]
  },
  {
   "cell_type": "code",
   "execution_count": 43,
   "metadata": {
    "id": "nNpQCUyWU31F",
    "nbgrader": {
     "grade": false,
     "grade_id": "ml_63",
     "locked": true,
     "schema_version": 3,
     "solution": false,
     "task": false
    },
    "outputId": "e69dbfdb-a01e-49bd-e699-e9cf363be98c"
   },
   "outputs": [
    {
     "data": {
      "text/plain": [
       "Pipeline(steps=[('preprocessor',\n",
       "                 ColumnTransformer(transformers=[('num',\n",
       "                                                  Pipeline(steps=[('imputer',\n",
       "                                                                   SimpleImputer(strategy='median')),\n",
       "                                                                  ('scaler',\n",
       "                                                                   StandardScaler())]),\n",
       "                                                  ['age', 'campaign',\n",
       "                                                   'cons_conf_idx',\n",
       "                                                   'cons_price_idx', 'duration',\n",
       "                                                   'emp_var_rate', 'euribor3m',\n",
       "                                                   'nr_employed', 'pdays',\n",
       "                                                   'previous']),\n",
       "                                                 ('cat',\n",
       "                                                  Pipeline(steps=[('imputer',\n",
       "                                                                   SimpleImputer(strategy='most_frequent')),\n",
       "                                                                  ('onehot',\n",
       "                                                                   OneHotEncoder(handle_unknown='ignore'))]),\n",
       "                                                  ['job', 'marital',\n",
       "                                                   'education',\n",
       "                                                   'credit_default', 'housing',\n",
       "                                                   'loan', 'contact',\n",
       "                                                   'contacted_month',\n",
       "                                                   'day_of_week',\n",
       "                                                   'poutcome'])])),\n",
       "                ('classifier', LogisticRegression())])"
      ]
     },
     "execution_count": 43,
     "metadata": {},
     "output_type": "execute_result"
    }
   ],
   "source": [
    "clf_logreg.fit(X_train, y_train)"
   ]
  },
  {
   "cell_type": "markdown",
   "metadata": {
    "id": "agc4xOImU31G",
    "nbgrader": {
     "grade": false,
     "grade_id": "ml_64",
     "locked": true,
     "schema_version": 3,
     "solution": false,
     "task": false
    }
   },
   "source": [
    "### _Evaluate Model_"
   ]
  },
  {
   "cell_type": "code",
   "execution_count": 44,
   "metadata": {
    "id": "J20l4QTwU31G",
    "nbgrader": {
     "grade": false,
     "grade_id": "ml_65",
     "locked": true,
     "schema_version": 3,
     "solution": false,
     "task": false
    },
    "outputId": "4ec50a7c-6981-4c24-9622-df241ff7aa3e"
   },
   "outputs": [
    {
     "name": "stdout",
     "output_type": "stream",
     "text": [
      "0.9113091191609206\n",
      "0.9099295945617868\n",
      "\n",
      "\n",
      "[[35567   981]\n",
      " [ 2672  1968]]\n"
     ]
    },
    {
     "data": {
      "text/plain": [
       "array([[3560,   97],\n",
       "       [ 274,  188]], dtype=int64)"
      ]
     },
     "execution_count": 44,
     "metadata": {},
     "output_type": "execute_result"
    }
   ],
   "source": [
    "train_pred = clf_logreg.predict(X_train)\n",
    "test_pred = clf_logreg.predict(X_test)\n",
    "\n",
    "print(clf_logreg.score(X_train, y_train))\n",
    "print(clf_logreg.score(X_test, y_test))\n",
    "print(\"\\n\")\n",
    "print(confusion_matrix(y_true=y_train, y_pred = train_pred))\n",
    "\n",
    "confusion_matrix_test = confusion_matrix(y_true=y_test, y_pred =  test_pred)\n",
    "confusion_matrix_test"
   ]
  },
  {
   "cell_type": "code",
   "execution_count": 45,
   "metadata": {
    "id": "3k4t1mdSU31G",
    "nbgrader": {
     "grade": false,
     "grade_id": "ml_66",
     "locked": true,
     "schema_version": 3,
     "solution": false,
     "task": false
    },
    "outputId": "e90a5d85-a5ef-46f4-b67a-fd7b20b193a4"
   },
   "outputs": [
    {
     "name": "stdout",
     "output_type": "stream",
     "text": [
      "              precision    recall  f1-score   support\n",
      "\n",
      "          no       0.93      0.97      0.95      3657\n",
      "         yes       0.66      0.41      0.50       462\n",
      "\n",
      "    accuracy                           0.91      4119\n",
      "   macro avg       0.79      0.69      0.73      4119\n",
      "weighted avg       0.90      0.91      0.90      4119\n",
      "\n"
     ]
    }
   ],
   "source": [
    "print(classification_report(y_true=y_test, y_pred =  test_pred))"
   ]
  },
  {
   "cell_type": "code",
   "execution_count": 46,
   "metadata": {
    "id": "rFJvNt2rU31G",
    "outputId": "04d2845d-ac01-4fc4-89bc-8ee04bd7b34a"
   },
   "outputs": [
    {
     "name": "stdout",
     "output_type": "stream",
     "text": [
      "Test Precision:  0.6596491228070176\n",
      "Test Recall:  0.4069264069264069\n",
      "Test Accuracy:  0.9099295945617868\n"
     ]
    }
   ],
   "source": [
    "Accuracy_test=(confusion_matrix_test[0,0]+confusion_matrix_test[1,1])/(confusion_matrix_test[0,0]+confusion_matrix_test[0,1]+confusion_matrix_test[1,0]+confusion_matrix_test[1,1])\n",
    "\n",
    "Precision_Test= confusion_matrix_test[1,1]/(confusion_matrix_test[1,1]+confusion_matrix_test[0,1])\n",
    "Recall_Test= confusion_matrix_test[1,1]/(confusion_matrix_test[1,0]+confusion_matrix_test[1,1])\n",
    "\n",
    "print(\"Test Precision: \",Precision_Test)\n",
    "print(\"Test Recall: \",Recall_Test)\n",
    "print(\"Test Accuracy: \",Accuracy_test)"
   ]
  },
  {
   "cell_type": "markdown",
   "metadata": {
    "id": "vjeYG3vOU31G",
    "nbgrader": {
     "grade": false,
     "grade_id": "ml_67",
     "locked": true,
     "schema_version": 3,
     "solution": false,
     "task": false
    }
   },
   "source": [
    "#### Using the function to calculate accuracy, precision and recall."
   ]
  },
  {
   "cell_type": "code",
   "execution_count": 47,
   "metadata": {
    "id": "ub5hapI4U31G",
    "nbgrader": {
     "grade": false,
     "grade_id": "ml_68",
     "locked": true,
     "schema_version": 3,
     "solution": false,
     "task": false
    },
    "outputId": "5fdf5aef-8f7d-4966-aebc-70b4bdda8de4"
   },
   "outputs": [
    {
     "name": "stdout",
     "output_type": "stream",
     "text": [
      "Test Precision:  0.6596491228070176\n",
      "Test Recall:  0.4069264069264069\n",
      "Test Accuracy:  0.9099295945617868\n"
     ]
    }
   ],
   "source": [
    "accuracy_precision_recall_metrics(y_true = y_test, y_pred = test_pred)"
   ]
  },
  {
   "cell_type": "markdown",
   "metadata": {
    "id": "Oj_lEDxfU31G",
    "nbgrader": {
     "grade": false,
     "grade_id": "ml_69",
     "locked": true,
     "schema_version": 3,
     "solution": false,
     "task": false
    }
   },
   "source": [
    "### _Build Decision Tree Model - 2_"
   ]
  },
  {
   "cell_type": "code",
   "execution_count": 48,
   "metadata": {
    "id": "hdu5TANcU31G",
    "nbgrader": {
     "grade": false,
     "grade_id": "ml_70",
     "locked": true,
     "schema_version": 3,
     "solution": false,
     "task": false
    },
    "outputId": "55197f53-a01a-46c6-9182-7196597faa1b",
    "scrolled": true
   },
   "outputs": [
    {
     "name": "stdout",
     "output_type": "stream",
     "text": [
      "Fitting 5 folds for each of 72 candidates, totalling 360 fits\n",
      "[CV 1/5] END classifier__criterion=entropy, classifier__max_depth=6, classifier__min_samples_leaf=1, classifier__min_samples_split=2;, score=0.891 total time=   0.2s\n",
      "[CV 2/5] END classifier__criterion=entropy, classifier__max_depth=6, classifier__min_samples_leaf=1, classifier__min_samples_split=2;, score=0.717 total time=   0.2s\n",
      "[CV 3/5] END classifier__criterion=entropy, classifier__max_depth=6, classifier__min_samples_leaf=1, classifier__min_samples_split=2;, score=0.852 total time=   0.2s\n",
      "[CV 4/5] END classifier__criterion=entropy, classifier__max_depth=6, classifier__min_samples_leaf=1, classifier__min_samples_split=2;, score=0.145 total time=   0.2s\n",
      "[CV 5/5] END classifier__criterion=entropy, classifier__max_depth=6, classifier__min_samples_leaf=1, classifier__min_samples_split=2;, score=0.142 total time=   0.2s\n",
      "[CV 1/5] END classifier__criterion=entropy, classifier__max_depth=6, classifier__min_samples_leaf=1, classifier__min_samples_split=10;, score=0.891 total time=   0.2s\n",
      "[CV 2/5] END classifier__criterion=entropy, classifier__max_depth=6, classifier__min_samples_leaf=1, classifier__min_samples_split=10;, score=0.717 total time=   0.2s\n",
      "[CV 3/5] END classifier__criterion=entropy, classifier__max_depth=6, classifier__min_samples_leaf=1, classifier__min_samples_split=10;, score=0.852 total time=   0.2s\n",
      "[CV 4/5] END classifier__criterion=entropy, classifier__max_depth=6, classifier__min_samples_leaf=1, classifier__min_samples_split=10;, score=0.145 total time=   0.1s\n",
      "[CV 5/5] END classifier__criterion=entropy, classifier__max_depth=6, classifier__min_samples_leaf=1, classifier__min_samples_split=10;, score=0.142 total time=   0.2s\n",
      "[CV 1/5] END classifier__criterion=entropy, classifier__max_depth=6, classifier__min_samples_leaf=1, classifier__min_samples_split=20;, score=0.891 total time=   0.2s\n",
      "[CV 2/5] END classifier__criterion=entropy, classifier__max_depth=6, classifier__min_samples_leaf=1, classifier__min_samples_split=20;, score=0.717 total time=   0.2s\n",
      "[CV 3/5] END classifier__criterion=entropy, classifier__max_depth=6, classifier__min_samples_leaf=1, classifier__min_samples_split=20;, score=0.852 total time=   0.2s\n",
      "[CV 4/5] END classifier__criterion=entropy, classifier__max_depth=6, classifier__min_samples_leaf=1, classifier__min_samples_split=20;, score=0.145 total time=   0.2s\n",
      "[CV 5/5] END classifier__criterion=entropy, classifier__max_depth=6, classifier__min_samples_leaf=1, classifier__min_samples_split=20;, score=0.142 total time=   0.2s\n",
      "[CV 1/5] END classifier__criterion=entropy, classifier__max_depth=6, classifier__min_samples_leaf=5, classifier__min_samples_split=2;, score=0.891 total time=   0.2s\n",
      "[CV 2/5] END classifier__criterion=entropy, classifier__max_depth=6, classifier__min_samples_leaf=5, classifier__min_samples_split=2;, score=0.717 total time=   0.2s\n",
      "[CV 3/5] END classifier__criterion=entropy, classifier__max_depth=6, classifier__min_samples_leaf=5, classifier__min_samples_split=2;, score=0.852 total time=   0.2s\n",
      "[CV 4/5] END classifier__criterion=entropy, classifier__max_depth=6, classifier__min_samples_leaf=5, classifier__min_samples_split=2;, score=0.145 total time=   0.2s\n",
      "[CV 5/5] END classifier__criterion=entropy, classifier__max_depth=6, classifier__min_samples_leaf=5, classifier__min_samples_split=2;, score=0.142 total time=   0.2s\n",
      "[CV 1/5] END classifier__criterion=entropy, classifier__max_depth=6, classifier__min_samples_leaf=5, classifier__min_samples_split=10;, score=0.891 total time=   0.2s\n",
      "[CV 2/5] END classifier__criterion=entropy, classifier__max_depth=6, classifier__min_samples_leaf=5, classifier__min_samples_split=10;, score=0.717 total time=   0.1s\n",
      "[CV 3/5] END classifier__criterion=entropy, classifier__max_depth=6, classifier__min_samples_leaf=5, classifier__min_samples_split=10;, score=0.852 total time=   0.2s\n",
      "[CV 4/5] END classifier__criterion=entropy, classifier__max_depth=6, classifier__min_samples_leaf=5, classifier__min_samples_split=10;, score=0.145 total time=   0.1s\n",
      "[CV 5/5] END classifier__criterion=entropy, classifier__max_depth=6, classifier__min_samples_leaf=5, classifier__min_samples_split=10;, score=0.142 total time=   0.2s\n",
      "[CV 1/5] END classifier__criterion=entropy, classifier__max_depth=6, classifier__min_samples_leaf=5, classifier__min_samples_split=20;, score=0.891 total time=   0.2s\n",
      "[CV 2/5] END classifier__criterion=entropy, classifier__max_depth=6, classifier__min_samples_leaf=5, classifier__min_samples_split=20;, score=0.717 total time=   0.2s\n",
      "[CV 3/5] END classifier__criterion=entropy, classifier__max_depth=6, classifier__min_samples_leaf=5, classifier__min_samples_split=20;, score=0.852 total time=   0.2s\n",
      "[CV 4/5] END classifier__criterion=entropy, classifier__max_depth=6, classifier__min_samples_leaf=5, classifier__min_samples_split=20;, score=0.145 total time=   0.1s\n",
      "[CV 5/5] END classifier__criterion=entropy, classifier__max_depth=6, classifier__min_samples_leaf=5, classifier__min_samples_split=20;, score=0.142 total time=   0.2s\n",
      "[CV 1/5] END classifier__criterion=entropy, classifier__max_depth=6, classifier__min_samples_leaf=10, classifier__min_samples_split=2;, score=0.891 total time=   0.2s\n",
      "[CV 2/5] END classifier__criterion=entropy, classifier__max_depth=6, classifier__min_samples_leaf=10, classifier__min_samples_split=2;, score=0.717 total time=   0.2s\n",
      "[CV 3/5] END classifier__criterion=entropy, classifier__max_depth=6, classifier__min_samples_leaf=10, classifier__min_samples_split=2;, score=0.852 total time=   0.2s\n",
      "[CV 4/5] END classifier__criterion=entropy, classifier__max_depth=6, classifier__min_samples_leaf=10, classifier__min_samples_split=2;, score=0.145 total time=   0.2s\n",
      "[CV 5/5] END classifier__criterion=entropy, classifier__max_depth=6, classifier__min_samples_leaf=10, classifier__min_samples_split=2;, score=0.142 total time=   0.2s\n",
      "[CV 1/5] END classifier__criterion=entropy, classifier__max_depth=6, classifier__min_samples_leaf=10, classifier__min_samples_split=10;, score=0.891 total time=   0.2s\n",
      "[CV 2/5] END classifier__criterion=entropy, classifier__max_depth=6, classifier__min_samples_leaf=10, classifier__min_samples_split=10;, score=0.717 total time=   0.2s\n",
      "[CV 3/5] END classifier__criterion=entropy, classifier__max_depth=6, classifier__min_samples_leaf=10, classifier__min_samples_split=10;, score=0.852 total time=   0.2s\n",
      "[CV 4/5] END classifier__criterion=entropy, classifier__max_depth=6, classifier__min_samples_leaf=10, classifier__min_samples_split=10;, score=0.145 total time=   0.2s\n",
      "[CV 5/5] END classifier__criterion=entropy, classifier__max_depth=6, classifier__min_samples_leaf=10, classifier__min_samples_split=10;, score=0.142 total time=   0.2s\n",
      "[CV 1/5] END classifier__criterion=entropy, classifier__max_depth=6, classifier__min_samples_leaf=10, classifier__min_samples_split=20;, score=0.891 total time=   0.2s\n",
      "[CV 2/5] END classifier__criterion=entropy, classifier__max_depth=6, classifier__min_samples_leaf=10, classifier__min_samples_split=20;, score=0.717 total time=   0.2s\n",
      "[CV 3/5] END classifier__criterion=entropy, classifier__max_depth=6, classifier__min_samples_leaf=10, classifier__min_samples_split=20;, score=0.852 total time=   0.2s\n",
      "[CV 4/5] END classifier__criterion=entropy, classifier__max_depth=6, classifier__min_samples_leaf=10, classifier__min_samples_split=20;, score=0.145 total time=   0.2s\n",
      "[CV 5/5] END classifier__criterion=entropy, classifier__max_depth=6, classifier__min_samples_leaf=10, classifier__min_samples_split=20;, score=0.142 total time=   0.2s\n",
      "[CV 1/5] END classifier__criterion=entropy, classifier__max_depth=8, classifier__min_samples_leaf=1, classifier__min_samples_split=2;, score=0.888 total time=   0.2s\n",
      "[CV 2/5] END classifier__criterion=entropy, classifier__max_depth=8, classifier__min_samples_leaf=1, classifier__min_samples_split=2;, score=0.708 total time=   0.2s\n",
      "[CV 3/5] END classifier__criterion=entropy, classifier__max_depth=8, classifier__min_samples_leaf=1, classifier__min_samples_split=2;, score=0.814 total time=   0.2s\n",
      "[CV 4/5] END classifier__criterion=entropy, classifier__max_depth=8, classifier__min_samples_leaf=1, classifier__min_samples_split=2;, score=0.141 total time=   0.2s\n"
     ]
    },
    {
     "name": "stdout",
     "output_type": "stream",
     "text": [
      "[CV 5/5] END classifier__criterion=entropy, classifier__max_depth=8, classifier__min_samples_leaf=1, classifier__min_samples_split=2;, score=0.142 total time=   0.2s\n",
      "[CV 1/5] END classifier__criterion=entropy, classifier__max_depth=8, classifier__min_samples_leaf=1, classifier__min_samples_split=10;, score=0.888 total time=   0.2s\n",
      "[CV 2/5] END classifier__criterion=entropy, classifier__max_depth=8, classifier__min_samples_leaf=1, classifier__min_samples_split=10;, score=0.707 total time=   0.2s\n",
      "[CV 3/5] END classifier__criterion=entropy, classifier__max_depth=8, classifier__min_samples_leaf=1, classifier__min_samples_split=10;, score=0.814 total time=   0.2s\n",
      "[CV 4/5] END classifier__criterion=entropy, classifier__max_depth=8, classifier__min_samples_leaf=1, classifier__min_samples_split=10;, score=0.140 total time=   0.2s\n",
      "[CV 5/5] END classifier__criterion=entropy, classifier__max_depth=8, classifier__min_samples_leaf=1, classifier__min_samples_split=10;, score=0.142 total time=   0.2s\n",
      "[CV 1/5] END classifier__criterion=entropy, classifier__max_depth=8, classifier__min_samples_leaf=1, classifier__min_samples_split=20;, score=0.888 total time=   0.2s\n",
      "[CV 2/5] END classifier__criterion=entropy, classifier__max_depth=8, classifier__min_samples_leaf=1, classifier__min_samples_split=20;, score=0.710 total time=   0.2s\n",
      "[CV 3/5] END classifier__criterion=entropy, classifier__max_depth=8, classifier__min_samples_leaf=1, classifier__min_samples_split=20;, score=0.814 total time=   0.3s\n",
      "[CV 4/5] END classifier__criterion=entropy, classifier__max_depth=8, classifier__min_samples_leaf=1, classifier__min_samples_split=20;, score=0.139 total time=   0.2s\n",
      "[CV 5/5] END classifier__criterion=entropy, classifier__max_depth=8, classifier__min_samples_leaf=1, classifier__min_samples_split=20;, score=0.142 total time=   0.2s\n",
      "[CV 1/5] END classifier__criterion=entropy, classifier__max_depth=8, classifier__min_samples_leaf=5, classifier__min_samples_split=2;, score=0.888 total time=   0.2s\n",
      "[CV 2/5] END classifier__criterion=entropy, classifier__max_depth=8, classifier__min_samples_leaf=5, classifier__min_samples_split=2;, score=0.710 total time=   0.2s\n",
      "[CV 3/5] END classifier__criterion=entropy, classifier__max_depth=8, classifier__min_samples_leaf=5, classifier__min_samples_split=2;, score=0.814 total time=   0.2s\n",
      "[CV 4/5] END classifier__criterion=entropy, classifier__max_depth=8, classifier__min_samples_leaf=5, classifier__min_samples_split=2;, score=0.139 total time=   0.2s\n",
      "[CV 5/5] END classifier__criterion=entropy, classifier__max_depth=8, classifier__min_samples_leaf=5, classifier__min_samples_split=2;, score=0.142 total time=   0.2s\n",
      "[CV 1/5] END classifier__criterion=entropy, classifier__max_depth=8, classifier__min_samples_leaf=5, classifier__min_samples_split=10;, score=0.888 total time=   0.2s\n",
      "[CV 2/5] END classifier__criterion=entropy, classifier__max_depth=8, classifier__min_samples_leaf=5, classifier__min_samples_split=10;, score=0.710 total time=   0.2s\n",
      "[CV 3/5] END classifier__criterion=entropy, classifier__max_depth=8, classifier__min_samples_leaf=5, classifier__min_samples_split=10;, score=0.814 total time=   0.2s\n",
      "[CV 4/5] END classifier__criterion=entropy, classifier__max_depth=8, classifier__min_samples_leaf=5, classifier__min_samples_split=10;, score=0.139 total time=   0.2s\n",
      "[CV 5/5] END classifier__criterion=entropy, classifier__max_depth=8, classifier__min_samples_leaf=5, classifier__min_samples_split=10;, score=0.142 total time=   0.2s\n",
      "[CV 1/5] END classifier__criterion=entropy, classifier__max_depth=8, classifier__min_samples_leaf=5, classifier__min_samples_split=20;, score=0.888 total time=   0.3s\n",
      "[CV 2/5] END classifier__criterion=entropy, classifier__max_depth=8, classifier__min_samples_leaf=5, classifier__min_samples_split=20;, score=0.712 total time=   0.2s\n",
      "[CV 3/5] END classifier__criterion=entropy, classifier__max_depth=8, classifier__min_samples_leaf=5, classifier__min_samples_split=20;, score=0.814 total time=   0.2s\n",
      "[CV 4/5] END classifier__criterion=entropy, classifier__max_depth=8, classifier__min_samples_leaf=5, classifier__min_samples_split=20;, score=0.139 total time=   0.2s\n",
      "[CV 5/5] END classifier__criterion=entropy, classifier__max_depth=8, classifier__min_samples_leaf=5, classifier__min_samples_split=20;, score=0.142 total time=   0.2s\n",
      "[CV 1/5] END classifier__criterion=entropy, classifier__max_depth=8, classifier__min_samples_leaf=10, classifier__min_samples_split=2;, score=0.888 total time=   0.2s\n",
      "[CV 2/5] END classifier__criterion=entropy, classifier__max_depth=8, classifier__min_samples_leaf=10, classifier__min_samples_split=2;, score=0.712 total time=   0.2s\n",
      "[CV 3/5] END classifier__criterion=entropy, classifier__max_depth=8, classifier__min_samples_leaf=10, classifier__min_samples_split=2;, score=0.816 total time=   0.2s\n",
      "[CV 4/5] END classifier__criterion=entropy, classifier__max_depth=8, classifier__min_samples_leaf=10, classifier__min_samples_split=2;, score=0.139 total time=   0.2s\n",
      "[CV 5/5] END classifier__criterion=entropy, classifier__max_depth=8, classifier__min_samples_leaf=10, classifier__min_samples_split=2;, score=0.142 total time=   0.2s\n",
      "[CV 1/5] END classifier__criterion=entropy, classifier__max_depth=8, classifier__min_samples_leaf=10, classifier__min_samples_split=10;, score=0.888 total time=   0.2s\n",
      "[CV 2/5] END classifier__criterion=entropy, classifier__max_depth=8, classifier__min_samples_leaf=10, classifier__min_samples_split=10;, score=0.712 total time=   0.2s\n",
      "[CV 3/5] END classifier__criterion=entropy, classifier__max_depth=8, classifier__min_samples_leaf=10, classifier__min_samples_split=10;, score=0.816 total time=   0.2s\n",
      "[CV 4/5] END classifier__criterion=entropy, classifier__max_depth=8, classifier__min_samples_leaf=10, classifier__min_samples_split=10;, score=0.139 total time=   0.2s\n",
      "[CV 5/5] END classifier__criterion=entropy, classifier__max_depth=8, classifier__min_samples_leaf=10, classifier__min_samples_split=10;, score=0.142 total time=   0.2s\n",
      "[CV 1/5] END classifier__criterion=entropy, classifier__max_depth=8, classifier__min_samples_leaf=10, classifier__min_samples_split=20;, score=0.888 total time=   0.2s\n",
      "[CV 2/5] END classifier__criterion=entropy, classifier__max_depth=8, classifier__min_samples_leaf=10, classifier__min_samples_split=20;, score=0.712 total time=   0.2s\n",
      "[CV 3/5] END classifier__criterion=entropy, classifier__max_depth=8, classifier__min_samples_leaf=10, classifier__min_samples_split=20;, score=0.816 total time=   0.2s\n",
      "[CV 4/5] END classifier__criterion=entropy, classifier__max_depth=8, classifier__min_samples_leaf=10, classifier__min_samples_split=20;, score=0.139 total time=   0.2s\n",
      "[CV 5/5] END classifier__criterion=entropy, classifier__max_depth=8, classifier__min_samples_leaf=10, classifier__min_samples_split=20;, score=0.142 total time=   0.2s\n",
      "[CV 1/5] END classifier__criterion=entropy, classifier__max_depth=10, classifier__min_samples_leaf=1, classifier__min_samples_split=2;, score=0.889 total time=   0.2s\n",
      "[CV 2/5] END classifier__criterion=entropy, classifier__max_depth=10, classifier__min_samples_leaf=1, classifier__min_samples_split=2;, score=0.698 total time=   0.2s\n",
      "[CV 3/5] END classifier__criterion=entropy, classifier__max_depth=10, classifier__min_samples_leaf=1, classifier__min_samples_split=2;, score=0.759 total time=   0.2s\n",
      "[CV 4/5] END classifier__criterion=entropy, classifier__max_depth=10, classifier__min_samples_leaf=1, classifier__min_samples_split=2;, score=0.139 total time=   0.2s\n",
      "[CV 5/5] END classifier__criterion=entropy, classifier__max_depth=10, classifier__min_samples_leaf=1, classifier__min_samples_split=2;, score=0.141 total time=   0.2s\n",
      "[CV 1/5] END classifier__criterion=entropy, classifier__max_depth=10, classifier__min_samples_leaf=1, classifier__min_samples_split=10;, score=0.889 total time=   0.2s\n",
      "[CV 2/5] END classifier__criterion=entropy, classifier__max_depth=10, classifier__min_samples_leaf=1, classifier__min_samples_split=10;, score=0.697 total time=   0.2s\n",
      "[CV 3/5] END classifier__criterion=entropy, classifier__max_depth=10, classifier__min_samples_leaf=1, classifier__min_samples_split=10;, score=0.756 total time=   0.2s\n",
      "[CV 4/5] END classifier__criterion=entropy, classifier__max_depth=10, classifier__min_samples_leaf=1, classifier__min_samples_split=10;, score=0.139 total time=   0.2s\n"
     ]
    },
    {
     "name": "stdout",
     "output_type": "stream",
     "text": [
      "[CV 5/5] END classifier__criterion=entropy, classifier__max_depth=10, classifier__min_samples_leaf=1, classifier__min_samples_split=10;, score=0.142 total time=   0.2s\n",
      "[CV 1/5] END classifier__criterion=entropy, classifier__max_depth=10, classifier__min_samples_leaf=1, classifier__min_samples_split=20;, score=0.889 total time=   0.2s\n",
      "[CV 2/5] END classifier__criterion=entropy, classifier__max_depth=10, classifier__min_samples_leaf=1, classifier__min_samples_split=20;, score=0.700 total time=   0.2s\n",
      "[CV 3/5] END classifier__criterion=entropy, classifier__max_depth=10, classifier__min_samples_leaf=1, classifier__min_samples_split=20;, score=0.757 total time=   0.2s\n",
      "[CV 4/5] END classifier__criterion=entropy, classifier__max_depth=10, classifier__min_samples_leaf=1, classifier__min_samples_split=20;, score=0.138 total time=   0.2s\n",
      "[CV 5/5] END classifier__criterion=entropy, classifier__max_depth=10, classifier__min_samples_leaf=1, classifier__min_samples_split=20;, score=0.142 total time=   0.2s\n",
      "[CV 1/5] END classifier__criterion=entropy, classifier__max_depth=10, classifier__min_samples_leaf=5, classifier__min_samples_split=2;, score=0.888 total time=   0.2s\n",
      "[CV 2/5] END classifier__criterion=entropy, classifier__max_depth=10, classifier__min_samples_leaf=5, classifier__min_samples_split=2;, score=0.710 total time=   0.2s\n",
      "[CV 3/5] END classifier__criterion=entropy, classifier__max_depth=10, classifier__min_samples_leaf=5, classifier__min_samples_split=2;, score=0.822 total time=   0.2s\n",
      "[CV 4/5] END classifier__criterion=entropy, classifier__max_depth=10, classifier__min_samples_leaf=5, classifier__min_samples_split=2;, score=0.139 total time=   0.2s\n",
      "[CV 5/5] END classifier__criterion=entropy, classifier__max_depth=10, classifier__min_samples_leaf=5, classifier__min_samples_split=2;, score=0.142 total time=   0.2s\n",
      "[CV 1/5] END classifier__criterion=entropy, classifier__max_depth=10, classifier__min_samples_leaf=5, classifier__min_samples_split=10;, score=0.888 total time=   0.2s\n",
      "[CV 2/5] END classifier__criterion=entropy, classifier__max_depth=10, classifier__min_samples_leaf=5, classifier__min_samples_split=10;, score=0.710 total time=   0.2s\n",
      "[CV 3/5] END classifier__criterion=entropy, classifier__max_depth=10, classifier__min_samples_leaf=5, classifier__min_samples_split=10;, score=0.822 total time=   0.2s\n",
      "[CV 4/5] END classifier__criterion=entropy, classifier__max_depth=10, classifier__min_samples_leaf=5, classifier__min_samples_split=10;, score=0.139 total time=   0.2s\n",
      "[CV 5/5] END classifier__criterion=entropy, classifier__max_depth=10, classifier__min_samples_leaf=5, classifier__min_samples_split=10;, score=0.142 total time=   0.2s\n",
      "[CV 1/5] END classifier__criterion=entropy, classifier__max_depth=10, classifier__min_samples_leaf=5, classifier__min_samples_split=20;, score=0.888 total time=   0.2s\n",
      "[CV 2/5] END classifier__criterion=entropy, classifier__max_depth=10, classifier__min_samples_leaf=5, classifier__min_samples_split=20;, score=0.711 total time=   0.2s\n",
      "[CV 3/5] END classifier__criterion=entropy, classifier__max_depth=10, classifier__min_samples_leaf=5, classifier__min_samples_split=20;, score=0.824 total time=   0.2s\n",
      "[CV 4/5] END classifier__criterion=entropy, classifier__max_depth=10, classifier__min_samples_leaf=5, classifier__min_samples_split=20;, score=0.139 total time=   0.2s\n",
      "[CV 5/5] END classifier__criterion=entropy, classifier__max_depth=10, classifier__min_samples_leaf=5, classifier__min_samples_split=20;, score=0.142 total time=   0.2s\n",
      "[CV 1/5] END classifier__criterion=entropy, classifier__max_depth=10, classifier__min_samples_leaf=10, classifier__min_samples_split=2;, score=0.888 total time=   0.2s\n",
      "[CV 2/5] END classifier__criterion=entropy, classifier__max_depth=10, classifier__min_samples_leaf=10, classifier__min_samples_split=2;, score=0.710 total time=   0.2s\n",
      "[CV 3/5] END classifier__criterion=entropy, classifier__max_depth=10, classifier__min_samples_leaf=10, classifier__min_samples_split=2;, score=0.831 total time=   0.2s\n",
      "[CV 4/5] END classifier__criterion=entropy, classifier__max_depth=10, classifier__min_samples_leaf=10, classifier__min_samples_split=2;, score=0.140 total time=   0.2s\n",
      "[CV 5/5] END classifier__criterion=entropy, classifier__max_depth=10, classifier__min_samples_leaf=10, classifier__min_samples_split=2;, score=0.142 total time=   0.2s\n",
      "[CV 1/5] END classifier__criterion=entropy, classifier__max_depth=10, classifier__min_samples_leaf=10, classifier__min_samples_split=10;, score=0.888 total time=   0.2s\n",
      "[CV 2/5] END classifier__criterion=entropy, classifier__max_depth=10, classifier__min_samples_leaf=10, classifier__min_samples_split=10;, score=0.710 total time=   0.2s\n",
      "[CV 3/5] END classifier__criterion=entropy, classifier__max_depth=10, classifier__min_samples_leaf=10, classifier__min_samples_split=10;, score=0.831 total time=   0.2s\n",
      "[CV 4/5] END classifier__criterion=entropy, classifier__max_depth=10, classifier__min_samples_leaf=10, classifier__min_samples_split=10;, score=0.140 total time=   0.2s\n",
      "[CV 5/5] END classifier__criterion=entropy, classifier__max_depth=10, classifier__min_samples_leaf=10, classifier__min_samples_split=10;, score=0.142 total time=   0.2s\n",
      "[CV 1/5] END classifier__criterion=entropy, classifier__max_depth=10, classifier__min_samples_leaf=10, classifier__min_samples_split=20;, score=0.888 total time=   0.2s\n",
      "[CV 2/5] END classifier__criterion=entropy, classifier__max_depth=10, classifier__min_samples_leaf=10, classifier__min_samples_split=20;, score=0.710 total time=   0.2s\n",
      "[CV 3/5] END classifier__criterion=entropy, classifier__max_depth=10, classifier__min_samples_leaf=10, classifier__min_samples_split=20;, score=0.831 total time=   0.2s\n",
      "[CV 4/5] END classifier__criterion=entropy, classifier__max_depth=10, classifier__min_samples_leaf=10, classifier__min_samples_split=20;, score=0.140 total time=   0.2s\n",
      "[CV 5/5] END classifier__criterion=entropy, classifier__max_depth=10, classifier__min_samples_leaf=10, classifier__min_samples_split=20;, score=0.142 total time=   0.2s\n",
      "[CV 1/5] END classifier__criterion=entropy, classifier__max_depth=12, classifier__min_samples_leaf=1, classifier__min_samples_split=2;, score=0.889 total time=   0.2s\n",
      "[CV 2/5] END classifier__criterion=entropy, classifier__max_depth=12, classifier__min_samples_leaf=1, classifier__min_samples_split=2;, score=0.702 total time=   0.2s\n",
      "[CV 3/5] END classifier__criterion=entropy, classifier__max_depth=12, classifier__min_samples_leaf=1, classifier__min_samples_split=2;, score=0.753 total time=   0.2s\n",
      "[CV 4/5] END classifier__criterion=entropy, classifier__max_depth=12, classifier__min_samples_leaf=1, classifier__min_samples_split=2;, score=0.138 total time=   0.3s\n",
      "[CV 5/5] END classifier__criterion=entropy, classifier__max_depth=12, classifier__min_samples_leaf=1, classifier__min_samples_split=2;, score=0.141 total time=   0.3s\n",
      "[CV 1/5] END classifier__criterion=entropy, classifier__max_depth=12, classifier__min_samples_leaf=1, classifier__min_samples_split=10;, score=0.889 total time=   0.2s\n",
      "[CV 2/5] END classifier__criterion=entropy, classifier__max_depth=12, classifier__min_samples_leaf=1, classifier__min_samples_split=10;, score=0.701 total time=   0.2s\n",
      "[CV 3/5] END classifier__criterion=entropy, classifier__max_depth=12, classifier__min_samples_leaf=1, classifier__min_samples_split=10;, score=0.751 total time=   0.2s\n",
      "[CV 4/5] END classifier__criterion=entropy, classifier__max_depth=12, classifier__min_samples_leaf=1, classifier__min_samples_split=10;, score=0.138 total time=   0.2s\n",
      "[CV 5/5] END classifier__criterion=entropy, classifier__max_depth=12, classifier__min_samples_leaf=1, classifier__min_samples_split=10;, score=0.142 total time=   0.2s\n",
      "[CV 1/5] END classifier__criterion=entropy, classifier__max_depth=12, classifier__min_samples_leaf=1, classifier__min_samples_split=20;, score=0.889 total time=   0.2s\n",
      "[CV 2/5] END classifier__criterion=entropy, classifier__max_depth=12, classifier__min_samples_leaf=1, classifier__min_samples_split=20;, score=0.704 total time=   0.2s\n",
      "[CV 3/5] END classifier__criterion=entropy, classifier__max_depth=12, classifier__min_samples_leaf=1, classifier__min_samples_split=20;, score=0.756 total time=   0.3s\n"
     ]
    },
    {
     "name": "stdout",
     "output_type": "stream",
     "text": [
      "[CV 4/5] END classifier__criterion=entropy, classifier__max_depth=12, classifier__min_samples_leaf=1, classifier__min_samples_split=20;, score=0.139 total time=   0.2s\n",
      "[CV 5/5] END classifier__criterion=entropy, classifier__max_depth=12, classifier__min_samples_leaf=1, classifier__min_samples_split=20;, score=0.142 total time=   0.4s\n",
      "[CV 1/5] END classifier__criterion=entropy, classifier__max_depth=12, classifier__min_samples_leaf=5, classifier__min_samples_split=2;, score=0.888 total time=   0.3s\n",
      "[CV 2/5] END classifier__criterion=entropy, classifier__max_depth=12, classifier__min_samples_leaf=5, classifier__min_samples_split=2;, score=0.715 total time=   0.2s\n",
      "[CV 3/5] END classifier__criterion=entropy, classifier__max_depth=12, classifier__min_samples_leaf=5, classifier__min_samples_split=2;, score=0.821 total time=   0.3s\n",
      "[CV 4/5] END classifier__criterion=entropy, classifier__max_depth=12, classifier__min_samples_leaf=5, classifier__min_samples_split=2;, score=0.139 total time=   0.3s\n",
      "[CV 5/5] END classifier__criterion=entropy, classifier__max_depth=12, classifier__min_samples_leaf=5, classifier__min_samples_split=2;, score=0.142 total time=   0.2s\n",
      "[CV 1/5] END classifier__criterion=entropy, classifier__max_depth=12, classifier__min_samples_leaf=5, classifier__min_samples_split=10;, score=0.888 total time=   0.2s\n",
      "[CV 2/5] END classifier__criterion=entropy, classifier__max_depth=12, classifier__min_samples_leaf=5, classifier__min_samples_split=10;, score=0.715 total time=   0.3s\n",
      "[CV 3/5] END classifier__criterion=entropy, classifier__max_depth=12, classifier__min_samples_leaf=5, classifier__min_samples_split=10;, score=0.820 total time=   0.2s\n",
      "[CV 4/5] END classifier__criterion=entropy, classifier__max_depth=12, classifier__min_samples_leaf=5, classifier__min_samples_split=10;, score=0.139 total time=   0.3s\n",
      "[CV 5/5] END classifier__criterion=entropy, classifier__max_depth=12, classifier__min_samples_leaf=5, classifier__min_samples_split=10;, score=0.142 total time=   0.2s\n",
      "[CV 1/5] END classifier__criterion=entropy, classifier__max_depth=12, classifier__min_samples_leaf=5, classifier__min_samples_split=20;, score=0.888 total time=   0.2s\n",
      "[CV 2/5] END classifier__criterion=entropy, classifier__max_depth=12, classifier__min_samples_leaf=5, classifier__min_samples_split=20;, score=0.716 total time=   0.2s\n",
      "[CV 3/5] END classifier__criterion=entropy, classifier__max_depth=12, classifier__min_samples_leaf=5, classifier__min_samples_split=20;, score=0.823 total time=   0.2s\n",
      "[CV 4/5] END classifier__criterion=entropy, classifier__max_depth=12, classifier__min_samples_leaf=5, classifier__min_samples_split=20;, score=0.140 total time=   0.2s\n",
      "[CV 5/5] END classifier__criterion=entropy, classifier__max_depth=12, classifier__min_samples_leaf=5, classifier__min_samples_split=20;, score=0.142 total time=   0.2s\n",
      "[CV 1/5] END classifier__criterion=entropy, classifier__max_depth=12, classifier__min_samples_leaf=10, classifier__min_samples_split=2;, score=0.888 total time=   0.2s\n",
      "[CV 2/5] END classifier__criterion=entropy, classifier__max_depth=12, classifier__min_samples_leaf=10, classifier__min_samples_split=2;, score=0.713 total time=   0.3s\n",
      "[CV 3/5] END classifier__criterion=entropy, classifier__max_depth=12, classifier__min_samples_leaf=10, classifier__min_samples_split=2;, score=0.830 total time=   0.4s\n",
      "[CV 4/5] END classifier__criterion=entropy, classifier__max_depth=12, classifier__min_samples_leaf=10, classifier__min_samples_split=2;, score=0.139 total time=   0.3s\n",
      "[CV 5/5] END classifier__criterion=entropy, classifier__max_depth=12, classifier__min_samples_leaf=10, classifier__min_samples_split=2;, score=0.142 total time=   0.3s\n",
      "[CV 1/5] END classifier__criterion=entropy, classifier__max_depth=12, classifier__min_samples_leaf=10, classifier__min_samples_split=10;, score=0.889 total time=   0.2s\n",
      "[CV 2/5] END classifier__criterion=entropy, classifier__max_depth=12, classifier__min_samples_leaf=10, classifier__min_samples_split=10;, score=0.713 total time=   0.2s\n",
      "[CV 3/5] END classifier__criterion=entropy, classifier__max_depth=12, classifier__min_samples_leaf=10, classifier__min_samples_split=10;, score=0.830 total time=   0.2s\n",
      "[CV 4/5] END classifier__criterion=entropy, classifier__max_depth=12, classifier__min_samples_leaf=10, classifier__min_samples_split=10;, score=0.139 total time=   0.2s\n",
      "[CV 5/5] END classifier__criterion=entropy, classifier__max_depth=12, classifier__min_samples_leaf=10, classifier__min_samples_split=10;, score=0.142 total time=   0.3s\n",
      "[CV 1/5] END classifier__criterion=entropy, classifier__max_depth=12, classifier__min_samples_leaf=10, classifier__min_samples_split=20;, score=0.889 total time=   0.2s\n",
      "[CV 2/5] END classifier__criterion=entropy, classifier__max_depth=12, classifier__min_samples_leaf=10, classifier__min_samples_split=20;, score=0.713 total time=   0.2s\n",
      "[CV 3/5] END classifier__criterion=entropy, classifier__max_depth=12, classifier__min_samples_leaf=10, classifier__min_samples_split=20;, score=0.830 total time=   0.3s\n",
      "[CV 4/5] END classifier__criterion=entropy, classifier__max_depth=12, classifier__min_samples_leaf=10, classifier__min_samples_split=20;, score=0.140 total time=   0.2s\n",
      "[CV 5/5] END classifier__criterion=entropy, classifier__max_depth=12, classifier__min_samples_leaf=10, classifier__min_samples_split=20;, score=0.142 total time=   0.3s\n",
      "[CV 1/5] END classifier__criterion=gini, classifier__max_depth=6, classifier__min_samples_leaf=1, classifier__min_samples_split=2;, score=0.888 total time=   0.2s\n",
      "[CV 2/5] END classifier__criterion=gini, classifier__max_depth=6, classifier__min_samples_leaf=1, classifier__min_samples_split=2;, score=0.375 total time=   0.2s\n",
      "[CV 3/5] END classifier__criterion=gini, classifier__max_depth=6, classifier__min_samples_leaf=1, classifier__min_samples_split=2;, score=0.714 total time=   0.2s\n",
      "[CV 4/5] END classifier__criterion=gini, classifier__max_depth=6, classifier__min_samples_leaf=1, classifier__min_samples_split=2;, score=0.201 total time=   0.2s\n",
      "[CV 5/5] END classifier__criterion=gini, classifier__max_depth=6, classifier__min_samples_leaf=1, classifier__min_samples_split=2;, score=0.142 total time=   0.2s\n",
      "[CV 1/5] END classifier__criterion=gini, classifier__max_depth=6, classifier__min_samples_leaf=1, classifier__min_samples_split=10;, score=0.888 total time=   0.2s\n",
      "[CV 2/5] END classifier__criterion=gini, classifier__max_depth=6, classifier__min_samples_leaf=1, classifier__min_samples_split=10;, score=0.375 total time=   0.2s\n",
      "[CV 3/5] END classifier__criterion=gini, classifier__max_depth=6, classifier__min_samples_leaf=1, classifier__min_samples_split=10;, score=0.714 total time=   0.3s\n",
      "[CV 4/5] END classifier__criterion=gini, classifier__max_depth=6, classifier__min_samples_leaf=1, classifier__min_samples_split=10;, score=0.201 total time=   0.2s\n",
      "[CV 5/5] END classifier__criterion=gini, classifier__max_depth=6, classifier__min_samples_leaf=1, classifier__min_samples_split=10;, score=0.142 total time=   0.2s\n",
      "[CV 1/5] END classifier__criterion=gini, classifier__max_depth=6, classifier__min_samples_leaf=1, classifier__min_samples_split=20;, score=0.888 total time=   0.2s\n",
      "[CV 2/5] END classifier__criterion=gini, classifier__max_depth=6, classifier__min_samples_leaf=1, classifier__min_samples_split=20;, score=0.375 total time=   0.2s\n",
      "[CV 3/5] END classifier__criterion=gini, classifier__max_depth=6, classifier__min_samples_leaf=1, classifier__min_samples_split=20;, score=0.714 total time=   0.4s\n",
      "[CV 4/5] END classifier__criterion=gini, classifier__max_depth=6, classifier__min_samples_leaf=1, classifier__min_samples_split=20;, score=0.201 total time=   0.3s\n",
      "[CV 5/5] END classifier__criterion=gini, classifier__max_depth=6, classifier__min_samples_leaf=1, classifier__min_samples_split=20;, score=0.142 total time=   0.2s\n",
      "[CV 1/5] END classifier__criterion=gini, classifier__max_depth=6, classifier__min_samples_leaf=5, classifier__min_samples_split=2;, score=0.888 total time=   0.3s\n",
      "[CV 2/5] END classifier__criterion=gini, classifier__max_depth=6, classifier__min_samples_leaf=5, classifier__min_samples_split=2;, score=0.375 total time=   0.2s\n",
      "[CV 3/5] END classifier__criterion=gini, classifier__max_depth=6, classifier__min_samples_leaf=5, classifier__min_samples_split=2;, score=0.714 total time=   0.3s\n"
     ]
    },
    {
     "name": "stdout",
     "output_type": "stream",
     "text": [
      "[CV 4/5] END classifier__criterion=gini, classifier__max_depth=6, classifier__min_samples_leaf=5, classifier__min_samples_split=2;, score=0.200 total time=   0.2s\n",
      "[CV 5/5] END classifier__criterion=gini, classifier__max_depth=6, classifier__min_samples_leaf=5, classifier__min_samples_split=2;, score=0.142 total time=   0.4s\n",
      "[CV 1/5] END classifier__criterion=gini, classifier__max_depth=6, classifier__min_samples_leaf=5, classifier__min_samples_split=10;, score=0.888 total time=   0.2s\n",
      "[CV 2/5] END classifier__criterion=gini, classifier__max_depth=6, classifier__min_samples_leaf=5, classifier__min_samples_split=10;, score=0.375 total time=   0.2s\n",
      "[CV 3/5] END classifier__criterion=gini, classifier__max_depth=6, classifier__min_samples_leaf=5, classifier__min_samples_split=10;, score=0.714 total time=   0.2s\n",
      "[CV 4/5] END classifier__criterion=gini, classifier__max_depth=6, classifier__min_samples_leaf=5, classifier__min_samples_split=10;, score=0.200 total time=   0.2s\n",
      "[CV 5/5] END classifier__criterion=gini, classifier__max_depth=6, classifier__min_samples_leaf=5, classifier__min_samples_split=10;, score=0.142 total time=   0.2s\n",
      "[CV 1/5] END classifier__criterion=gini, classifier__max_depth=6, classifier__min_samples_leaf=5, classifier__min_samples_split=20;, score=0.888 total time=   0.2s\n",
      "[CV 2/5] END classifier__criterion=gini, classifier__max_depth=6, classifier__min_samples_leaf=5, classifier__min_samples_split=20;, score=0.375 total time=   0.2s\n",
      "[CV 3/5] END classifier__criterion=gini, classifier__max_depth=6, classifier__min_samples_leaf=5, classifier__min_samples_split=20;, score=0.714 total time=   0.2s\n",
      "[CV 4/5] END classifier__criterion=gini, classifier__max_depth=6, classifier__min_samples_leaf=5, classifier__min_samples_split=20;, score=0.200 total time=   0.2s\n",
      "[CV 5/5] END classifier__criterion=gini, classifier__max_depth=6, classifier__min_samples_leaf=5, classifier__min_samples_split=20;, score=0.142 total time=   0.2s\n",
      "[CV 1/5] END classifier__criterion=gini, classifier__max_depth=6, classifier__min_samples_leaf=10, classifier__min_samples_split=2;, score=0.888 total time=   0.2s\n",
      "[CV 2/5] END classifier__criterion=gini, classifier__max_depth=6, classifier__min_samples_leaf=10, classifier__min_samples_split=2;, score=0.375 total time=   0.2s\n",
      "[CV 3/5] END classifier__criterion=gini, classifier__max_depth=6, classifier__min_samples_leaf=10, classifier__min_samples_split=2;, score=0.840 total time=   0.2s\n",
      "[CV 4/5] END classifier__criterion=gini, classifier__max_depth=6, classifier__min_samples_leaf=10, classifier__min_samples_split=2;, score=0.203 total time=   0.2s\n",
      "[CV 5/5] END classifier__criterion=gini, classifier__max_depth=6, classifier__min_samples_leaf=10, classifier__min_samples_split=2;, score=0.142 total time=   0.2s\n",
      "[CV 1/5] END classifier__criterion=gini, classifier__max_depth=6, classifier__min_samples_leaf=10, classifier__min_samples_split=10;, score=0.888 total time=   0.2s\n",
      "[CV 2/5] END classifier__criterion=gini, classifier__max_depth=6, classifier__min_samples_leaf=10, classifier__min_samples_split=10;, score=0.375 total time=   0.2s\n",
      "[CV 3/5] END classifier__criterion=gini, classifier__max_depth=6, classifier__min_samples_leaf=10, classifier__min_samples_split=10;, score=0.840 total time=   0.2s\n",
      "[CV 4/5] END classifier__criterion=gini, classifier__max_depth=6, classifier__min_samples_leaf=10, classifier__min_samples_split=10;, score=0.203 total time=   0.2s\n",
      "[CV 5/5] END classifier__criterion=gini, classifier__max_depth=6, classifier__min_samples_leaf=10, classifier__min_samples_split=10;, score=0.142 total time=   0.2s\n",
      "[CV 1/5] END classifier__criterion=gini, classifier__max_depth=6, classifier__min_samples_leaf=10, classifier__min_samples_split=20;, score=0.888 total time=   0.2s\n",
      "[CV 2/5] END classifier__criterion=gini, classifier__max_depth=6, classifier__min_samples_leaf=10, classifier__min_samples_split=20;, score=0.375 total time=   0.2s\n",
      "[CV 3/5] END classifier__criterion=gini, classifier__max_depth=6, classifier__min_samples_leaf=10, classifier__min_samples_split=20;, score=0.840 total time=   0.2s\n",
      "[CV 4/5] END classifier__criterion=gini, classifier__max_depth=6, classifier__min_samples_leaf=10, classifier__min_samples_split=20;, score=0.203 total time=   0.2s\n",
      "[CV 5/5] END classifier__criterion=gini, classifier__max_depth=6, classifier__min_samples_leaf=10, classifier__min_samples_split=20;, score=0.142 total time=   0.2s\n",
      "[CV 1/5] END classifier__criterion=gini, classifier__max_depth=8, classifier__min_samples_leaf=1, classifier__min_samples_split=2;, score=0.888 total time=   0.2s\n",
      "[CV 2/5] END classifier__criterion=gini, classifier__max_depth=8, classifier__min_samples_leaf=1, classifier__min_samples_split=2;, score=0.370 total time=   0.2s\n",
      "[CV 3/5] END classifier__criterion=gini, classifier__max_depth=8, classifier__min_samples_leaf=1, classifier__min_samples_split=2;, score=0.722 total time=   0.2s\n",
      "[CV 4/5] END classifier__criterion=gini, classifier__max_depth=8, classifier__min_samples_leaf=1, classifier__min_samples_split=2;, score=0.201 total time=   0.2s\n",
      "[CV 5/5] END classifier__criterion=gini, classifier__max_depth=8, classifier__min_samples_leaf=1, classifier__min_samples_split=2;, score=0.142 total time=   0.2s\n",
      "[CV 1/5] END classifier__criterion=gini, classifier__max_depth=8, classifier__min_samples_leaf=1, classifier__min_samples_split=10;, score=0.888 total time=   0.2s\n",
      "[CV 2/5] END classifier__criterion=gini, classifier__max_depth=8, classifier__min_samples_leaf=1, classifier__min_samples_split=10;, score=0.370 total time=   0.2s\n",
      "[CV 3/5] END classifier__criterion=gini, classifier__max_depth=8, classifier__min_samples_leaf=1, classifier__min_samples_split=10;, score=0.722 total time=   0.2s\n",
      "[CV 4/5] END classifier__criterion=gini, classifier__max_depth=8, classifier__min_samples_leaf=1, classifier__min_samples_split=10;, score=0.201 total time=   0.2s\n",
      "[CV 5/5] END classifier__criterion=gini, classifier__max_depth=8, classifier__min_samples_leaf=1, classifier__min_samples_split=10;, score=0.143 total time=   0.2s\n",
      "[CV 1/5] END classifier__criterion=gini, classifier__max_depth=8, classifier__min_samples_leaf=1, classifier__min_samples_split=20;, score=0.888 total time=   0.2s\n",
      "[CV 2/5] END classifier__criterion=gini, classifier__max_depth=8, classifier__min_samples_leaf=1, classifier__min_samples_split=20;, score=0.370 total time=   0.2s\n",
      "[CV 3/5] END classifier__criterion=gini, classifier__max_depth=8, classifier__min_samples_leaf=1, classifier__min_samples_split=20;, score=0.723 total time=   0.2s\n",
      "[CV 4/5] END classifier__criterion=gini, classifier__max_depth=8, classifier__min_samples_leaf=1, classifier__min_samples_split=20;, score=0.200 total time=   0.2s\n",
      "[CV 5/5] END classifier__criterion=gini, classifier__max_depth=8, classifier__min_samples_leaf=1, classifier__min_samples_split=20;, score=0.142 total time=   0.2s\n",
      "[CV 1/5] END classifier__criterion=gini, classifier__max_depth=8, classifier__min_samples_leaf=5, classifier__min_samples_split=2;, score=0.888 total time=   0.2s\n",
      "[CV 2/5] END classifier__criterion=gini, classifier__max_depth=8, classifier__min_samples_leaf=5, classifier__min_samples_split=2;, score=0.369 total time=   0.2s\n",
      "[CV 3/5] END classifier__criterion=gini, classifier__max_depth=8, classifier__min_samples_leaf=5, classifier__min_samples_split=2;, score=0.723 total time=   0.2s\n",
      "[CV 4/5] END classifier__criterion=gini, classifier__max_depth=8, classifier__min_samples_leaf=5, classifier__min_samples_split=2;, score=0.200 total time=   0.2s\n",
      "[CV 5/5] END classifier__criterion=gini, classifier__max_depth=8, classifier__min_samples_leaf=5, classifier__min_samples_split=2;, score=0.143 total time=   0.2s\n",
      "[CV 1/5] END classifier__criterion=gini, classifier__max_depth=8, classifier__min_samples_leaf=5, classifier__min_samples_split=10;, score=0.888 total time=   0.2s\n",
      "[CV 2/5] END classifier__criterion=gini, classifier__max_depth=8, classifier__min_samples_leaf=5, classifier__min_samples_split=10;, score=0.369 total time=   0.2s\n",
      "[CV 3/5] END classifier__criterion=gini, classifier__max_depth=8, classifier__min_samples_leaf=5, classifier__min_samples_split=10;, score=0.723 total time=   0.2s\n"
     ]
    },
    {
     "name": "stdout",
     "output_type": "stream",
     "text": [
      "[CV 4/5] END classifier__criterion=gini, classifier__max_depth=8, classifier__min_samples_leaf=5, classifier__min_samples_split=10;, score=0.200 total time=   0.2s\n",
      "[CV 5/5] END classifier__criterion=gini, classifier__max_depth=8, classifier__min_samples_leaf=5, classifier__min_samples_split=10;, score=0.143 total time=   0.2s\n",
      "[CV 1/5] END classifier__criterion=gini, classifier__max_depth=8, classifier__min_samples_leaf=5, classifier__min_samples_split=20;, score=0.888 total time=   0.2s\n",
      "[CV 2/5] END classifier__criterion=gini, classifier__max_depth=8, classifier__min_samples_leaf=5, classifier__min_samples_split=20;, score=0.370 total time=   0.2s\n",
      "[CV 3/5] END classifier__criterion=gini, classifier__max_depth=8, classifier__min_samples_leaf=5, classifier__min_samples_split=20;, score=0.723 total time=   0.2s\n",
      "[CV 4/5] END classifier__criterion=gini, classifier__max_depth=8, classifier__min_samples_leaf=5, classifier__min_samples_split=20;, score=0.200 total time=   0.2s\n",
      "[CV 5/5] END classifier__criterion=gini, classifier__max_depth=8, classifier__min_samples_leaf=5, classifier__min_samples_split=20;, score=0.142 total time=   0.2s\n",
      "[CV 1/5] END classifier__criterion=gini, classifier__max_depth=8, classifier__min_samples_leaf=10, classifier__min_samples_split=2;, score=0.888 total time=   0.2s\n",
      "[CV 2/5] END classifier__criterion=gini, classifier__max_depth=8, classifier__min_samples_leaf=10, classifier__min_samples_split=2;, score=0.370 total time=   0.2s\n",
      "[CV 3/5] END classifier__criterion=gini, classifier__max_depth=8, classifier__min_samples_leaf=10, classifier__min_samples_split=2;, score=0.835 total time=   0.2s\n",
      "[CV 4/5] END classifier__criterion=gini, classifier__max_depth=8, classifier__min_samples_leaf=10, classifier__min_samples_split=2;, score=0.202 total time=   0.2s\n",
      "[CV 5/5] END classifier__criterion=gini, classifier__max_depth=8, classifier__min_samples_leaf=10, classifier__min_samples_split=2;, score=0.142 total time=   0.2s\n",
      "[CV 1/5] END classifier__criterion=gini, classifier__max_depth=8, classifier__min_samples_leaf=10, classifier__min_samples_split=10;, score=0.888 total time=   0.2s\n",
      "[CV 2/5] END classifier__criterion=gini, classifier__max_depth=8, classifier__min_samples_leaf=10, classifier__min_samples_split=10;, score=0.370 total time=   0.2s\n",
      "[CV 3/5] END classifier__criterion=gini, classifier__max_depth=8, classifier__min_samples_leaf=10, classifier__min_samples_split=10;, score=0.835 total time=   0.2s\n",
      "[CV 4/5] END classifier__criterion=gini, classifier__max_depth=8, classifier__min_samples_leaf=10, classifier__min_samples_split=10;, score=0.202 total time=   0.2s\n",
      "[CV 5/5] END classifier__criterion=gini, classifier__max_depth=8, classifier__min_samples_leaf=10, classifier__min_samples_split=10;, score=0.142 total time=   0.2s\n",
      "[CV 1/5] END classifier__criterion=gini, classifier__max_depth=8, classifier__min_samples_leaf=10, classifier__min_samples_split=20;, score=0.888 total time=   0.2s\n",
      "[CV 2/5] END classifier__criterion=gini, classifier__max_depth=8, classifier__min_samples_leaf=10, classifier__min_samples_split=20;, score=0.370 total time=   0.2s\n",
      "[CV 3/5] END classifier__criterion=gini, classifier__max_depth=8, classifier__min_samples_leaf=10, classifier__min_samples_split=20;, score=0.835 total time=   0.2s\n",
      "[CV 4/5] END classifier__criterion=gini, classifier__max_depth=8, classifier__min_samples_leaf=10, classifier__min_samples_split=20;, score=0.202 total time=   0.2s\n",
      "[CV 5/5] END classifier__criterion=gini, classifier__max_depth=8, classifier__min_samples_leaf=10, classifier__min_samples_split=20;, score=0.142 total time=   0.5s\n",
      "[CV 1/5] END classifier__criterion=gini, classifier__max_depth=10, classifier__min_samples_leaf=1, classifier__min_samples_split=2;, score=0.888 total time=   0.2s\n",
      "[CV 2/5] END classifier__criterion=gini, classifier__max_depth=10, classifier__min_samples_leaf=1, classifier__min_samples_split=2;, score=0.369 total time=   0.3s\n",
      "[CV 3/5] END classifier__criterion=gini, classifier__max_depth=10, classifier__min_samples_leaf=1, classifier__min_samples_split=2;, score=0.716 total time=   0.2s\n",
      "[CV 4/5] END classifier__criterion=gini, classifier__max_depth=10, classifier__min_samples_leaf=1, classifier__min_samples_split=2;, score=0.201 total time=   0.2s\n",
      "[CV 5/5] END classifier__criterion=gini, classifier__max_depth=10, classifier__min_samples_leaf=1, classifier__min_samples_split=2;, score=0.142 total time=   0.2s\n",
      "[CV 1/5] END classifier__criterion=gini, classifier__max_depth=10, classifier__min_samples_leaf=1, classifier__min_samples_split=10;, score=0.888 total time=   0.2s\n",
      "[CV 2/5] END classifier__criterion=gini, classifier__max_depth=10, classifier__min_samples_leaf=1, classifier__min_samples_split=10;, score=0.367 total time=   0.2s\n",
      "[CV 3/5] END classifier__criterion=gini, classifier__max_depth=10, classifier__min_samples_leaf=1, classifier__min_samples_split=10;, score=0.716 total time=   0.3s\n",
      "[CV 4/5] END classifier__criterion=gini, classifier__max_depth=10, classifier__min_samples_leaf=1, classifier__min_samples_split=10;, score=0.200 total time=   0.4s\n",
      "[CV 5/5] END classifier__criterion=gini, classifier__max_depth=10, classifier__min_samples_leaf=1, classifier__min_samples_split=10;, score=0.142 total time=   0.4s\n",
      "[CV 1/5] END classifier__criterion=gini, classifier__max_depth=10, classifier__min_samples_leaf=1, classifier__min_samples_split=20;, score=0.888 total time=   0.3s\n",
      "[CV 2/5] END classifier__criterion=gini, classifier__max_depth=10, classifier__min_samples_leaf=1, classifier__min_samples_split=20;, score=0.367 total time=   0.4s\n",
      "[CV 3/5] END classifier__criterion=gini, classifier__max_depth=10, classifier__min_samples_leaf=1, classifier__min_samples_split=20;, score=0.716 total time=   0.3s\n",
      "[CV 4/5] END classifier__criterion=gini, classifier__max_depth=10, classifier__min_samples_leaf=1, classifier__min_samples_split=20;, score=0.199 total time=   0.3s\n",
      "[CV 5/5] END classifier__criterion=gini, classifier__max_depth=10, classifier__min_samples_leaf=1, classifier__min_samples_split=20;, score=0.142 total time=   0.3s\n",
      "[CV 1/5] END classifier__criterion=gini, classifier__max_depth=10, classifier__min_samples_leaf=5, classifier__min_samples_split=2;, score=0.888 total time=   0.2s\n",
      "[CV 2/5] END classifier__criterion=gini, classifier__max_depth=10, classifier__min_samples_leaf=5, classifier__min_samples_split=2;, score=0.369 total time=   0.2s\n",
      "[CV 3/5] END classifier__criterion=gini, classifier__max_depth=10, classifier__min_samples_leaf=5, classifier__min_samples_split=2;, score=0.723 total time=   0.2s\n",
      "[CV 4/5] END classifier__criterion=gini, classifier__max_depth=10, classifier__min_samples_leaf=5, classifier__min_samples_split=2;, score=0.200 total time=   0.2s\n",
      "[CV 5/5] END classifier__criterion=gini, classifier__max_depth=10, classifier__min_samples_leaf=5, classifier__min_samples_split=2;, score=0.143 total time=   0.5s\n",
      "[CV 1/5] END classifier__criterion=gini, classifier__max_depth=10, classifier__min_samples_leaf=5, classifier__min_samples_split=10;, score=0.888 total time=   0.3s\n",
      "[CV 2/5] END classifier__criterion=gini, classifier__max_depth=10, classifier__min_samples_leaf=5, classifier__min_samples_split=10;, score=0.370 total time=   0.3s\n",
      "[CV 3/5] END classifier__criterion=gini, classifier__max_depth=10, classifier__min_samples_leaf=5, classifier__min_samples_split=10;, score=0.723 total time=   0.3s\n",
      "[CV 4/5] END classifier__criterion=gini, classifier__max_depth=10, classifier__min_samples_leaf=5, classifier__min_samples_split=10;, score=0.200 total time=   0.2s\n",
      "[CV 5/5] END classifier__criterion=gini, classifier__max_depth=10, classifier__min_samples_leaf=5, classifier__min_samples_split=10;, score=0.143 total time=   0.3s\n",
      "[CV 1/5] END classifier__criterion=gini, classifier__max_depth=10, classifier__min_samples_leaf=5, classifier__min_samples_split=20;, score=0.888 total time=   0.4s\n",
      "[CV 2/5] END classifier__criterion=gini, classifier__max_depth=10, classifier__min_samples_leaf=5, classifier__min_samples_split=20;, score=0.371 total time=   0.2s\n",
      "[CV 3/5] END classifier__criterion=gini, classifier__max_depth=10, classifier__min_samples_leaf=5, classifier__min_samples_split=20;, score=0.717 total time=   0.3s\n"
     ]
    },
    {
     "name": "stdout",
     "output_type": "stream",
     "text": [
      "[CV 4/5] END classifier__criterion=gini, classifier__max_depth=10, classifier__min_samples_leaf=5, classifier__min_samples_split=20;, score=0.200 total time=   0.3s\n",
      "[CV 5/5] END classifier__criterion=gini, classifier__max_depth=10, classifier__min_samples_leaf=5, classifier__min_samples_split=20;, score=0.142 total time=   0.2s\n",
      "[CV 1/5] END classifier__criterion=gini, classifier__max_depth=10, classifier__min_samples_leaf=10, classifier__min_samples_split=2;, score=0.888 total time=   0.3s\n",
      "[CV 2/5] END classifier__criterion=gini, classifier__max_depth=10, classifier__min_samples_leaf=10, classifier__min_samples_split=2;, score=0.371 total time=   0.2s\n",
      "[CV 3/5] END classifier__criterion=gini, classifier__max_depth=10, classifier__min_samples_leaf=10, classifier__min_samples_split=2;, score=0.824 total time=   0.5s\n",
      "[CV 4/5] END classifier__criterion=gini, classifier__max_depth=10, classifier__min_samples_leaf=10, classifier__min_samples_split=2;, score=0.202 total time=   0.5s\n",
      "[CV 5/5] END classifier__criterion=gini, classifier__max_depth=10, classifier__min_samples_leaf=10, classifier__min_samples_split=2;, score=0.142 total time=   0.6s\n",
      "[CV 1/5] END classifier__criterion=gini, classifier__max_depth=10, classifier__min_samples_leaf=10, classifier__min_samples_split=10;, score=0.888 total time=   0.4s\n",
      "[CV 2/5] END classifier__criterion=gini, classifier__max_depth=10, classifier__min_samples_leaf=10, classifier__min_samples_split=10;, score=0.371 total time=   0.3s\n",
      "[CV 3/5] END classifier__criterion=gini, classifier__max_depth=10, classifier__min_samples_leaf=10, classifier__min_samples_split=10;, score=0.824 total time=   0.3s\n",
      "[CV 4/5] END classifier__criterion=gini, classifier__max_depth=10, classifier__min_samples_leaf=10, classifier__min_samples_split=10;, score=0.202 total time=   0.2s\n",
      "[CV 5/5] END classifier__criterion=gini, classifier__max_depth=10, classifier__min_samples_leaf=10, classifier__min_samples_split=10;, score=0.142 total time=   0.2s\n",
      "[CV 1/5] END classifier__criterion=gini, classifier__max_depth=10, classifier__min_samples_leaf=10, classifier__min_samples_split=20;, score=0.888 total time=   0.3s\n",
      "[CV 2/5] END classifier__criterion=gini, classifier__max_depth=10, classifier__min_samples_leaf=10, classifier__min_samples_split=20;, score=0.371 total time=   0.2s\n",
      "[CV 3/5] END classifier__criterion=gini, classifier__max_depth=10, classifier__min_samples_leaf=10, classifier__min_samples_split=20;, score=0.824 total time=   0.2s\n",
      "[CV 4/5] END classifier__criterion=gini, classifier__max_depth=10, classifier__min_samples_leaf=10, classifier__min_samples_split=20;, score=0.202 total time=   0.2s\n",
      "[CV 5/5] END classifier__criterion=gini, classifier__max_depth=10, classifier__min_samples_leaf=10, classifier__min_samples_split=20;, score=0.142 total time=   0.2s\n",
      "[CV 1/5] END classifier__criterion=gini, classifier__max_depth=12, classifier__min_samples_leaf=1, classifier__min_samples_split=2;, score=0.888 total time=   0.2s\n",
      "[CV 2/5] END classifier__criterion=gini, classifier__max_depth=12, classifier__min_samples_leaf=1, classifier__min_samples_split=2;, score=0.365 total time=   0.2s\n",
      "[CV 3/5] END classifier__criterion=gini, classifier__max_depth=12, classifier__min_samples_leaf=1, classifier__min_samples_split=2;, score=0.618 total time=   0.3s\n",
      "[CV 4/5] END classifier__criterion=gini, classifier__max_depth=12, classifier__min_samples_leaf=1, classifier__min_samples_split=2;, score=0.200 total time=   0.2s\n",
      "[CV 5/5] END classifier__criterion=gini, classifier__max_depth=12, classifier__min_samples_leaf=1, classifier__min_samples_split=2;, score=0.142 total time=   0.2s\n",
      "[CV 1/5] END classifier__criterion=gini, classifier__max_depth=12, classifier__min_samples_leaf=1, classifier__min_samples_split=10;, score=0.888 total time=   0.2s\n",
      "[CV 2/5] END classifier__criterion=gini, classifier__max_depth=12, classifier__min_samples_leaf=1, classifier__min_samples_split=10;, score=0.365 total time=   0.2s\n",
      "[CV 3/5] END classifier__criterion=gini, classifier__max_depth=12, classifier__min_samples_leaf=1, classifier__min_samples_split=10;, score=0.620 total time=   0.2s\n",
      "[CV 4/5] END classifier__criterion=gini, classifier__max_depth=12, classifier__min_samples_leaf=1, classifier__min_samples_split=10;, score=0.199 total time=   0.2s\n",
      "[CV 5/5] END classifier__criterion=gini, classifier__max_depth=12, classifier__min_samples_leaf=1, classifier__min_samples_split=10;, score=0.142 total time=   0.2s\n",
      "[CV 1/5] END classifier__criterion=gini, classifier__max_depth=12, classifier__min_samples_leaf=1, classifier__min_samples_split=20;, score=0.888 total time=   0.2s\n",
      "[CV 2/5] END classifier__criterion=gini, classifier__max_depth=12, classifier__min_samples_leaf=1, classifier__min_samples_split=20;, score=0.366 total time=   0.2s\n",
      "[CV 3/5] END classifier__criterion=gini, classifier__max_depth=12, classifier__min_samples_leaf=1, classifier__min_samples_split=20;, score=0.624 total time=   0.2s\n",
      "[CV 4/5] END classifier__criterion=gini, classifier__max_depth=12, classifier__min_samples_leaf=1, classifier__min_samples_split=20;, score=0.199 total time=   0.2s\n",
      "[CV 5/5] END classifier__criterion=gini, classifier__max_depth=12, classifier__min_samples_leaf=1, classifier__min_samples_split=20;, score=0.142 total time=   0.2s\n",
      "[CV 1/5] END classifier__criterion=gini, classifier__max_depth=12, classifier__min_samples_leaf=5, classifier__min_samples_split=2;, score=0.888 total time=   0.2s\n",
      "[CV 2/5] END classifier__criterion=gini, classifier__max_depth=12, classifier__min_samples_leaf=5, classifier__min_samples_split=2;, score=0.368 total time=   0.2s\n",
      "[CV 3/5] END classifier__criterion=gini, classifier__max_depth=12, classifier__min_samples_leaf=5, classifier__min_samples_split=2;, score=0.713 total time=   0.2s\n",
      "[CV 4/5] END classifier__criterion=gini, classifier__max_depth=12, classifier__min_samples_leaf=5, classifier__min_samples_split=2;, score=0.200 total time=   0.2s\n",
      "[CV 5/5] END classifier__criterion=gini, classifier__max_depth=12, classifier__min_samples_leaf=5, classifier__min_samples_split=2;, score=0.143 total time=   0.2s\n",
      "[CV 1/5] END classifier__criterion=gini, classifier__max_depth=12, classifier__min_samples_leaf=5, classifier__min_samples_split=10;, score=0.888 total time=   0.2s\n",
      "[CV 2/5] END classifier__criterion=gini, classifier__max_depth=12, classifier__min_samples_leaf=5, classifier__min_samples_split=10;, score=0.368 total time=   0.2s\n",
      "[CV 3/5] END classifier__criterion=gini, classifier__max_depth=12, classifier__min_samples_leaf=5, classifier__min_samples_split=10;, score=0.713 total time=   0.2s\n",
      "[CV 4/5] END classifier__criterion=gini, classifier__max_depth=12, classifier__min_samples_leaf=5, classifier__min_samples_split=10;, score=0.200 total time=   0.2s\n",
      "[CV 5/5] END classifier__criterion=gini, classifier__max_depth=12, classifier__min_samples_leaf=5, classifier__min_samples_split=10;, score=0.143 total time=   0.2s\n",
      "[CV 1/5] END classifier__criterion=gini, classifier__max_depth=12, classifier__min_samples_leaf=5, classifier__min_samples_split=20;, score=0.888 total time=   0.2s\n",
      "[CV 2/5] END classifier__criterion=gini, classifier__max_depth=12, classifier__min_samples_leaf=5, classifier__min_samples_split=20;, score=0.371 total time=   0.2s\n",
      "[CV 3/5] END classifier__criterion=gini, classifier__max_depth=12, classifier__min_samples_leaf=5, classifier__min_samples_split=20;, score=0.711 total time=   0.2s\n",
      "[CV 4/5] END classifier__criterion=gini, classifier__max_depth=12, classifier__min_samples_leaf=5, classifier__min_samples_split=20;, score=0.200 total time=   0.2s\n",
      "[CV 5/5] END classifier__criterion=gini, classifier__max_depth=12, classifier__min_samples_leaf=5, classifier__min_samples_split=20;, score=0.142 total time=   0.2s\n",
      "[CV 1/5] END classifier__criterion=gini, classifier__max_depth=12, classifier__min_samples_leaf=10, classifier__min_samples_split=2;, score=0.888 total time=   0.2s\n",
      "[CV 2/5] END classifier__criterion=gini, classifier__max_depth=12, classifier__min_samples_leaf=10, classifier__min_samples_split=2;, score=0.369 total time=   0.2s\n",
      "[CV 3/5] END classifier__criterion=gini, classifier__max_depth=12, classifier__min_samples_leaf=10, classifier__min_samples_split=2;, score=0.822 total time=   0.2s\n"
     ]
    },
    {
     "name": "stdout",
     "output_type": "stream",
     "text": [
      "[CV 4/5] END classifier__criterion=gini, classifier__max_depth=12, classifier__min_samples_leaf=10, classifier__min_samples_split=2;, score=0.202 total time=   0.2s\n",
      "[CV 5/5] END classifier__criterion=gini, classifier__max_depth=12, classifier__min_samples_leaf=10, classifier__min_samples_split=2;, score=0.142 total time=   0.2s\n",
      "[CV 1/5] END classifier__criterion=gini, classifier__max_depth=12, classifier__min_samples_leaf=10, classifier__min_samples_split=10;, score=0.888 total time=   0.2s\n",
      "[CV 2/5] END classifier__criterion=gini, classifier__max_depth=12, classifier__min_samples_leaf=10, classifier__min_samples_split=10;, score=0.369 total time=   0.2s\n",
      "[CV 3/5] END classifier__criterion=gini, classifier__max_depth=12, classifier__min_samples_leaf=10, classifier__min_samples_split=10;, score=0.822 total time=   0.2s\n",
      "[CV 4/5] END classifier__criterion=gini, classifier__max_depth=12, classifier__min_samples_leaf=10, classifier__min_samples_split=10;, score=0.202 total time=   0.2s\n",
      "[CV 5/5] END classifier__criterion=gini, classifier__max_depth=12, classifier__min_samples_leaf=10, classifier__min_samples_split=10;, score=0.142 total time=   0.2s\n",
      "[CV 1/5] END classifier__criterion=gini, classifier__max_depth=12, classifier__min_samples_leaf=10, classifier__min_samples_split=20;, score=0.888 total time=   0.2s\n",
      "[CV 2/5] END classifier__criterion=gini, classifier__max_depth=12, classifier__min_samples_leaf=10, classifier__min_samples_split=20;, score=0.369 total time=   0.2s\n",
      "[CV 3/5] END classifier__criterion=gini, classifier__max_depth=12, classifier__min_samples_leaf=10, classifier__min_samples_split=20;, score=0.822 total time=   0.2s\n",
      "[CV 4/5] END classifier__criterion=gini, classifier__max_depth=12, classifier__min_samples_leaf=10, classifier__min_samples_split=20;, score=0.202 total time=   0.2s\n",
      "[CV 5/5] END classifier__criterion=gini, classifier__max_depth=12, classifier__min_samples_leaf=10, classifier__min_samples_split=20;, score=0.142 total time=   0.2s\n"
     ]
    },
    {
     "data": {
      "text/plain": [
       "GridSearchCV(cv=5,\n",
       "             estimator=Pipeline(steps=[('preprocessor',\n",
       "                                        ColumnTransformer(transformers=[('num',\n",
       "                                                                         Pipeline(steps=[('imputer',\n",
       "                                                                                          SimpleImputer(strategy='median')),\n",
       "                                                                                         ('scaler',\n",
       "                                                                                          StandardScaler())]),\n",
       "                                                                         ['age',\n",
       "                                                                          'campaign',\n",
       "                                                                          'cons_conf_idx',\n",
       "                                                                          'cons_price_idx',\n",
       "                                                                          'duration',\n",
       "                                                                          'emp_var_rate',\n",
       "                                                                          'euribor3m',\n",
       "                                                                          'nr_employed',\n",
       "                                                                          'pdays',\n",
       "                                                                          'previous']),\n",
       "                                                                        ('cat',\n",
       "                                                                         Pipeline(steps=[('imputer',\n",
       "                                                                                          Si...\n",
       "                                                                                          OneHotEncoder(handle_unknown='ignore'))]),\n",
       "                                                                         ['job',\n",
       "                                                                          'marital',\n",
       "                                                                          'education',\n",
       "                                                                          'credit_default',\n",
       "                                                                          'housing',\n",
       "                                                                          'loan',\n",
       "                                                                          'contact',\n",
       "                                                                          'contacted_month',\n",
       "                                                                          'day_of_week',\n",
       "                                                                          'poutcome'])])),\n",
       "                                       ('classifier',\n",
       "                                        DecisionTreeClassifier())]),\n",
       "             param_grid={'classifier__criterion': ['entropy', 'gini'],\n",
       "                         'classifier__max_depth': [6, 8, 10, 12],\n",
       "                         'classifier__min_samples_leaf': [1, 5, 10],\n",
       "                         'classifier__min_samples_split': [2, 10, 20]},\n",
       "             verbose=3)"
      ]
     },
     "execution_count": 48,
     "metadata": {},
     "output_type": "execute_result"
    }
   ],
   "source": [
    "clf_dt = Pipeline(steps=[('preprocessor', preprocessor),\n",
    "                      ('classifier', DecisionTreeClassifier())])\n",
    "\n",
    "dt_param_grid = {'classifier__criterion': ['entropy', 'gini'], 'classifier__max_depth': [6,8,10,12], \n",
    "                 \"classifier__min_samples_split\": [2, 10, 20],\"classifier__min_samples_leaf\": [1, 5, 10]}\n",
    "\n",
    "dt_grid = GridSearchCV(clf_dt, param_grid=dt_param_grid, cv=5,verbose=3)\n",
    "\n",
    "dt_grid.fit(X_train,y_train)"
   ]
  },
  {
   "cell_type": "code",
   "execution_count": 49,
   "metadata": {
    "id": "o6XSDMgTU31G",
    "nbgrader": {
     "grade": false,
     "grade_id": "ml_71",
     "locked": true,
     "schema_version": 3,
     "solution": false,
     "task": false
    },
    "outputId": "42bf4301-a297-42a6-ee18-c9adb37d8e46"
   },
   "outputs": [
    {
     "data": {
      "text/plain": [
       "{'classifier__criterion': 'entropy',\n",
       " 'classifier__max_depth': 6,\n",
       " 'classifier__min_samples_leaf': 1,\n",
       " 'classifier__min_samples_split': 2}"
      ]
     },
     "execution_count": 49,
     "metadata": {},
     "output_type": "execute_result"
    }
   ],
   "source": [
    "dt_grid.best_params_"
   ]
  },
  {
   "cell_type": "code",
   "execution_count": 50,
   "metadata": {
    "id": "BkH9xgUTU31H",
    "nbgrader": {
     "grade": false,
     "grade_id": "ml_72",
     "locked": true,
     "schema_version": 3,
     "solution": false,
     "task": false
    },
    "outputId": "cb24822c-f52d-4e4c-d97d-f02fd4dc3801"
   },
   "outputs": [
    {
     "name": "stdout",
     "output_type": "stream",
     "text": [
      "0.9180586578615131\n",
      "0.9210973537266327\n"
     ]
    }
   ],
   "source": [
    "train_pred = dt_grid.predict(X_train)\n",
    "test_pred = dt_grid.predict(X_test)\n",
    "\n",
    "print(dt_grid.score(X_train, y_train))\n",
    "print(dt_grid.score(X_test, y_test))"
   ]
  },
  {
   "cell_type": "code",
   "execution_count": 51,
   "metadata": {
    "id": "gttBfriJU31H",
    "nbgrader": {
     "grade": false,
     "grade_id": "ml_73",
     "locked": true,
     "schema_version": 3,
     "solution": false,
     "task": false
    },
    "outputId": "97a685c6-3162-405e-b667-576a9ed43909"
   },
   "outputs": [
    {
     "name": "stdout",
     "output_type": "stream",
     "text": [
      "              precision    recall  f1-score   support\n",
      "\n",
      "          no       0.94      0.97      0.96      3657\n",
      "         yes       0.71      0.50      0.59       462\n",
      "\n",
      "    accuracy                           0.92      4119\n",
      "   macro avg       0.83      0.74      0.77      4119\n",
      "weighted avg       0.91      0.92      0.91      4119\n",
      "\n"
     ]
    }
   ],
   "source": [
    "print(classification_report(y_true=y_test, y_pred =  test_pred))"
   ]
  },
  {
   "cell_type": "code",
   "execution_count": 52,
   "metadata": {
    "id": "-OdfK_-4U31H",
    "nbgrader": {
     "grade": false,
     "grade_id": "ml_74",
     "locked": true,
     "schema_version": 3,
     "solution": false,
     "task": false
    },
    "outputId": "2af6557b-46c0-400f-d3a9-469996cdeece"
   },
   "outputs": [
    {
     "name": "stdout",
     "output_type": "stream",
     "text": [
      "Test Precision:  0.7120743034055728\n",
      "Test Recall:  0.49783549783549785\n",
      "Test Accuracy:  0.9210973537266327\n"
     ]
    }
   ],
   "source": [
    "# Using the function to calculate accuracy, precision and recall.\n",
    "accuracy_precision_recall_metrics(y_true = y_test, y_pred = test_pred)"
   ]
  },
  {
   "cell_type": "markdown",
   "metadata": {
    "id": "obul1oglU31H",
    "nbgrader": {
     "grade": false,
     "grade_id": "ml_75",
     "locked": true,
     "schema_version": 3,
     "solution": false,
     "task": false
    }
   },
   "source": [
    "###  _Build Random Forest Model - 3_ (Using Stratified KFold)\n"
   ]
  },
  {
   "cell_type": "code",
   "execution_count": 53,
   "metadata": {
    "id": "jTpnUNoBU31H",
    "nbgrader": {
     "grade": false,
     "grade_id": "ml_76",
     "locked": true,
     "schema_version": 3,
     "solution": false,
     "task": false
    }
   },
   "outputs": [],
   "source": [
    "clf = Pipeline(steps=[('preprocessor', preprocessor),\n",
    "                      ('classifier', RandomForestClassifier())])"
   ]
  },
  {
   "cell_type": "code",
   "execution_count": 54,
   "metadata": {
    "id": "2jAEpVyDU31H",
    "nbgrader": {
     "grade": false,
     "grade_id": "ml_77",
     "locked": true,
     "schema_version": 3,
     "solution": false,
     "task": false
    }
   },
   "outputs": [],
   "source": [
    "kfold = StratifiedKFold(n_splits=5, shuffle=True, random_state=143)\n",
    "\n",
    "param_grid = {\"classifier__n_estimators\" : [150, 250, 300],\n",
    "              \"classifier__max_depth\" : [5,8,10],\n",
    "              \"classifier__max_features\" : [3, 5, 7],\n",
    "              \"classifier__min_samples_leaf\" : [4, 6, 8, 10]}\n",
    "\n",
    "rf_grid = GridSearchCV(clf, param_grid= param_grid, cv=kfold,verbose=1,n_jobs=6)"
   ]
  },
  {
   "cell_type": "code",
   "execution_count": 55,
   "metadata": {
    "id": "XzbXLHdnU31H",
    "nbgrader": {
     "grade": false,
     "grade_id": "ml_78",
     "locked": true,
     "schema_version": 3,
     "solution": false,
     "task": false
    },
    "outputId": "b85af5fa-f4d2-4e72-a47d-c52d3bd5f7cd"
   },
   "outputs": [
    {
     "data": {
      "text/plain": [
       "GridSearchCV(cv=StratifiedKFold(n_splits=5, random_state=143, shuffle=True),\n",
       "             estimator=Pipeline(steps=[('preprocessor',\n",
       "                                        ColumnTransformer(transformers=[('num',\n",
       "                                                                         Pipeline(steps=[('imputer',\n",
       "                                                                                          SimpleImputer(strategy='median')),\n",
       "                                                                                         ('scaler',\n",
       "                                                                                          StandardScaler())]),\n",
       "                                                                         ['age',\n",
       "                                                                          'campaign',\n",
       "                                                                          'cons_conf_idx',\n",
       "                                                                          'cons_price_idx',\n",
       "                                                                          'duration',\n",
       "                                                                          'emp_var_rate',\n",
       "                                                                          'euribor3m',\n",
       "                                                                          'nr_employed',\n",
       "                                                                          '...\n",
       "                                                                                          OneHotEncoder(handle_unknown='ignore'))]),\n",
       "                                                                         ['job',\n",
       "                                                                          'marital',\n",
       "                                                                          'education',\n",
       "                                                                          'credit_default',\n",
       "                                                                          'housing',\n",
       "                                                                          'loan',\n",
       "                                                                          'contact',\n",
       "                                                                          'contacted_month',\n",
       "                                                                          'day_of_week',\n",
       "                                                                          'poutcome'])])),\n",
       "                                       ('classifier',\n",
       "                                        RandomForestClassifier())]),\n",
       "             n_jobs=6,\n",
       "             param_grid={'classifier__max_depth': [5, 8, 10],\n",
       "                         'classifier__max_features': [3, 5, 7],\n",
       "                         'classifier__min_samples_leaf': [4, 6, 8, 10],\n",
       "                         'classifier__n_estimators': [150, 250, 300]},\n",
       "             verbose=1)"
      ]
     },
     "execution_count": 55,
     "metadata": {},
     "output_type": "execute_result"
    }
   ],
   "source": [
    "rf_grid"
   ]
  },
  {
   "cell_type": "code",
   "execution_count": 56,
   "metadata": {
    "id": "taYX6XesU31H",
    "nbgrader": {
     "grade": false,
     "grade_id": "ml_79",
     "locked": true,
     "schema_version": 3,
     "solution": false,
     "task": false
    },
    "outputId": "c4d01be2-6b62-457b-ca1a-f3414171e983"
   },
   "outputs": [
    {
     "name": "stdout",
     "output_type": "stream",
     "text": [
      "Fitting 5 folds for each of 108 candidates, totalling 540 fits\n"
     ]
    },
    {
     "data": {
      "text/plain": [
       "GridSearchCV(cv=StratifiedKFold(n_splits=5, random_state=143, shuffle=True),\n",
       "             estimator=Pipeline(steps=[('preprocessor',\n",
       "                                        ColumnTransformer(transformers=[('num',\n",
       "                                                                         Pipeline(steps=[('imputer',\n",
       "                                                                                          SimpleImputer(strategy='median')),\n",
       "                                                                                         ('scaler',\n",
       "                                                                                          StandardScaler())]),\n",
       "                                                                         ['age',\n",
       "                                                                          'campaign',\n",
       "                                                                          'cons_conf_idx',\n",
       "                                                                          'cons_price_idx',\n",
       "                                                                          'duration',\n",
       "                                                                          'emp_var_rate',\n",
       "                                                                          'euribor3m',\n",
       "                                                                          'nr_employed',\n",
       "                                                                          '...\n",
       "                                                                                          OneHotEncoder(handle_unknown='ignore'))]),\n",
       "                                                                         ['job',\n",
       "                                                                          'marital',\n",
       "                                                                          'education',\n",
       "                                                                          'credit_default',\n",
       "                                                                          'housing',\n",
       "                                                                          'loan',\n",
       "                                                                          'contact',\n",
       "                                                                          'contacted_month',\n",
       "                                                                          'day_of_week',\n",
       "                                                                          'poutcome'])])),\n",
       "                                       ('classifier',\n",
       "                                        RandomForestClassifier())]),\n",
       "             n_jobs=6,\n",
       "             param_grid={'classifier__max_depth': [5, 8, 10],\n",
       "                         'classifier__max_features': [3, 5, 7],\n",
       "                         'classifier__min_samples_leaf': [4, 6, 8, 10],\n",
       "                         'classifier__n_estimators': [150, 250, 300]},\n",
       "             verbose=1)"
      ]
     },
     "execution_count": 56,
     "metadata": {},
     "output_type": "execute_result"
    }
   ],
   "source": [
    "rf_grid.fit(X_train,y_train)"
   ]
  },
  {
   "cell_type": "code",
   "execution_count": 57,
   "metadata": {
    "id": "SRsS53aSU31H",
    "nbgrader": {
     "grade": false,
     "grade_id": "ml_80",
     "locked": true,
     "schema_version": 3,
     "solution": false,
     "task": false
    },
    "outputId": "2425e7ae-da03-4306-dfcd-c2ef86d69fc3"
   },
   "outputs": [
    {
     "data": {
      "text/plain": [
       "{'classifier__max_depth': 10,\n",
       " 'classifier__max_features': 7,\n",
       " 'classifier__min_samples_leaf': 4,\n",
       " 'classifier__n_estimators': 300}"
      ]
     },
     "execution_count": 57,
     "metadata": {},
     "output_type": "execute_result"
    }
   ],
   "source": [
    "rf_grid.best_params_"
   ]
  },
  {
   "cell_type": "code",
   "execution_count": 58,
   "metadata": {
    "id": "KM4-ZhqoU31I",
    "nbgrader": {
     "grade": false,
     "grade_id": "ml_81",
     "locked": true,
     "schema_version": 3,
     "solution": false,
     "task": false
    },
    "outputId": "b89c8d33-b1f5-4a7d-e7ad-298f0b2d9f47"
   },
   "outputs": [
    {
     "name": "stdout",
     "output_type": "stream",
     "text": [
      "0.9202680392347286\n",
      "0.9159990288905074\n",
      "Test Precision:  0.8020833333333334\n",
      "Test Recall:  0.3333333333333333\n",
      "Test Accuracy:  0.9159990288905074\n"
     ]
    }
   ],
   "source": [
    "train_pred = rf_grid.predict(X_train)\n",
    "test_pred = rf_grid.predict(X_test)\n",
    "\n",
    "print(rf_grid.score(X_train, y_train))\n",
    "print(rf_grid.score(X_test, y_test))\n",
    "\n",
    "# Using the function to calculate accuracy, precision and recall.\n",
    "accuracy_precision_recall_metrics(y_true = y_test, y_pred = test_pred)"
   ]
  },
  {
   "cell_type": "markdown",
   "metadata": {
    "id": "bZw_90ezU31I",
    "nbgrader": {
     "grade": false,
     "grade_id": "ml_82",
     "locked": true,
     "schema_version": 3,
     "solution": false,
     "task": false
    }
   },
   "source": [
    "### _Build Gradient Boosting - 4_"
   ]
  },
  {
   "cell_type": "code",
   "execution_count": 59,
   "metadata": {
    "id": "Lelr_xQuU31I",
    "nbgrader": {
     "grade": false,
     "grade_id": "ml_83",
     "locked": true,
     "schema_version": 3,
     "solution": false,
     "task": false
    }
   },
   "outputs": [],
   "source": [
    "clf = Pipeline(steps=[('preprocessor', preprocessor),\n",
    "                      ('GBM',GradientBoostingClassifier())])"
   ]
  },
  {
   "cell_type": "code",
   "execution_count": 60,
   "metadata": {
    "id": "-9Oi-yIkU31I",
    "nbgrader": {
     "grade": false,
     "grade_id": "ml_84",
     "locked": true,
     "schema_version": 3,
     "solution": false,
     "task": false
    },
    "outputId": "e8962b77-7f35-441e-dfe7-25336229794d"
   },
   "outputs": [
    {
     "data": {
      "text/plain": [
       "GridSearchCV(cv=3,\n",
       "             estimator=Pipeline(steps=[('preprocessor',\n",
       "                                        ColumnTransformer(transformers=[('num',\n",
       "                                                                         Pipeline(steps=[('imputer',\n",
       "                                                                                          SimpleImputer(strategy='median')),\n",
       "                                                                                         ('scaler',\n",
       "                                                                                          StandardScaler())]),\n",
       "                                                                         ['age',\n",
       "                                                                          'campaign',\n",
       "                                                                          'cons_conf_idx',\n",
       "                                                                          'cons_price_idx',\n",
       "                                                                          'duration',\n",
       "                                                                          'emp_var_rate',\n",
       "                                                                          'euribor3m',\n",
       "                                                                          'nr_employed',\n",
       "                                                                          'pdays',\n",
       "                                                                          'previous']),\n",
       "                                                                        ('cat',\n",
       "                                                                         Pipeline(steps=[('imputer',\n",
       "                                                                                          Si...\n",
       "                                                                                         ('onehot',\n",
       "                                                                                          OneHotEncoder(handle_unknown='ignore'))]),\n",
       "                                                                         ['job',\n",
       "                                                                          'marital',\n",
       "                                                                          'education',\n",
       "                                                                          'credit_default',\n",
       "                                                                          'housing',\n",
       "                                                                          'loan',\n",
       "                                                                          'contact',\n",
       "                                                                          'contacted_month',\n",
       "                                                                          'day_of_week',\n",
       "                                                                          'poutcome'])])),\n",
       "                                       ('GBM', GradientBoostingClassifier())]),\n",
       "             n_jobs=6,\n",
       "             param_grid={'GBM__max_depth': [8, 10, 12, 14],\n",
       "                         'GBM__max_features': [0.2, 0.3],\n",
       "                         'GBM__n_estimators': [10, 20, 30],\n",
       "                         'GBM__subsample': [0.8, 0.6]})"
      ]
     },
     "execution_count": 60,
     "metadata": {},
     "output_type": "execute_result"
    }
   ],
   "source": [
    "gbm_param_grid = {'GBM__max_depth': [8,10,12,14], 'GBM__subsample': [0.8, 0.6,], 'GBM__max_features':[0.2, 0.3], \n",
    "              'GBM__n_estimators': [10, 20, 30]}\n",
    "\n",
    "gbm_grid = GridSearchCV(clf, param_grid=gbm_param_grid, cv=3,n_jobs=6)\n",
    "\n",
    "gbm_grid.fit(X_train,y_train)"
   ]
  },
  {
   "cell_type": "code",
   "execution_count": 61,
   "metadata": {
    "id": "HTbTTH2cU31I",
    "nbgrader": {
     "grade": false,
     "grade_id": "ml_85",
     "locked": true,
     "schema_version": 3,
     "solution": false,
     "task": false
    },
    "outputId": "a8e9cea5-d183-4b11-a408-a28c515d268b"
   },
   "outputs": [
    {
     "data": {
      "text/plain": [
       "{'GBM__max_depth': 10,\n",
       " 'GBM__max_features': 0.3,\n",
       " 'GBM__n_estimators': 10,\n",
       " 'GBM__subsample': 0.8}"
      ]
     },
     "execution_count": 61,
     "metadata": {},
     "output_type": "execute_result"
    }
   ],
   "source": [
    "gbm_grid.best_params_"
   ]
  },
  {
   "cell_type": "code",
   "execution_count": 62,
   "metadata": {
    "id": "U4xWTuXJU31I",
    "nbgrader": {
     "grade": false,
     "grade_id": "ml_86",
     "locked": true,
     "schema_version": 3,
     "solution": false,
     "task": false
    },
    "outputId": "0aa747b6-bd9f-49f5-a0ec-ebd1a3067f5c"
   },
   "outputs": [
    {
     "name": "stdout",
     "output_type": "stream",
     "text": [
      "0.9320918714188599\n",
      "0.9281378975479485\n",
      "Test Precision:  0.9510869565217391\n",
      "Test Recall:  0.3787878787878788\n",
      "Test Accuracy:  0.9281378975479485\n"
     ]
    }
   ],
   "source": [
    "train_pred = gbm_grid.predict(X_train)\n",
    "test_pred = gbm_grid.predict(X_test)\n",
    "\n",
    "print(gbm_grid.score(X_train, y_train))\n",
    "print(gbm_grid.score(X_test, y_test))\n",
    "\n",
    "# Using the function to calcula`te accuracy, precision and recall.\n",
    "accuracy_precision_recall_metrics(y_true = y_test, y_pred = test_pred)"
   ]
  },
  {
   "cell_type": "markdown",
   "metadata": {
    "id": "ih_Tv0G4U31I",
    "nbgrader": {
     "grade": false,
     "grade_id": "ml_87",
     "locked": true,
     "schema_version": 3,
     "solution": false,
     "task": false
    }
   },
   "source": [
    "### _Build SVM - 5_"
   ]
  },
  {
   "cell_type": "code",
   "execution_count": 63,
   "metadata": {
    "id": "7CwpzqifU31I",
    "nbgrader": {
     "grade": false,
     "grade_id": "ml_88",
     "locked": true,
     "schema_version": 3,
     "solution": false,
     "task": false
    }
   },
   "outputs": [
    {
     "data": {
      "text/plain": [
       "GridSearchCV(cv=5,\n",
       "             estimator=Pipeline(steps=[('preprocessor',\n",
       "                                        ColumnTransformer(transformers=[('num',\n",
       "                                                                         Pipeline(steps=[('imputer',\n",
       "                                                                                          SimpleImputer(strategy='median')),\n",
       "                                                                                         ('scaler',\n",
       "                                                                                          StandardScaler())]),\n",
       "                                                                         ['age',\n",
       "                                                                          'campaign',\n",
       "                                                                          'cons_conf_idx',\n",
       "                                                                          'cons_price_idx',\n",
       "                                                                          'duration',\n",
       "                                                                          'emp_var_rate',\n",
       "                                                                          'euribor3m',\n",
       "                                                                          'nr_employed',\n",
       "                                                                          'pdays',\n",
       "                                                                          'previous']),\n",
       "                                                                        ('cat',\n",
       "                                                                         Pipeline(steps=[('imputer',\n",
       "                                                                                          SimpleImputer(strategy='most_frequent')),\n",
       "                                                                                         ('onehot',\n",
       "                                                                                          OneHotEncoder(handle_unknown='ignore'))]),\n",
       "                                                                         ['job',\n",
       "                                                                          'marital',\n",
       "                                                                          'education',\n",
       "                                                                          'credit_default',\n",
       "                                                                          'housing',\n",
       "                                                                          'loan',\n",
       "                                                                          'contact',\n",
       "                                                                          'contacted_month',\n",
       "                                                                          'day_of_week',\n",
       "                                                                          'poutcome'])])),\n",
       "                                       ('classifier', SVC())]),\n",
       "             n_jobs=6,\n",
       "             param_grid={'classifier__C': [50, 90],\n",
       "                         'classifier__gamma': [0.008, 0.001],\n",
       "                         'classifier__kernel': ['rbf']})"
      ]
     },
     "execution_count": 63,
     "metadata": {},
     "output_type": "execute_result"
    }
   ],
   "source": [
    "clf_svm = Pipeline(steps=[('preprocessor', preprocessor),\n",
    "                      ('classifier', SVC())])\n",
    "\n",
    "svm_param_grid = {'classifier__C': [50,90], 'classifier__gamma': [0.008, 0.001],\n",
    "                 \"classifier__kernel\": ['rbf']}\n",
    "\n",
    "svm_grid = GridSearchCV(clf_svm, param_grid= svm_param_grid, cv= 5,n_jobs=6)\n",
    "\n",
    "svm_grid.fit(X_train,y_train)"
   ]
  },
  {
   "cell_type": "code",
   "execution_count": 64,
   "metadata": {
    "id": "HF-iakzuU31J",
    "nbgrader": {
     "grade": false,
     "grade_id": "ml_89",
     "locked": true,
     "schema_version": 3,
     "solution": false,
     "task": false
    }
   },
   "outputs": [
    {
     "data": {
      "text/plain": [
       "{'classifier__C': 50, 'classifier__gamma': 0.001, 'classifier__kernel': 'rbf'}"
      ]
     },
     "execution_count": 64,
     "metadata": {},
     "output_type": "execute_result"
    }
   ],
   "source": [
    "svm_grid.best_params_"
   ]
  },
  {
   "cell_type": "code",
   "execution_count": 65,
   "metadata": {
    "id": "W845JxpnU31J",
    "nbgrader": {
     "grade": false,
     "grade_id": "ml_90",
     "locked": true,
     "schema_version": 3,
     "solution": false,
     "task": false
    }
   },
   "outputs": [
    {
     "name": "stdout",
     "output_type": "stream",
     "text": [
      "0.9097067106924347\n",
      "0.9082301529497451\n",
      "[[35854   694]\n",
      " [ 3025  1615]]\n"
     ]
    }
   ],
   "source": [
    "train_pred = svm_grid.predict(X_train)\n",
    "test_pred = svm_grid.predict(X_test)\n",
    "\n",
    "print(svm_grid.score(X_train, y_train))\n",
    "print(svm_grid.score(X_test, y_test))\n",
    "\n",
    "print(confusion_matrix(y_true=y_train, y_pred = train_pred))\n",
    "\n",
    "confusion_matrix_test = confusion_matrix(y_true=y_test, y_pred =  test_pred)"
   ]
  },
  {
   "cell_type": "code",
   "execution_count": 66,
   "metadata": {
    "id": "WrVMPH29U31J",
    "nbgrader": {
     "grade": false,
     "grade_id": "ml_91",
     "locked": true,
     "schema_version": 3,
     "solution": false,
     "task": false
    }
   },
   "outputs": [
    {
     "name": "stdout",
     "output_type": "stream",
     "text": [
      "Test Precision:  0.6909090909090909\n",
      "Test Recall:  0.329004329004329\n",
      "Train Accuracy:  0.9082301529497451\n"
     ]
    }
   ],
   "source": [
    "\n",
    "Accuracy_test=(confusion_matrix_test[0,0]+confusion_matrix_test[1,1])/(confusion_matrix_test[0,0]+confusion_matrix_test[0,1]+confusion_matrix_test[1,0]+confusion_matrix_test[1,1])\n",
    "\n",
    "Precision_Test= confusion_matrix_test[1,1]/(confusion_matrix_test[1,1]+confusion_matrix_test[0,1])\n",
    "Recall_Test= confusion_matrix_test[1,1]/(confusion_matrix_test[1,0]+confusion_matrix_test[1,1])\n",
    "\n",
    "print(\"Test Precision: \",Precision_Test)\n",
    "print(\"Test Recall: \",Recall_Test)\n",
    "print(\"Train Accuracy: \",Accuracy_test)"
   ]
  }
 ],
 "metadata": {
  "celltoolbar": "Create Assignment",
  "colab": {
   "provenance": []
  },
  "kernelspec": {
   "display_name": "Python 3 (ipykernel)",
   "language": "python",
   "name": "python3"
  },
  "language_info": {
   "codemirror_mode": {
    "name": "ipython",
    "version": 3
   },
   "file_extension": ".py",
   "mimetype": "text/x-python",
   "name": "python",
   "nbconvert_exporter": "python",
   "pygments_lexer": "ipython3",
   "version": "3.9.12"
  },
  "toc": {
   "base_numbering": 1,
   "nav_menu": {},
   "number_sections": true,
   "sideBar": true,
   "skip_h1_title": false,
   "title_cell": "Table of Contents",
   "title_sidebar": "Contents",
   "toc_cell": false,
   "toc_position": {},
   "toc_section_display": true,
   "toc_window_display": false
  }
 },
 "nbformat": 4,
 "nbformat_minor": 1
}
