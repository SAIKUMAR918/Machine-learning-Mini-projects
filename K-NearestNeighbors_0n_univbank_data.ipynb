{
 "cells": [
  {
   "cell_type": "markdown",
   "metadata": {
    "id": "PwC84vfoIWRU"
   },
   "source": [
    "# K-Nearest Neighbours"
   ]
  },
  {
   "cell_type": "markdown",
   "metadata": {
    "id": "HSo66R8wIWRW"
   },
   "source": [
    "## K nearest neighbors\n",
    "\t\t\n",
    "K nearest neighbors is a simple algorithm that stores all available cases and classifies new cases based on a similarity measure (e.g., distance functions).\n",
    "\n",
    "Algorithm: \n",
    "A case is classified by a majority vote of its neighbors, with the case being assigned to the class most common amongst its K nearest neighbors measured by a distance function."
   ]
  },
  {
   "cell_type": "markdown",
   "metadata": {
    "id": "tTvO_7QbIWRX",
    "nbgrader": {
     "grade": false,
     "grade_id": "PS",
     "locked": true,
     "schema_version": 3,
     "solution": false,
     "task": false
    }
   },
   "source": [
    "## Classification - Personal Loan Dataset\n",
    "\n",
    "This case is about a bank which has a growing customer base. Majority of these customers are liability customers (depositors) with varying size of deposits. The number of customers who are also borrowers (asset customers) is quite small, and the bank is interested in expanding this base rapidly to bring in more loan business and in the process, earn more through the interest on loans. \n",
    "\n",
    "In particular, the management wants to explore ways of converting its liability customers to personal loan customers (while retaining them as depositors). A campaign that the bank ran last year for liability customers showed a healthy conversion rate of over 9% success. This has encouraged the retail marketing department to devise campaigns to better target marketing to increase the success ratio with a minimal budget.\n",
    "\n",
    "The department wants to build a model that will help them identify the potential customers who have a higher probability of purchasing the loan. This will increase the success ratio while at the same time reduce the cost of the campaign.\n",
    "\n",
    "**Dataset Description**:\n",
    "\n",
    "| Feature | Description |\n",
    "| --- | --- |\n",
    "| ID | Customer ID |\n",
    "| Age | Customer's age in completed years |\n",
    "| Experience | # years of professional experience |\n",
    "| Income | Annual income of the customer (In 1,000 dollars) |\n",
    "| ZIPcode | Home address ZIP code |\n",
    "| Family | Family size of the customer |\n",
    "| CCAvg | Average monthly spending on credit cards (In 1,000 dollars) |\n",
    "| Education | Education level: 1: undergrad; 2: Graduate; 3: Advance/Professional |\n",
    "| Mortgage | Mortgage Value of house mortgage if any. (In 1,000 dollars) |\n",
    "| Securities Acct | Does the customer have a securities account with the bank? |\n",
    "| CD Account | Does the customer have a certifcate of deposit (CD) account with the bank? |\n",
    "| Online | Does the customer use internet bank facilities? |\n",
    "| CreditCard | Does the customer use a credit card issued by the UniversalBank? |\n",
    "| **Personal loan** | **Did this customer accept the personal loan offered in he last campaign? 1: yes; 0: no (target variable)** | \n",
    "\n",
    "**The classification goal is to predict if the client will subscribe (yes/no) a term loan (variable y).**\n",
    "___\n",
    "\n",
    "The dataset is available at the path `datasets` from the current directory."
   ]
  },
  {
   "cell_type": "markdown",
   "metadata": {
    "id": "nmeR-YFj83Cw"
   },
   "source": [
    "### Install Necessary Packages"
   ]
  },
  {
   "cell_type": "code",
   "execution_count": 1,
   "metadata": {
    "colab": {
     "base_uri": "https://localhost:8080/"
    },
    "executionInfo": {
     "elapsed": 6195,
     "status": "ok",
     "timestamp": 1671171282970,
     "user": {
      "displayName": "Aishwarya komanduru",
      "userId": "18133241959767863584"
     },
     "user_tz": -330
    },
    "id": "85liJgWiIpJw",
    "outputId": "c81f52d2-300a-4ecf-e8a8-4cc53f9886d5"
   },
   "outputs": [
    {
     "name": "stdout",
     "output_type": "stream",
     "text": [
      "Requirement already satisfied: imblearn in c:\\users\\gsk44\\anaconda3\\lib\\site-packages (0.0)\n",
      "Requirement already satisfied: imbalanced-learn in c:\\users\\gsk44\\anaconda3\\lib\\site-packages (from imblearn) (0.10.1)\n",
      "Requirement already satisfied: numpy>=1.17.3 in c:\\users\\gsk44\\anaconda3\\lib\\site-packages (from imbalanced-learn->imblearn) (1.21.5)\n",
      "Requirement already satisfied: scipy>=1.3.2 in c:\\users\\gsk44\\anaconda3\\lib\\site-packages (from imbalanced-learn->imblearn) (1.9.3)\n",
      "Requirement already satisfied: scikit-learn>=1.0.2 in c:\\users\\gsk44\\anaconda3\\lib\\site-packages (from imbalanced-learn->imblearn) (1.0.2)\n",
      "Requirement already satisfied: joblib>=1.1.1 in c:\\users\\gsk44\\anaconda3\\lib\\site-packages (from imbalanced-learn->imblearn) (1.2.0)\n",
      "Requirement already satisfied: threadpoolctl>=2.0.0 in c:\\users\\gsk44\\anaconda3\\lib\\site-packages (from imbalanced-learn->imblearn) (2.2.0)\n"
     ]
    }
   ],
   "source": [
    "!pip install imblearn"
   ]
  },
  {
   "cell_type": "markdown",
   "metadata": {
    "id": "7iB3RxiSIWRX"
   },
   "source": [
    "#### Import all the required packages and classes"
   ]
  },
  {
   "cell_type": "code",
   "execution_count": 2,
   "metadata": {
    "id": "ypApbP9SIWRY"
   },
   "outputs": [],
   "source": [
    "import math\n",
    "import numpy as np\n",
    "import pandas as pd\n",
    "\n",
    "from sklearn.neighbors import KNeighborsClassifier\n",
    "from sklearn.linear_model import LogisticRegression\n",
    "\n",
    "import matplotlib.pyplot as plt\n",
    "\n",
    "from sklearn.preprocessing import StandardScaler\n",
    "\n",
    "from sklearn.impute import SimpleImputer\n",
    "\n",
    "from sklearn.metrics import confusion_matrix\n",
    "from sklearn.metrics import classification_report\n",
    "from sklearn.metrics import accuracy_score,recall_score,precision_score,f1_score \n",
    "\n",
    "\n",
    "from imblearn.under_sampling import CondensedNearestNeighbour\n",
    "\n",
    "\n",
    "from sklearn.model_selection import train_test_split\n",
    "from sklearn.model_selection import GridSearchCV, cross_val_score"
   ]
  },
  {
   "cell_type": "code",
   "execution_count": 3,
   "metadata": {
    "id": "2bD1IoPYYXWK"
   },
   "outputs": [],
   "source": [
    "import warnings\n",
    "warnings.filterwarnings(\"ignore\")"
   ]
  },
  {
   "cell_type": "markdown",
   "metadata": {
    "id": "3DcCiMQFIWRZ"
   },
   "source": [
    "#### Read the data"
   ]
  },
  {
   "cell_type": "code",
   "execution_count": 5,
   "metadata": {
    "id": "YC6uxyd6IWRZ"
   },
   "outputs": [],
   "source": [
    "univbank = pd.read_csv(\"C:/Users/gsk44/OneDrive/Desktop/KNN/UnivBank.csv\",na_values=[\"?\",\"#\"])"
   ]
  },
  {
   "cell_type": "code",
   "execution_count": 6,
   "metadata": {
    "colab": {
     "base_uri": "https://localhost:8080/"
    },
    "executionInfo": {
     "elapsed": 19,
     "status": "ok",
     "timestamp": 1671171327376,
     "user": {
      "displayName": "Aishwarya komanduru",
      "userId": "18133241959767863584"
     },
     "user_tz": -330
    },
    "id": "jntG1CWZIWRZ",
    "outputId": "73dd386c-cdf5-4843-cfdf-3eb89d993399",
    "scrolled": true
   },
   "outputs": [
    {
     "name": "stdout",
     "output_type": "stream",
     "text": [
      "Dataset has 5000 rows, and 14 columns\n"
     ]
    }
   ],
   "source": [
    "print('Dataset has ' + str(univbank.shape[0]) + ' rows, and ' + str(univbank.shape[1]) + ' columns')"
   ]
  },
  {
   "cell_type": "markdown",
   "metadata": {
    "id": "Td2x02JlIWRa"
   },
   "source": [
    "#### Display the first 5 records"
   ]
  },
  {
   "cell_type": "code",
   "execution_count": 7,
   "metadata": {
    "colab": {
     "base_uri": "https://localhost:8080/",
     "height": 206
    },
    "executionInfo": {
     "elapsed": 941,
     "status": "ok",
     "timestamp": 1671171328304,
     "user": {
      "displayName": "Aishwarya komanduru",
      "userId": "18133241959767863584"
     },
     "user_tz": -330
    },
    "id": "coo1Sls8IWRa",
    "outputId": "cd3a3684-d4db-43fb-ada7-3f30a66e6260",
    "scrolled": true
   },
   "outputs": [
    {
     "data": {
      "text/html": [
       "<div>\n",
       "<style scoped>\n",
       "    .dataframe tbody tr th:only-of-type {\n",
       "        vertical-align: middle;\n",
       "    }\n",
       "\n",
       "    .dataframe tbody tr th {\n",
       "        vertical-align: top;\n",
       "    }\n",
       "\n",
       "    .dataframe thead th {\n",
       "        text-align: right;\n",
       "    }\n",
       "</style>\n",
       "<table border=\"1\" class=\"dataframe\">\n",
       "  <thead>\n",
       "    <tr style=\"text-align: right;\">\n",
       "      <th></th>\n",
       "      <th>ID</th>\n",
       "      <th>Age</th>\n",
       "      <th>Experience</th>\n",
       "      <th>Income</th>\n",
       "      <th>ZIP Code</th>\n",
       "      <th>Family</th>\n",
       "      <th>CCAvg</th>\n",
       "      <th>Education</th>\n",
       "      <th>Mortgage</th>\n",
       "      <th>Personal Loan</th>\n",
       "      <th>Securities Account</th>\n",
       "      <th>CD Account</th>\n",
       "      <th>Online</th>\n",
       "      <th>CreditCard</th>\n",
       "    </tr>\n",
       "  </thead>\n",
       "  <tbody>\n",
       "    <tr>\n",
       "      <th>0</th>\n",
       "      <td>1</td>\n",
       "      <td>25</td>\n",
       "      <td>1</td>\n",
       "      <td>49</td>\n",
       "      <td>91107</td>\n",
       "      <td>4</td>\n",
       "      <td>1.6</td>\n",
       "      <td>1</td>\n",
       "      <td>0.0</td>\n",
       "      <td>0</td>\n",
       "      <td>1.0</td>\n",
       "      <td>0.0</td>\n",
       "      <td>0</td>\n",
       "      <td>0</td>\n",
       "    </tr>\n",
       "    <tr>\n",
       "      <th>1</th>\n",
       "      <td>2</td>\n",
       "      <td>45</td>\n",
       "      <td>19</td>\n",
       "      <td>34</td>\n",
       "      <td>90089</td>\n",
       "      <td>3</td>\n",
       "      <td>1.5</td>\n",
       "      <td>1</td>\n",
       "      <td>0.0</td>\n",
       "      <td>0</td>\n",
       "      <td>1.0</td>\n",
       "      <td>0.0</td>\n",
       "      <td>0</td>\n",
       "      <td>0</td>\n",
       "    </tr>\n",
       "    <tr>\n",
       "      <th>2</th>\n",
       "      <td>3</td>\n",
       "      <td>39</td>\n",
       "      <td>15</td>\n",
       "      <td>11</td>\n",
       "      <td>94720</td>\n",
       "      <td>1</td>\n",
       "      <td>1.0</td>\n",
       "      <td>1</td>\n",
       "      <td>0.0</td>\n",
       "      <td>0</td>\n",
       "      <td>0.0</td>\n",
       "      <td>0.0</td>\n",
       "      <td>0</td>\n",
       "      <td>0</td>\n",
       "    </tr>\n",
       "    <tr>\n",
       "      <th>3</th>\n",
       "      <td>4</td>\n",
       "      <td>35</td>\n",
       "      <td>9</td>\n",
       "      <td>100</td>\n",
       "      <td>94112</td>\n",
       "      <td>1</td>\n",
       "      <td>2.7</td>\n",
       "      <td>2</td>\n",
       "      <td>0.0</td>\n",
       "      <td>0</td>\n",
       "      <td>0.0</td>\n",
       "      <td>NaN</td>\n",
       "      <td>0</td>\n",
       "      <td>0</td>\n",
       "    </tr>\n",
       "    <tr>\n",
       "      <th>4</th>\n",
       "      <td>5</td>\n",
       "      <td>35</td>\n",
       "      <td>8</td>\n",
       "      <td>45</td>\n",
       "      <td>91330</td>\n",
       "      <td>4</td>\n",
       "      <td>1.0</td>\n",
       "      <td>2</td>\n",
       "      <td>0.0</td>\n",
       "      <td>0</td>\n",
       "      <td>0.0</td>\n",
       "      <td>0.0</td>\n",
       "      <td>0</td>\n",
       "      <td>1</td>\n",
       "    </tr>\n",
       "  </tbody>\n",
       "</table>\n",
       "</div>"
      ],
      "text/plain": [
       "   ID  Age  Experience  Income  ZIP Code  Family  CCAvg  Education  Mortgage  \\\n",
       "0   1   25           1      49     91107       4    1.6          1       0.0   \n",
       "1   2   45          19      34     90089       3    1.5          1       0.0   \n",
       "2   3   39          15      11     94720       1    1.0          1       0.0   \n",
       "3   4   35           9     100     94112       1    2.7          2       0.0   \n",
       "4   5   35           8      45     91330       4    1.0          2       0.0   \n",
       "\n",
       "   Personal Loan  Securities Account  CD Account  Online  CreditCard  \n",
       "0              0                 1.0         0.0       0           0  \n",
       "1              0                 1.0         0.0       0           0  \n",
       "2              0                 0.0         0.0       0           0  \n",
       "3              0                 0.0         NaN       0           0  \n",
       "4              0                 0.0         0.0       0           1  "
      ]
     },
     "execution_count": 7,
     "metadata": {},
     "output_type": "execute_result"
    }
   ],
   "source": [
    "univbank.head()"
   ]
  },
  {
   "cell_type": "markdown",
   "metadata": {
    "id": "N88C52RcIWRa"
   },
   "source": [
    "#### Display the dimensions, column names and column datatypes"
   ]
  },
  {
   "cell_type": "code",
   "execution_count": 8,
   "metadata": {
    "colab": {
     "base_uri": "https://localhost:8080/"
    },
    "executionInfo": {
     "elapsed": 108,
     "status": "ok",
     "timestamp": 1671171328304,
     "user": {
      "displayName": "Aishwarya komanduru",
      "userId": "18133241959767863584"
     },
     "user_tz": -330
    },
    "id": "Df_HXXmTIWRa",
    "outputId": "c9e69422-974b-46dc-c809-86b898ea0243"
   },
   "outputs": [
    {
     "name": "stdout",
     "output_type": "stream",
     "text": [
      "Index(['ID', 'Age', 'Experience', 'Income', 'ZIP Code', 'Family', 'CCAvg',\n",
      "       'Education', 'Mortgage', 'Personal Loan', 'Securities Account',\n",
      "       'CD Account', 'Online', 'CreditCard'],\n",
      "      dtype='object')\n"
     ]
    }
   ],
   "source": [
    "print(univbank.columns)"
   ]
  },
  {
   "cell_type": "code",
   "execution_count": 9,
   "metadata": {
    "colab": {
     "base_uri": "https://localhost:8080/"
    },
    "executionInfo": {
     "elapsed": 103,
     "status": "ok",
     "timestamp": 1671171328305,
     "user": {
      "displayName": "Aishwarya komanduru",
      "userId": "18133241959767863584"
     },
     "user_tz": -330
    },
    "id": "V5tZZLKXIWRb",
    "outputId": "edae0c97-3bf3-47e7-85ae-e75c385276ea",
    "scrolled": true
   },
   "outputs": [
    {
     "name": "stdout",
     "output_type": "stream",
     "text": [
      "ID                      int64\n",
      "Age                     int64\n",
      "Experience              int64\n",
      "Income                  int64\n",
      "ZIP Code                int64\n",
      "Family                  int64\n",
      "CCAvg                 float64\n",
      "Education               int64\n",
      "Mortgage              float64\n",
      "Personal Loan           int64\n",
      "Securities Account    float64\n",
      "CD Account            float64\n",
      "Online                  int64\n",
      "CreditCard              int64\n",
      "dtype: object\n"
     ]
    }
   ],
   "source": [
    "print(univbank.dtypes)"
   ]
  },
  {
   "cell_type": "markdown",
   "metadata": {
    "id": "gHnGDOeJIWRb"
   },
   "source": [
    "#### Check the summary (descriptive statistics)  for all attributes"
   ]
  },
  {
   "cell_type": "code",
   "execution_count": 10,
   "metadata": {
    "colab": {
     "base_uri": "https://localhost:8080/",
     "height": 362
    },
    "executionInfo": {
     "elapsed": 98,
     "status": "ok",
     "timestamp": 1671171328305,
     "user": {
      "displayName": "Aishwarya komanduru",
      "userId": "18133241959767863584"
     },
     "user_tz": -330
    },
    "id": "R1dyRJvLIWRb",
    "outputId": "d134002a-f784-4a15-ae06-3b16c778fbae"
   },
   "outputs": [
    {
     "data": {
      "text/html": [
       "<div>\n",
       "<style scoped>\n",
       "    .dataframe tbody tr th:only-of-type {\n",
       "        vertical-align: middle;\n",
       "    }\n",
       "\n",
       "    .dataframe tbody tr th {\n",
       "        vertical-align: top;\n",
       "    }\n",
       "\n",
       "    .dataframe thead th {\n",
       "        text-align: right;\n",
       "    }\n",
       "</style>\n",
       "<table border=\"1\" class=\"dataframe\">\n",
       "  <thead>\n",
       "    <tr style=\"text-align: right;\">\n",
       "      <th></th>\n",
       "      <th>ID</th>\n",
       "      <th>Age</th>\n",
       "      <th>Experience</th>\n",
       "      <th>Income</th>\n",
       "      <th>ZIP Code</th>\n",
       "      <th>Family</th>\n",
       "      <th>CCAvg</th>\n",
       "      <th>Education</th>\n",
       "      <th>Mortgage</th>\n",
       "      <th>Personal Loan</th>\n",
       "      <th>Securities Account</th>\n",
       "      <th>CD Account</th>\n",
       "      <th>Online</th>\n",
       "      <th>CreditCard</th>\n",
       "    </tr>\n",
       "  </thead>\n",
       "  <tbody>\n",
       "    <tr>\n",
       "      <th>count</th>\n",
       "      <td>5000.000000</td>\n",
       "      <td>5000.000000</td>\n",
       "      <td>5000.000000</td>\n",
       "      <td>5000.000000</td>\n",
       "      <td>5000.000000</td>\n",
       "      <td>5000.000000</td>\n",
       "      <td>5000.000000</td>\n",
       "      <td>5000.000000</td>\n",
       "      <td>4998.000000</td>\n",
       "      <td>5000.000000</td>\n",
       "      <td>4998.000000</td>\n",
       "      <td>4999.000000</td>\n",
       "      <td>5000.000000</td>\n",
       "      <td>5000.000000</td>\n",
       "    </tr>\n",
       "    <tr>\n",
       "      <th>mean</th>\n",
       "      <td>2500.500000</td>\n",
       "      <td>45.338400</td>\n",
       "      <td>20.104600</td>\n",
       "      <td>73.774200</td>\n",
       "      <td>93152.503000</td>\n",
       "      <td>2.396400</td>\n",
       "      <td>1.937938</td>\n",
       "      <td>1.881000</td>\n",
       "      <td>56.521409</td>\n",
       "      <td>0.096000</td>\n",
       "      <td>0.104442</td>\n",
       "      <td>0.060412</td>\n",
       "      <td>0.596800</td>\n",
       "      <td>0.294000</td>\n",
       "    </tr>\n",
       "    <tr>\n",
       "      <th>std</th>\n",
       "      <td>1443.520003</td>\n",
       "      <td>11.463166</td>\n",
       "      <td>11.467954</td>\n",
       "      <td>46.033729</td>\n",
       "      <td>2121.852197</td>\n",
       "      <td>1.147663</td>\n",
       "      <td>1.747659</td>\n",
       "      <td>0.839869</td>\n",
       "      <td>101.727873</td>\n",
       "      <td>0.294621</td>\n",
       "      <td>0.305863</td>\n",
       "      <td>0.238273</td>\n",
       "      <td>0.490589</td>\n",
       "      <td>0.455637</td>\n",
       "    </tr>\n",
       "    <tr>\n",
       "      <th>min</th>\n",
       "      <td>1.000000</td>\n",
       "      <td>23.000000</td>\n",
       "      <td>-3.000000</td>\n",
       "      <td>8.000000</td>\n",
       "      <td>9307.000000</td>\n",
       "      <td>1.000000</td>\n",
       "      <td>0.000000</td>\n",
       "      <td>1.000000</td>\n",
       "      <td>0.000000</td>\n",
       "      <td>0.000000</td>\n",
       "      <td>0.000000</td>\n",
       "      <td>0.000000</td>\n",
       "      <td>0.000000</td>\n",
       "      <td>0.000000</td>\n",
       "    </tr>\n",
       "    <tr>\n",
       "      <th>25%</th>\n",
       "      <td>1250.750000</td>\n",
       "      <td>35.000000</td>\n",
       "      <td>10.000000</td>\n",
       "      <td>39.000000</td>\n",
       "      <td>91911.000000</td>\n",
       "      <td>1.000000</td>\n",
       "      <td>0.700000</td>\n",
       "      <td>1.000000</td>\n",
       "      <td>0.000000</td>\n",
       "      <td>0.000000</td>\n",
       "      <td>0.000000</td>\n",
       "      <td>0.000000</td>\n",
       "      <td>0.000000</td>\n",
       "      <td>0.000000</td>\n",
       "    </tr>\n",
       "    <tr>\n",
       "      <th>50%</th>\n",
       "      <td>2500.500000</td>\n",
       "      <td>45.000000</td>\n",
       "      <td>20.000000</td>\n",
       "      <td>64.000000</td>\n",
       "      <td>93437.000000</td>\n",
       "      <td>2.000000</td>\n",
       "      <td>1.500000</td>\n",
       "      <td>2.000000</td>\n",
       "      <td>0.000000</td>\n",
       "      <td>0.000000</td>\n",
       "      <td>0.000000</td>\n",
       "      <td>0.000000</td>\n",
       "      <td>1.000000</td>\n",
       "      <td>0.000000</td>\n",
       "    </tr>\n",
       "    <tr>\n",
       "      <th>75%</th>\n",
       "      <td>3750.250000</td>\n",
       "      <td>55.000000</td>\n",
       "      <td>30.000000</td>\n",
       "      <td>98.000000</td>\n",
       "      <td>94608.000000</td>\n",
       "      <td>3.000000</td>\n",
       "      <td>2.500000</td>\n",
       "      <td>3.000000</td>\n",
       "      <td>101.000000</td>\n",
       "      <td>0.000000</td>\n",
       "      <td>0.000000</td>\n",
       "      <td>0.000000</td>\n",
       "      <td>1.000000</td>\n",
       "      <td>1.000000</td>\n",
       "    </tr>\n",
       "    <tr>\n",
       "      <th>max</th>\n",
       "      <td>5000.000000</td>\n",
       "      <td>67.000000</td>\n",
       "      <td>43.000000</td>\n",
       "      <td>224.000000</td>\n",
       "      <td>96651.000000</td>\n",
       "      <td>4.000000</td>\n",
       "      <td>10.000000</td>\n",
       "      <td>3.000000</td>\n",
       "      <td>635.000000</td>\n",
       "      <td>1.000000</td>\n",
       "      <td>1.000000</td>\n",
       "      <td>1.000000</td>\n",
       "      <td>1.000000</td>\n",
       "      <td>1.000000</td>\n",
       "    </tr>\n",
       "  </tbody>\n",
       "</table>\n",
       "</div>"
      ],
      "text/plain": [
       "                ID          Age   Experience       Income      ZIP Code  \\\n",
       "count  5000.000000  5000.000000  5000.000000  5000.000000   5000.000000   \n",
       "mean   2500.500000    45.338400    20.104600    73.774200  93152.503000   \n",
       "std    1443.520003    11.463166    11.467954    46.033729   2121.852197   \n",
       "min       1.000000    23.000000    -3.000000     8.000000   9307.000000   \n",
       "25%    1250.750000    35.000000    10.000000    39.000000  91911.000000   \n",
       "50%    2500.500000    45.000000    20.000000    64.000000  93437.000000   \n",
       "75%    3750.250000    55.000000    30.000000    98.000000  94608.000000   \n",
       "max    5000.000000    67.000000    43.000000   224.000000  96651.000000   \n",
       "\n",
       "            Family        CCAvg    Education     Mortgage  Personal Loan  \\\n",
       "count  5000.000000  5000.000000  5000.000000  4998.000000    5000.000000   \n",
       "mean      2.396400     1.937938     1.881000    56.521409       0.096000   \n",
       "std       1.147663     1.747659     0.839869   101.727873       0.294621   \n",
       "min       1.000000     0.000000     1.000000     0.000000       0.000000   \n",
       "25%       1.000000     0.700000     1.000000     0.000000       0.000000   \n",
       "50%       2.000000     1.500000     2.000000     0.000000       0.000000   \n",
       "75%       3.000000     2.500000     3.000000   101.000000       0.000000   \n",
       "max       4.000000    10.000000     3.000000   635.000000       1.000000   \n",
       "\n",
       "       Securities Account   CD Account       Online   CreditCard  \n",
       "count         4998.000000  4999.000000  5000.000000  5000.000000  \n",
       "mean             0.104442     0.060412     0.596800     0.294000  \n",
       "std              0.305863     0.238273     0.490589     0.455637  \n",
       "min              0.000000     0.000000     0.000000     0.000000  \n",
       "25%              0.000000     0.000000     0.000000     0.000000  \n",
       "50%              0.000000     0.000000     1.000000     0.000000  \n",
       "75%              0.000000     0.000000     1.000000     1.000000  \n",
       "max              1.000000     1.000000     1.000000     1.000000  "
      ]
     },
     "execution_count": 10,
     "metadata": {},
     "output_type": "execute_result"
    }
   ],
   "source": [
    "univbank.describe(include='all')"
   ]
  },
  {
   "cell_type": "markdown",
   "metadata": {
    "id": "qKz7vITFIWRb"
   },
   "source": [
    "#### Check the unique levels in the target attribute PersonalLoan "
   ]
  },
  {
   "cell_type": "code",
   "execution_count": 11,
   "metadata": {
    "colab": {
     "base_uri": "https://localhost:8080/"
    },
    "executionInfo": {
     "elapsed": 96,
     "status": "ok",
     "timestamp": 1671171328306,
     "user": {
      "displayName": "Aishwarya komanduru",
      "userId": "18133241959767863584"
     },
     "user_tz": -330
    },
    "id": "ryYjyCyOIWRb",
    "outputId": "0a42508b-bddf-4db8-c66d-f15d2ce8b5b0"
   },
   "outputs": [
    {
     "name": "stdout",
     "output_type": "stream",
     "text": [
      "0.0    4697\n",
      "1.0     302\n",
      "Name: CD Account, dtype: int64\n"
     ]
    }
   ],
   "source": [
    "print(univbank[\"CD Account\"].value_counts())"
   ]
  },
  {
   "cell_type": "code",
   "execution_count": 12,
   "metadata": {
    "colab": {
     "base_uri": "https://localhost:8080/"
    },
    "executionInfo": {
     "elapsed": 90,
     "status": "ok",
     "timestamp": 1671171328306,
     "user": {
      "displayName": "Aishwarya komanduru",
      "userId": "18133241959767863584"
     },
     "user_tz": -330
    },
    "id": "c8nZgcWUIWRb",
    "outputId": "5365c414-554c-4720-d159-db1aa59100ab"
   },
   "outputs": [
    {
     "name": "stdout",
     "output_type": "stream",
     "text": [
      "1    2984\n",
      "0    2016\n",
      "Name: Online, dtype: int64\n"
     ]
    }
   ],
   "source": [
    "print(univbank[\"Online\"].value_counts())"
   ]
  },
  {
   "cell_type": "code",
   "execution_count": 13,
   "metadata": {
    "colab": {
     "base_uri": "https://localhost:8080/"
    },
    "executionInfo": {
     "elapsed": 86,
     "status": "ok",
     "timestamp": 1671171328307,
     "user": {
      "displayName": "Aishwarya komanduru",
      "userId": "18133241959767863584"
     },
     "user_tz": -330
    },
    "id": "rWaTPez6IWRb",
    "outputId": "cfcb1b27-ccfb-47e0-8e51-53a16b822867"
   },
   "outputs": [
    {
     "name": "stdout",
     "output_type": "stream",
     "text": [
      "0    3530\n",
      "1    1470\n",
      "Name: CreditCard, dtype: int64\n"
     ]
    }
   ],
   "source": [
    "print(univbank[\"CreditCard\"].value_counts())"
   ]
  },
  {
   "cell_type": "code",
   "execution_count": 14,
   "metadata": {
    "colab": {
     "base_uri": "https://localhost:8080/"
    },
    "executionInfo": {
     "elapsed": 81,
     "status": "ok",
     "timestamp": 1671171328307,
     "user": {
      "displayName": "Aishwarya komanduru",
      "userId": "18133241959767863584"
     },
     "user_tz": -330
    },
    "id": "M4AHsrN4IWRb",
    "outputId": "e03b017d-ecdc-4350-96c6-a3a8b97146c3"
   },
   "outputs": [
    {
     "name": "stdout",
     "output_type": "stream",
     "text": [
      "0    4520\n",
      "1     480\n",
      "Name: Personal Loan, dtype: int64\n"
     ]
    }
   ],
   "source": [
    "print(univbank[\"Personal Loan\"].value_counts())"
   ]
  },
  {
   "cell_type": "code",
   "execution_count": 15,
   "metadata": {
    "colab": {
     "base_uri": "https://localhost:8080/"
    },
    "executionInfo": {
     "elapsed": 76,
     "status": "ok",
     "timestamp": 1671171328308,
     "user": {
      "displayName": "Aishwarya komanduru",
      "userId": "18133241959767863584"
     },
     "user_tz": -330
    },
    "id": "gg06Zbr3IWRc",
    "outputId": "ad53162f-0517-42df-c492-1d6dcc86931c"
   },
   "outputs": [
    {
     "name": "stdout",
     "output_type": "stream",
     "text": [
      "0    90.4\n",
      "1     9.6\n",
      "Name: Personal Loan, dtype: float64\n"
     ]
    }
   ],
   "source": [
    "print(univbank['Personal Loan'].value_counts(normalize=True)*100)"
   ]
  },
  {
   "cell_type": "markdown",
   "metadata": {
    "id": "E0rtQXqgIWRc"
   },
   "source": [
    "#### Check the number of unique ZIP Codes present in the dataset "
   ]
  },
  {
   "cell_type": "code",
   "execution_count": 16,
   "metadata": {
    "colab": {
     "base_uri": "https://localhost:8080/"
    },
    "executionInfo": {
     "elapsed": 73,
     "status": "ok",
     "timestamp": 1671171328310,
     "user": {
      "displayName": "Aishwarya komanduru",
      "userId": "18133241959767863584"
     },
     "user_tz": -330
    },
    "id": "uFqw1oBrIWRc",
    "outputId": "8dd74ee5-5bfb-4979-ae87-9a9690375272"
   },
   "outputs": [
    {
     "name": "stdout",
     "output_type": "stream",
     "text": [
      "The number of Unique ZIP Codes in the bank data set is 467\n",
      "\n",
      "\n",
      "94720    169\n",
      "94305    127\n",
      "95616    116\n",
      "90095     71\n",
      "93106     57\n",
      "        ... \n",
      "96145      1\n",
      "94087      1\n",
      "91024      1\n",
      "9307       1\n",
      "94598      1\n",
      "Name: ZIP Code, Length: 467, dtype: int64\n"
     ]
    }
   ],
   "source": [
    "print(\"The number of Unique ZIP Codes in the bank data set is\",univbank['ZIP Code'].nunique())\n",
    "print(\"\\n\")\n",
    "print(univbank['ZIP Code'].value_counts())"
   ]
  },
  {
   "cell_type": "markdown",
   "metadata": {
    "id": "qurkxW6eIWRc"
   },
   "source": [
    "#### Check the 'ID' present in the dataset "
   ]
  },
  {
   "cell_type": "code",
   "execution_count": 17,
   "metadata": {
    "colab": {
     "base_uri": "https://localhost:8080/"
    },
    "executionInfo": {
     "elapsed": 70,
     "status": "ok",
     "timestamp": 1671171328311,
     "user": {
      "displayName": "Aishwarya komanduru",
      "userId": "18133241959767863584"
     },
     "user_tz": -330
    },
    "id": "V02emsafIWRc",
    "outputId": "59d98341-d659-4973-923b-28e417a29754"
   },
   "outputs": [
    {
     "name": "stdout",
     "output_type": "stream",
     "text": [
      "The number of Unique ID in the bank data set is 5000\n",
      "\n",
      "\n",
      "1       1\n",
      "3331    1\n",
      "3338    1\n",
      "3337    1\n",
      "3336    1\n",
      "       ..\n",
      "1667    1\n",
      "1666    1\n",
      "1665    1\n",
      "1664    1\n",
      "5000    1\n",
      "Name: ID, Length: 5000, dtype: int64\n"
     ]
    }
   ],
   "source": [
    "print(\"The number of Unique ID in the bank data set is\",univbank['ID'].nunique())\n",
    "print(\"\\n\")\n",
    "print(univbank['ID'].value_counts())"
   ]
  },
  {
   "cell_type": "markdown",
   "metadata": {
    "id": "bA5DvOiyIWRc"
   },
   "source": [
    "#### Remove the unncessary columns (ID and ZipCode)"
   ]
  },
  {
   "cell_type": "code",
   "execution_count": 18,
   "metadata": {
    "id": "2Xn3U-SSIWRc"
   },
   "outputs": [],
   "source": [
    "univbank = univbank.drop([\"ID\",\"ZIP Code\"],axis=1)"
   ]
  },
  {
   "cell_type": "code",
   "execution_count": 19,
   "metadata": {
    "colab": {
     "base_uri": "https://localhost:8080/",
     "height": 206
    },
    "executionInfo": {
     "elapsed": 66,
     "status": "ok",
     "timestamp": 1671171328312,
     "user": {
      "displayName": "Aishwarya komanduru",
      "userId": "18133241959767863584"
     },
     "user_tz": -330
    },
    "id": "FHR8W-d8IWRc",
    "outputId": "cd5c9c7f-75ca-4147-a924-453ac599aba5"
   },
   "outputs": [
    {
     "data": {
      "text/html": [
       "<div>\n",
       "<style scoped>\n",
       "    .dataframe tbody tr th:only-of-type {\n",
       "        vertical-align: middle;\n",
       "    }\n",
       "\n",
       "    .dataframe tbody tr th {\n",
       "        vertical-align: top;\n",
       "    }\n",
       "\n",
       "    .dataframe thead th {\n",
       "        text-align: right;\n",
       "    }\n",
       "</style>\n",
       "<table border=\"1\" class=\"dataframe\">\n",
       "  <thead>\n",
       "    <tr style=\"text-align: right;\">\n",
       "      <th></th>\n",
       "      <th>Age</th>\n",
       "      <th>Experience</th>\n",
       "      <th>Income</th>\n",
       "      <th>Family</th>\n",
       "      <th>CCAvg</th>\n",
       "      <th>Education</th>\n",
       "      <th>Mortgage</th>\n",
       "      <th>Personal Loan</th>\n",
       "      <th>Securities Account</th>\n",
       "      <th>CD Account</th>\n",
       "      <th>Online</th>\n",
       "      <th>CreditCard</th>\n",
       "    </tr>\n",
       "  </thead>\n",
       "  <tbody>\n",
       "    <tr>\n",
       "      <th>0</th>\n",
       "      <td>25</td>\n",
       "      <td>1</td>\n",
       "      <td>49</td>\n",
       "      <td>4</td>\n",
       "      <td>1.6</td>\n",
       "      <td>1</td>\n",
       "      <td>0.0</td>\n",
       "      <td>0</td>\n",
       "      <td>1.0</td>\n",
       "      <td>0.0</td>\n",
       "      <td>0</td>\n",
       "      <td>0</td>\n",
       "    </tr>\n",
       "    <tr>\n",
       "      <th>1</th>\n",
       "      <td>45</td>\n",
       "      <td>19</td>\n",
       "      <td>34</td>\n",
       "      <td>3</td>\n",
       "      <td>1.5</td>\n",
       "      <td>1</td>\n",
       "      <td>0.0</td>\n",
       "      <td>0</td>\n",
       "      <td>1.0</td>\n",
       "      <td>0.0</td>\n",
       "      <td>0</td>\n",
       "      <td>0</td>\n",
       "    </tr>\n",
       "    <tr>\n",
       "      <th>2</th>\n",
       "      <td>39</td>\n",
       "      <td>15</td>\n",
       "      <td>11</td>\n",
       "      <td>1</td>\n",
       "      <td>1.0</td>\n",
       "      <td>1</td>\n",
       "      <td>0.0</td>\n",
       "      <td>0</td>\n",
       "      <td>0.0</td>\n",
       "      <td>0.0</td>\n",
       "      <td>0</td>\n",
       "      <td>0</td>\n",
       "    </tr>\n",
       "    <tr>\n",
       "      <th>3</th>\n",
       "      <td>35</td>\n",
       "      <td>9</td>\n",
       "      <td>100</td>\n",
       "      <td>1</td>\n",
       "      <td>2.7</td>\n",
       "      <td>2</td>\n",
       "      <td>0.0</td>\n",
       "      <td>0</td>\n",
       "      <td>0.0</td>\n",
       "      <td>NaN</td>\n",
       "      <td>0</td>\n",
       "      <td>0</td>\n",
       "    </tr>\n",
       "    <tr>\n",
       "      <th>4</th>\n",
       "      <td>35</td>\n",
       "      <td>8</td>\n",
       "      <td>45</td>\n",
       "      <td>4</td>\n",
       "      <td>1.0</td>\n",
       "      <td>2</td>\n",
       "      <td>0.0</td>\n",
       "      <td>0</td>\n",
       "      <td>0.0</td>\n",
       "      <td>0.0</td>\n",
       "      <td>0</td>\n",
       "      <td>1</td>\n",
       "    </tr>\n",
       "  </tbody>\n",
       "</table>\n",
       "</div>"
      ],
      "text/plain": [
       "   Age  Experience  Income  Family  CCAvg  Education  Mortgage  Personal Loan  \\\n",
       "0   25           1      49       4    1.6          1       0.0              0   \n",
       "1   45          19      34       3    1.5          1       0.0              0   \n",
       "2   39          15      11       1    1.0          1       0.0              0   \n",
       "3   35           9     100       1    2.7          2       0.0              0   \n",
       "4   35           8      45       4    1.0          2       0.0              0   \n",
       "\n",
       "   Securities Account  CD Account  Online  CreditCard  \n",
       "0                 1.0         0.0       0           0  \n",
       "1                 1.0         0.0       0           0  \n",
       "2                 0.0         0.0       0           0  \n",
       "3                 0.0         NaN       0           0  \n",
       "4                 0.0         0.0       0           1  "
      ]
     },
     "execution_count": 19,
     "metadata": {},
     "output_type": "execute_result"
    }
   ],
   "source": [
    "univbank.head()"
   ]
  },
  {
   "cell_type": "markdown",
   "metadata": {
    "id": "eaXkXoH6IWRd"
   },
   "source": [
    "#### Check the count of Education values in each level"
   ]
  },
  {
   "cell_type": "code",
   "execution_count": 20,
   "metadata": {
    "colab": {
     "base_uri": "https://localhost:8080/"
    },
    "executionInfo": {
     "elapsed": 65,
     "status": "ok",
     "timestamp": 1671171328312,
     "user": {
      "displayName": "Aishwarya komanduru",
      "userId": "18133241959767863584"
     },
     "user_tz": -330
    },
    "id": "SP--N16JIWRd",
    "outputId": "1d718c3f-d713-44d9-c06a-727ab28c5af6"
   },
   "outputs": [
    {
     "name": "stdout",
     "output_type": "stream",
     "text": [
      "The number of values in different Education levels:\n",
      "\n",
      "1    2096\n",
      "3    1501\n",
      "2    1403\n",
      "Name: Education, dtype: int64\n"
     ]
    }
   ],
   "source": [
    "print(\"The number of values in different Education levels:\\n\")\n",
    "print(univbank['Education'].value_counts())"
   ]
  },
  {
   "cell_type": "markdown",
   "metadata": {
    "id": "7mVAygvwIWRd"
   },
   "source": [
    "#### Check the count of Family values in each level"
   ]
  },
  {
   "cell_type": "code",
   "execution_count": 21,
   "metadata": {
    "colab": {
     "base_uri": "https://localhost:8080/"
    },
    "executionInfo": {
     "elapsed": 63,
     "status": "ok",
     "timestamp": 1671171328313,
     "user": {
      "displayName": "Aishwarya komanduru",
      "userId": "18133241959767863584"
     },
     "user_tz": -330
    },
    "id": "kPagtHzHIWRd",
    "outputId": "5a12c601-83a2-4ca2-c735-bc012903669e"
   },
   "outputs": [
    {
     "name": "stdout",
     "output_type": "stream",
     "text": [
      "The number of values in different Family levels:\n",
      "\n",
      "1    1472\n",
      "2    1296\n",
      "4    1222\n",
      "3    1010\n",
      "Name: Family, dtype: int64\n"
     ]
    }
   ],
   "source": [
    "print(\"The number of values in different Family levels:\\n\")\n",
    "print(univbank['Family'].value_counts())"
   ]
  },
  {
   "cell_type": "markdown",
   "metadata": {
    "id": "aFQxmzTQIWRd"
   },
   "source": [
    "#### Convert the attributes to the right data type based on the dataset description"
   ]
  },
  {
   "cell_type": "code",
   "execution_count": 22,
   "metadata": {
    "id": "qxEoSr0TIWRd"
   },
   "outputs": [],
   "source": [
    "cat_attr = ['Education', 'Family', 'CD Account', 'Online','CreditCard','Securities Account']\n",
    "for cols in cat_attr :\n",
    "    univbank[cols] = univbank[cols].astype('category')"
   ]
  },
  {
   "cell_type": "code",
   "execution_count": 23,
   "metadata": {
    "colab": {
     "base_uri": "https://localhost:8080/"
    },
    "executionInfo": {
     "elapsed": 58,
     "status": "ok",
     "timestamp": 1671171328313,
     "user": {
      "displayName": "Aishwarya komanduru",
      "userId": "18133241959767863584"
     },
     "user_tz": -330
    },
    "id": "BmVjYjjXIWRd",
    "outputId": "3b6eb8f8-7739-4adf-e449-1e07881979fa"
   },
   "outputs": [
    {
     "data": {
      "text/plain": [
       "Age                      int64\n",
       "Experience               int64\n",
       "Income                   int64\n",
       "Family                category\n",
       "CCAvg                  float64\n",
       "Education             category\n",
       "Mortgage               float64\n",
       "Personal Loan            int64\n",
       "Securities Account    category\n",
       "CD Account            category\n",
       "Online                category\n",
       "CreditCard            category\n",
       "dtype: object"
      ]
     },
     "execution_count": 23,
     "metadata": {},
     "output_type": "execute_result"
    }
   ],
   "source": [
    "univbank.dtypes"
   ]
  },
  {
   "cell_type": "markdown",
   "metadata": {
    "id": "j37oZCzsIWRd"
   },
   "source": [
    "#### Creating dummy variables\n",
    "\n",
    "If we have k levels in a category, then we create k-1 dummy variables as the last one would be redundant. \n",
    "So we use the parameter drop_first in pd.get_dummies function that drops the first level in each of the category.\n"
   ]
  },
  {
   "cell_type": "code",
   "execution_count": 24,
   "metadata": {
    "id": "YkNQ31YCIWRe"
   },
   "outputs": [],
   "source": [
    "univbank = pd.get_dummies(columns=cat_attr,data=univbank)"
   ]
  },
  {
   "cell_type": "code",
   "execution_count": 25,
   "metadata": {
    "colab": {
     "base_uri": "https://localhost:8080/",
     "height": 317
    },
    "executionInfo": {
     "elapsed": 57,
     "status": "ok",
     "timestamp": 1671171328314,
     "user": {
      "displayName": "Aishwarya komanduru",
      "userId": "18133241959767863584"
     },
     "user_tz": -330
    },
    "id": "OTkxqTRXIWRe",
    "outputId": "32486eeb-aa93-4f40-c64c-547afc7f99ac"
   },
   "outputs": [
    {
     "data": {
      "text/html": [
       "<div>\n",
       "<style scoped>\n",
       "    .dataframe tbody tr th:only-of-type {\n",
       "        vertical-align: middle;\n",
       "    }\n",
       "\n",
       "    .dataframe tbody tr th {\n",
       "        vertical-align: top;\n",
       "    }\n",
       "\n",
       "    .dataframe thead th {\n",
       "        text-align: right;\n",
       "    }\n",
       "</style>\n",
       "<table border=\"1\" class=\"dataframe\">\n",
       "  <thead>\n",
       "    <tr style=\"text-align: right;\">\n",
       "      <th></th>\n",
       "      <th>Age</th>\n",
       "      <th>Experience</th>\n",
       "      <th>Income</th>\n",
       "      <th>CCAvg</th>\n",
       "      <th>Mortgage</th>\n",
       "      <th>Personal Loan</th>\n",
       "      <th>Education_1</th>\n",
       "      <th>Education_2</th>\n",
       "      <th>Education_3</th>\n",
       "      <th>Family_1</th>\n",
       "      <th>...</th>\n",
       "      <th>Family_3</th>\n",
       "      <th>Family_4</th>\n",
       "      <th>CD Account_0.0</th>\n",
       "      <th>CD Account_1.0</th>\n",
       "      <th>Online_0</th>\n",
       "      <th>Online_1</th>\n",
       "      <th>CreditCard_0</th>\n",
       "      <th>CreditCard_1</th>\n",
       "      <th>Securities Account_0.0</th>\n",
       "      <th>Securities Account_1.0</th>\n",
       "    </tr>\n",
       "  </thead>\n",
       "  <tbody>\n",
       "    <tr>\n",
       "      <th>0</th>\n",
       "      <td>25</td>\n",
       "      <td>1</td>\n",
       "      <td>49</td>\n",
       "      <td>1.6</td>\n",
       "      <td>0.0</td>\n",
       "      <td>0</td>\n",
       "      <td>1</td>\n",
       "      <td>0</td>\n",
       "      <td>0</td>\n",
       "      <td>0</td>\n",
       "      <td>...</td>\n",
       "      <td>0</td>\n",
       "      <td>1</td>\n",
       "      <td>1</td>\n",
       "      <td>0</td>\n",
       "      <td>1</td>\n",
       "      <td>0</td>\n",
       "      <td>1</td>\n",
       "      <td>0</td>\n",
       "      <td>0</td>\n",
       "      <td>1</td>\n",
       "    </tr>\n",
       "    <tr>\n",
       "      <th>1</th>\n",
       "      <td>45</td>\n",
       "      <td>19</td>\n",
       "      <td>34</td>\n",
       "      <td>1.5</td>\n",
       "      <td>0.0</td>\n",
       "      <td>0</td>\n",
       "      <td>1</td>\n",
       "      <td>0</td>\n",
       "      <td>0</td>\n",
       "      <td>0</td>\n",
       "      <td>...</td>\n",
       "      <td>1</td>\n",
       "      <td>0</td>\n",
       "      <td>1</td>\n",
       "      <td>0</td>\n",
       "      <td>1</td>\n",
       "      <td>0</td>\n",
       "      <td>1</td>\n",
       "      <td>0</td>\n",
       "      <td>0</td>\n",
       "      <td>1</td>\n",
       "    </tr>\n",
       "    <tr>\n",
       "      <th>2</th>\n",
       "      <td>39</td>\n",
       "      <td>15</td>\n",
       "      <td>11</td>\n",
       "      <td>1.0</td>\n",
       "      <td>0.0</td>\n",
       "      <td>0</td>\n",
       "      <td>1</td>\n",
       "      <td>0</td>\n",
       "      <td>0</td>\n",
       "      <td>1</td>\n",
       "      <td>...</td>\n",
       "      <td>0</td>\n",
       "      <td>0</td>\n",
       "      <td>1</td>\n",
       "      <td>0</td>\n",
       "      <td>1</td>\n",
       "      <td>0</td>\n",
       "      <td>1</td>\n",
       "      <td>0</td>\n",
       "      <td>1</td>\n",
       "      <td>0</td>\n",
       "    </tr>\n",
       "    <tr>\n",
       "      <th>3</th>\n",
       "      <td>35</td>\n",
       "      <td>9</td>\n",
       "      <td>100</td>\n",
       "      <td>2.7</td>\n",
       "      <td>0.0</td>\n",
       "      <td>0</td>\n",
       "      <td>0</td>\n",
       "      <td>1</td>\n",
       "      <td>0</td>\n",
       "      <td>1</td>\n",
       "      <td>...</td>\n",
       "      <td>0</td>\n",
       "      <td>0</td>\n",
       "      <td>0</td>\n",
       "      <td>0</td>\n",
       "      <td>1</td>\n",
       "      <td>0</td>\n",
       "      <td>1</td>\n",
       "      <td>0</td>\n",
       "      <td>1</td>\n",
       "      <td>0</td>\n",
       "    </tr>\n",
       "    <tr>\n",
       "      <th>4</th>\n",
       "      <td>35</td>\n",
       "      <td>8</td>\n",
       "      <td>45</td>\n",
       "      <td>1.0</td>\n",
       "      <td>0.0</td>\n",
       "      <td>0</td>\n",
       "      <td>0</td>\n",
       "      <td>1</td>\n",
       "      <td>0</td>\n",
       "      <td>0</td>\n",
       "      <td>...</td>\n",
       "      <td>0</td>\n",
       "      <td>1</td>\n",
       "      <td>1</td>\n",
       "      <td>0</td>\n",
       "      <td>1</td>\n",
       "      <td>0</td>\n",
       "      <td>0</td>\n",
       "      <td>1</td>\n",
       "      <td>1</td>\n",
       "      <td>0</td>\n",
       "    </tr>\n",
       "  </tbody>\n",
       "</table>\n",
       "<p>5 rows × 21 columns</p>\n",
       "</div>"
      ],
      "text/plain": [
       "   Age  Experience  Income  CCAvg  Mortgage  Personal Loan  Education_1  \\\n",
       "0   25           1      49    1.6       0.0              0            1   \n",
       "1   45          19      34    1.5       0.0              0            1   \n",
       "2   39          15      11    1.0       0.0              0            1   \n",
       "3   35           9     100    2.7       0.0              0            0   \n",
       "4   35           8      45    1.0       0.0              0            0   \n",
       "\n",
       "   Education_2  Education_3  Family_1  ...  Family_3  Family_4  \\\n",
       "0            0            0         0  ...         0         1   \n",
       "1            0            0         0  ...         1         0   \n",
       "2            0            0         1  ...         0         0   \n",
       "3            1            0         1  ...         0         0   \n",
       "4            1            0         0  ...         0         1   \n",
       "\n",
       "   CD Account_0.0  CD Account_1.0  Online_0  Online_1  CreditCard_0  \\\n",
       "0               1               0         1         0             1   \n",
       "1               1               0         1         0             1   \n",
       "2               1               0         1         0             1   \n",
       "3               0               0         1         0             1   \n",
       "4               1               0         1         0             0   \n",
       "\n",
       "   CreditCard_1  Securities Account_0.0  Securities Account_1.0  \n",
       "0             0                       0                       1  \n",
       "1             0                       0                       1  \n",
       "2             0                       1                       0  \n",
       "3             0                       1                       0  \n",
       "4             1                       1                       0  \n",
       "\n",
       "[5 rows x 21 columns]"
      ]
     },
     "execution_count": 25,
     "metadata": {},
     "output_type": "execute_result"
    }
   ],
   "source": [
    "univbank.head()"
   ]
  },
  {
   "cell_type": "code",
   "execution_count": 26,
   "metadata": {
    "colab": {
     "base_uri": "https://localhost:8080/"
    },
    "executionInfo": {
     "elapsed": 56,
     "status": "ok",
     "timestamp": 1671171328314,
     "user": {
      "displayName": "Aishwarya komanduru",
      "userId": "18133241959767863584"
     },
     "user_tz": -330
    },
    "id": "dsfFawPxIWRe",
    "outputId": "01b43f51-84ce-4d2b-8191-9cdc99873683"
   },
   "outputs": [
    {
     "data": {
      "text/plain": [
       "(5000, 21)"
      ]
     },
     "execution_count": 26,
     "metadata": {},
     "output_type": "execute_result"
    }
   ],
   "source": [
    "univbank.shape"
   ]
  },
  {
   "cell_type": "markdown",
   "metadata": {
    "id": "wL7nrD7yIWRe"
   },
   "source": [
    "####  Check for missing values "
   ]
  },
  {
   "cell_type": "code",
   "execution_count": 27,
   "metadata": {
    "colab": {
     "base_uri": "https://localhost:8080/"
    },
    "executionInfo": {
     "elapsed": 51,
     "status": "ok",
     "timestamp": 1671171328314,
     "user": {
      "displayName": "Aishwarya komanduru",
      "userId": "18133241959767863584"
     },
     "user_tz": -330
    },
    "id": "t18y4oBPIWRe",
    "outputId": "0b493b19-8490-4f1d-8d4b-b24a16e42d3d"
   },
   "outputs": [
    {
     "data": {
      "text/plain": [
       "Age                       0\n",
       "Experience                0\n",
       "Income                    0\n",
       "CCAvg                     0\n",
       "Mortgage                  2\n",
       "Personal Loan             0\n",
       "Education_1               0\n",
       "Education_2               0\n",
       "Education_3               0\n",
       "Family_1                  0\n",
       "Family_2                  0\n",
       "Family_3                  0\n",
       "Family_4                  0\n",
       "CD Account_0.0            0\n",
       "CD Account_1.0            0\n",
       "Online_0                  0\n",
       "Online_1                  0\n",
       "CreditCard_0              0\n",
       "CreditCard_1              0\n",
       "Securities Account_0.0    0\n",
       "Securities Account_1.0    0\n",
       "dtype: int64"
      ]
     },
     "execution_count": 27,
     "metadata": {},
     "output_type": "execute_result"
    }
   ],
   "source": [
    "univbank.isnull().sum()"
   ]
  },
  {
   "cell_type": "markdown",
   "metadata": {
    "id": "F_vG1bknIWRe"
   },
   "source": [
    "#### Split the data into train and test"
   ]
  },
  {
   "cell_type": "code",
   "execution_count": 28,
   "metadata": {
    "id": "9rkJ44XIIWRe"
   },
   "outputs": [],
   "source": [
    "y = univbank[\"Personal Loan\"]\n",
    "X = univbank.drop('Personal Loan', axis=1)\n",
    "X_train, X_test, y_train, y_test = train_test_split(X, y, test_size=0.20,stratify=y,random_state=123)"
   ]
  },
  {
   "cell_type": "code",
   "execution_count": 29,
   "metadata": {
    "colab": {
     "base_uri": "https://localhost:8080/"
    },
    "executionInfo": {
     "elapsed": 49,
     "status": "ok",
     "timestamp": 1671171328315,
     "user": {
      "displayName": "Aishwarya komanduru",
      "userId": "18133241959767863584"
     },
     "user_tz": -330
    },
    "id": "NHMhQi4DIWRe",
    "outputId": "7e13a875-26b3-43ac-d733-b51b99002365"
   },
   "outputs": [
    {
     "name": "stdout",
     "output_type": "stream",
     "text": [
      "(4000, 20)\n",
      "(1000, 20)\n",
      "(4000,)\n",
      "(1000,)\n"
     ]
    }
   ],
   "source": [
    "print(X_train.shape)\n",
    "print(X_test.shape)\n",
    "print(y_train.shape)\n",
    "print(y_test.shape)"
   ]
  },
  {
   "cell_type": "code",
   "execution_count": 30,
   "metadata": {
    "colab": {
     "base_uri": "https://localhost:8080/"
    },
    "executionInfo": {
     "elapsed": 47,
     "status": "ok",
     "timestamp": 1671171328315,
     "user": {
      "displayName": "Aishwarya komanduru",
      "userId": "18133241959767863584"
     },
     "user_tz": -330
    },
    "id": "-AeME-gxIWRe",
    "outputId": "b59fa1f0-1ed7-4857-8ffd-397510ba15c6"
   },
   "outputs": [
    {
     "name": "stdout",
     "output_type": "stream",
     "text": [
      "0    3616\n",
      "1     384\n",
      "Name: Personal Loan, dtype: int64\n",
      "0    904\n",
      "1     96\n",
      "Name: Personal Loan, dtype: int64\n"
     ]
    }
   ],
   "source": [
    "print(y_train.value_counts())\n",
    "print(y_test.value_counts())"
   ]
  },
  {
   "cell_type": "markdown",
   "metadata": {
    "id": "sboGZnt7IWRf"
   },
   "source": [
    "#### Split the attributes into numerical and categorical types"
   ]
  },
  {
   "cell_type": "code",
   "execution_count": 31,
   "metadata": {
    "colab": {
     "base_uri": "https://localhost:8080/"
    },
    "executionInfo": {
     "elapsed": 46,
     "status": "ok",
     "timestamp": 1671171328316,
     "user": {
      "displayName": "Aishwarya komanduru",
      "userId": "18133241959767863584"
     },
     "user_tz": -330
    },
    "id": "t6YE-qA6IWRf",
    "outputId": "dc458621-9de4-4dc1-f2e8-76e23b446a01",
    "scrolled": true
   },
   "outputs": [
    {
     "data": {
      "text/plain": [
       "Age                         int64\n",
       "Experience                  int64\n",
       "Income                      int64\n",
       "CCAvg                     float64\n",
       "Mortgage                  float64\n",
       "Education_1                 uint8\n",
       "Education_2                 uint8\n",
       "Education_3                 uint8\n",
       "Family_1                    uint8\n",
       "Family_2                    uint8\n",
       "Family_3                    uint8\n",
       "Family_4                    uint8\n",
       "CD Account_0.0              uint8\n",
       "CD Account_1.0              uint8\n",
       "Online_0                    uint8\n",
       "Online_1                    uint8\n",
       "CreditCard_0                uint8\n",
       "CreditCard_1                uint8\n",
       "Securities Account_0.0      uint8\n",
       "Securities Account_1.0      uint8\n",
       "dtype: object"
      ]
     },
     "execution_count": 31,
     "metadata": {},
     "output_type": "execute_result"
    }
   ],
   "source": [
    "X_train.dtypes"
   ]
  },
  {
   "cell_type": "markdown",
   "metadata": {
    "id": "VMIwsW2AgFNK"
   },
   "source": [
    "### Can we do it with simple code?"
   ]
  },
  {
   "cell_type": "code",
   "execution_count": 32,
   "metadata": {
    "id": "2PsCiORZIWRf"
   },
   "outputs": [],
   "source": [
    "for cols in X_train.columns :\n",
    "    if X_train[cols].dtype == 'uint8':\n",
    "        X_train[cols]=X_train[cols].astype('category')"
   ]
  },
  {
   "cell_type": "code",
   "execution_count": 33,
   "metadata": {
    "id": "BQJVPPuuIWRf"
   },
   "outputs": [],
   "source": [
    "for cols in X_test.columns :\n",
    "    if X_test[cols].dtype == 'uint8':\n",
    "        X_test[cols]=X_test[cols].astype('category')"
   ]
  },
  {
   "cell_type": "markdown",
   "metadata": {
    "id": "rzFKCfVk-fgq"
   },
   "source": [
    "### Can we do it with simple code?"
   ]
  },
  {
   "cell_type": "code",
   "execution_count": 34,
   "metadata": {
    "colab": {
     "base_uri": "https://localhost:8080/"
    },
    "executionInfo": {
     "elapsed": 45,
     "status": "ok",
     "timestamp": 1671171328317,
     "user": {
      "displayName": "Aishwarya komanduru",
      "userId": "18133241959767863584"
     },
     "user_tz": -330
    },
    "id": "h-hiViYQIWRf",
    "outputId": "61603641-304e-4064-8ec0-ee28ef02f1ba"
   },
   "outputs": [
    {
     "data": {
      "text/plain": [
       "Index(['Age', 'Experience', 'Income', 'CCAvg', 'Mortgage'], dtype='object')"
      ]
     },
     "execution_count": 34,
     "metadata": {},
     "output_type": "execute_result"
    }
   ],
   "source": [
    "num_attr=X_train.select_dtypes(['int64','float64']).columns\n",
    "num_attr"
   ]
  },
  {
   "cell_type": "code",
   "execution_count": 35,
   "metadata": {
    "colab": {
     "base_uri": "https://localhost:8080/"
    },
    "executionInfo": {
     "elapsed": 44,
     "status": "ok",
     "timestamp": 1671171328319,
     "user": {
      "displayName": "Aishwarya komanduru",
      "userId": "18133241959767863584"
     },
     "user_tz": -330
    },
    "id": "qSN4tqlMIWRf",
    "outputId": "62c3619b-da85-4907-993a-ea967122d73f"
   },
   "outputs": [
    {
     "data": {
      "text/plain": [
       "Index(['Education_1', 'Education_2', 'Education_3', 'Family_1', 'Family_2',\n",
       "       'Family_3', 'Family_4', 'CD Account_0.0', 'CD Account_1.0', 'Online_0',\n",
       "       'Online_1', 'CreditCard_0', 'CreditCard_1', 'Securities Account_0.0',\n",
       "       'Securities Account_1.0'],\n",
       "      dtype='object')"
      ]
     },
     "execution_count": 35,
     "metadata": {},
     "output_type": "execute_result"
    }
   ],
   "source": [
    "cat_attr = X_train.select_dtypes('category').columns\n",
    "cat_attr"
   ]
  },
  {
   "cell_type": "markdown",
   "metadata": {
    "id": "M9jp8MrHIWRf"
   },
   "source": [
    "#### Checking for missing values in train and test dataset"
   ]
  },
  {
   "cell_type": "code",
   "execution_count": 36,
   "metadata": {
    "colab": {
     "base_uri": "https://localhost:8080/"
    },
    "executionInfo": {
     "elapsed": 43,
     "status": "ok",
     "timestamp": 1671171328320,
     "user": {
      "displayName": "Aishwarya komanduru",
      "userId": "18133241959767863584"
     },
     "user_tz": -330
    },
    "id": "N0e1SiOwIWRf",
    "outputId": "000d5307-ba83-468e-884d-3420a9937e3b"
   },
   "outputs": [
    {
     "data": {
      "text/plain": [
       "Age                       0\n",
       "Experience                0\n",
       "Income                    0\n",
       "CCAvg                     0\n",
       "Mortgage                  1\n",
       "Education_1               0\n",
       "Education_2               0\n",
       "Education_3               0\n",
       "Family_1                  0\n",
       "Family_2                  0\n",
       "Family_3                  0\n",
       "Family_4                  0\n",
       "CD Account_0.0            0\n",
       "CD Account_1.0            0\n",
       "Online_0                  0\n",
       "Online_1                  0\n",
       "CreditCard_0              0\n",
       "CreditCard_1              0\n",
       "Securities Account_0.0    0\n",
       "Securities Account_1.0    0\n",
       "dtype: int64"
      ]
     },
     "execution_count": 36,
     "metadata": {},
     "output_type": "execute_result"
    }
   ],
   "source": [
    "X_train.isnull().sum()"
   ]
  },
  {
   "cell_type": "code",
   "execution_count": 37,
   "metadata": {
    "colab": {
     "base_uri": "https://localhost:8080/"
    },
    "executionInfo": {
     "elapsed": 41,
     "status": "ok",
     "timestamp": 1671171328320,
     "user": {
      "displayName": "Aishwarya komanduru",
      "userId": "18133241959767863584"
     },
     "user_tz": -330
    },
    "id": "SAuZ8kQPIWRf",
    "outputId": "3600bdba-cb90-4e9f-b73d-bef7a99c4c26"
   },
   "outputs": [
    {
     "data": {
      "text/plain": [
       "Age                       0\n",
       "Experience                0\n",
       "Income                    0\n",
       "CCAvg                     0\n",
       "Mortgage                  1\n",
       "Education_1               0\n",
       "Education_2               0\n",
       "Education_3               0\n",
       "Family_1                  0\n",
       "Family_2                  0\n",
       "Family_3                  0\n",
       "Family_4                  0\n",
       "CD Account_0.0            0\n",
       "CD Account_1.0            0\n",
       "Online_0                  0\n",
       "Online_1                  0\n",
       "CreditCard_0              0\n",
       "CreditCard_1              0\n",
       "Securities Account_0.0    0\n",
       "Securities Account_1.0    0\n",
       "dtype: int64"
      ]
     },
     "execution_count": 37,
     "metadata": {},
     "output_type": "execute_result"
    }
   ],
   "source": [
    "X_test.isnull().sum()"
   ]
  },
  {
   "cell_type": "markdown",
   "metadata": {
    "id": "m9wuczXLIWRg"
   },
   "source": [
    "#### Imputing missing values with median"
   ]
  },
  {
   "cell_type": "code",
   "execution_count": 38,
   "metadata": {
    "id": "_-m1M6HwIWRg"
   },
   "outputs": [],
   "source": [
    "imputer = SimpleImputer(strategy='median')\n",
    "imputer = imputer.fit(X_train[num_attr])\n",
    "\n",
    "X_train[num_attr] = imputer.transform(X_train[num_attr])\n",
    "X_test[num_attr] = imputer.transform(X_test[num_attr])"
   ]
  },
  {
   "cell_type": "code",
   "execution_count": 39,
   "metadata": {
    "colab": {
     "base_uri": "https://localhost:8080/"
    },
    "executionInfo": {
     "elapsed": 40,
     "status": "ok",
     "timestamp": 1671171328322,
     "user": {
      "displayName": "Aishwarya komanduru",
      "userId": "18133241959767863584"
     },
     "user_tz": -330
    },
    "id": "PMCyXJ2oIWRg",
    "outputId": "d2f9826d-4814-443e-949b-979fcbc6affa"
   },
   "outputs": [
    {
     "data": {
      "text/plain": [
       "array([45. , 20. , 63.5,  1.5,  0. ])"
      ]
     },
     "execution_count": 39,
     "metadata": {},
     "output_type": "execute_result"
    }
   ],
   "source": [
    "imputer.statistics_"
   ]
  },
  {
   "cell_type": "code",
   "execution_count": 40,
   "metadata": {
    "colab": {
     "base_uri": "https://localhost:8080/"
    },
    "executionInfo": {
     "elapsed": 38,
     "status": "ok",
     "timestamp": 1671171328322,
     "user": {
      "displayName": "Aishwarya komanduru",
      "userId": "18133241959767863584"
     },
     "user_tz": -330
    },
    "id": "ehUH429fIWRg",
    "outputId": "5502d4eb-9b72-4f50-8493-05ae478fcfef"
   },
   "outputs": [
    {
     "data": {
      "text/plain": [
       "0.0"
      ]
     },
     "execution_count": 40,
     "metadata": {},
     "output_type": "execute_result"
    }
   ],
   "source": [
    "X_train['Mortgage'].median()"
   ]
  },
  {
   "cell_type": "code",
   "execution_count": 41,
   "metadata": {
    "colab": {
     "base_uri": "https://localhost:8080/"
    },
    "executionInfo": {
     "elapsed": 37,
     "status": "ok",
     "timestamp": 1671171328323,
     "user": {
      "displayName": "Aishwarya komanduru",
      "userId": "18133241959767863584"
     },
     "user_tz": -330
    },
    "id": "OJGkCLh8IWRg",
    "outputId": "a93400b1-0e1f-468c-e717-52621d871817"
   },
   "outputs": [
    {
     "data": {
      "text/plain": [
       "Age                       0\n",
       "Experience                0\n",
       "Income                    0\n",
       "CCAvg                     0\n",
       "Mortgage                  0\n",
       "Education_1               0\n",
       "Education_2               0\n",
       "Education_3               0\n",
       "Family_1                  0\n",
       "Family_2                  0\n",
       "Family_3                  0\n",
       "Family_4                  0\n",
       "CD Account_0.0            0\n",
       "CD Account_1.0            0\n",
       "Online_0                  0\n",
       "Online_1                  0\n",
       "CreditCard_0              0\n",
       "CreditCard_1              0\n",
       "Securities Account_0.0    0\n",
       "Securities Account_1.0    0\n",
       "dtype: int64"
      ]
     },
     "execution_count": 41,
     "metadata": {},
     "output_type": "execute_result"
    }
   ],
   "source": [
    "X_train.isnull().sum()"
   ]
  },
  {
   "cell_type": "code",
   "execution_count": 42,
   "metadata": {
    "colab": {
     "base_uri": "https://localhost:8080/"
    },
    "executionInfo": {
     "elapsed": 35,
     "status": "ok",
     "timestamp": 1671171328323,
     "user": {
      "displayName": "Aishwarya komanduru",
      "userId": "18133241959767863584"
     },
     "user_tz": -330
    },
    "id": "iUkCcuY2IWRg",
    "outputId": "a5fc4b73-cb9e-43f8-c12c-4ed563bfcc20"
   },
   "outputs": [
    {
     "data": {
      "text/plain": [
       "Age                       0\n",
       "Experience                0\n",
       "Income                    0\n",
       "CCAvg                     0\n",
       "Mortgage                  0\n",
       "Education_1               0\n",
       "Education_2               0\n",
       "Education_3               0\n",
       "Family_1                  0\n",
       "Family_2                  0\n",
       "Family_3                  0\n",
       "Family_4                  0\n",
       "CD Account_0.0            0\n",
       "CD Account_1.0            0\n",
       "Online_0                  0\n",
       "Online_1                  0\n",
       "CreditCard_0              0\n",
       "CreditCard_1              0\n",
       "Securities Account_0.0    0\n",
       "Securities Account_1.0    0\n",
       "dtype: int64"
      ]
     },
     "execution_count": 42,
     "metadata": {},
     "output_type": "execute_result"
    }
   ],
   "source": [
    "X_test.isnull().sum()"
   ]
  },
  {
   "cell_type": "markdown",
   "metadata": {
    "id": "1OZWHDbpIWRg"
   },
   "source": [
    "#### Imputation for missing values for categoric attributes"
   ]
  },
  {
   "cell_type": "code",
   "execution_count": 43,
   "metadata": {
    "id": "XBhGynmoIWRg"
   },
   "outputs": [],
   "source": [
    "imputer_cat = SimpleImputer(strategy='most_frequent')\n",
    "\n",
    "imputer_cat = imputer.fit(X_train[cat_attr])\n",
    "\n",
    "X_train[cat_attr] = imputer_cat.transform(X_train[cat_attr])\n",
    "X_test[cat_attr] = imputer_cat.transform(X_test[cat_attr])"
   ]
  },
  {
   "cell_type": "markdown",
   "metadata": {
    "id": "EiJjDi23IWRh"
   },
   "source": [
    "###  Activity on sampling and scaling"
   ]
  },
  {
   "cell_type": "markdown",
   "metadata": {
    "id": "LMIVLaS6IWRh"
   },
   "source": [
    "#### Standardize the data (numerical attributes only) - Import StandardScaler\n"
   ]
  },
  {
   "cell_type": "code",
   "execution_count": 44,
   "metadata": {
    "colab": {
     "base_uri": "https://localhost:8080/"
    },
    "executionInfo": {
     "elapsed": 13,
     "status": "ok",
     "timestamp": 1671171329173,
     "user": {
      "displayName": "Aishwarya komanduru",
      "userId": "18133241959767863584"
     },
     "user_tz": -330
    },
    "id": "SZeOrKYjIWRh",
    "outputId": "363bd189-b26d-4679-e349-8a668c0e121d"
   },
   "outputs": [
    {
     "data": {
      "text/plain": [
       "StandardScaler()"
      ]
     },
     "execution_count": 44,
     "metadata": {},
     "output_type": "execute_result"
    }
   ],
   "source": [
    "scaler = StandardScaler()\n",
    "scaler.fit(X_train[num_attr])"
   ]
  },
  {
   "cell_type": "code",
   "execution_count": 45,
   "metadata": {
    "id": "SeSXaRHDIWRh"
   },
   "outputs": [],
   "source": [
    "X_train[num_attr]=scaler.transform(X_train[num_attr])\n",
    "X_test[num_attr]=scaler.transform(X_test[num_attr])"
   ]
  },
  {
   "cell_type": "markdown",
   "metadata": {
    "id": "2u5_KPUxIWRh"
   },
   "source": [
    "#### Build KNN Classifier Model"
   ]
  },
  {
   "cell_type": "code",
   "execution_count": 46,
   "metadata": {
    "colab": {
     "base_uri": "https://localhost:8080/"
    },
    "executionInfo": {
     "elapsed": 10,
     "status": "ok",
     "timestamp": 1671171329173,
     "user": {
      "displayName": "Aishwarya komanduru",
      "userId": "18133241959767863584"
     },
     "user_tz": -330
    },
    "id": "OXGI-bsHIWRh",
    "outputId": "e5beb908-d140-4dbe-c8c7-0d681a45e3c4",
    "scrolled": true
   },
   "outputs": [
    {
     "data": {
      "text/plain": [
       "KNeighborsClassifier()"
      ]
     },
     "execution_count": 46,
     "metadata": {},
     "output_type": "execute_result"
    }
   ],
   "source": [
    "model_knn= KNeighborsClassifier(n_neighbors=5)  # n_neighbors=5 (By default)\n",
    "model_knn.fit(X_train,y_train)"
   ]
  },
  {
   "cell_type": "markdown",
   "metadata": {
    "id": "BxxV6D_6IWRh"
   },
   "source": [
    "#### Predict on the Test data"
   ]
  },
  {
   "cell_type": "code",
   "execution_count": 47,
   "metadata": {
    "id": "uPVENnN-IWRh"
   },
   "outputs": [],
   "source": [
    "y_train_pred_knn = model_knn.predict(X_train)\n",
    "y_test_pred_knn  = model_knn.predict(X_test)"
   ]
  },
  {
   "cell_type": "markdown",
   "metadata": {
    "id": "lCrtAcjl_56B"
   },
   "source": [
    "#### Find Accuracy for KNN"
   ]
  },
  {
   "cell_type": "markdown",
   "metadata": {
    "id": "4vI3owcAIWRi"
   },
   "source": [
    "Accuracy on training set: 0.970\n",
    "Accuracy on testing set: 0.950"
   ]
  },
  {
   "cell_type": "code",
   "execution_count": 48,
   "metadata": {
    "colab": {
     "base_uri": "https://localhost:8080/"
    },
    "executionInfo": {
     "elapsed": 430,
     "status": "ok",
     "timestamp": 1671171329598,
     "user": {
      "displayName": "Aishwarya komanduru",
      "userId": "18133241959767863584"
     },
     "user_tz": -330
    },
    "id": "BagYvrH-IWRi",
    "outputId": "cc5bea15-82e9-4c5a-ec08-9866fbf516bd"
   },
   "outputs": [
    {
     "name": "stdout",
     "output_type": "stream",
     "text": [
      "Accuracy on training set: 0.970\n",
      "Accuracy on testing set: 0.950\n"
     ]
    }
   ],
   "source": [
    "print(\"Accuracy on training set: {:.3f}\".format(model_knn.score(X_train, y_train)))\n",
    "print(\"Accuracy on testing set: {:.3f}\".format(model_knn.score(X_test, y_test)))"
   ]
  },
  {
   "cell_type": "markdown",
   "metadata": {
    "id": "ViBGgGGhIWRi"
   },
   "source": [
    "#### **Find the recall using classification score**"
   ]
  },
  {
   "cell_type": "code",
   "execution_count": 49,
   "metadata": {
    "colab": {
     "base_uri": "https://localhost:8080/"
    },
    "executionInfo": {
     "elapsed": 26,
     "status": "ok",
     "timestamp": 1671171329599,
     "user": {
      "displayName": "Aishwarya komanduru",
      "userId": "18133241959767863584"
     },
     "user_tz": -330
    },
    "id": "4zY8XnsZIWRi",
    "outputId": "79521dd3-07c2-4601-e9c6-1ca120e9905c",
    "scrolled": true
   },
   "outputs": [
    {
     "name": "stdout",
     "output_type": "stream",
     "text": [
      "              precision    recall  f1-score   support\n",
      "\n",
      "           0       0.97      1.00      0.98      3616\n",
      "           1       0.99      0.69      0.81       384\n",
      "\n",
      "    accuracy                           0.97      4000\n",
      "   macro avg       0.98      0.84      0.90      4000\n",
      "weighted avg       0.97      0.97      0.97      4000\n",
      "\n"
     ]
    }
   ],
   "source": [
    "print(classification_report(y_train, y_train_pred_knn))"
   ]
  },
  {
   "cell_type": "code",
   "execution_count": 50,
   "metadata": {
    "colab": {
     "base_uri": "https://localhost:8080/"
    },
    "executionInfo": {
     "elapsed": 20,
     "status": "ok",
     "timestamp": 1671171329599,
     "user": {
      "displayName": "Aishwarya komanduru",
      "userId": "18133241959767863584"
     },
     "user_tz": -330
    },
    "id": "hT7UrVxCIWRi",
    "outputId": "48a46923-7452-4a94-add4-0b27312464e9"
   },
   "outputs": [
    {
     "name": "stdout",
     "output_type": "stream",
     "text": [
      "              precision    recall  f1-score   support\n",
      "\n",
      "           0       0.95      1.00      0.97       904\n",
      "           1       0.94      0.51      0.66        96\n",
      "\n",
      "    accuracy                           0.95      1000\n",
      "   macro avg       0.95      0.75      0.82      1000\n",
      "weighted avg       0.95      0.95      0.94      1000\n",
      "\n"
     ]
    }
   ],
   "source": [
    "print(classification_report(y_test, y_test_pred_knn))"
   ]
  },
  {
   "cell_type": "markdown",
   "metadata": {
    "id": "Sax2ThrSgFNQ"
   },
   "source": [
    "### **Finding out the IDEAL K-value for the given dataset**"
   ]
  },
  {
   "cell_type": "markdown",
   "metadata": {
    "id": "XEl7D_EAgFNR"
   },
   "source": [
    "### Grid Search K-fold Cross Validation:"
   ]
  },
  {
   "cell_type": "markdown",
   "metadata": {
    "id": "6Si2Qh0hIWRk"
   },
   "source": [
    "#### 1. Use the GridSearchCV "
   ]
  },
  {
   "cell_type": "code",
   "execution_count": 51,
   "metadata": {
    "colab": {
     "base_uri": "https://localhost:8080/"
    },
    "executionInfo": {
     "elapsed": 5846,
     "status": "ok",
     "timestamp": 1671171341623,
     "user": {
      "displayName": "Aishwarya komanduru",
      "userId": "18133241959767863584"
     },
     "user_tz": -330
    },
    "id": "2s-7YETMIWRk",
    "outputId": "a2f12a4d-7c90-4da2-acb5-1eb49e1f4bba",
    "scrolled": true
   },
   "outputs": [
    {
     "name": "stdout",
     "output_type": "stream",
     "text": [
      "Fitting 5 folds for each of 10 candidates, totalling 50 fits\n"
     ]
    },
    {
     "data": {
      "text/plain": [
       "GridSearchCV(cv=5,\n",
       "             estimator=KNeighborsClassifier(metric='euclidean', n_jobs=-1),\n",
       "             param_grid={'n_neighbors': [2, 3, 4, 5, 6, 7, 8, 9, 10, 11]},\n",
       "             scoring='recall', verbose=1)"
      ]
     },
     "execution_count": 51,
     "metadata": {},
     "output_type": "execute_result"
    }
   ],
   "source": [
    "parameters = {'n_neighbors':list(range(2,12))}\n",
    "clf = GridSearchCV(KNeighborsClassifier(metric=\"euclidean\", n_jobs=-1),\n",
    "                   parameters,verbose=1, cv=5,scoring='recall')\n",
    "\n",
    "clf.fit(X=X_train, y=y_train)"
   ]
  },
  {
   "cell_type": "code",
   "execution_count": 52,
   "metadata": {
    "colab": {
     "base_uri": "https://localhost:8080/"
    },
    "executionInfo": {
     "elapsed": 26,
     "status": "ok",
     "timestamp": 1671171341623,
     "user": {
      "displayName": "Aishwarya komanduru",
      "userId": "18133241959767863584"
     },
     "user_tz": -330
    },
    "id": "3B6wU1HWIWRk",
    "outputId": "0b79907d-8919-4823-e86f-0779534f5684"
   },
   "outputs": [
    {
     "data": {
      "text/plain": [
       "KNeighborsClassifier(metric='euclidean', n_jobs=-1, n_neighbors=3)"
      ]
     },
     "execution_count": 52,
     "metadata": {},
     "output_type": "execute_result"
    }
   ],
   "source": [
    "knn_model = clf.best_estimator_\n",
    "knn_model"
   ]
  },
  {
   "cell_type": "code",
   "execution_count": 53,
   "metadata": {
    "colab": {
     "base_uri": "https://localhost:8080/"
    },
    "executionInfo": {
     "elapsed": 22,
     "status": "ok",
     "timestamp": 1671171341624,
     "user": {
      "displayName": "Aishwarya komanduru",
      "userId": "18133241959767863584"
     },
     "user_tz": -330
    },
    "id": "EsOJ2L47IWRk",
    "outputId": "0718a252-7d43-4b6b-927f-73b53c5af63a"
   },
   "outputs": [
    {
     "name": "stdout",
     "output_type": "stream",
     "text": [
      "0.5989063568010936 {'n_neighbors': 3}\n"
     ]
    }
   ],
   "source": [
    "print (clf.best_score_, clf.best_params_) "
   ]
  },
  {
   "cell_type": "markdown",
   "metadata": {
    "id": "pvkBYr5XIWRk"
   },
   "source": [
    "#### 2. Predict on the test data using the best model"
   ]
  },
  {
   "cell_type": "code",
   "execution_count": 54,
   "metadata": {
    "id": "jjwHtrUDIWRk"
   },
   "outputs": [],
   "source": [
    "y_pred_test=knn_model.predict(X_test)"
   ]
  },
  {
   "cell_type": "code",
   "execution_count": 55,
   "metadata": {
    "id": "THfTyNrVIWRl"
   },
   "outputs": [],
   "source": [
    "y_train_pred = knn_model.predict(X_train)\n",
    "y_test_pred  = knn_model.predict(X_test)"
   ]
  },
  {
   "cell_type": "code",
   "execution_count": 56,
   "metadata": {
    "colab": {
     "base_uri": "https://localhost:8080/"
    },
    "executionInfo": {
     "elapsed": 4,
     "status": "ok",
     "timestamp": 1671171342244,
     "user": {
      "displayName": "Aishwarya komanduru",
      "userId": "18133241959767863584"
     },
     "user_tz": -330
    },
    "id": "YGhLH0fxIWRl",
    "outputId": "fa68fa70-4a59-46e2-f5c3-a4e17c562044"
   },
   "outputs": [
    {
     "data": {
      "text/plain": [
       "array([0, 0, 0, 0, 0], dtype=int64)"
      ]
     },
     "execution_count": 56,
     "metadata": {},
     "output_type": "execute_result"
    }
   ],
   "source": [
    "y_pred_test[:5]"
   ]
  },
  {
   "cell_type": "code",
   "execution_count": 57,
   "metadata": {
    "colab": {
     "base_uri": "https://localhost:8080/"
    },
    "executionInfo": {
     "elapsed": 1021,
     "status": "ok",
     "timestamp": 1671171343263,
     "user": {
      "displayName": "Aishwarya komanduru",
      "userId": "18133241959767863584"
     },
     "user_tz": -330
    },
    "id": "IiWIzj5XIWRl",
    "outputId": "31e440e2-b372-4a8b-d383-40807bfe04ee"
   },
   "outputs": [
    {
     "name": "stdout",
     "output_type": "stream",
     "text": [
      "Accuracy on training set: 0.978\n",
      "Accuracy on testing set: 0.953\n"
     ]
    }
   ],
   "source": [
    "print(\"Accuracy on training set: {:.3f}\".format(knn_model.score(X_train, y_train)))\n",
    "print(\"Accuracy on testing set: {:.3f}\".format(knn_model.score(X_test, y_test)))"
   ]
  },
  {
   "cell_type": "code",
   "execution_count": 58,
   "metadata": {
    "colab": {
     "base_uri": "https://localhost:8080/"
    },
    "executionInfo": {
     "elapsed": 21,
     "status": "ok",
     "timestamp": 1671171343264,
     "user": {
      "displayName": "Aishwarya komanduru",
      "userId": "18133241959767863584"
     },
     "user_tz": -330
    },
    "id": "iEML8KcyIWRl",
    "outputId": "04d4d0e6-4915-4a57-b45a-cee24a72418b"
   },
   "outputs": [
    {
     "name": "stdout",
     "output_type": "stream",
     "text": [
      "              precision    recall  f1-score   support\n",
      "\n",
      "           0       0.98      1.00      0.99      3616\n",
      "           1       0.99      0.77      0.87       384\n",
      "\n",
      "    accuracy                           0.98      4000\n",
      "   macro avg       0.98      0.89      0.93      4000\n",
      "weighted avg       0.98      0.98      0.98      4000\n",
      "\n"
     ]
    }
   ],
   "source": [
    "print(classification_report(y_train, y_train_pred))"
   ]
  },
  {
   "cell_type": "code",
   "execution_count": 59,
   "metadata": {
    "colab": {
     "base_uri": "https://localhost:8080/"
    },
    "executionInfo": {
     "elapsed": 16,
     "status": "ok",
     "timestamp": 1671171343264,
     "user": {
      "displayName": "Aishwarya komanduru",
      "userId": "18133241959767863584"
     },
     "user_tz": -330
    },
    "id": "cZMJMtMtIWRl",
    "outputId": "77eb39b1-7b7f-4639-8464-ddb4a2a5c1d3"
   },
   "outputs": [
    {
     "name": "stdout",
     "output_type": "stream",
     "text": [
      "              precision    recall  f1-score   support\n",
      "\n",
      "           0       0.96      0.99      0.97       904\n",
      "           1       0.90      0.57      0.70        96\n",
      "\n",
      "    accuracy                           0.95      1000\n",
      "   macro avg       0.93      0.78      0.84      1000\n",
      "weighted avg       0.95      0.95      0.95      1000\n",
      "\n"
     ]
    }
   ],
   "source": [
    "print(classification_report(y_test, y_test_pred))"
   ]
  },
  {
   "cell_type": "markdown",
   "metadata": {
    "id": "YDbml5guIWRl"
   },
   "source": [
    "#### 3. Compute confusion matrix to evaluate the accuracy of the classification "
   ]
  },
  {
   "cell_type": "code",
   "execution_count": 60,
   "metadata": {
    "colab": {
     "base_uri": "https://localhost:8080/"
    },
    "executionInfo": {
     "elapsed": 11,
     "status": "ok",
     "timestamp": 1671171343264,
     "user": {
      "displayName": "Aishwarya komanduru",
      "userId": "18133241959767863584"
     },
     "user_tz": -330
    },
    "id": "S8USgPvdIWRl",
    "outputId": "61216b99-d3d2-4981-c68c-9718b960e137",
    "scrolled": true
   },
   "outputs": [
    {
     "name": "stdout",
     "output_type": "stream",
     "text": [
      "[[898   6]\n",
      " [ 41  55]]\n"
     ]
    }
   ],
   "source": [
    "print(confusion_matrix(y_test, y_pred_test))"
   ]
  },
  {
   "cell_type": "markdown",
   "metadata": {
    "id": "YI-tHmaUIWRl"
   },
   "source": [
    "#### 4.  classification score"
   ]
  },
  {
   "cell_type": "code",
   "execution_count": 61,
   "metadata": {
    "colab": {
     "base_uri": "https://localhost:8080/"
    },
    "executionInfo": {
     "elapsed": 9,
     "status": "ok",
     "timestamp": 1671171343265,
     "user": {
      "displayName": "Aishwarya komanduru",
      "userId": "18133241959767863584"
     },
     "user_tz": -330
    },
    "id": "JW3FbuAKIWRl",
    "outputId": "fe4ec6b4-edcc-4791-a803-ab98f588467d"
   },
   "outputs": [
    {
     "name": "stdout",
     "output_type": "stream",
     "text": [
      "0.5729166666666666\n"
     ]
    }
   ],
   "source": [
    "from sklearn.metrics import recall_score\n",
    "print(recall_score(y_test,y_pred_test))"
   ]
  },
  {
   "cell_type": "markdown",
   "metadata": {
    "id": "d6REduCeIWRl"
   },
   "source": [
    "## CNN With KNN"
   ]
  },
  {
   "cell_type": "code",
   "execution_count": 62,
   "metadata": {
    "id": "chjLXaj3IWRl"
   },
   "outputs": [],
   "source": [
    "cnn = CondensedNearestNeighbour(n_neighbors=3)\n",
    "X_cnn_train, y_cnn_train = cnn.fit_resample(X_train, y_train)\n",
    "X_cnn_test, y_cnn_test = cnn.fit_resample(X_test,y_test)"
   ]
  },
  {
   "cell_type": "code",
   "execution_count": 63,
   "metadata": {
    "colab": {
     "base_uri": "https://localhost:8080/"
    },
    "executionInfo": {
     "elapsed": 58,
     "status": "ok",
     "timestamp": 1671171403024,
     "user": {
      "displayName": "Aishwarya komanduru",
      "userId": "18133241959767863584"
     },
     "user_tz": -330
    },
    "id": "Vl4jZkJMIWRm",
    "outputId": "7a66cc70-2646-475d-fc41-e116e4ad5d81"
   },
   "outputs": [
    {
     "data": {
      "text/plain": [
       "(4000, 20)"
      ]
     },
     "execution_count": 63,
     "metadata": {},
     "output_type": "execute_result"
    }
   ],
   "source": [
    "X_train.shape"
   ]
  },
  {
   "cell_type": "code",
   "execution_count": 64,
   "metadata": {
    "colab": {
     "base_uri": "https://localhost:8080/"
    },
    "executionInfo": {
     "elapsed": 54,
     "status": "ok",
     "timestamp": 1671171403024,
     "user": {
      "displayName": "Aishwarya komanduru",
      "userId": "18133241959767863584"
     },
     "user_tz": -330
    },
    "id": "tW1bOsDIIWRm",
    "outputId": "532e1220-5460-4f0a-9005-cbf3a8c41a13"
   },
   "outputs": [
    {
     "data": {
      "text/plain": [
       "(687, 20)"
      ]
     },
     "execution_count": 64,
     "metadata": {},
     "output_type": "execute_result"
    }
   ],
   "source": [
    "X_cnn_train.shape"
   ]
  },
  {
   "cell_type": "code",
   "execution_count": 65,
   "metadata": {
    "colab": {
     "base_uri": "https://localhost:8080/",
     "height": 287
    },
    "executionInfo": {
     "elapsed": 47,
     "status": "ok",
     "timestamp": 1671171403024,
     "user": {
      "displayName": "Aishwarya komanduru",
      "userId": "18133241959767863584"
     },
     "user_tz": -330
    },
    "id": "b3hGEfbBIWRm",
    "outputId": "75b664b5-6439-4686-c649-5a157c70fc22",
    "scrolled": true
   },
   "outputs": [
    {
     "data": {
      "text/html": [
       "<div>\n",
       "<style scoped>\n",
       "    .dataframe tbody tr th:only-of-type {\n",
       "        vertical-align: middle;\n",
       "    }\n",
       "\n",
       "    .dataframe tbody tr th {\n",
       "        vertical-align: top;\n",
       "    }\n",
       "\n",
       "    .dataframe thead th {\n",
       "        text-align: right;\n",
       "    }\n",
       "</style>\n",
       "<table border=\"1\" class=\"dataframe\">\n",
       "  <thead>\n",
       "    <tr style=\"text-align: right;\">\n",
       "      <th></th>\n",
       "      <th>Age</th>\n",
       "      <th>Experience</th>\n",
       "      <th>Income</th>\n",
       "      <th>CCAvg</th>\n",
       "      <th>Mortgage</th>\n",
       "      <th>Education_1</th>\n",
       "      <th>Education_2</th>\n",
       "      <th>Education_3</th>\n",
       "      <th>Family_1</th>\n",
       "      <th>Family_2</th>\n",
       "      <th>Family_3</th>\n",
       "      <th>Family_4</th>\n",
       "      <th>CD Account_0.0</th>\n",
       "      <th>CD Account_1.0</th>\n",
       "      <th>Online_0</th>\n",
       "      <th>Online_1</th>\n",
       "      <th>CreditCard_0</th>\n",
       "      <th>CreditCard_1</th>\n",
       "      <th>Securities Account_0.0</th>\n",
       "      <th>Securities Account_1.0</th>\n",
       "    </tr>\n",
       "  </thead>\n",
       "  <tbody>\n",
       "    <tr>\n",
       "      <th>0</th>\n",
       "      <td>-0.027180</td>\n",
       "      <td>-0.094674</td>\n",
       "      <td>0.407969</td>\n",
       "      <td>0.368710</td>\n",
       "      <td>-0.559325</td>\n",
       "      <td>0.0</td>\n",
       "      <td>0.0</td>\n",
       "      <td>1.0</td>\n",
       "      <td>0.0</td>\n",
       "      <td>0.0</td>\n",
       "      <td>0.0</td>\n",
       "      <td>1.0</td>\n",
       "      <td>1.0</td>\n",
       "      <td>0.0</td>\n",
       "      <td>1.0</td>\n",
       "      <td>0.0</td>\n",
       "      <td>1.0</td>\n",
       "      <td>0.0</td>\n",
       "      <td>1.0</td>\n",
       "      <td>0.0</td>\n",
       "    </tr>\n",
       "    <tr>\n",
       "      <th>1</th>\n",
       "      <td>-1.256633</td>\n",
       "      <td>-1.323642</td>\n",
       "      <td>0.794945</td>\n",
       "      <td>-0.990617</td>\n",
       "      <td>-0.559325</td>\n",
       "      <td>1.0</td>\n",
       "      <td>0.0</td>\n",
       "      <td>0.0</td>\n",
       "      <td>0.0</td>\n",
       "      <td>1.0</td>\n",
       "      <td>0.0</td>\n",
       "      <td>0.0</td>\n",
       "      <td>1.0</td>\n",
       "      <td>0.0</td>\n",
       "      <td>1.0</td>\n",
       "      <td>0.0</td>\n",
       "      <td>1.0</td>\n",
       "      <td>0.0</td>\n",
       "      <td>1.0</td>\n",
       "      <td>0.0</td>\n",
       "    </tr>\n",
       "    <tr>\n",
       "      <th>2</th>\n",
       "      <td>1.641364</td>\n",
       "      <td>1.748777</td>\n",
       "      <td>1.224918</td>\n",
       "      <td>1.048374</td>\n",
       "      <td>-0.559325</td>\n",
       "      <td>1.0</td>\n",
       "      <td>0.0</td>\n",
       "      <td>0.0</td>\n",
       "      <td>1.0</td>\n",
       "      <td>0.0</td>\n",
       "      <td>0.0</td>\n",
       "      <td>0.0</td>\n",
       "      <td>1.0</td>\n",
       "      <td>0.0</td>\n",
       "      <td>1.0</td>\n",
       "      <td>0.0</td>\n",
       "      <td>1.0</td>\n",
       "      <td>0.0</td>\n",
       "      <td>1.0</td>\n",
       "      <td>0.0</td>\n",
       "    </tr>\n",
       "    <tr>\n",
       "      <th>3</th>\n",
       "      <td>0.851001</td>\n",
       "      <td>0.783159</td>\n",
       "      <td>-0.043503</td>\n",
       "      <td>-0.933978</td>\n",
       "      <td>0.887982</td>\n",
       "      <td>0.0</td>\n",
       "      <td>1.0</td>\n",
       "      <td>0.0</td>\n",
       "      <td>0.0</td>\n",
       "      <td>0.0</td>\n",
       "      <td>1.0</td>\n",
       "      <td>0.0</td>\n",
       "      <td>1.0</td>\n",
       "      <td>0.0</td>\n",
       "      <td>1.0</td>\n",
       "      <td>0.0</td>\n",
       "      <td>1.0</td>\n",
       "      <td>0.0</td>\n",
       "      <td>1.0</td>\n",
       "      <td>0.0</td>\n",
       "    </tr>\n",
       "    <tr>\n",
       "      <th>4</th>\n",
       "      <td>1.377910</td>\n",
       "      <td>1.397643</td>\n",
       "      <td>-1.376419</td>\n",
       "      <td>-0.877340</td>\n",
       "      <td>-0.559325</td>\n",
       "      <td>0.0</td>\n",
       "      <td>1.0</td>\n",
       "      <td>0.0</td>\n",
       "      <td>0.0</td>\n",
       "      <td>0.0</td>\n",
       "      <td>0.0</td>\n",
       "      <td>1.0</td>\n",
       "      <td>1.0</td>\n",
       "      <td>0.0</td>\n",
       "      <td>0.0</td>\n",
       "      <td>1.0</td>\n",
       "      <td>1.0</td>\n",
       "      <td>0.0</td>\n",
       "      <td>1.0</td>\n",
       "      <td>0.0</td>\n",
       "    </tr>\n",
       "  </tbody>\n",
       "</table>\n",
       "</div>"
      ],
      "text/plain": [
       "        Age  Experience    Income     CCAvg  Mortgage  Education_1  \\\n",
       "0 -0.027180   -0.094674  0.407969  0.368710 -0.559325          0.0   \n",
       "1 -1.256633   -1.323642  0.794945 -0.990617 -0.559325          1.0   \n",
       "2  1.641364    1.748777  1.224918  1.048374 -0.559325          1.0   \n",
       "3  0.851001    0.783159 -0.043503 -0.933978  0.887982          0.0   \n",
       "4  1.377910    1.397643 -1.376419 -0.877340 -0.559325          0.0   \n",
       "\n",
       "   Education_2  Education_3  Family_1  Family_2  Family_3  Family_4  \\\n",
       "0          0.0          1.0       0.0       0.0       0.0       1.0   \n",
       "1          0.0          0.0       0.0       1.0       0.0       0.0   \n",
       "2          0.0          0.0       1.0       0.0       0.0       0.0   \n",
       "3          1.0          0.0       0.0       0.0       1.0       0.0   \n",
       "4          1.0          0.0       0.0       0.0       0.0       1.0   \n",
       "\n",
       "   CD Account_0.0  CD Account_1.0  Online_0  Online_1  CreditCard_0  \\\n",
       "0             1.0             0.0       1.0       0.0           1.0   \n",
       "1             1.0             0.0       1.0       0.0           1.0   \n",
       "2             1.0             0.0       1.0       0.0           1.0   \n",
       "3             1.0             0.0       1.0       0.0           1.0   \n",
       "4             1.0             0.0       0.0       1.0           1.0   \n",
       "\n",
       "   CreditCard_1  Securities Account_0.0  Securities Account_1.0  \n",
       "0           0.0                     1.0                     0.0  \n",
       "1           0.0                     1.0                     0.0  \n",
       "2           0.0                     1.0                     0.0  \n",
       "3           0.0                     1.0                     0.0  \n",
       "4           0.0                     1.0                     0.0  "
      ]
     },
     "execution_count": 65,
     "metadata": {},
     "output_type": "execute_result"
    }
   ],
   "source": [
    "X_cnn_train.head(5)"
   ]
  },
  {
   "cell_type": "code",
   "execution_count": 66,
   "metadata": {
    "colab": {
     "base_uri": "https://localhost:8080/"
    },
    "executionInfo": {
     "elapsed": 44,
     "status": "ok",
     "timestamp": 1671171403025,
     "user": {
      "displayName": "Aishwarya komanduru",
      "userId": "18133241959767863584"
     },
     "user_tz": -330
    },
    "id": "Rm5sTaGZIWRm",
    "outputId": "30f56244-b972-48bf-f667-fb09c996b470"
   },
   "outputs": [
    {
     "data": {
      "text/plain": [
       "(1000, 20)"
      ]
     },
     "execution_count": 66,
     "metadata": {},
     "output_type": "execute_result"
    }
   ],
   "source": [
    "X_test.shape"
   ]
  },
  {
   "cell_type": "code",
   "execution_count": 67,
   "metadata": {
    "colab": {
     "base_uri": "https://localhost:8080/"
    },
    "executionInfo": {
     "elapsed": 38,
     "status": "ok",
     "timestamp": 1671171403025,
     "user": {
      "displayName": "Aishwarya komanduru",
      "userId": "18133241959767863584"
     },
     "user_tz": -330
    },
    "id": "zHQ3b3IPIWRm",
    "outputId": "f19ee85b-8469-4a9f-876b-79e24cd30498"
   },
   "outputs": [
    {
     "data": {
      "text/plain": [
       "(204, 20)"
      ]
     },
     "execution_count": 67,
     "metadata": {},
     "output_type": "execute_result"
    }
   ],
   "source": [
    "X_cnn_test.shape"
   ]
  },
  {
   "cell_type": "code",
   "execution_count": 68,
   "metadata": {
    "colab": {
     "base_uri": "https://localhost:8080/"
    },
    "executionInfo": {
     "elapsed": 32,
     "status": "ok",
     "timestamp": 1671171403025,
     "user": {
      "displayName": "Aishwarya komanduru",
      "userId": "18133241959767863584"
     },
     "user_tz": -330
    },
    "id": "OhjC-oWdIWRm",
    "outputId": "978fea78-6ee0-4d60-aa28-f88c57366dce"
   },
   "outputs": [
    {
     "data": {
      "text/plain": [
       "(687,)"
      ]
     },
     "execution_count": 68,
     "metadata": {},
     "output_type": "execute_result"
    }
   ],
   "source": [
    "y_cnn_train.shape"
   ]
  },
  {
   "cell_type": "code",
   "execution_count": 69,
   "metadata": {
    "colab": {
     "base_uri": "https://localhost:8080/"
    },
    "executionInfo": {
     "elapsed": 27,
     "status": "ok",
     "timestamp": 1671171403026,
     "user": {
      "displayName": "Aishwarya komanduru",
      "userId": "18133241959767863584"
     },
     "user_tz": -330
    },
    "id": "zaia4Yv1IWRm",
    "outputId": "65b995f8-bd13-4ee8-ce22-7e69f069fa1c",
    "scrolled": true
   },
   "outputs": [
    {
     "data": {
      "text/plain": [
       "(204,)"
      ]
     },
     "execution_count": 69,
     "metadata": {},
     "output_type": "execute_result"
    }
   ],
   "source": [
    "y_cnn_test.shape"
   ]
  },
  {
   "cell_type": "code",
   "execution_count": null,
   "metadata": {},
   "outputs": [],
   "source": []
  }
 ],
 "metadata": {
  "anaconda-cloud": {},
  "colab": {
   "provenance": []
  },
  "kernelspec": {
   "display_name": "Python 3 (ipykernel)",
   "language": "python",
   "name": "python3"
  },
  "language_info": {
   "codemirror_mode": {
    "name": "ipython",
    "version": 3
   },
   "file_extension": ".py",
   "mimetype": "text/x-python",
   "name": "python",
   "nbconvert_exporter": "python",
   "pygments_lexer": "ipython3",
   "version": "3.9.12"
  }
 },
 "nbformat": 4,
 "nbformat_minor": 1
}
