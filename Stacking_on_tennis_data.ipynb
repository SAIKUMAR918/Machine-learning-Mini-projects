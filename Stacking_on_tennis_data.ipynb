{
 "cells": [
  {
   "cell_type": "markdown",
   "metadata": {
    "id": "nN0rzpStVbI7"
   },
   "source": [
    "# Problem Statement: \n",
    "\n",
    "Tennis Australia Open is trying to better automate how tennis points get categorized into three outcomes – \n",
    "\n",
    "* `Winner` – the point winning player hits a shot that is not touched by the opponent\n",
    "* `Forced error` – the point winning player hits a shot that causes the opponent to not be able to return it, i.e. a good shot that is hard to handle\n",
    "* `Unforced error` – the player attempting to return the ball makes an error on an otherwise normal looking rally shot"
   ]
  },
  {
   "cell_type": "markdown",
   "metadata": {
    "id": "T8vf2oEoVbI8"
   },
   "source": [
    "## Dataset Description:\n",
    "\n",
    "The dataset includes point outcomes of rallies only (where the number of shots hit exceeds two, which represents the serve and return). All points were played at a past Australian Open."
   ]
  },
  {
   "cell_type": "markdown",
   "metadata": {
    "id": "XaO5c-URVbI9"
   },
   "source": [
    "## Atribute description"
   ]
  },
  {
   "cell_type": "markdown",
   "metadata": {
    "id": "zNpVmHZzVbI9"
   },
   "source": [
    "| Variable | Description| Value Range |\n",
    "| :- | -: | :-: |\n",
    "rally | The number of shots in the point counting serves and point-ending shot | An integer from 1, 2, 3...\n",
    "| serve | A number indicating whether the point was played on a first or second serve.  | 1 = First, 2 = Second\n",
    "| hitpoint | Shot category for point-ending shot | F = Forehand, B = Backhand, V = Volley, U = Unknown\n",
    "| speed | Speed of point-ending shot | Continuous (m/s)\n",
    "| net.clearance | Distance above the net as point-ending shot passed the net | Continuous (cm) distance above net. Can be negative if shot did not pass above the net.\n",
    "| distance.from.sideline | Lateral distance of the point-ending shot bounce from the nearest singles sideline. | Perpendicular distance in meters (always positive even if out)\n",
    "| depth | Distance of the point-ending shot bounce from the baseline | Perpendicular distance in meters\n",
    "(always positive even if out)\n",
    "| outside.sideline | Logical indicator of whether point-ending shot landed outside of the in-play singles sideline | TRUE, FALSE\n",
    "| outside.baseline | Logical indicator of whether point-ending shot landed beyond the in-play baseline | TRUE, FALSE\n",
    "| player.distance.travelled | Distance player who made the point-ending shot travelled between the impact of the penultimate shot and the impact of the point-ending shot | Euclidean distance in meters\n",
    "| player.impact.depth | Distance of player who made point-ending shot from the net at the time the point-ending shot was made | Perpendicular distance along the length of court from net in meters\n",
    "| player.impact.distance.from.center | Distance of player who made point-ending shot from the center line at the time the point-ending shot was made | Perpendicular distance from the center line in meters\n",
    "| player.depth | Distance of player who made point-ending shot from the net at the time the penultimate shot was made | Perpendicular distance along the length of court from net in meters\n",
    "| player.distance.from.center | Distance of player who made point-ending shot from the center line at the time the penultimate shot was made | Perpendicular distance from the center line in meters\n",
    "| opponent.depth | Distance of opponent from the net at the time the at the time the penultimate shot was made | Perpendicular distance along the length of court from net in meters\n",
    "| opponent.distance.from.center | Distance of opponent from the center line at the time the penultimate shot was made | Perpendicular distance from the center line in meters\n",
    "| same.side | Logical indicator if both player and opponent were positioned on the same side of the center line (ad or deuce court) at the time the penultimate shot was made | TRUE, FALSE\n",
    "| previous.speed | Speed of penultimate shot | Continuous (m/s)\n",
    "| previous.net.clearance | Distance above the net as penultimate shot passed the net | Continuous (cm) distance above net. Can be negative if shot did not pass above the net.\n",
    "| previous.distance.from.sideline | Lateral distance of the penultimate  shot bounce from the nearest singles sideline. | Perpendicular distance in meters (always positive even if out)\n",
    "| previous.depth | Distance of the penultimate shot bounce from the baseline | Perpendicular distance in meters\n",
    "(always positive even if out)\n",
    "| previous.hitpoint | Shot category for penultimate shot | F = Forehand, B = Backhand, V = Volley, U = Unknown\n",
    "| previous.time.to.net | Time for penultimate shot to be hit and pass the net | Continuous number in seconds\n",
    "| server.is.impact.player | Logical if player who made point-ending shot was the server of the point | TRUE, FALSE\n",
    "| outcome | Target variable, character with three categories indicating the type of shot that ended the point  | W (Winner), FE (Forced Error), UE (Unforced Error)\n",
    "| id | A 10-character unique identifier for the point | Character"
   ]
  },
  {
   "cell_type": "markdown",
   "metadata": {
    "id": "pPUCJNDtVbI9"
   },
   "source": [
    "# Import libraries"
   ]
  },
  {
   "cell_type": "code",
   "execution_count": 4,
   "metadata": {
    "id": "meV2krqgVbI-"
   },
   "outputs": [],
   "source": [
    "import pandas as pd\n",
    "import numpy as np\n",
    "\n",
    "from sklearn.model_selection import train_test_split\n",
    "\n",
    "from sklearn.preprocessing import StandardScaler, OneHotEncoder, LabelEncoder\n",
    "from sklearn.metrics import accuracy_score, recall_score, precision_score, f1_score, classification_report\n",
    "\n",
    "from sklearn.tree import DecisionTreeClassifier\n",
    "from sklearn.ensemble import AdaBoostClassifier, RandomForestClassifier, GradientBoostingClassifier\n",
    "\n",
    "from xgboost import XGBClassifier\n",
    "\n",
    "from sklearn.model_selection import GridSearchCV"
   ]
  },
  {
   "cell_type": "code",
   "execution_count": 6,
   "metadata": {},
   "outputs": [
    {
     "name": "stdout",
     "output_type": "stream",
     "text": [
      "Collecting vecstack\n",
      "  Downloading vecstack-0.4.0.tar.gz (18 kB)\n",
      "Requirement already satisfied: numpy in c:\\users\\gsk44\\anaconda3\\lib\\site-packages (from vecstack) (1.21.5)\n",
      "Requirement already satisfied: scipy in c:\\users\\gsk44\\anaconda3\\lib\\site-packages (from vecstack) (1.9.3)\n",
      "Requirement already satisfied: scikit-learn>=0.18 in c:\\users\\gsk44\\anaconda3\\lib\\site-packages (from vecstack) (1.0.2)\n",
      "Requirement already satisfied: joblib>=0.11 in c:\\users\\gsk44\\anaconda3\\lib\\site-packages (from scikit-learn>=0.18->vecstack) (1.2.0)\n",
      "Requirement already satisfied: threadpoolctl>=2.0.0 in c:\\users\\gsk44\\anaconda3\\lib\\site-packages (from scikit-learn>=0.18->vecstack) (2.2.0)\n",
      "Building wheels for collected packages: vecstack\n",
      "  Building wheel for vecstack (setup.py): started\n",
      "  Building wheel for vecstack (setup.py): finished with status 'done'\n",
      "  Created wheel for vecstack: filename=vecstack-0.4.0-py3-none-any.whl size=19877 sha256=82809688c6b95e5a6b4e0452370f0fcfb54022467c365ecc695ec8e354856fef\n",
      "  Stored in directory: c:\\users\\gsk44\\appdata\\local\\pip\\cache\\wheels\\7e\\ee\\d6\\47cb94a403bc544de1433986e5530d6b0498021098fbe43aa1\n",
      "Successfully built vecstack\n",
      "Installing collected packages: vecstack\n",
      "Successfully installed vecstack-0.4.0\n"
     ]
    }
   ],
   "source": [
    "!pip install vecstack\n",
    "from vecstack import stacking"
   ]
  },
  {
   "cell_type": "markdown",
   "metadata": {
    "id": "rDFgODZKVbI-"
   },
   "source": [
    "# Load data"
   ]
  },
  {
   "cell_type": "code",
   "execution_count": 8,
   "metadata": {
    "id": "RUW5ns0TVbI_"
   },
   "outputs": [],
   "source": [
    "data = pd.read_csv(\"C:/Users/gsk44/OneDrive/Desktop/Stacking/tennis.csv\")"
   ]
  },
  {
   "cell_type": "markdown",
   "metadata": {
    "id": "EOCwlHZxVbI_"
   },
   "source": [
    "# Data Understanding"
   ]
  },
  {
   "cell_type": "markdown",
   "metadata": {
    "id": "-ydhAtZkVbI_"
   },
   "source": [
    "## Number of records and columns"
   ]
  },
  {
   "cell_type": "code",
   "execution_count": 9,
   "metadata": {
    "id": "ZriBSv_aVbI_",
    "outputId": "43d228ac-a1b3-40d1-de30-e144f7250423"
   },
   "outputs": [
    {
     "data": {
      "text/plain": [
       "(8001, 27)"
      ]
     },
     "execution_count": 9,
     "metadata": {},
     "output_type": "execute_result"
    }
   ],
   "source": [
    "data.shape"
   ]
  },
  {
   "cell_type": "markdown",
   "metadata": {
    "id": "_Y-7mhvSVbJA"
   },
   "source": [
    "## See the first five records"
   ]
  },
  {
   "cell_type": "code",
   "execution_count": 10,
   "metadata": {
    "id": "xduamPdeVbJA",
    "outputId": "b88357da-029d-44dd-f94c-ec3fc1310846"
   },
   "outputs": [
    {
     "data": {
      "text/html": [
       "<div>\n",
       "<style scoped>\n",
       "    .dataframe tbody tr th:only-of-type {\n",
       "        vertical-align: middle;\n",
       "    }\n",
       "\n",
       "    .dataframe tbody tr th {\n",
       "        vertical-align: top;\n",
       "    }\n",
       "\n",
       "    .dataframe thead th {\n",
       "        text-align: right;\n",
       "    }\n",
       "</style>\n",
       "<table border=\"1\" class=\"dataframe\">\n",
       "  <thead>\n",
       "    <tr style=\"text-align: right;\">\n",
       "      <th></th>\n",
       "      <th>rally</th>\n",
       "      <th>serve</th>\n",
       "      <th>hitpoint</th>\n",
       "      <th>speed</th>\n",
       "      <th>net.clearance</th>\n",
       "      <th>distance.from.sideline</th>\n",
       "      <th>depth</th>\n",
       "      <th>outside.sideline</th>\n",
       "      <th>outside.baseline</th>\n",
       "      <th>player.distance.travelled</th>\n",
       "      <th>...</th>\n",
       "      <th>previous.depth</th>\n",
       "      <th>opponent.depth</th>\n",
       "      <th>opponent.distance.from.center</th>\n",
       "      <th>same.side</th>\n",
       "      <th>previous.hitpoint</th>\n",
       "      <th>previous.time.to.net</th>\n",
       "      <th>server.is.impact.player</th>\n",
       "      <th>outcome</th>\n",
       "      <th>gender</th>\n",
       "      <th>ID</th>\n",
       "    </tr>\n",
       "  </thead>\n",
       "  <tbody>\n",
       "    <tr>\n",
       "      <th>0</th>\n",
       "      <td>4</td>\n",
       "      <td>1</td>\n",
       "      <td>B</td>\n",
       "      <td>35.515042</td>\n",
       "      <td>-0.021725</td>\n",
       "      <td>3.474766</td>\n",
       "      <td>6.797621</td>\n",
       "      <td>False</td>\n",
       "      <td>False</td>\n",
       "      <td>1.467570</td>\n",
       "      <td>...</td>\n",
       "      <td>0.705435</td>\n",
       "      <td>12.5628</td>\n",
       "      <td>2.0724</td>\n",
       "      <td>True</td>\n",
       "      <td>F</td>\n",
       "      <td>0.445318</td>\n",
       "      <td>False</td>\n",
       "      <td>UE</td>\n",
       "      <td>mens</td>\n",
       "      <td>8644</td>\n",
       "    </tr>\n",
       "    <tr>\n",
       "      <th>1</th>\n",
       "      <td>4</td>\n",
       "      <td>2</td>\n",
       "      <td>B</td>\n",
       "      <td>33.382640</td>\n",
       "      <td>1.114202</td>\n",
       "      <td>2.540801</td>\n",
       "      <td>2.608708</td>\n",
       "      <td>False</td>\n",
       "      <td>True</td>\n",
       "      <td>2.311931</td>\n",
       "      <td>...</td>\n",
       "      <td>3.856600</td>\n",
       "      <td>12.3544</td>\n",
       "      <td>5.1124</td>\n",
       "      <td>False</td>\n",
       "      <td>B</td>\n",
       "      <td>0.432434</td>\n",
       "      <td>False</td>\n",
       "      <td>FE</td>\n",
       "      <td>mens</td>\n",
       "      <td>1182</td>\n",
       "    </tr>\n",
       "    <tr>\n",
       "      <th>2</th>\n",
       "      <td>23</td>\n",
       "      <td>1</td>\n",
       "      <td>B</td>\n",
       "      <td>22.316690</td>\n",
       "      <td>-0.254046</td>\n",
       "      <td>3.533166</td>\n",
       "      <td>9.435749</td>\n",
       "      <td>False</td>\n",
       "      <td>False</td>\n",
       "      <td>3.903728</td>\n",
       "      <td>...</td>\n",
       "      <td>2.908892</td>\n",
       "      <td>13.8620</td>\n",
       "      <td>1.6564</td>\n",
       "      <td>False</td>\n",
       "      <td>F</td>\n",
       "      <td>0.397538</td>\n",
       "      <td>True</td>\n",
       "      <td>FE</td>\n",
       "      <td>mens</td>\n",
       "      <td>9042</td>\n",
       "    </tr>\n",
       "    <tr>\n",
       "      <th>3</th>\n",
       "      <td>9</td>\n",
       "      <td>1</td>\n",
       "      <td>F</td>\n",
       "      <td>36.837309</td>\n",
       "      <td>0.766694</td>\n",
       "      <td>0.586885</td>\n",
       "      <td>3.342180</td>\n",
       "      <td>True</td>\n",
       "      <td>False</td>\n",
       "      <td>0.583745</td>\n",
       "      <td>...</td>\n",
       "      <td>0.557554</td>\n",
       "      <td>14.2596</td>\n",
       "      <td>0.1606</td>\n",
       "      <td>True</td>\n",
       "      <td>B</td>\n",
       "      <td>0.671984</td>\n",
       "      <td>True</td>\n",
       "      <td>UE</td>\n",
       "      <td>mens</td>\n",
       "      <td>1222</td>\n",
       "    </tr>\n",
       "    <tr>\n",
       "      <th>4</th>\n",
       "      <td>4</td>\n",
       "      <td>1</td>\n",
       "      <td>B</td>\n",
       "      <td>35.544208</td>\n",
       "      <td>0.116162</td>\n",
       "      <td>0.918725</td>\n",
       "      <td>5.499119</td>\n",
       "      <td>False</td>\n",
       "      <td>False</td>\n",
       "      <td>2.333456</td>\n",
       "      <td>...</td>\n",
       "      <td>3.945317</td>\n",
       "      <td>11.3658</td>\n",
       "      <td>1.1082</td>\n",
       "      <td>False</td>\n",
       "      <td>F</td>\n",
       "      <td>0.340411</td>\n",
       "      <td>False</td>\n",
       "      <td>W</td>\n",
       "      <td>mens</td>\n",
       "      <td>4085</td>\n",
       "    </tr>\n",
       "  </tbody>\n",
       "</table>\n",
       "<p>5 rows × 27 columns</p>\n",
       "</div>"
      ],
      "text/plain": [
       "   rally  serve hitpoint      speed  net.clearance  distance.from.sideline  \\\n",
       "0      4      1        B  35.515042      -0.021725                3.474766   \n",
       "1      4      2        B  33.382640       1.114202                2.540801   \n",
       "2     23      1        B  22.316690      -0.254046                3.533166   \n",
       "3      9      1        F  36.837309       0.766694                0.586885   \n",
       "4      4      1        B  35.544208       0.116162                0.918725   \n",
       "\n",
       "      depth  outside.sideline  outside.baseline  player.distance.travelled  \\\n",
       "0  6.797621             False             False                   1.467570   \n",
       "1  2.608708             False              True                   2.311931   \n",
       "2  9.435749             False             False                   3.903728   \n",
       "3  3.342180              True             False                   0.583745   \n",
       "4  5.499119             False             False                   2.333456   \n",
       "\n",
       "   ...  previous.depth  opponent.depth  opponent.distance.from.center  \\\n",
       "0  ...        0.705435         12.5628                         2.0724   \n",
       "1  ...        3.856600         12.3544                         5.1124   \n",
       "2  ...        2.908892         13.8620                         1.6564   \n",
       "3  ...        0.557554         14.2596                         0.1606   \n",
       "4  ...        3.945317         11.3658                         1.1082   \n",
       "\n",
       "   same.side  previous.hitpoint  previous.time.to.net  \\\n",
       "0       True                  F              0.445318   \n",
       "1      False                  B              0.432434   \n",
       "2      False                  F              0.397538   \n",
       "3       True                  B              0.671984   \n",
       "4      False                  F              0.340411   \n",
       "\n",
       "   server.is.impact.player  outcome  gender    ID  \n",
       "0                    False       UE    mens  8644  \n",
       "1                    False       FE    mens  1182  \n",
       "2                     True       FE    mens  9042  \n",
       "3                     True       UE    mens  1222  \n",
       "4                    False        W    mens  4085  \n",
       "\n",
       "[5 rows x 27 columns]"
      ]
     },
     "execution_count": 10,
     "metadata": {},
     "output_type": "execute_result"
    }
   ],
   "source": [
    "data.head()"
   ]
  },
  {
   "cell_type": "markdown",
   "metadata": {
    "id": "Y0lSHirUVbJA"
   },
   "source": [
    "## Different classes in Outcome variable"
   ]
  },
  {
   "cell_type": "code",
   "execution_count": 11,
   "metadata": {
    "id": "uuKaxHoVVbJB",
    "outputId": "19864fab-4b8d-4b00-cf8f-3442c5b0ba8d"
   },
   "outputs": [
    {
     "data": {
      "text/plain": [
       "UE    3501\n",
       "W     2682\n",
       "FE    1818\n",
       "Name: outcome, dtype: int64"
      ]
     },
     "execution_count": 11,
     "metadata": {},
     "output_type": "execute_result"
    }
   ],
   "source": [
    "data.outcome.value_counts()"
   ]
  },
  {
   "cell_type": "code",
   "execution_count": 12,
   "metadata": {
    "id": "sdNAtt7YVbJB",
    "outputId": "8b222400-d039-41b1-d4b9-3ab62aaaf19a"
   },
   "outputs": [
    {
     "data": {
      "text/plain": [
       "UE    43.75703\n",
       "W     33.52081\n",
       "FE    22.72216\n",
       "Name: outcome, dtype: float64"
      ]
     },
     "execution_count": 12,
     "metadata": {},
     "output_type": "execute_result"
    }
   ],
   "source": [
    "data.outcome.value_counts(normalize= True)*100"
   ]
  },
  {
   "cell_type": "markdown",
   "metadata": {
    "id": "W_H7VwJvVbJB"
   },
   "source": [
    "## Display data type of each variable"
   ]
  },
  {
   "cell_type": "code",
   "execution_count": 13,
   "metadata": {
    "id": "3c4SvW3UVbJB",
    "outputId": "2ba34fd8-7bd6-4c9e-e17c-75ff517f40a0",
    "scrolled": false
   },
   "outputs": [
    {
     "data": {
      "text/plain": [
       "rally                                   int64\n",
       "serve                                   int64\n",
       "hitpoint                               object\n",
       "speed                                 float64\n",
       "net.clearance                         float64\n",
       "distance.from.sideline                float64\n",
       "depth                                 float64\n",
       "outside.sideline                         bool\n",
       "outside.baseline                         bool\n",
       "player.distance.travelled             float64\n",
       "player.impact.depth                   float64\n",
       "player.impact.distance.from.center    float64\n",
       "player.depth                          float64\n",
       "player.distance.from.center           float64\n",
       "previous.speed                        float64\n",
       "previous.net.clearance                float64\n",
       "previous.distance.from.sideline       float64\n",
       "previous.depth                        float64\n",
       "opponent.depth                        float64\n",
       "opponent.distance.from.center         float64\n",
       "same.side                                bool\n",
       "previous.hitpoint                      object\n",
       "previous.time.to.net                  float64\n",
       "server.is.impact.player                  bool\n",
       "outcome                                object\n",
       "gender                                 object\n",
       "ID                                      int64\n",
       "dtype: object"
      ]
     },
     "execution_count": 13,
     "metadata": {},
     "output_type": "execute_result"
    }
   ],
   "source": [
    "data.dtypes"
   ]
  },
  {
   "cell_type": "markdown",
   "metadata": {
    "id": "ES90GxRkVbJB"
   },
   "source": [
    "## Identifying categorical attributes"
   ]
  },
  {
   "cell_type": "code",
   "execution_count": 14,
   "metadata": {
    "id": "Yt0OlcfjVbJB"
   },
   "outputs": [],
   "source": [
    "categorical_list = [\"hitpoint\",\"outside.sideline\",\n",
    "                    \"outside.baseline\",\"same.side\",\n",
    "                    \"previous.hitpoint\",\n",
    "                    \"server.is.impact.player\",\n",
    "                    \"gender\",\"outcome\"]"
   ]
  },
  {
   "cell_type": "markdown",
   "metadata": {
    "id": "cmWaoODAVbJB"
   },
   "source": [
    "## Converting to appropriate datatype"
   ]
  },
  {
   "cell_type": "code",
   "execution_count": 15,
   "metadata": {
    "id": "gvHj9dZ6VbJB"
   },
   "outputs": [],
   "source": [
    "data[categorical_list] = data[categorical_list].astype(\"category\")    "
   ]
  },
  {
   "cell_type": "markdown",
   "metadata": {
    "id": "NgCTrnptVbJB"
   },
   "source": [
    "## Display data type of each variable after conversion"
   ]
  },
  {
   "cell_type": "code",
   "execution_count": 16,
   "metadata": {
    "id": "nXxPg8FsVbJC",
    "outputId": "124fe3c9-97b4-4f22-f2a2-592d38290e75"
   },
   "outputs": [
    {
     "data": {
      "text/plain": [
       "rally                                    int64\n",
       "serve                                    int64\n",
       "hitpoint                              category\n",
       "speed                                  float64\n",
       "net.clearance                          float64\n",
       "distance.from.sideline                 float64\n",
       "depth                                  float64\n",
       "outside.sideline                      category\n",
       "outside.baseline                      category\n",
       "player.distance.travelled              float64\n",
       "player.impact.depth                    float64\n",
       "player.impact.distance.from.center     float64\n",
       "player.depth                           float64\n",
       "player.distance.from.center            float64\n",
       "previous.speed                         float64\n",
       "previous.net.clearance                 float64\n",
       "previous.distance.from.sideline        float64\n",
       "previous.depth                         float64\n",
       "opponent.depth                         float64\n",
       "opponent.distance.from.center          float64\n",
       "same.side                             category\n",
       "previous.hitpoint                     category\n",
       "previous.time.to.net                   float64\n",
       "server.is.impact.player               category\n",
       "outcome                               category\n",
       "gender                                category\n",
       "ID                                       int64\n",
       "dtype: object"
      ]
     },
     "execution_count": 16,
     "metadata": {},
     "output_type": "execute_result"
    }
   ],
   "source": [
    "data.dtypes"
   ]
  },
  {
   "cell_type": "markdown",
   "metadata": {
    "id": "Kvq5JGuvVbJC"
   },
   "source": [
    "## Dropping ID column and checking the length of columns"
   ]
  },
  {
   "cell_type": "code",
   "execution_count": 17,
   "metadata": {
    "id": "I4xI2I3bVbJC",
    "outputId": "826fb8df-9c83-4885-b7d1-27ec0e61e9e7"
   },
   "outputs": [
    {
     "data": {
      "text/plain": [
       "8001"
      ]
     },
     "execution_count": 17,
     "metadata": {},
     "output_type": "execute_result"
    }
   ],
   "source": [
    "len(data['ID'].unique())"
   ]
  },
  {
   "cell_type": "code",
   "execution_count": 18,
   "metadata": {
    "id": "dQ2gTgvYVbJC",
    "outputId": "94235bdb-4e4b-492f-80bc-159400a72190"
   },
   "outputs": [
    {
     "data": {
      "text/plain": [
       "(8001, 27)"
      ]
     },
     "execution_count": 18,
     "metadata": {},
     "output_type": "execute_result"
    }
   ],
   "source": [
    "data.shape"
   ]
  },
  {
   "cell_type": "code",
   "execution_count": 19,
   "metadata": {
    "id": "20gulDd2VbJC",
    "outputId": "a474ef30-31b0-4005-b969-7eb04537ac6c"
   },
   "outputs": [
    {
     "data": {
      "text/plain": [
       "26"
      ]
     },
     "execution_count": 19,
     "metadata": {},
     "output_type": "execute_result"
    }
   ],
   "source": [
    "data.drop([\"ID\"], axis=1, inplace=True)\n",
    "\n",
    "len(data.columns)"
   ]
  },
  {
   "cell_type": "markdown",
   "metadata": {
    "id": "nRaJJ37yVbJC"
   },
   "source": [
    "## Display summary statistics "
   ]
  },
  {
   "cell_type": "code",
   "execution_count": 20,
   "metadata": {
    "id": "X5_oTqrVVbJC",
    "outputId": "a5d1a734-6ff3-4927-a3aa-edc8bba8ca31",
    "scrolled": true
   },
   "outputs": [
    {
     "data": {
      "text/html": [
       "<div>\n",
       "<style scoped>\n",
       "    .dataframe tbody tr th:only-of-type {\n",
       "        vertical-align: middle;\n",
       "    }\n",
       "\n",
       "    .dataframe tbody tr th {\n",
       "        vertical-align: top;\n",
       "    }\n",
       "\n",
       "    .dataframe thead th {\n",
       "        text-align: right;\n",
       "    }\n",
       "</style>\n",
       "<table border=\"1\" class=\"dataframe\">\n",
       "  <thead>\n",
       "    <tr style=\"text-align: right;\">\n",
       "      <th></th>\n",
       "      <th>rally</th>\n",
       "      <th>serve</th>\n",
       "      <th>speed</th>\n",
       "      <th>net.clearance</th>\n",
       "      <th>distance.from.sideline</th>\n",
       "      <th>depth</th>\n",
       "      <th>player.distance.travelled</th>\n",
       "      <th>player.impact.depth</th>\n",
       "      <th>player.impact.distance.from.center</th>\n",
       "      <th>player.depth</th>\n",
       "      <th>player.distance.from.center</th>\n",
       "      <th>previous.speed</th>\n",
       "      <th>previous.net.clearance</th>\n",
       "      <th>previous.distance.from.sideline</th>\n",
       "      <th>previous.depth</th>\n",
       "      <th>opponent.depth</th>\n",
       "      <th>opponent.distance.from.center</th>\n",
       "      <th>previous.time.to.net</th>\n",
       "    </tr>\n",
       "  </thead>\n",
       "  <tbody>\n",
       "    <tr>\n",
       "      <th>count</th>\n",
       "      <td>8001.000000</td>\n",
       "      <td>8001.000000</td>\n",
       "      <td>8001.000000</td>\n",
       "      <td>8001.000000</td>\n",
       "      <td>8001.000000</td>\n",
       "      <td>8001.000000</td>\n",
       "      <td>8001.000000</td>\n",
       "      <td>8001.000000</td>\n",
       "      <td>8001.000000</td>\n",
       "      <td>8001.000000</td>\n",
       "      <td>8001.000000</td>\n",
       "      <td>8001.000000</td>\n",
       "      <td>8001.000000</td>\n",
       "      <td>8001.000000</td>\n",
       "      <td>8001.000000</td>\n",
       "      <td>8001.000000</td>\n",
       "      <td>8001.000000</td>\n",
       "      <td>8001.000000</td>\n",
       "    </tr>\n",
       "    <tr>\n",
       "      <th>mean</th>\n",
       "      <td>5.966004</td>\n",
       "      <td>1.398700</td>\n",
       "      <td>30.806938</td>\n",
       "      <td>0.629658</td>\n",
       "      <td>1.467630</td>\n",
       "      <td>4.421146</td>\n",
       "      <td>2.690463</td>\n",
       "      <td>11.899694</td>\n",
       "      <td>1.919544</td>\n",
       "      <td>12.253954</td>\n",
       "      <td>1.213795</td>\n",
       "      <td>28.763676</td>\n",
       "      <td>0.821562</td>\n",
       "      <td>2.193420</td>\n",
       "      <td>4.218717</td>\n",
       "      <td>12.616810</td>\n",
       "      <td>2.367952</td>\n",
       "      <td>0.549988</td>\n",
       "    </tr>\n",
       "    <tr>\n",
       "      <th>std</th>\n",
       "      <td>3.548182</td>\n",
       "      <td>0.489661</td>\n",
       "      <td>7.298917</td>\n",
       "      <td>0.982504</td>\n",
       "      <td>1.108697</td>\n",
       "      <td>3.144965</td>\n",
       "      <td>1.713136</td>\n",
       "      <td>2.788231</td>\n",
       "      <td>1.205449</td>\n",
       "      <td>2.039085</td>\n",
       "      <td>0.964364</td>\n",
       "      <td>6.477470</td>\n",
       "      <td>0.674663</td>\n",
       "      <td>1.038942</td>\n",
       "      <td>2.052946</td>\n",
       "      <td>2.075401</td>\n",
       "      <td>1.313927</td>\n",
       "      <td>0.186788</td>\n",
       "    </tr>\n",
       "    <tr>\n",
       "      <th>min</th>\n",
       "      <td>3.000000</td>\n",
       "      <td>1.000000</td>\n",
       "      <td>5.176078</td>\n",
       "      <td>-0.998184</td>\n",
       "      <td>0.000497</td>\n",
       "      <td>0.003135</td>\n",
       "      <td>0.000000</td>\n",
       "      <td>2.156000</td>\n",
       "      <td>0.000200</td>\n",
       "      <td>1.389800</td>\n",
       "      <td>0.000400</td>\n",
       "      <td>8.449117</td>\n",
       "      <td>0.028865</td>\n",
       "      <td>0.000164</td>\n",
       "      <td>0.000467</td>\n",
       "      <td>2.161200</td>\n",
       "      <td>0.000200</td>\n",
       "      <td>0.003201</td>\n",
       "    </tr>\n",
       "    <tr>\n",
       "      <th>25%</th>\n",
       "      <td>3.000000</td>\n",
       "      <td>1.000000</td>\n",
       "      <td>26.770290</td>\n",
       "      <td>-0.027092</td>\n",
       "      <td>0.539500</td>\n",
       "      <td>1.641161</td>\n",
       "      <td>1.444233</td>\n",
       "      <td>11.221400</td>\n",
       "      <td>0.942400</td>\n",
       "      <td>11.374200</td>\n",
       "      <td>0.551800</td>\n",
       "      <td>24.033218</td>\n",
       "      <td>0.404815</td>\n",
       "      <td>1.354458</td>\n",
       "      <td>2.733674</td>\n",
       "      <td>12.082400</td>\n",
       "      <td>1.352200</td>\n",
       "      <td>0.432164</td>\n",
       "    </tr>\n",
       "    <tr>\n",
       "      <th>50%</th>\n",
       "      <td>5.000000</td>\n",
       "      <td>1.000000</td>\n",
       "      <td>32.417690</td>\n",
       "      <td>0.445870</td>\n",
       "      <td>1.210847</td>\n",
       "      <td>3.860266</td>\n",
       "      <td>2.360894</td>\n",
       "      <td>12.691800</td>\n",
       "      <td>1.829400</td>\n",
       "      <td>12.551600</td>\n",
       "      <td>0.983800</td>\n",
       "      <td>29.793417</td>\n",
       "      <td>0.658382</td>\n",
       "      <td>2.168822</td>\n",
       "      <td>4.126864</td>\n",
       "      <td>12.901600</td>\n",
       "      <td>2.332000</td>\n",
       "      <td>0.507559</td>\n",
       "    </tr>\n",
       "    <tr>\n",
       "      <th>75%</th>\n",
       "      <td>7.000000</td>\n",
       "      <td>2.000000</td>\n",
       "      <td>35.681431</td>\n",
       "      <td>0.970844</td>\n",
       "      <td>2.215955</td>\n",
       "      <td>7.029345</td>\n",
       "      <td>3.565853</td>\n",
       "      <td>13.553000</td>\n",
       "      <td>2.745200</td>\n",
       "      <td>13.498000</td>\n",
       "      <td>1.596600</td>\n",
       "      <td>33.581003</td>\n",
       "      <td>1.021397</td>\n",
       "      <td>3.022677</td>\n",
       "      <td>5.595515</td>\n",
       "      <td>13.712800</td>\n",
       "      <td>3.259000</td>\n",
       "      <td>0.624135</td>\n",
       "    </tr>\n",
       "    <tr>\n",
       "      <th>max</th>\n",
       "      <td>38.000000</td>\n",
       "      <td>2.000000</td>\n",
       "      <td>55.052795</td>\n",
       "      <td>12.815893</td>\n",
       "      <td>7.569757</td>\n",
       "      <td>11.886069</td>\n",
       "      <td>14.480546</td>\n",
       "      <td>18.125600</td>\n",
       "      <td>7.746200</td>\n",
       "      <td>18.745800</td>\n",
       "      <td>9.352600</td>\n",
       "      <td>54.207506</td>\n",
       "      <td>6.730275</td>\n",
       "      <td>4.114361</td>\n",
       "      <td>9.997963</td>\n",
       "      <td>20.211000</td>\n",
       "      <td>6.852600</td>\n",
       "      <td>1.635257</td>\n",
       "    </tr>\n",
       "  </tbody>\n",
       "</table>\n",
       "</div>"
      ],
      "text/plain": [
       "             rally        serve        speed  net.clearance  \\\n",
       "count  8001.000000  8001.000000  8001.000000    8001.000000   \n",
       "mean      5.966004     1.398700    30.806938       0.629658   \n",
       "std       3.548182     0.489661     7.298917       0.982504   \n",
       "min       3.000000     1.000000     5.176078      -0.998184   \n",
       "25%       3.000000     1.000000    26.770290      -0.027092   \n",
       "50%       5.000000     1.000000    32.417690       0.445870   \n",
       "75%       7.000000     2.000000    35.681431       0.970844   \n",
       "max      38.000000     2.000000    55.052795      12.815893   \n",
       "\n",
       "       distance.from.sideline        depth  player.distance.travelled  \\\n",
       "count             8001.000000  8001.000000                8001.000000   \n",
       "mean                 1.467630     4.421146                   2.690463   \n",
       "std                  1.108697     3.144965                   1.713136   \n",
       "min                  0.000497     0.003135                   0.000000   \n",
       "25%                  0.539500     1.641161                   1.444233   \n",
       "50%                  1.210847     3.860266                   2.360894   \n",
       "75%                  2.215955     7.029345                   3.565853   \n",
       "max                  7.569757    11.886069                  14.480546   \n",
       "\n",
       "       player.impact.depth  player.impact.distance.from.center  player.depth  \\\n",
       "count          8001.000000                         8001.000000   8001.000000   \n",
       "mean             11.899694                            1.919544     12.253954   \n",
       "std               2.788231                            1.205449      2.039085   \n",
       "min               2.156000                            0.000200      1.389800   \n",
       "25%              11.221400                            0.942400     11.374200   \n",
       "50%              12.691800                            1.829400     12.551600   \n",
       "75%              13.553000                            2.745200     13.498000   \n",
       "max              18.125600                            7.746200     18.745800   \n",
       "\n",
       "       player.distance.from.center  previous.speed  previous.net.clearance  \\\n",
       "count                  8001.000000     8001.000000             8001.000000   \n",
       "mean                      1.213795       28.763676                0.821562   \n",
       "std                       0.964364        6.477470                0.674663   \n",
       "min                       0.000400        8.449117                0.028865   \n",
       "25%                       0.551800       24.033218                0.404815   \n",
       "50%                       0.983800       29.793417                0.658382   \n",
       "75%                       1.596600       33.581003                1.021397   \n",
       "max                       9.352600       54.207506                6.730275   \n",
       "\n",
       "       previous.distance.from.sideline  previous.depth  opponent.depth  \\\n",
       "count                      8001.000000     8001.000000     8001.000000   \n",
       "mean                          2.193420        4.218717       12.616810   \n",
       "std                           1.038942        2.052946        2.075401   \n",
       "min                           0.000164        0.000467        2.161200   \n",
       "25%                           1.354458        2.733674       12.082400   \n",
       "50%                           2.168822        4.126864       12.901600   \n",
       "75%                           3.022677        5.595515       13.712800   \n",
       "max                           4.114361        9.997963       20.211000   \n",
       "\n",
       "       opponent.distance.from.center  previous.time.to.net  \n",
       "count                    8001.000000           8001.000000  \n",
       "mean                        2.367952              0.549988  \n",
       "std                         1.313927              0.186788  \n",
       "min                         0.000200              0.003201  \n",
       "25%                         1.352200              0.432164  \n",
       "50%                         2.332000              0.507559  \n",
       "75%                         3.259000              0.624135  \n",
       "max                         6.852600              1.635257  "
      ]
     },
     "execution_count": 20,
     "metadata": {},
     "output_type": "execute_result"
    }
   ],
   "source": [
    "data.describe()"
   ]
  },
  {
   "cell_type": "code",
   "execution_count": 21,
   "metadata": {
    "id": "GZJOpqsBVbJC",
    "outputId": "4e47e233-1458-4968-d713-c88993c65cdb"
   },
   "outputs": [
    {
     "data": {
      "text/html": [
       "<div>\n",
       "<style scoped>\n",
       "    .dataframe tbody tr th:only-of-type {\n",
       "        vertical-align: middle;\n",
       "    }\n",
       "\n",
       "    .dataframe tbody tr th {\n",
       "        vertical-align: top;\n",
       "    }\n",
       "\n",
       "    .dataframe thead th {\n",
       "        text-align: right;\n",
       "    }\n",
       "</style>\n",
       "<table border=\"1\" class=\"dataframe\">\n",
       "  <thead>\n",
       "    <tr style=\"text-align: right;\">\n",
       "      <th></th>\n",
       "      <th>hitpoint</th>\n",
       "      <th>outside.sideline</th>\n",
       "      <th>outside.baseline</th>\n",
       "      <th>same.side</th>\n",
       "      <th>previous.hitpoint</th>\n",
       "      <th>server.is.impact.player</th>\n",
       "      <th>outcome</th>\n",
       "      <th>gender</th>\n",
       "    </tr>\n",
       "  </thead>\n",
       "  <tbody>\n",
       "    <tr>\n",
       "      <th>count</th>\n",
       "      <td>8001</td>\n",
       "      <td>8001</td>\n",
       "      <td>8001</td>\n",
       "      <td>8001</td>\n",
       "      <td>8001</td>\n",
       "      <td>8001</td>\n",
       "      <td>8001</td>\n",
       "      <td>8001</td>\n",
       "    </tr>\n",
       "    <tr>\n",
       "      <th>unique</th>\n",
       "      <td>4</td>\n",
       "      <td>2</td>\n",
       "      <td>2</td>\n",
       "      <td>2</td>\n",
       "      <td>4</td>\n",
       "      <td>2</td>\n",
       "      <td>3</td>\n",
       "      <td>2</td>\n",
       "    </tr>\n",
       "    <tr>\n",
       "      <th>top</th>\n",
       "      <td>F</td>\n",
       "      <td>False</td>\n",
       "      <td>False</td>\n",
       "      <td>False</td>\n",
       "      <td>F</td>\n",
       "      <td>True</td>\n",
       "      <td>UE</td>\n",
       "      <td>mens</td>\n",
       "    </tr>\n",
       "    <tr>\n",
       "      <th>freq</th>\n",
       "      <td>4402</td>\n",
       "      <td>6500</td>\n",
       "      <td>6380</td>\n",
       "      <td>6036</td>\n",
       "      <td>3684</td>\n",
       "      <td>4670</td>\n",
       "      <td>3501</td>\n",
       "      <td>4005</td>\n",
       "    </tr>\n",
       "  </tbody>\n",
       "</table>\n",
       "</div>"
      ],
      "text/plain": [
       "       hitpoint outside.sideline outside.baseline same.side previous.hitpoint  \\\n",
       "count      8001             8001             8001      8001              8001   \n",
       "unique        4                2                2         2                 4   \n",
       "top           F            False            False     False                 F   \n",
       "freq       4402             6500             6380      6036              3684   \n",
       "\n",
       "       server.is.impact.player outcome gender  \n",
       "count                     8001    8001   8001  \n",
       "unique                       2       3      2  \n",
       "top                       True      UE   mens  \n",
       "freq                      4670    3501   4005  "
      ]
     },
     "execution_count": 21,
     "metadata": {},
     "output_type": "execute_result"
    }
   ],
   "source": [
    "data.describe(include=['category'])"
   ]
  },
  {
   "cell_type": "markdown",
   "metadata": {
    "id": "_GC0ZsPXVbJD"
   },
   "source": [
    "## Check the distribution of all categorical attributes"
   ]
  },
  {
   "cell_type": "code",
   "execution_count": 22,
   "metadata": {
    "id": "9MPmZDeYVbJD",
    "outputId": "a8d9de4c-eafa-4818-e0f0-9e0ff37e84a4"
   },
   "outputs": [
    {
     "name": "stdout",
     "output_type": "stream",
     "text": [
      "F    55.018123\n",
      "B    37.920260\n",
      "U     5.361830\n",
      "V     1.699788\n",
      "Name: hitpoint, dtype: float64\n",
      "False    81.239845\n",
      "True     18.760155\n",
      "Name: outside.sideline, dtype: float64\n",
      "False    79.740032\n",
      "True     20.259968\n",
      "Name: outside.baseline, dtype: float64\n",
      "False    75.44057\n",
      "True     24.55943\n",
      "Name: same.side, dtype: float64\n",
      "F    46.044244\n",
      "B    40.969879\n",
      "V     8.998875\n",
      "U     3.987002\n",
      "Name: previous.hitpoint, dtype: float64\n",
      "True     58.367704\n",
      "False    41.632296\n",
      "Name: server.is.impact.player, dtype: float64\n",
      "mens      50.056243\n",
      "womens    49.943757\n",
      "Name: gender, dtype: float64\n",
      "UE    43.75703\n",
      "W     33.52081\n",
      "FE    22.72216\n",
      "Name: outcome, dtype: float64\n"
     ]
    }
   ],
   "source": [
    "for i in categorical_list:\n",
    "    print(data[i].value_counts(normalize=True)*100)"
   ]
  },
  {
   "cell_type": "markdown",
   "metadata": {
    "id": "I8ivxuhDVbJD"
   },
   "source": [
    "## Checking for null values"
   ]
  },
  {
   "cell_type": "code",
   "execution_count": 23,
   "metadata": {
    "id": "6PC-ee2KVbJD",
    "outputId": "dc8c8b10-e516-46ca-a2bb-502153f77089",
    "scrolled": false
   },
   "outputs": [
    {
     "data": {
      "text/plain": [
       "rally                                 0\n",
       "serve                                 0\n",
       "hitpoint                              0\n",
       "speed                                 0\n",
       "net.clearance                         0\n",
       "distance.from.sideline                0\n",
       "depth                                 0\n",
       "outside.sideline                      0\n",
       "outside.baseline                      0\n",
       "player.distance.travelled             0\n",
       "player.impact.depth                   0\n",
       "player.impact.distance.from.center    0\n",
       "player.depth                          0\n",
       "player.distance.from.center           0\n",
       "previous.speed                        0\n",
       "previous.net.clearance                0\n",
       "previous.distance.from.sideline       0\n",
       "previous.depth                        0\n",
       "opponent.depth                        0\n",
       "opponent.distance.from.center         0\n",
       "same.side                             0\n",
       "previous.hitpoint                     0\n",
       "previous.time.to.net                  0\n",
       "server.is.impact.player               0\n",
       "outcome                               0\n",
       "gender                                0\n",
       "dtype: int64"
      ]
     },
     "execution_count": 23,
     "metadata": {},
     "output_type": "execute_result"
    }
   ],
   "source": [
    "data.isnull().sum()"
   ]
  },
  {
   "cell_type": "markdown",
   "metadata": {
    "id": "P-hXLKU3VbJD"
   },
   "source": [
    "# Divide the data into train and test"
   ]
  },
  {
   "cell_type": "code",
   "execution_count": 24,
   "metadata": {
    "id": "P0KOIKlhVbJD",
    "outputId": "1829040a-c1fe-44f7-a746-cae015eb9be5"
   },
   "outputs": [
    {
     "name": "stdout",
     "output_type": "stream",
     "text": [
      "(5600, 25)\n",
      "(2401, 25)\n",
      "(5600,)\n",
      "(2401,)\n"
     ]
    }
   ],
   "source": [
    "y = data[\"outcome\"]\n",
    "X = data.drop('outcome', axis=1)\n",
    "\n",
    "X_train, X_test, y_train, y_test = train_test_split(X, y, test_size=0.30, random_state=123, stratify=y)\n",
    "\n",
    "print(X_train.shape)\n",
    "print(X_test.shape)\n",
    "print(y_train.shape)\n",
    "print(y_test.shape)"
   ]
  },
  {
   "cell_type": "markdown",
   "metadata": {
    "id": "rRK9Ug4wVbJD"
   },
   "source": [
    "# Preprocessing"
   ]
  },
  {
   "cell_type": "markdown",
   "metadata": {
    "id": "PuEWlqkzVbJD"
   },
   "source": [
    "## Display all the columns"
   ]
  },
  {
   "cell_type": "code",
   "execution_count": 25,
   "metadata": {
    "id": "5LJmn52VVbJD",
    "outputId": "0132162f-6527-4985-a4c5-1280cf8c55e9"
   },
   "outputs": [
    {
     "data": {
      "text/plain": [
       "Index(['rally', 'serve', 'hitpoint', 'speed', 'net.clearance',\n",
       "       'distance.from.sideline', 'depth', 'outside.sideline',\n",
       "       'outside.baseline', 'player.distance.travelled', 'player.impact.depth',\n",
       "       'player.impact.distance.from.center', 'player.depth',\n",
       "       'player.distance.from.center', 'previous.speed',\n",
       "       'previous.net.clearance', 'previous.distance.from.sideline',\n",
       "       'previous.depth', 'opponent.depth', 'opponent.distance.from.center',\n",
       "       'same.side', 'previous.hitpoint', 'previous.time.to.net',\n",
       "       'server.is.impact.player', 'outcome', 'gender'],\n",
       "      dtype='object')"
      ]
     },
     "execution_count": 25,
     "metadata": {},
     "output_type": "execute_result"
    }
   ],
   "source": [
    "data.columns"
   ]
  },
  {
   "cell_type": "markdown",
   "metadata": {
    "id": "hLgIbVWfVbJD"
   },
   "source": [
    "## Creating a list of numerical attributes and categorical list"
   ]
  },
  {
   "cell_type": "code",
   "execution_count": 26,
   "metadata": {
    "id": "yeldR8jEVbJE"
   },
   "outputs": [],
   "source": [
    "numeric_list = ['rally', 'serve', 'speed', 'net.clearance',\n",
    "                'distance.from.sideline', 'depth',\n",
    "                'player.distance.travelled', 'player.impact.depth',\n",
    "                'player.impact.distance.from.center',\n",
    "                'player.depth', 'player.distance.from.center',\n",
    "                'previous.speed', 'previous.net.clearance',\n",
    "                'previous.distance.from.sideline', 'previous.depth',\n",
    "                'opponent.depth', 'opponent.distance.from.center',\n",
    "                'previous.time.to.net']\n",
    "\n",
    "categorical_list = [\"hitpoint\", \"outside.sideline\", \"outside.baseline\", \"same.side\", \n",
    "                    \"previous.hitpoint\", \"server.is.impact.player\", \"gender\"]"
   ]
  },
  {
   "cell_type": "code",
   "execution_count": 27,
   "metadata": {
    "id": "I8u5n_qpVbJE",
    "outputId": "a7eaebf9-a257-40f5-f6f3-52ba6d98f3a8",
    "scrolled": true
   },
   "outputs": [
    {
     "data": {
      "text/plain": [
       "18"
      ]
     },
     "execution_count": 27,
     "metadata": {},
     "output_type": "execute_result"
    }
   ],
   "source": [
    "len(numeric_list)"
   ]
  },
  {
   "cell_type": "code",
   "execution_count": 28,
   "metadata": {
    "id": "QH0pqILLVbJE",
    "outputId": "b07b91ae-e41d-48ae-e1c7-e4cf09b2ad7e",
    "scrolled": true
   },
   "outputs": [
    {
     "data": {
      "text/plain": [
       "7"
      ]
     },
     "execution_count": 28,
     "metadata": {},
     "output_type": "execute_result"
    }
   ],
   "source": [
    "len(categorical_list)"
   ]
  },
  {
   "cell_type": "markdown",
   "metadata": {
    "id": "2M56iiu9VbJE"
   },
   "source": [
    "## LabelEncoder  : Target Attributes"
   ]
  },
  {
   "cell_type": "code",
   "execution_count": 29,
   "metadata": {
    "id": "U9vYxHkEVbJE",
    "outputId": "bafe1864-e763-42e1-f48b-7861fc508a67"
   },
   "outputs": [
    {
     "data": {
      "text/plain": [
       "UE    2450\n",
       "W     1877\n",
       "FE    1273\n",
       "Name: outcome, dtype: int64"
      ]
     },
     "execution_count": 29,
     "metadata": {},
     "output_type": "execute_result"
    }
   ],
   "source": [
    "y_train.value_counts()"
   ]
  },
  {
   "cell_type": "code",
   "execution_count": 30,
   "metadata": {
    "id": "fqa2B0UZVbJE"
   },
   "outputs": [],
   "source": [
    "le = LabelEncoder()\n",
    "\n",
    "le.fit(y_train)\n",
    "\n",
    "y_train = le.transform(y_train)\n",
    "y_test = le.transform(y_test)"
   ]
  },
  {
   "cell_type": "code",
   "execution_count": 31,
   "metadata": {
    "id": "12PMpg0SVbJE",
    "outputId": "24fe8b84-489b-447b-896e-67bf84664a18"
   },
   "outputs": [
    {
     "name": "stdout",
     "output_type": "stream",
     "text": [
      "['FE' 'UE' 'W']\n"
     ]
    }
   ],
   "source": [
    "print(le.classes_)"
   ]
  },
  {
   "cell_type": "code",
   "execution_count": 32,
   "metadata": {
    "id": "dTK7UggNVbJE",
    "outputId": "3440a0c1-e135-4451-a322-ca621ab74f2a"
   },
   "outputs": [
    {
     "name": "stdout",
     "output_type": "stream",
     "text": [
      "['FE' 'UE' 'W']\n"
     ]
    }
   ],
   "source": [
    "print(le.inverse_transform([0, 1, 2]))"
   ]
  },
  {
   "cell_type": "code",
   "execution_count": 33,
   "metadata": {
    "id": "OMhbtjoBVbJE",
    "outputId": "0151599d-7bb2-4daa-ce3b-26b0cfba173a"
   },
   "outputs": [
    {
     "data": {
      "text/plain": [
       "(array([0, 1, 2]), array([1273, 2450, 1877], dtype=int64))"
      ]
     },
     "execution_count": 33,
     "metadata": {},
     "output_type": "execute_result"
    }
   ],
   "source": [
    "np.unique(y_train, return_counts=True)\n",
    "# 0 - Forced Error, 1 - Unforced Error, 2 - Winner"
   ]
  },
  {
   "cell_type": "code",
   "execution_count": 34,
   "metadata": {
    "id": "emQhaMIvVbJE",
    "outputId": "fbb4a01a-ad07-49d9-87f0-ef196228c58f"
   },
   "outputs": [
    {
     "data": {
      "text/plain": [
       "(array([0, 1, 2]), array([ 545, 1051,  805], dtype=int64))"
      ]
     },
     "execution_count": 34,
     "metadata": {},
     "output_type": "execute_result"
    }
   ],
   "source": [
    "np.unique(y_test, return_counts=True)"
   ]
  },
  {
   "cell_type": "markdown",
   "metadata": {
    "id": "lDb_mh0pVbJF"
   },
   "source": [
    "## Standard Scaler : Independent Numberic Attributes"
   ]
  },
  {
   "cell_type": "code",
   "execution_count": 35,
   "metadata": {
    "id": "HJjMrJKBVbJF"
   },
   "outputs": [],
   "source": [
    "scaler = StandardScaler()\n",
    "scaler.fit(X_train[numeric_list])\n",
    "\n",
    "X_train_num = pd.DataFrame(scaler.transform(X_train[numeric_list]), columns=numeric_list)\n",
    "X_test_num = pd.DataFrame(scaler.transform(X_test[numeric_list]), columns=numeric_list)"
   ]
  },
  {
   "cell_type": "code",
   "execution_count": 36,
   "metadata": {
    "id": "eXhqthy9VbJF",
    "outputId": "bbdcd7e5-7092-4648-e849-02882b71f7e7"
   },
   "outputs": [
    {
     "data": {
      "text/html": [
       "<div>\n",
       "<style scoped>\n",
       "    .dataframe tbody tr th:only-of-type {\n",
       "        vertical-align: middle;\n",
       "    }\n",
       "\n",
       "    .dataframe tbody tr th {\n",
       "        vertical-align: top;\n",
       "    }\n",
       "\n",
       "    .dataframe thead th {\n",
       "        text-align: right;\n",
       "    }\n",
       "</style>\n",
       "<table border=\"1\" class=\"dataframe\">\n",
       "  <thead>\n",
       "    <tr style=\"text-align: right;\">\n",
       "      <th></th>\n",
       "      <th>rally</th>\n",
       "      <th>serve</th>\n",
       "      <th>speed</th>\n",
       "      <th>net.clearance</th>\n",
       "      <th>distance.from.sideline</th>\n",
       "      <th>depth</th>\n",
       "      <th>player.distance.travelled</th>\n",
       "      <th>player.impact.depth</th>\n",
       "      <th>player.impact.distance.from.center</th>\n",
       "      <th>player.depth</th>\n",
       "      <th>player.distance.from.center</th>\n",
       "      <th>previous.speed</th>\n",
       "      <th>previous.net.clearance</th>\n",
       "      <th>previous.distance.from.sideline</th>\n",
       "      <th>previous.depth</th>\n",
       "      <th>opponent.depth</th>\n",
       "      <th>opponent.distance.from.center</th>\n",
       "      <th>previous.time.to.net</th>\n",
       "    </tr>\n",
       "  </thead>\n",
       "  <tbody>\n",
       "    <tr>\n",
       "      <th>0</th>\n",
       "      <td>2.206016</td>\n",
       "      <td>1.228398</td>\n",
       "      <td>1.121552</td>\n",
       "      <td>-0.730696</td>\n",
       "      <td>-0.175183</td>\n",
       "      <td>0.988152</td>\n",
       "      <td>-0.829916</td>\n",
       "      <td>1.120228</td>\n",
       "      <td>0.808667</td>\n",
       "      <td>1.526350</td>\n",
       "      <td>0.482096</td>\n",
       "      <td>0.548899</td>\n",
       "      <td>0.520014</td>\n",
       "      <td>1.276148</td>\n",
       "      <td>-0.584783</td>\n",
       "      <td>0.454714</td>\n",
       "      <td>-0.368646</td>\n",
       "      <td>-0.231291</td>\n",
       "    </tr>\n",
       "    <tr>\n",
       "      <th>1</th>\n",
       "      <td>4.136322</td>\n",
       "      <td>-0.814069</td>\n",
       "      <td>1.170424</td>\n",
       "      <td>0.163662</td>\n",
       "      <td>-0.862930</td>\n",
       "      <td>-1.148001</td>\n",
       "      <td>0.014953</td>\n",
       "      <td>1.102595</td>\n",
       "      <td>0.362499</td>\n",
       "      <td>0.702730</td>\n",
       "      <td>-1.249078</td>\n",
       "      <td>0.196423</td>\n",
       "      <td>0.152115</td>\n",
       "      <td>-1.020791</td>\n",
       "      <td>-1.205634</td>\n",
       "      <td>-0.887901</td>\n",
       "      <td>0.331354</td>\n",
       "      <td>-0.808893</td>\n",
       "    </tr>\n",
       "    <tr>\n",
       "      <th>2</th>\n",
       "      <td>-0.000049</td>\n",
       "      <td>1.228398</td>\n",
       "      <td>0.182863</td>\n",
       "      <td>0.532959</td>\n",
       "      <td>-1.015778</td>\n",
       "      <td>-1.404791</td>\n",
       "      <td>0.531566</td>\n",
       "      <td>0.340187</td>\n",
       "      <td>0.245007</td>\n",
       "      <td>0.377467</td>\n",
       "      <td>0.154493</td>\n",
       "      <td>1.550284</td>\n",
       "      <td>-0.843765</td>\n",
       "      <td>-0.169719</td>\n",
       "      <td>-0.079680</td>\n",
       "      <td>1.267120</td>\n",
       "      <td>-0.574296</td>\n",
       "      <td>-0.513104</td>\n",
       "    </tr>\n",
       "    <tr>\n",
       "      <th>3</th>\n",
       "      <td>-0.827324</td>\n",
       "      <td>-0.814069</td>\n",
       "      <td>0.245147</td>\n",
       "      <td>-0.189687</td>\n",
       "      <td>-0.771740</td>\n",
       "      <td>-0.467465</td>\n",
       "      <td>-0.234643</td>\n",
       "      <td>0.107888</td>\n",
       "      <td>0.884055</td>\n",
       "      <td>-0.367821</td>\n",
       "      <td>-0.410447</td>\n",
       "      <td>0.390784</td>\n",
       "      <td>-0.559132</td>\n",
       "      <td>-0.237628</td>\n",
       "      <td>0.418002</td>\n",
       "      <td>-0.342972</td>\n",
       "      <td>1.316556</td>\n",
       "      <td>-0.546510</td>\n",
       "    </tr>\n",
       "    <tr>\n",
       "      <th>4</th>\n",
       "      <td>-0.827324</td>\n",
       "      <td>-0.814069</td>\n",
       "      <td>-0.396162</td>\n",
       "      <td>-0.647252</td>\n",
       "      <td>1.065523</td>\n",
       "      <td>0.586853</td>\n",
       "      <td>-1.105658</td>\n",
       "      <td>-0.557186</td>\n",
       "      <td>-0.463438</td>\n",
       "      <td>-1.017955</td>\n",
       "      <td>-0.630639</td>\n",
       "      <td>0.824545</td>\n",
       "      <td>-0.876408</td>\n",
       "      <td>0.551589</td>\n",
       "      <td>0.361632</td>\n",
       "      <td>-0.144350</td>\n",
       "      <td>1.534831</td>\n",
       "      <td>-0.648883</td>\n",
       "    </tr>\n",
       "  </tbody>\n",
       "</table>\n",
       "</div>"
      ],
      "text/plain": [
       "      rally     serve     speed  net.clearance  distance.from.sideline  \\\n",
       "0  2.206016  1.228398  1.121552      -0.730696               -0.175183   \n",
       "1  4.136322 -0.814069  1.170424       0.163662               -0.862930   \n",
       "2 -0.000049  1.228398  0.182863       0.532959               -1.015778   \n",
       "3 -0.827324 -0.814069  0.245147      -0.189687               -0.771740   \n",
       "4 -0.827324 -0.814069 -0.396162      -0.647252                1.065523   \n",
       "\n",
       "      depth  player.distance.travelled  player.impact.depth  \\\n",
       "0  0.988152                  -0.829916             1.120228   \n",
       "1 -1.148001                   0.014953             1.102595   \n",
       "2 -1.404791                   0.531566             0.340187   \n",
       "3 -0.467465                  -0.234643             0.107888   \n",
       "4  0.586853                  -1.105658            -0.557186   \n",
       "\n",
       "   player.impact.distance.from.center  player.depth  \\\n",
       "0                            0.808667      1.526350   \n",
       "1                            0.362499      0.702730   \n",
       "2                            0.245007      0.377467   \n",
       "3                            0.884055     -0.367821   \n",
       "4                           -0.463438     -1.017955   \n",
       "\n",
       "   player.distance.from.center  previous.speed  previous.net.clearance  \\\n",
       "0                     0.482096        0.548899                0.520014   \n",
       "1                    -1.249078        0.196423                0.152115   \n",
       "2                     0.154493        1.550284               -0.843765   \n",
       "3                    -0.410447        0.390784               -0.559132   \n",
       "4                    -0.630639        0.824545               -0.876408   \n",
       "\n",
       "   previous.distance.from.sideline  previous.depth  opponent.depth  \\\n",
       "0                         1.276148       -0.584783        0.454714   \n",
       "1                        -1.020791       -1.205634       -0.887901   \n",
       "2                        -0.169719       -0.079680        1.267120   \n",
       "3                        -0.237628        0.418002       -0.342972   \n",
       "4                         0.551589        0.361632       -0.144350   \n",
       "\n",
       "   opponent.distance.from.center  previous.time.to.net  \n",
       "0                      -0.368646             -0.231291  \n",
       "1                       0.331354             -0.808893  \n",
       "2                      -0.574296             -0.513104  \n",
       "3                       1.316556             -0.546510  \n",
       "4                       1.534831             -0.648883  "
      ]
     },
     "execution_count": 36,
     "metadata": {},
     "output_type": "execute_result"
    }
   ],
   "source": [
    "X_train_num.head()"
   ]
  },
  {
   "cell_type": "markdown",
   "metadata": {
    "id": "IqprdZWqVbJF"
   },
   "source": [
    "## OneHotEncoder : Independent Categorical Attributes"
   ]
  },
  {
   "cell_type": "code",
   "execution_count": 37,
   "metadata": {
    "id": "5xSY7mjTVbJF",
    "outputId": "3a7a91cd-1aac-41ec-d25a-05481c1e34f7"
   },
   "outputs": [
    {
     "name": "stdout",
     "output_type": "stream",
     "text": [
      "['hitpoint_B', 'hitpoint_F', 'hitpoint_U', 'hitpoint_V', 'outside.sideline_False', 'outside.sideline_True', 'outside.baseline_False', 'outside.baseline_True', 'same.side_False', 'same.side_True', 'previous.hitpoint_B', 'previous.hitpoint_F', 'previous.hitpoint_U', 'previous.hitpoint_V', 'server.is.impact.player_False', 'server.is.impact.player_True', 'gender_mens', 'gender_womens']\n"
     ]
    },
    {
     "name": "stderr",
     "output_type": "stream",
     "text": [
      "C:\\Users\\gsk44\\anaconda3\\lib\\site-packages\\sklearn\\utils\\deprecation.py:87: FutureWarning: Function get_feature_names is deprecated; get_feature_names is deprecated in 1.0 and will be removed in 1.2. Please use get_feature_names_out instead.\n",
      "  warnings.warn(msg, category=FutureWarning)\n"
     ]
    }
   ],
   "source": [
    "ohe = OneHotEncoder()\n",
    "\n",
    "ohe.fit(X_train[categorical_list])\n",
    "\n",
    "columns_ohe = list(ohe.get_feature_names(categorical_list))\n",
    "print(columns_ohe)"
   ]
  },
  {
   "cell_type": "code",
   "execution_count": 38,
   "metadata": {
    "id": "n4F4WVfMVbJF"
   },
   "outputs": [],
   "source": [
    "X_train_cat = ohe.transform(X_train[categorical_list])\n",
    "X_test_cat  = ohe.transform(X_test[categorical_list])"
   ]
  },
  {
   "cell_type": "code",
   "execution_count": 39,
   "metadata": {
    "id": "k6BcDHm6VbJF"
   },
   "outputs": [],
   "source": [
    "X_train_cat = pd.DataFrame(X_train_cat.todense(), columns=columns_ohe)\n",
    "X_test_cat  = pd.DataFrame(X_test_cat.todense(), columns=columns_ohe)"
   ]
  },
  {
   "cell_type": "code",
   "execution_count": 40,
   "metadata": {
    "id": "hDfhKTsFVbJF",
    "outputId": "e8fd0ce3-4c4b-4629-a710-178425b9fe38"
   },
   "outputs": [
    {
     "data": {
      "text/html": [
       "<div>\n",
       "<style scoped>\n",
       "    .dataframe tbody tr th:only-of-type {\n",
       "        vertical-align: middle;\n",
       "    }\n",
       "\n",
       "    .dataframe tbody tr th {\n",
       "        vertical-align: top;\n",
       "    }\n",
       "\n",
       "    .dataframe thead th {\n",
       "        text-align: right;\n",
       "    }\n",
       "</style>\n",
       "<table border=\"1\" class=\"dataframe\">\n",
       "  <thead>\n",
       "    <tr style=\"text-align: right;\">\n",
       "      <th></th>\n",
       "      <th>hitpoint_B</th>\n",
       "      <th>hitpoint_F</th>\n",
       "      <th>hitpoint_U</th>\n",
       "      <th>hitpoint_V</th>\n",
       "      <th>outside.sideline_False</th>\n",
       "      <th>outside.sideline_True</th>\n",
       "      <th>outside.baseline_False</th>\n",
       "      <th>outside.baseline_True</th>\n",
       "      <th>same.side_False</th>\n",
       "      <th>same.side_True</th>\n",
       "      <th>previous.hitpoint_B</th>\n",
       "      <th>previous.hitpoint_F</th>\n",
       "      <th>previous.hitpoint_U</th>\n",
       "      <th>previous.hitpoint_V</th>\n",
       "      <th>server.is.impact.player_False</th>\n",
       "      <th>server.is.impact.player_True</th>\n",
       "      <th>gender_mens</th>\n",
       "      <th>gender_womens</th>\n",
       "    </tr>\n",
       "  </thead>\n",
       "  <tbody>\n",
       "    <tr>\n",
       "      <th>0</th>\n",
       "      <td>0.0</td>\n",
       "      <td>1.0</td>\n",
       "      <td>0.0</td>\n",
       "      <td>0.0</td>\n",
       "      <td>1.0</td>\n",
       "      <td>0.0</td>\n",
       "      <td>1.0</td>\n",
       "      <td>0.0</td>\n",
       "      <td>1.0</td>\n",
       "      <td>0.0</td>\n",
       "      <td>0.0</td>\n",
       "      <td>1.0</td>\n",
       "      <td>0.0</td>\n",
       "      <td>0.0</td>\n",
       "      <td>1.0</td>\n",
       "      <td>0.0</td>\n",
       "      <td>1.0</td>\n",
       "      <td>0.0</td>\n",
       "    </tr>\n",
       "    <tr>\n",
       "      <th>1</th>\n",
       "      <td>1.0</td>\n",
       "      <td>0.0</td>\n",
       "      <td>0.0</td>\n",
       "      <td>0.0</td>\n",
       "      <td>1.0</td>\n",
       "      <td>0.0</td>\n",
       "      <td>1.0</td>\n",
       "      <td>0.0</td>\n",
       "      <td>1.0</td>\n",
       "      <td>0.0</td>\n",
       "      <td>0.0</td>\n",
       "      <td>1.0</td>\n",
       "      <td>0.0</td>\n",
       "      <td>0.0</td>\n",
       "      <td>0.0</td>\n",
       "      <td>1.0</td>\n",
       "      <td>1.0</td>\n",
       "      <td>0.0</td>\n",
       "    </tr>\n",
       "    <tr>\n",
       "      <th>2</th>\n",
       "      <td>0.0</td>\n",
       "      <td>1.0</td>\n",
       "      <td>0.0</td>\n",
       "      <td>0.0</td>\n",
       "      <td>0.0</td>\n",
       "      <td>1.0</td>\n",
       "      <td>1.0</td>\n",
       "      <td>0.0</td>\n",
       "      <td>0.0</td>\n",
       "      <td>1.0</td>\n",
       "      <td>0.0</td>\n",
       "      <td>1.0</td>\n",
       "      <td>0.0</td>\n",
       "      <td>0.0</td>\n",
       "      <td>1.0</td>\n",
       "      <td>0.0</td>\n",
       "      <td>1.0</td>\n",
       "      <td>0.0</td>\n",
       "    </tr>\n",
       "    <tr>\n",
       "      <th>3</th>\n",
       "      <td>0.0</td>\n",
       "      <td>1.0</td>\n",
       "      <td>0.0</td>\n",
       "      <td>0.0</td>\n",
       "      <td>1.0</td>\n",
       "      <td>0.0</td>\n",
       "      <td>1.0</td>\n",
       "      <td>0.0</td>\n",
       "      <td>1.0</td>\n",
       "      <td>0.0</td>\n",
       "      <td>0.0</td>\n",
       "      <td>1.0</td>\n",
       "      <td>0.0</td>\n",
       "      <td>0.0</td>\n",
       "      <td>0.0</td>\n",
       "      <td>1.0</td>\n",
       "      <td>0.0</td>\n",
       "      <td>1.0</td>\n",
       "    </tr>\n",
       "    <tr>\n",
       "      <th>4</th>\n",
       "      <td>0.0</td>\n",
       "      <td>0.0</td>\n",
       "      <td>1.0</td>\n",
       "      <td>0.0</td>\n",
       "      <td>1.0</td>\n",
       "      <td>0.0</td>\n",
       "      <td>1.0</td>\n",
       "      <td>0.0</td>\n",
       "      <td>1.0</td>\n",
       "      <td>0.0</td>\n",
       "      <td>0.0</td>\n",
       "      <td>1.0</td>\n",
       "      <td>0.0</td>\n",
       "      <td>0.0</td>\n",
       "      <td>0.0</td>\n",
       "      <td>1.0</td>\n",
       "      <td>0.0</td>\n",
       "      <td>1.0</td>\n",
       "    </tr>\n",
       "  </tbody>\n",
       "</table>\n",
       "</div>"
      ],
      "text/plain": [
       "   hitpoint_B  hitpoint_F  hitpoint_U  hitpoint_V  outside.sideline_False  \\\n",
       "0         0.0         1.0         0.0         0.0                     1.0   \n",
       "1         1.0         0.0         0.0         0.0                     1.0   \n",
       "2         0.0         1.0         0.0         0.0                     0.0   \n",
       "3         0.0         1.0         0.0         0.0                     1.0   \n",
       "4         0.0         0.0         1.0         0.0                     1.0   \n",
       "\n",
       "   outside.sideline_True  outside.baseline_False  outside.baseline_True  \\\n",
       "0                    0.0                     1.0                    0.0   \n",
       "1                    0.0                     1.0                    0.0   \n",
       "2                    1.0                     1.0                    0.0   \n",
       "3                    0.0                     1.0                    0.0   \n",
       "4                    0.0                     1.0                    0.0   \n",
       "\n",
       "   same.side_False  same.side_True  previous.hitpoint_B  previous.hitpoint_F  \\\n",
       "0              1.0             0.0                  0.0                  1.0   \n",
       "1              1.0             0.0                  0.0                  1.0   \n",
       "2              0.0             1.0                  0.0                  1.0   \n",
       "3              1.0             0.0                  0.0                  1.0   \n",
       "4              1.0             0.0                  0.0                  1.0   \n",
       "\n",
       "   previous.hitpoint_U  previous.hitpoint_V  server.is.impact.player_False  \\\n",
       "0                  0.0                  0.0                            1.0   \n",
       "1                  0.0                  0.0                            0.0   \n",
       "2                  0.0                  0.0                            1.0   \n",
       "3                  0.0                  0.0                            0.0   \n",
       "4                  0.0                  0.0                            0.0   \n",
       "\n",
       "   server.is.impact.player_True  gender_mens  gender_womens  \n",
       "0                           0.0          1.0            0.0  \n",
       "1                           1.0          1.0            0.0  \n",
       "2                           0.0          1.0            0.0  \n",
       "3                           1.0          0.0            1.0  \n",
       "4                           1.0          0.0            1.0  "
      ]
     },
     "execution_count": 40,
     "metadata": {},
     "output_type": "execute_result"
    }
   ],
   "source": [
    "X_train_cat.head()"
   ]
  },
  {
   "cell_type": "markdown",
   "metadata": {
    "id": "EaO1eia6VbJF"
   },
   "source": [
    "## Concatenate"
   ]
  },
  {
   "cell_type": "code",
   "execution_count": 41,
   "metadata": {
    "id": "Ok_OSAZ3VbJF"
   },
   "outputs": [],
   "source": [
    "X_train = pd.concat([X_train_num, X_train_cat], axis=1)\n",
    "X_test = pd.concat([X_test_num, X_test_cat], axis=1)"
   ]
  },
  {
   "cell_type": "code",
   "execution_count": 42,
   "metadata": {
    "id": "t8RVBSRAVbJF",
    "outputId": "d0ad2428-5c8a-428b-ede0-12d7820c78b8"
   },
   "outputs": [
    {
     "name": "stdout",
     "output_type": "stream",
     "text": [
      "(5600, 36) (2401, 36)\n"
     ]
    }
   ],
   "source": [
    "print(X_train.shape, X_test.shape)"
   ]
  },
  {
   "cell_type": "code",
   "execution_count": 43,
   "metadata": {
    "id": "fKKlpfQnVbJG",
    "outputId": "c2846d61-a121-4efd-de9c-6f31efc2cb22",
    "scrolled": true
   },
   "outputs": [
    {
     "data": {
      "text/html": [
       "<div>\n",
       "<style scoped>\n",
       "    .dataframe tbody tr th:only-of-type {\n",
       "        vertical-align: middle;\n",
       "    }\n",
       "\n",
       "    .dataframe tbody tr th {\n",
       "        vertical-align: top;\n",
       "    }\n",
       "\n",
       "    .dataframe thead th {\n",
       "        text-align: right;\n",
       "    }\n",
       "</style>\n",
       "<table border=\"1\" class=\"dataframe\">\n",
       "  <thead>\n",
       "    <tr style=\"text-align: right;\">\n",
       "      <th></th>\n",
       "      <th>rally</th>\n",
       "      <th>serve</th>\n",
       "      <th>speed</th>\n",
       "      <th>net.clearance</th>\n",
       "      <th>distance.from.sideline</th>\n",
       "      <th>depth</th>\n",
       "      <th>player.distance.travelled</th>\n",
       "      <th>player.impact.depth</th>\n",
       "      <th>player.impact.distance.from.center</th>\n",
       "      <th>player.depth</th>\n",
       "      <th>...</th>\n",
       "      <th>same.side_False</th>\n",
       "      <th>same.side_True</th>\n",
       "      <th>previous.hitpoint_B</th>\n",
       "      <th>previous.hitpoint_F</th>\n",
       "      <th>previous.hitpoint_U</th>\n",
       "      <th>previous.hitpoint_V</th>\n",
       "      <th>server.is.impact.player_False</th>\n",
       "      <th>server.is.impact.player_True</th>\n",
       "      <th>gender_mens</th>\n",
       "      <th>gender_womens</th>\n",
       "    </tr>\n",
       "  </thead>\n",
       "  <tbody>\n",
       "    <tr>\n",
       "      <th>0</th>\n",
       "      <td>2.206016</td>\n",
       "      <td>1.228398</td>\n",
       "      <td>1.121552</td>\n",
       "      <td>-0.730696</td>\n",
       "      <td>-0.175183</td>\n",
       "      <td>0.988152</td>\n",
       "      <td>-0.829916</td>\n",
       "      <td>1.120228</td>\n",
       "      <td>0.808667</td>\n",
       "      <td>1.526350</td>\n",
       "      <td>...</td>\n",
       "      <td>1.0</td>\n",
       "      <td>0.0</td>\n",
       "      <td>0.0</td>\n",
       "      <td>1.0</td>\n",
       "      <td>0.0</td>\n",
       "      <td>0.0</td>\n",
       "      <td>1.0</td>\n",
       "      <td>0.0</td>\n",
       "      <td>1.0</td>\n",
       "      <td>0.0</td>\n",
       "    </tr>\n",
       "    <tr>\n",
       "      <th>1</th>\n",
       "      <td>4.136322</td>\n",
       "      <td>-0.814069</td>\n",
       "      <td>1.170424</td>\n",
       "      <td>0.163662</td>\n",
       "      <td>-0.862930</td>\n",
       "      <td>-1.148001</td>\n",
       "      <td>0.014953</td>\n",
       "      <td>1.102595</td>\n",
       "      <td>0.362499</td>\n",
       "      <td>0.702730</td>\n",
       "      <td>...</td>\n",
       "      <td>1.0</td>\n",
       "      <td>0.0</td>\n",
       "      <td>0.0</td>\n",
       "      <td>1.0</td>\n",
       "      <td>0.0</td>\n",
       "      <td>0.0</td>\n",
       "      <td>0.0</td>\n",
       "      <td>1.0</td>\n",
       "      <td>1.0</td>\n",
       "      <td>0.0</td>\n",
       "    </tr>\n",
       "    <tr>\n",
       "      <th>2</th>\n",
       "      <td>-0.000049</td>\n",
       "      <td>1.228398</td>\n",
       "      <td>0.182863</td>\n",
       "      <td>0.532959</td>\n",
       "      <td>-1.015778</td>\n",
       "      <td>-1.404791</td>\n",
       "      <td>0.531566</td>\n",
       "      <td>0.340187</td>\n",
       "      <td>0.245007</td>\n",
       "      <td>0.377467</td>\n",
       "      <td>...</td>\n",
       "      <td>0.0</td>\n",
       "      <td>1.0</td>\n",
       "      <td>0.0</td>\n",
       "      <td>1.0</td>\n",
       "      <td>0.0</td>\n",
       "      <td>0.0</td>\n",
       "      <td>1.0</td>\n",
       "      <td>0.0</td>\n",
       "      <td>1.0</td>\n",
       "      <td>0.0</td>\n",
       "    </tr>\n",
       "    <tr>\n",
       "      <th>3</th>\n",
       "      <td>-0.827324</td>\n",
       "      <td>-0.814069</td>\n",
       "      <td>0.245147</td>\n",
       "      <td>-0.189687</td>\n",
       "      <td>-0.771740</td>\n",
       "      <td>-0.467465</td>\n",
       "      <td>-0.234643</td>\n",
       "      <td>0.107888</td>\n",
       "      <td>0.884055</td>\n",
       "      <td>-0.367821</td>\n",
       "      <td>...</td>\n",
       "      <td>1.0</td>\n",
       "      <td>0.0</td>\n",
       "      <td>0.0</td>\n",
       "      <td>1.0</td>\n",
       "      <td>0.0</td>\n",
       "      <td>0.0</td>\n",
       "      <td>0.0</td>\n",
       "      <td>1.0</td>\n",
       "      <td>0.0</td>\n",
       "      <td>1.0</td>\n",
       "    </tr>\n",
       "    <tr>\n",
       "      <th>4</th>\n",
       "      <td>-0.827324</td>\n",
       "      <td>-0.814069</td>\n",
       "      <td>-0.396162</td>\n",
       "      <td>-0.647252</td>\n",
       "      <td>1.065523</td>\n",
       "      <td>0.586853</td>\n",
       "      <td>-1.105658</td>\n",
       "      <td>-0.557186</td>\n",
       "      <td>-0.463438</td>\n",
       "      <td>-1.017955</td>\n",
       "      <td>...</td>\n",
       "      <td>1.0</td>\n",
       "      <td>0.0</td>\n",
       "      <td>0.0</td>\n",
       "      <td>1.0</td>\n",
       "      <td>0.0</td>\n",
       "      <td>0.0</td>\n",
       "      <td>0.0</td>\n",
       "      <td>1.0</td>\n",
       "      <td>0.0</td>\n",
       "      <td>1.0</td>\n",
       "    </tr>\n",
       "  </tbody>\n",
       "</table>\n",
       "<p>5 rows × 36 columns</p>\n",
       "</div>"
      ],
      "text/plain": [
       "      rally     serve     speed  net.clearance  distance.from.sideline  \\\n",
       "0  2.206016  1.228398  1.121552      -0.730696               -0.175183   \n",
       "1  4.136322 -0.814069  1.170424       0.163662               -0.862930   \n",
       "2 -0.000049  1.228398  0.182863       0.532959               -1.015778   \n",
       "3 -0.827324 -0.814069  0.245147      -0.189687               -0.771740   \n",
       "4 -0.827324 -0.814069 -0.396162      -0.647252                1.065523   \n",
       "\n",
       "      depth  player.distance.travelled  player.impact.depth  \\\n",
       "0  0.988152                  -0.829916             1.120228   \n",
       "1 -1.148001                   0.014953             1.102595   \n",
       "2 -1.404791                   0.531566             0.340187   \n",
       "3 -0.467465                  -0.234643             0.107888   \n",
       "4  0.586853                  -1.105658            -0.557186   \n",
       "\n",
       "   player.impact.distance.from.center  player.depth  ...  same.side_False  \\\n",
       "0                            0.808667      1.526350  ...              1.0   \n",
       "1                            0.362499      0.702730  ...              1.0   \n",
       "2                            0.245007      0.377467  ...              0.0   \n",
       "3                            0.884055     -0.367821  ...              1.0   \n",
       "4                           -0.463438     -1.017955  ...              1.0   \n",
       "\n",
       "   same.side_True  previous.hitpoint_B  previous.hitpoint_F  \\\n",
       "0             0.0                  0.0                  1.0   \n",
       "1             0.0                  0.0                  1.0   \n",
       "2             1.0                  0.0                  1.0   \n",
       "3             0.0                  0.0                  1.0   \n",
       "4             0.0                  0.0                  1.0   \n",
       "\n",
       "   previous.hitpoint_U  previous.hitpoint_V  server.is.impact.player_False  \\\n",
       "0                  0.0                  0.0                            1.0   \n",
       "1                  0.0                  0.0                            0.0   \n",
       "2                  0.0                  0.0                            1.0   \n",
       "3                  0.0                  0.0                            0.0   \n",
       "4                  0.0                  0.0                            0.0   \n",
       "\n",
       "   server.is.impact.player_True  gender_mens  gender_womens  \n",
       "0                           0.0          1.0            0.0  \n",
       "1                           1.0          1.0            0.0  \n",
       "2                           0.0          1.0            0.0  \n",
       "3                           1.0          0.0            1.0  \n",
       "4                           1.0          0.0            1.0  \n",
       "\n",
       "[5 rows x 36 columns]"
      ]
     },
     "execution_count": 43,
     "metadata": {},
     "output_type": "execute_result"
    }
   ],
   "source": [
    "X_train.head()"
   ]
  },
  {
   "cell_type": "code",
   "execution_count": 44,
   "metadata": {
    "id": "xQDcQ0IeVbJG",
    "outputId": "c83c9af6-df0a-446d-c5b8-388c2b8cc41a"
   },
   "outputs": [
    {
     "data": {
      "text/html": [
       "<div>\n",
       "<style scoped>\n",
       "    .dataframe tbody tr th:only-of-type {\n",
       "        vertical-align: middle;\n",
       "    }\n",
       "\n",
       "    .dataframe tbody tr th {\n",
       "        vertical-align: top;\n",
       "    }\n",
       "\n",
       "    .dataframe thead th {\n",
       "        text-align: right;\n",
       "    }\n",
       "</style>\n",
       "<table border=\"1\" class=\"dataframe\">\n",
       "  <thead>\n",
       "    <tr style=\"text-align: right;\">\n",
       "      <th></th>\n",
       "      <th>rally</th>\n",
       "      <th>serve</th>\n",
       "      <th>speed</th>\n",
       "      <th>net.clearance</th>\n",
       "      <th>distance.from.sideline</th>\n",
       "      <th>depth</th>\n",
       "      <th>player.distance.travelled</th>\n",
       "      <th>player.impact.depth</th>\n",
       "      <th>player.impact.distance.from.center</th>\n",
       "      <th>player.depth</th>\n",
       "      <th>...</th>\n",
       "      <th>same.side_False</th>\n",
       "      <th>same.side_True</th>\n",
       "      <th>previous.hitpoint_B</th>\n",
       "      <th>previous.hitpoint_F</th>\n",
       "      <th>previous.hitpoint_U</th>\n",
       "      <th>previous.hitpoint_V</th>\n",
       "      <th>server.is.impact.player_False</th>\n",
       "      <th>server.is.impact.player_True</th>\n",
       "      <th>gender_mens</th>\n",
       "      <th>gender_womens</th>\n",
       "    </tr>\n",
       "  </thead>\n",
       "  <tbody>\n",
       "    <tr>\n",
       "      <th>0</th>\n",
       "      <td>-0.000049</td>\n",
       "      <td>-0.814069</td>\n",
       "      <td>1.915802</td>\n",
       "      <td>-0.209410</td>\n",
       "      <td>-0.993875</td>\n",
       "      <td>-1.313488</td>\n",
       "      <td>-1.414688</td>\n",
       "      <td>0.872303</td>\n",
       "      <td>0.124021</td>\n",
       "      <td>1.063491</td>\n",
       "      <td>...</td>\n",
       "      <td>1.0</td>\n",
       "      <td>0.0</td>\n",
       "      <td>1.0</td>\n",
       "      <td>0.0</td>\n",
       "      <td>0.0</td>\n",
       "      <td>0.0</td>\n",
       "      <td>1.0</td>\n",
       "      <td>0.0</td>\n",
       "      <td>1.0</td>\n",
       "      <td>0.0</td>\n",
       "    </tr>\n",
       "    <tr>\n",
       "      <th>1</th>\n",
       "      <td>-0.827324</td>\n",
       "      <td>-0.814069</td>\n",
       "      <td>0.637883</td>\n",
       "      <td>-0.521776</td>\n",
       "      <td>0.027012</td>\n",
       "      <td>0.172605</td>\n",
       "      <td>-1.042676</td>\n",
       "      <td>-0.261741</td>\n",
       "      <td>-1.576280</td>\n",
       "      <td>-0.420140</td>\n",
       "      <td>...</td>\n",
       "      <td>1.0</td>\n",
       "      <td>0.0</td>\n",
       "      <td>0.0</td>\n",
       "      <td>1.0</td>\n",
       "      <td>0.0</td>\n",
       "      <td>0.0</td>\n",
       "      <td>0.0</td>\n",
       "      <td>1.0</td>\n",
       "      <td>0.0</td>\n",
       "      <td>1.0</td>\n",
       "    </tr>\n",
       "    <tr>\n",
       "      <th>2</th>\n",
       "      <td>-0.827324</td>\n",
       "      <td>1.228398</td>\n",
       "      <td>1.285836</td>\n",
       "      <td>-0.255016</td>\n",
       "      <td>-0.385628</td>\n",
       "      <td>0.103080</td>\n",
       "      <td>-0.075567</td>\n",
       "      <td>0.665664</td>\n",
       "      <td>-1.426336</td>\n",
       "      <td>-0.452510</td>\n",
       "      <td>...</td>\n",
       "      <td>1.0</td>\n",
       "      <td>0.0</td>\n",
       "      <td>1.0</td>\n",
       "      <td>0.0</td>\n",
       "      <td>0.0</td>\n",
       "      <td>0.0</td>\n",
       "      <td>0.0</td>\n",
       "      <td>1.0</td>\n",
       "      <td>1.0</td>\n",
       "      <td>0.0</td>\n",
       "    </tr>\n",
       "    <tr>\n",
       "      <th>3</th>\n",
       "      <td>-0.827324</td>\n",
       "      <td>1.228398</td>\n",
       "      <td>0.191722</td>\n",
       "      <td>-0.185242</td>\n",
       "      <td>-0.566945</td>\n",
       "      <td>-0.193971</td>\n",
       "      <td>-0.799147</td>\n",
       "      <td>0.413152</td>\n",
       "      <td>-0.663473</td>\n",
       "      <td>-0.165681</td>\n",
       "      <td>...</td>\n",
       "      <td>1.0</td>\n",
       "      <td>0.0</td>\n",
       "      <td>1.0</td>\n",
       "      <td>0.0</td>\n",
       "      <td>0.0</td>\n",
       "      <td>0.0</td>\n",
       "      <td>0.0</td>\n",
       "      <td>1.0</td>\n",
       "      <td>0.0</td>\n",
       "      <td>1.0</td>\n",
       "    </tr>\n",
       "    <tr>\n",
       "      <th>4</th>\n",
       "      <td>-0.827324</td>\n",
       "      <td>-0.814069</td>\n",
       "      <td>-0.623300</td>\n",
       "      <td>-0.431102</td>\n",
       "      <td>-0.535634</td>\n",
       "      <td>0.740060</td>\n",
       "      <td>-1.082177</td>\n",
       "      <td>0.277543</td>\n",
       "      <td>-0.569446</td>\n",
       "      <td>-0.176144</td>\n",
       "      <td>...</td>\n",
       "      <td>1.0</td>\n",
       "      <td>0.0</td>\n",
       "      <td>0.0</td>\n",
       "      <td>1.0</td>\n",
       "      <td>0.0</td>\n",
       "      <td>0.0</td>\n",
       "      <td>0.0</td>\n",
       "      <td>1.0</td>\n",
       "      <td>0.0</td>\n",
       "      <td>1.0</td>\n",
       "    </tr>\n",
       "  </tbody>\n",
       "</table>\n",
       "<p>5 rows × 36 columns</p>\n",
       "</div>"
      ],
      "text/plain": [
       "      rally     serve     speed  net.clearance  distance.from.sideline  \\\n",
       "0 -0.000049 -0.814069  1.915802      -0.209410               -0.993875   \n",
       "1 -0.827324 -0.814069  0.637883      -0.521776                0.027012   \n",
       "2 -0.827324  1.228398  1.285836      -0.255016               -0.385628   \n",
       "3 -0.827324  1.228398  0.191722      -0.185242               -0.566945   \n",
       "4 -0.827324 -0.814069 -0.623300      -0.431102               -0.535634   \n",
       "\n",
       "      depth  player.distance.travelled  player.impact.depth  \\\n",
       "0 -1.313488                  -1.414688             0.872303   \n",
       "1  0.172605                  -1.042676            -0.261741   \n",
       "2  0.103080                  -0.075567             0.665664   \n",
       "3 -0.193971                  -0.799147             0.413152   \n",
       "4  0.740060                  -1.082177             0.277543   \n",
       "\n",
       "   player.impact.distance.from.center  player.depth  ...  same.side_False  \\\n",
       "0                            0.124021      1.063491  ...              1.0   \n",
       "1                           -1.576280     -0.420140  ...              1.0   \n",
       "2                           -1.426336     -0.452510  ...              1.0   \n",
       "3                           -0.663473     -0.165681  ...              1.0   \n",
       "4                           -0.569446     -0.176144  ...              1.0   \n",
       "\n",
       "   same.side_True  previous.hitpoint_B  previous.hitpoint_F  \\\n",
       "0             0.0                  1.0                  0.0   \n",
       "1             0.0                  0.0                  1.0   \n",
       "2             0.0                  1.0                  0.0   \n",
       "3             0.0                  1.0                  0.0   \n",
       "4             0.0                  0.0                  1.0   \n",
       "\n",
       "   previous.hitpoint_U  previous.hitpoint_V  server.is.impact.player_False  \\\n",
       "0                  0.0                  0.0                            1.0   \n",
       "1                  0.0                  0.0                            0.0   \n",
       "2                  0.0                  0.0                            0.0   \n",
       "3                  0.0                  0.0                            0.0   \n",
       "4                  0.0                  0.0                            0.0   \n",
       "\n",
       "   server.is.impact.player_True  gender_mens  gender_womens  \n",
       "0                           0.0          1.0            0.0  \n",
       "1                           1.0          0.0            1.0  \n",
       "2                           1.0          1.0            0.0  \n",
       "3                           1.0          0.0            1.0  \n",
       "4                           1.0          0.0            1.0  \n",
       "\n",
       "[5 rows x 36 columns]"
      ]
     },
     "execution_count": 44,
     "metadata": {},
     "output_type": "execute_result"
    }
   ],
   "source": [
    "X_test.head()"
   ]
  },
  {
   "cell_type": "markdown",
   "metadata": {
    "id": "LaCrCouj867P"
   },
   "source": [
    "# Error Metrics"
   ]
  },
  {
   "cell_type": "markdown",
   "metadata": {
    "id": "DyJUYNE_VbJG"
   },
   "source": [
    "## Function to calculate accuracy, recall, precision and F1 score"
   ]
  },
  {
   "cell_type": "code",
   "execution_count": 45,
   "metadata": {
    "ExecuteTime": {
     "end_time": "2020-03-06T10:32:34.925827Z",
     "start_time": "2020-03-06T10:32:34.910844Z"
    },
    "id": "JYJp3Qo5viNe"
   },
   "outputs": [],
   "source": [
    "scores = pd.DataFrame(columns=['Model', 'Train_Accuracy', 'Train_Recall', 'Train_Precision', 'Train_F1_Score', \n",
    "                               'Test_Accuracy', 'Test_Recall', 'Test_Precision', 'Test_F1_Score'])\n",
    "\n",
    "def get_metrics(train_actual, train_predicted, test_actual, test_predicted, model_description, dataframe):\n",
    "\n",
    "    train_accuracy  = accuracy_score(train_actual, train_predicted)\n",
    "    train_recall    = recall_score(train_actual, train_predicted, average=\"weighted\")\n",
    "    train_precision = precision_score(train_actual, train_predicted, average=\"weighted\")\n",
    "    train_f1score   = f1_score(train_actual, train_predicted, average=\"weighted\")\n",
    "    \n",
    "    test_accuracy   = accuracy_score(test_actual, test_predicted)\n",
    "    test_recall     = recall_score(test_actual, test_predicted, average=\"weighted\")\n",
    "    test_precision  = precision_score(test_actual, test_predicted, average=\"weighted\")\n",
    "    test_f1score    = f1_score(test_actual, test_predicted, average=\"weighted\")\n",
    "\n",
    "    dataframe       = dataframe.append(pd.Series([model_description, \n",
    "                                                  train_accuracy, train_recall, train_precision, train_f1score,\n",
    "                                                  test_accuracy, test_recall, test_precision, test_f1score],\n",
    "                                                 index=scores.columns ), \n",
    "                                       ignore_index=True)\n",
    "\n",
    "    return(dataframe)"
   ]
  },
  {
   "cell_type": "markdown",
   "metadata": {
    "id": "NepyzKkIVbJG"
   },
   "source": [
    "## Function for Classification Report"
   ]
  },
  {
   "cell_type": "code",
   "execution_count": 46,
   "metadata": {
    "ExecuteTime": {
     "end_time": "2020-03-06T10:32:35.165305Z",
     "start_time": "2020-03-06T10:32:34.927798Z"
    },
    "id": "Vd9891yaxMtM"
   },
   "outputs": [],
   "source": [
    "def classifcation_report_train_test(y_train, y_train_pred, y_test, y_test_pred):\n",
    "\n",
    "    print('''\n",
    "            =========================================\n",
    "               CLASSIFICATION REPORT FOR TRAIN DATA\n",
    "            =========================================\n",
    "            ''')\n",
    "    print(classification_report(y_train, y_train_pred, digits=4))\n",
    "\n",
    "    print('''\n",
    "            =========================================\n",
    "               CLASSIFICATION REPORT FOR TEST DATA\n",
    "            =========================================\n",
    "            ''')\n",
    "    print(classification_report(y_test, y_test_pred, digits=4))"
   ]
  },
  {
   "cell_type": "markdown",
   "metadata": {
    "id": "IJxL65gtVbJG"
   },
   "source": [
    "# Model Building"
   ]
  },
  {
   "cell_type": "markdown",
   "metadata": {
    "id": "v0QF6yrqVbJH"
   },
   "source": [
    "## Decision Trees"
   ]
  },
  {
   "cell_type": "code",
   "execution_count": 47,
   "metadata": {
    "id": "283vmZFNVbJH"
   },
   "outputs": [],
   "source": [
    "clf_dt = DecisionTreeClassifier()"
   ]
  },
  {
   "cell_type": "code",
   "execution_count": 48,
   "metadata": {
    "id": "lahzYhwOVbJH",
    "outputId": "0fe6236c-1e14-4ebf-d8d4-a4e86abed995"
   },
   "outputs": [
    {
     "data": {
      "text/plain": [
       "DecisionTreeClassifier()"
      ]
     },
     "execution_count": 48,
     "metadata": {},
     "output_type": "execute_result"
    }
   ],
   "source": [
    "clf_dt.fit(X_train, y_train)"
   ]
  },
  {
   "cell_type": "code",
   "execution_count": 49,
   "metadata": {
    "id": "9fR7SI43VbJH"
   },
   "outputs": [],
   "source": [
    "y_pred_train = clf_dt.predict(X_train)\n",
    "y_pred_test = clf_dt.predict(X_test)"
   ]
  },
  {
   "cell_type": "code",
   "execution_count": 50,
   "metadata": {
    "id": "7j0Dco89VbJH",
    "outputId": "b87cc3b5-7278-4507-8308-aaab0e995da3"
   },
   "outputs": [
    {
     "name": "stdout",
     "output_type": "stream",
     "text": [
      "\n",
      "            =========================================\n",
      "               CLASSIFICATION REPORT FOR TRAIN DATA\n",
      "            =========================================\n",
      "            \n",
      "              precision    recall  f1-score   support\n",
      "\n",
      "           0     1.0000    1.0000    1.0000      1273\n",
      "           1     1.0000    1.0000    1.0000      2450\n",
      "           2     1.0000    1.0000    1.0000      1877\n",
      "\n",
      "    accuracy                         1.0000      5600\n",
      "   macro avg     1.0000    1.0000    1.0000      5600\n",
      "weighted avg     1.0000    1.0000    1.0000      5600\n",
      "\n",
      "\n",
      "            =========================================\n",
      "               CLASSIFICATION REPORT FOR TEST DATA\n",
      "            =========================================\n",
      "            \n",
      "              precision    recall  f1-score   support\n",
      "\n",
      "           0     0.6292    0.6257    0.6274       545\n",
      "           1     0.7905    0.7897    0.7901      1051\n",
      "           2     0.9036    0.9081    0.9058       805\n",
      "\n",
      "    accuracy                         0.7922      2401\n",
      "   macro avg     0.7744    0.7745    0.7744      2401\n",
      "weighted avg     0.7918    0.7922    0.7920      2401\n",
      "\n"
     ]
    }
   ],
   "source": [
    "classifcation_report_train_test(y_train, y_pred_train, y_test, y_pred_test)"
   ]
  },
  {
   "cell_type": "code",
   "execution_count": 51,
   "metadata": {
    "id": "JzQ-ZCEvVbJH",
    "outputId": "f6fea2e2-3210-44a1-fede-f194c33626e3"
   },
   "outputs": [
    {
     "name": "stderr",
     "output_type": "stream",
     "text": [
      "C:\\Users\\gsk44\\AppData\\Local\\Temp\\ipykernel_12960\\3012956814.py:16: FutureWarning: The frame.append method is deprecated and will be removed from pandas in a future version. Use pandas.concat instead.\n",
      "  dataframe       = dataframe.append(pd.Series([model_description,\n"
     ]
    },
    {
     "data": {
      "text/html": [
       "<div>\n",
       "<style scoped>\n",
       "    .dataframe tbody tr th:only-of-type {\n",
       "        vertical-align: middle;\n",
       "    }\n",
       "\n",
       "    .dataframe tbody tr th {\n",
       "        vertical-align: top;\n",
       "    }\n",
       "\n",
       "    .dataframe thead th {\n",
       "        text-align: right;\n",
       "    }\n",
       "</style>\n",
       "<table border=\"1\" class=\"dataframe\">\n",
       "  <thead>\n",
       "    <tr style=\"text-align: right;\">\n",
       "      <th></th>\n",
       "      <th>Model</th>\n",
       "      <th>Train_Accuracy</th>\n",
       "      <th>Train_Recall</th>\n",
       "      <th>Train_Precision</th>\n",
       "      <th>Train_F1_Score</th>\n",
       "      <th>Test_Accuracy</th>\n",
       "      <th>Test_Recall</th>\n",
       "      <th>Test_Precision</th>\n",
       "      <th>Test_F1_Score</th>\n",
       "    </tr>\n",
       "  </thead>\n",
       "  <tbody>\n",
       "    <tr>\n",
       "      <th>0</th>\n",
       "      <td>DecisionTrees</td>\n",
       "      <td>1.0</td>\n",
       "      <td>1.0</td>\n",
       "      <td>1.0</td>\n",
       "      <td>1.0</td>\n",
       "      <td>0.79217</td>\n",
       "      <td>0.79217</td>\n",
       "      <td>0.79178</td>\n",
       "      <td>0.791972</td>\n",
       "    </tr>\n",
       "  </tbody>\n",
       "</table>\n",
       "</div>"
      ],
      "text/plain": [
       "           Model Train_Accuracy Train_Recall Train_Precision Train_F1_Score  \\\n",
       "0  DecisionTrees            1.0          1.0             1.0            1.0   \n",
       "\n",
       "  Test_Accuracy Test_Recall Test_Precision Test_F1_Score  \n",
       "0       0.79217     0.79217        0.79178      0.791972  "
      ]
     },
     "execution_count": 51,
     "metadata": {},
     "output_type": "execute_result"
    }
   ],
   "source": [
    "scores = get_metrics(y_train, y_pred_train, y_test, y_pred_test, \"DecisionTrees\", scores)\n",
    "scores"
   ]
  },
  {
   "cell_type": "markdown",
   "metadata": {
    "id": "Xoa8UvDGVbJH"
   },
   "source": [
    "## Random Forests"
   ]
  },
  {
   "cell_type": "code",
   "execution_count": 52,
   "metadata": {
    "id": "6v_TcpWuVbJI"
   },
   "outputs": [],
   "source": [
    "clf_rf = RandomForestClassifier()"
   ]
  },
  {
   "cell_type": "code",
   "execution_count": 53,
   "metadata": {
    "id": "Cvh4IuRoVbJI",
    "outputId": "3d2f1be8-da17-4d51-b4a6-0b3a12419b47"
   },
   "outputs": [
    {
     "data": {
      "text/plain": [
       "RandomForestClassifier()"
      ]
     },
     "execution_count": 53,
     "metadata": {},
     "output_type": "execute_result"
    }
   ],
   "source": [
    "clf_rf.fit(X=X_train, y=y_train)"
   ]
  },
  {
   "cell_type": "code",
   "execution_count": 54,
   "metadata": {
    "id": "YPawe20JVbJI"
   },
   "outputs": [],
   "source": [
    "y_pred_train = clf_rf.predict(X_train)\n",
    "y_pred_test = clf_rf.predict(X_test)"
   ]
  },
  {
   "cell_type": "code",
   "execution_count": 55,
   "metadata": {
    "id": "oN7UoBm6VbJI",
    "outputId": "0853866a-cb01-4778-f4b9-d23dc6291401"
   },
   "outputs": [
    {
     "name": "stdout",
     "output_type": "stream",
     "text": [
      "\n",
      "            =========================================\n",
      "               CLASSIFICATION REPORT FOR TRAIN DATA\n",
      "            =========================================\n",
      "            \n",
      "              precision    recall  f1-score   support\n",
      "\n",
      "           0     1.0000    1.0000    1.0000      1273\n",
      "           1     1.0000    1.0000    1.0000      2450\n",
      "           2     1.0000    1.0000    1.0000      1877\n",
      "\n",
      "    accuracy                         1.0000      5600\n",
      "   macro avg     1.0000    1.0000    1.0000      5600\n",
      "weighted avg     1.0000    1.0000    1.0000      5600\n",
      "\n",
      "\n",
      "            =========================================\n",
      "               CLASSIFICATION REPORT FOR TEST DATA\n",
      "            =========================================\n",
      "            \n",
      "              precision    recall  f1-score   support\n",
      "\n",
      "           0     0.7892    0.7211    0.7536       545\n",
      "           1     0.8566    0.8754    0.8659      1051\n",
      "           2     0.9180    0.9453    0.9315       805\n",
      "\n",
      "    accuracy                         0.8638      2401\n",
      "   macro avg     0.8546    0.8473    0.8503      2401\n",
      "weighted avg     0.8619    0.8638    0.8624      2401\n",
      "\n"
     ]
    }
   ],
   "source": [
    "classifcation_report_train_test(y_train, y_pred_train, y_test, y_pred_test)"
   ]
  },
  {
   "cell_type": "code",
   "execution_count": 56,
   "metadata": {
    "id": "nxxkociQVbJI",
    "outputId": "633372e9-2770-4997-f8b7-7ad4256f03a6"
   },
   "outputs": [
    {
     "name": "stderr",
     "output_type": "stream",
     "text": [
      "C:\\Users\\gsk44\\AppData\\Local\\Temp\\ipykernel_12960\\3012956814.py:16: FutureWarning: The frame.append method is deprecated and will be removed from pandas in a future version. Use pandas.concat instead.\n",
      "  dataframe       = dataframe.append(pd.Series([model_description,\n"
     ]
    },
    {
     "data": {
      "text/html": [
       "<div>\n",
       "<style scoped>\n",
       "    .dataframe tbody tr th:only-of-type {\n",
       "        vertical-align: middle;\n",
       "    }\n",
       "\n",
       "    .dataframe tbody tr th {\n",
       "        vertical-align: top;\n",
       "    }\n",
       "\n",
       "    .dataframe thead th {\n",
       "        text-align: right;\n",
       "    }\n",
       "</style>\n",
       "<table border=\"1\" class=\"dataframe\">\n",
       "  <thead>\n",
       "    <tr style=\"text-align: right;\">\n",
       "      <th></th>\n",
       "      <th>Model</th>\n",
       "      <th>Train_Accuracy</th>\n",
       "      <th>Train_Recall</th>\n",
       "      <th>Train_Precision</th>\n",
       "      <th>Train_F1_Score</th>\n",
       "      <th>Test_Accuracy</th>\n",
       "      <th>Test_Recall</th>\n",
       "      <th>Test_Precision</th>\n",
       "      <th>Test_F1_Score</th>\n",
       "    </tr>\n",
       "  </thead>\n",
       "  <tbody>\n",
       "    <tr>\n",
       "      <th>0</th>\n",
       "      <td>DecisionTrees</td>\n",
       "      <td>1.0</td>\n",
       "      <td>1.0</td>\n",
       "      <td>1.0</td>\n",
       "      <td>1.0</td>\n",
       "      <td>0.79217</td>\n",
       "      <td>0.79217</td>\n",
       "      <td>0.79178</td>\n",
       "      <td>0.791972</td>\n",
       "    </tr>\n",
       "    <tr>\n",
       "      <th>1</th>\n",
       "      <td>RandomForest</td>\n",
       "      <td>1.0</td>\n",
       "      <td>1.0</td>\n",
       "      <td>1.0</td>\n",
       "      <td>1.0</td>\n",
       "      <td>0.863807</td>\n",
       "      <td>0.863807</td>\n",
       "      <td>0.861873</td>\n",
       "      <td>0.86238</td>\n",
       "    </tr>\n",
       "  </tbody>\n",
       "</table>\n",
       "</div>"
      ],
      "text/plain": [
       "           Model Train_Accuracy Train_Recall Train_Precision Train_F1_Score  \\\n",
       "0  DecisionTrees            1.0          1.0             1.0            1.0   \n",
       "1   RandomForest            1.0          1.0             1.0            1.0   \n",
       "\n",
       "  Test_Accuracy Test_Recall Test_Precision Test_F1_Score  \n",
       "0       0.79217     0.79217        0.79178      0.791972  \n",
       "1      0.863807    0.863807       0.861873       0.86238  "
      ]
     },
     "execution_count": 56,
     "metadata": {},
     "output_type": "execute_result"
    }
   ],
   "source": [
    "scores = get_metrics(y_train, y_pred_train, y_test, y_pred_test, \"RandomForest\", scores)\n",
    "scores"
   ]
  },
  {
   "cell_type": "markdown",
   "metadata": {
    "id": "LpNcsVAYVbJJ"
   },
   "source": [
    "## Build Gradient Boosting Classifier"
   ]
  },
  {
   "cell_type": "code",
   "execution_count": 57,
   "metadata": {
    "id": "6zLxdQnPVbJJ"
   },
   "outputs": [],
   "source": [
    "clf_gbm = GradientBoostingClassifier()"
   ]
  },
  {
   "cell_type": "code",
   "execution_count": null,
   "metadata": {
    "id": "atFoyw8YVbJJ",
    "outputId": "334cfd74-3c71-4ccf-e97b-35f8095e6011"
   },
   "outputs": [],
   "source": [
    "clf_gbm.fit(X=X_train, y=y_train)"
   ]
  },
  {
   "cell_type": "code",
   "execution_count": null,
   "metadata": {
    "id": "hNHBDXW4VbJJ"
   },
   "outputs": [],
   "source": [
    "y_pred_train = clf_gbm.predict(X_train)\n",
    "y_pred_test = clf_gbm.predict(X_test)"
   ]
  },
  {
   "cell_type": "code",
   "execution_count": null,
   "metadata": {
    "id": "jAGf8ohaVbJJ",
    "outputId": "36a96f87-8545-4cb0-ae9d-c85e4a043283",
    "scrolled": true
   },
   "outputs": [],
   "source": [
    "classifcation_report_train_test(y_train, y_pred_train, y_test, y_pred_test)"
   ]
  },
  {
   "cell_type": "code",
   "execution_count": null,
   "metadata": {
    "id": "orXs4PvzVbJJ",
    "outputId": "9da967cc-a8c1-426e-fe43-86e1af043c38"
   },
   "outputs": [],
   "source": [
    "scores = get_metrics(y_train, y_pred_train, y_test, y_pred_test, \"GBM\", scores)\n",
    "scores"
   ]
  },
  {
   "cell_type": "markdown",
   "metadata": {
    "id": "qxnlCT-AVbJI"
   },
   "source": [
    "## AdaBoost"
   ]
  },
  {
   "cell_type": "code",
   "execution_count": null,
   "metadata": {
    "id": "pZNHioKYVbJI"
   },
   "outputs": [],
   "source": [
    "clf_adaboost =  AdaBoostClassifier()"
   ]
  },
  {
   "cell_type": "code",
   "execution_count": null,
   "metadata": {
    "id": "RVIoNQCUVbJI",
    "outputId": "6f772118-a8a6-41cd-9d53-96129f246879"
   },
   "outputs": [
    {
     "data": {
      "text/plain": [
       "AdaBoostClassifier()"
      ]
     },
     "execution_count": 57,
     "metadata": {},
     "output_type": "execute_result"
    }
   ],
   "source": [
    "clf_adaboost.fit(X_train, y_train)"
   ]
  },
  {
   "cell_type": "code",
   "execution_count": null,
   "metadata": {
    "id": "axM3PysCVbJJ",
    "scrolled": false
   },
   "outputs": [],
   "source": [
    "y_pred_train = clf_adaboost.predict(X_train)\n",
    "y_pred_test = clf_adaboost.predict(X_test)"
   ]
  },
  {
   "cell_type": "code",
   "execution_count": null,
   "metadata": {
    "id": "xAMPEekBVbJJ",
    "outputId": "c0111bc9-99de-4c2d-f8c2-8a47a8f94d95",
    "scrolled": false
   },
   "outputs": [
    {
     "name": "stdout",
     "output_type": "stream",
     "text": [
      "\n",
      "            =========================================\n",
      "               CLASSIFICATION REPORT FOR TRAIN DATA\n",
      "            =========================================\n",
      "            \n",
      "              precision    recall  f1-score   support\n",
      "\n",
      "           0     0.7465    0.6779    0.7106      1273\n",
      "           1     0.8365    0.8665    0.8512      2450\n",
      "           2     0.9297    0.9441    0.9368      1877\n",
      "\n",
      "    accuracy                         0.8496      5600\n",
      "   macro avg     0.8376    0.8295    0.8329      5600\n",
      "weighted avg     0.8473    0.8496    0.8480      5600\n",
      "\n",
      "\n",
      "            =========================================\n",
      "               CLASSIFICATION REPORT FOR TEST DATA\n",
      "            =========================================\n",
      "            \n",
      "              precision    recall  f1-score   support\n",
      "\n",
      "           0     0.7166    0.6587    0.6864       545\n",
      "           1     0.8341    0.8516    0.8427      1051\n",
      "           2     0.9117    0.9366    0.9240       805\n",
      "\n",
      "    accuracy                         0.8363      2401\n",
      "   macro avg     0.8208    0.8156    0.8177      2401\n",
      "weighted avg     0.8335    0.8363    0.8345      2401\n",
      "\n"
     ]
    }
   ],
   "source": [
    "classifcation_report_train_test(y_train, y_pred_train, y_test, y_pred_test)"
   ]
  },
  {
   "cell_type": "code",
   "execution_count": null,
   "metadata": {
    "id": "tr-7pshpVbJJ",
    "outputId": "27ea3dca-1b2b-4a67-dd37-12f9b7e2c79f"
   },
   "outputs": [
    {
     "data": {
      "text/html": [
       "<div>\n",
       "<style scoped>\n",
       "    .dataframe tbody tr th:only-of-type {\n",
       "        vertical-align: middle;\n",
       "    }\n",
       "\n",
       "    .dataframe tbody tr th {\n",
       "        vertical-align: top;\n",
       "    }\n",
       "\n",
       "    .dataframe thead th {\n",
       "        text-align: right;\n",
       "    }\n",
       "</style>\n",
       "<table border=\"1\" class=\"dataframe\">\n",
       "  <thead>\n",
       "    <tr style=\"text-align: right;\">\n",
       "      <th></th>\n",
       "      <th>Model</th>\n",
       "      <th>Train_Accuracy</th>\n",
       "      <th>Train_Recall</th>\n",
       "      <th>Train_Precision</th>\n",
       "      <th>Train_F1_Score</th>\n",
       "      <th>Test_Accuracy</th>\n",
       "      <th>Test_Recall</th>\n",
       "      <th>Test_Precision</th>\n",
       "      <th>Test_F1_Score</th>\n",
       "    </tr>\n",
       "  </thead>\n",
       "  <tbody>\n",
       "    <tr>\n",
       "      <th>0</th>\n",
       "      <td>DecisionTrees</td>\n",
       "      <td>1.000000</td>\n",
       "      <td>1.000000</td>\n",
       "      <td>1.000000</td>\n",
       "      <td>1.000000</td>\n",
       "      <td>0.795085</td>\n",
       "      <td>0.795085</td>\n",
       "      <td>0.794354</td>\n",
       "      <td>0.794691</td>\n",
       "    </tr>\n",
       "    <tr>\n",
       "      <th>1</th>\n",
       "      <td>RandomForest</td>\n",
       "      <td>1.000000</td>\n",
       "      <td>1.000000</td>\n",
       "      <td>1.000000</td>\n",
       "      <td>1.000000</td>\n",
       "      <td>0.865473</td>\n",
       "      <td>0.865473</td>\n",
       "      <td>0.863483</td>\n",
       "      <td>0.863991</td>\n",
       "    </tr>\n",
       "    <tr>\n",
       "      <th>2</th>\n",
       "      <td>Adaboost</td>\n",
       "      <td>0.849643</td>\n",
       "      <td>0.849643</td>\n",
       "      <td>0.847281</td>\n",
       "      <td>0.847952</td>\n",
       "      <td>0.836318</td>\n",
       "      <td>0.836318</td>\n",
       "      <td>0.833453</td>\n",
       "      <td>0.834513</td>\n",
       "    </tr>\n",
       "  </tbody>\n",
       "</table>\n",
       "</div>"
      ],
      "text/plain": [
       "           Model  Train_Accuracy  Train_Recall  Train_Precision  \\\n",
       "0  DecisionTrees        1.000000      1.000000         1.000000   \n",
       "1   RandomForest        1.000000      1.000000         1.000000   \n",
       "2       Adaboost        0.849643      0.849643         0.847281   \n",
       "\n",
       "   Train_F1_Score  Test_Accuracy  Test_Recall  Test_Precision  Test_F1_Score  \n",
       "0        1.000000       0.795085     0.795085        0.794354       0.794691  \n",
       "1        1.000000       0.865473     0.865473        0.863483       0.863991  \n",
       "2        0.847952       0.836318     0.836318        0.833453       0.834513  "
      ]
     },
     "execution_count": 60,
     "metadata": {},
     "output_type": "execute_result"
    }
   ],
   "source": [
    "scores = get_metrics(y_train, y_pred_train, y_test, y_pred_test, \"Adaboost\", scores)\n",
    "scores"
   ]
  },
  {
   "cell_type": "markdown",
   "metadata": {
    "id": "r3mfVCTUVbJK"
   },
   "source": [
    "## XGBOOST "
   ]
  },
  {
   "cell_type": "code",
   "execution_count": null,
   "metadata": {
    "id": "J0uJX8FdVbJK"
   },
   "outputs": [],
   "source": [
    "clf_xgb = XGBClassifier()"
   ]
  },
  {
   "cell_type": "code",
   "execution_count": null,
   "metadata": {
    "id": "f1bEBFZ7VbJK",
    "outputId": "157ddd07-27e0-456d-92fb-9ef99ebcf59c"
   },
   "outputs": [
    {
     "data": {
      "text/plain": [
       "XGBClassifier(base_score=0.5, booster='gbtree', colsample_bylevel=1,\n",
       "              colsample_bynode=1, colsample_bytree=1, gamma=0, gpu_id=-1,\n",
       "              importance_type='gain', interaction_constraints='',\n",
       "              learning_rate=0.300000012, max_delta_step=0, max_depth=6,\n",
       "              min_child_weight=1, missing=nan, monotone_constraints='()',\n",
       "              n_estimators=100, n_jobs=0, num_parallel_tree=1,\n",
       "              objective='multi:softprob', random_state=0, reg_alpha=0,\n",
       "              reg_lambda=1, scale_pos_weight=None, subsample=1,\n",
       "              tree_method='exact', validate_parameters=1, verbosity=None)"
      ]
     },
     "execution_count": 67,
     "metadata": {},
     "output_type": "execute_result"
    }
   ],
   "source": [
    "clf_xgb.fit(X_train, y_train)"
   ]
  },
  {
   "cell_type": "code",
   "execution_count": null,
   "metadata": {
    "id": "lswWAhqvVbJK"
   },
   "outputs": [],
   "source": [
    "y_pred_train = clf_xgb.predict(X_train)\n",
    "y_pred_test = clf_xgb.predict(X_test)"
   ]
  },
  {
   "cell_type": "code",
   "execution_count": null,
   "metadata": {
    "id": "SB9MbC90VbJK",
    "outputId": "ff53f56e-2eb5-4c70-9f2e-739c7e2333df"
   },
   "outputs": [
    {
     "name": "stdout",
     "output_type": "stream",
     "text": [
      "\n",
      "            =========================================\n",
      "               CLASSIFICATION REPORT FOR TRAIN DATA\n",
      "            =========================================\n",
      "            \n",
      "              precision    recall  f1-score   support\n",
      "\n",
      "           0     1.0000    1.0000    1.0000      1273\n",
      "           1     1.0000    1.0000    1.0000      2450\n",
      "           2     1.0000    1.0000    1.0000      1877\n",
      "\n",
      "    accuracy                         1.0000      5600\n",
      "   macro avg     1.0000    1.0000    1.0000      5600\n",
      "weighted avg     1.0000    1.0000    1.0000      5600\n",
      "\n",
      "\n",
      "            =========================================\n",
      "               CLASSIFICATION REPORT FOR TEST DATA\n",
      "            =========================================\n",
      "            \n",
      "              precision    recall  f1-score   support\n",
      "\n",
      "           0     0.7857    0.7468    0.7658       545\n",
      "           1     0.8757    0.8716    0.8736      1051\n",
      "           2     0.9164    0.9528    0.9342       805\n",
      "\n",
      "    accuracy                         0.8705      2401\n",
      "   macro avg     0.8593    0.8570    0.8579      2401\n",
      "weighted avg     0.8689    0.8705    0.8695      2401\n",
      "\n"
     ]
    }
   ],
   "source": [
    "classifcation_report_train_test(y_train, y_pred_train, y_test, y_pred_test)"
   ]
  },
  {
   "cell_type": "code",
   "execution_count": null,
   "metadata": {
    "id": "vd05nh1fVbJK"
   },
   "outputs": [],
   "source": [
    "XGB = XGBClassifier(n_jobs=-1)\n",
    " \n",
    "# Use a grid over parameters of interest\n",
    "param_grid = {\n",
    "    'colsample_bytree': np.linspace(0.6, 0.8, 2),\n",
    "    'n_estimators': [50, 100],\n",
    "    'max_depth': [5, 6]}\n",
    "\n",
    "CV_XGB = GridSearchCV(estimator=XGB, param_grid=param_grid, cv=3)"
   ]
  },
  {
   "cell_type": "code",
   "execution_count": null,
   "metadata": {
    "id": "MHySTR4vVbJK",
    "outputId": "90fcce32-7474-4a6a-e359-6bf3a0ca5582"
   },
   "outputs": [
    {
     "data": {
      "text/plain": [
       "GridSearchCV(cv=3,\n",
       "             estimator=XGBClassifier(base_score=None, booster=None,\n",
       "                                     colsample_bylevel=None,\n",
       "                                     colsample_bynode=None,\n",
       "                                     colsample_bytree=None, gamma=None,\n",
       "                                     gpu_id=None, importance_type='gain',\n",
       "                                     interaction_constraints=None,\n",
       "                                     learning_rate=None, max_delta_step=None,\n",
       "                                     max_depth=None, min_child_weight=None,\n",
       "                                     missing=nan, monotone_constraints=None,\n",
       "                                     n_estimators=100, n_jobs=-1,\n",
       "                                     num_parallel_tree=None, random_state=None,\n",
       "                                     reg_alpha=None, reg_lambda=None,\n",
       "                                     scale_pos_weight=None, subsample=None,\n",
       "                                     tree_method=None, validate_parameters=None,\n",
       "                                     verbosity=None),\n",
       "             param_grid={'colsample_bytree': array([0.6, 0.8]),\n",
       "                         'max_depth': [5, 6], 'n_estimators': [50, 100]})"
      ]
     },
     "execution_count": 71,
     "metadata": {},
     "output_type": "execute_result"
    }
   ],
   "source": [
    "CV_XGB.fit(X=X_train, y=y_train)"
   ]
  },
  {
   "cell_type": "markdown",
   "metadata": {
    "id": "ADHPc_DwVbJL"
   },
   "source": [
    "Find best model"
   ]
  },
  {
   "cell_type": "code",
   "execution_count": null,
   "metadata": {
    "id": "OylsJ6dbVbJL"
   },
   "outputs": [],
   "source": [
    "best_xgb_model = CV_XGB.best_estimator_"
   ]
  },
  {
   "cell_type": "code",
   "execution_count": null,
   "metadata": {
    "id": "ZO-0GlZhVbJL",
    "outputId": "acb8d5ff-33b4-4123-ff5a-a07500aa89d6"
   },
   "outputs": [
    {
     "name": "stdout",
     "output_type": "stream",
     "text": [
      "0.8701788820821882 {'colsample_bytree': 0.8, 'max_depth': 6, 'n_estimators': 100}\n"
     ]
    }
   ],
   "source": [
    "print(CV_XGB.best_score_, CV_XGB.best_params_)"
   ]
  },
  {
   "cell_type": "code",
   "execution_count": null,
   "metadata": {
    "id": "2WRy0sYPVbJL",
    "outputId": "4f14bb36-08be-4fcc-815b-0518799e93d7"
   },
   "outputs": [
    {
     "data": {
      "text/plain": [
       "XGBClassifier(base_score=0.5, booster='gbtree', colsample_bylevel=1,\n",
       "              colsample_bynode=1, colsample_bytree=0.8, gamma=0, gpu_id=-1,\n",
       "              importance_type='gain', interaction_constraints='',\n",
       "              learning_rate=0.300000012, max_delta_step=0, max_depth=6,\n",
       "              min_child_weight=1, missing=nan, monotone_constraints='()',\n",
       "              n_estimators=100, n_jobs=-1, num_parallel_tree=1,\n",
       "              objective='multi:softprob', random_state=0, reg_alpha=0,\n",
       "              reg_lambda=1, scale_pos_weight=None, subsample=1,\n",
       "              tree_method='exact', validate_parameters=1, verbosity=None)"
      ]
     },
     "execution_count": 74,
     "metadata": {},
     "output_type": "execute_result"
    }
   ],
   "source": [
    "best_xgb_model"
   ]
  },
  {
   "cell_type": "code",
   "execution_count": null,
   "metadata": {
    "id": "Vp39XagSVbJL"
   },
   "outputs": [],
   "source": [
    "y_pred_train = best_xgb_model.predict(X_train)\n",
    "y_pred_test = best_xgb_model.predict(X_test)"
   ]
  },
  {
   "cell_type": "code",
   "execution_count": null,
   "metadata": {
    "id": "CqXL4hw1VbJL",
    "outputId": "5710e26d-bb87-4013-d854-68e656179fe2"
   },
   "outputs": [
    {
     "name": "stdout",
     "output_type": "stream",
     "text": [
      "\n",
      "            =========================================\n",
      "               CLASSIFICATION REPORT FOR TRAIN DATA\n",
      "            =========================================\n",
      "            \n",
      "              precision    recall  f1-score   support\n",
      "\n",
      "           0     1.0000    1.0000    1.0000      1273\n",
      "           1     1.0000    1.0000    1.0000      2450\n",
      "           2     1.0000    1.0000    1.0000      1877\n",
      "\n",
      "    accuracy                         1.0000      5600\n",
      "   macro avg     1.0000    1.0000    1.0000      5600\n",
      "weighted avg     1.0000    1.0000    1.0000      5600\n",
      "\n",
      "\n",
      "            =========================================\n",
      "               CLASSIFICATION REPORT FOR TEST DATA\n",
      "            =========================================\n",
      "            \n",
      "              precision    recall  f1-score   support\n",
      "\n",
      "           0     0.7871    0.7193    0.7517       545\n",
      "           1     0.8652    0.8792    0.8721      1051\n",
      "           2     0.9210    0.9553    0.9378       805\n",
      "\n",
      "    accuracy                         0.8684      2401\n",
      "   macro avg     0.8578    0.8512    0.8539      2401\n",
      "weighted avg     0.8662    0.8684    0.8668      2401\n",
      "\n"
     ]
    }
   ],
   "source": [
    "classifcation_report_train_test(y_train, y_pred_train, y_test, y_pred_test)"
   ]
  },
  {
   "cell_type": "code",
   "execution_count": null,
   "metadata": {
    "id": "ujthtUoHVbJL",
    "outputId": "506ed430-c72e-4731-f4b8-9be166514c60"
   },
   "outputs": [
    {
     "data": {
      "text/html": [
       "<div>\n",
       "<style scoped>\n",
       "    .dataframe tbody tr th:only-of-type {\n",
       "        vertical-align: middle;\n",
       "    }\n",
       "\n",
       "    .dataframe tbody tr th {\n",
       "        vertical-align: top;\n",
       "    }\n",
       "\n",
       "    .dataframe thead th {\n",
       "        text-align: right;\n",
       "    }\n",
       "</style>\n",
       "<table border=\"1\" class=\"dataframe\">\n",
       "  <thead>\n",
       "    <tr style=\"text-align: right;\">\n",
       "      <th></th>\n",
       "      <th>Model</th>\n",
       "      <th>Train_Accuracy</th>\n",
       "      <th>Train_Recall</th>\n",
       "      <th>Train_Precision</th>\n",
       "      <th>Train_F1_Score</th>\n",
       "      <th>Test_Accuracy</th>\n",
       "      <th>Test_Recall</th>\n",
       "      <th>Test_Precision</th>\n",
       "      <th>Test_F1_Score</th>\n",
       "    </tr>\n",
       "  </thead>\n",
       "  <tbody>\n",
       "    <tr>\n",
       "      <th>0</th>\n",
       "      <td>DecisionTrees</td>\n",
       "      <td>1.000000</td>\n",
       "      <td>1.000000</td>\n",
       "      <td>1.000000</td>\n",
       "      <td>1.000000</td>\n",
       "      <td>0.795085</td>\n",
       "      <td>0.795085</td>\n",
       "      <td>0.794354</td>\n",
       "      <td>0.794691</td>\n",
       "    </tr>\n",
       "    <tr>\n",
       "      <th>1</th>\n",
       "      <td>RandomForest</td>\n",
       "      <td>1.000000</td>\n",
       "      <td>1.000000</td>\n",
       "      <td>1.000000</td>\n",
       "      <td>1.000000</td>\n",
       "      <td>0.865473</td>\n",
       "      <td>0.865473</td>\n",
       "      <td>0.863483</td>\n",
       "      <td>0.863991</td>\n",
       "    </tr>\n",
       "    <tr>\n",
       "      <th>2</th>\n",
       "      <td>Adaboost</td>\n",
       "      <td>0.849643</td>\n",
       "      <td>0.849643</td>\n",
       "      <td>0.847281</td>\n",
       "      <td>0.847952</td>\n",
       "      <td>0.836318</td>\n",
       "      <td>0.836318</td>\n",
       "      <td>0.833453</td>\n",
       "      <td>0.834513</td>\n",
       "    </tr>\n",
       "    <tr>\n",
       "      <th>3</th>\n",
       "      <td>GBM</td>\n",
       "      <td>0.919286</td>\n",
       "      <td>0.919286</td>\n",
       "      <td>0.918602</td>\n",
       "      <td>0.918517</td>\n",
       "      <td>0.866722</td>\n",
       "      <td>0.866722</td>\n",
       "      <td>0.864293</td>\n",
       "      <td>0.864928</td>\n",
       "    </tr>\n",
       "    <tr>\n",
       "      <th>4</th>\n",
       "      <td>XGBoost</td>\n",
       "      <td>1.000000</td>\n",
       "      <td>1.000000</td>\n",
       "      <td>1.000000</td>\n",
       "      <td>1.000000</td>\n",
       "      <td>0.868388</td>\n",
       "      <td>0.868388</td>\n",
       "      <td>0.866164</td>\n",
       "      <td>0.866799</td>\n",
       "    </tr>\n",
       "  </tbody>\n",
       "</table>\n",
       "</div>"
      ],
      "text/plain": [
       "           Model  Train_Accuracy  Train_Recall  Train_Precision  \\\n",
       "0  DecisionTrees        1.000000      1.000000         1.000000   \n",
       "1   RandomForest        1.000000      1.000000         1.000000   \n",
       "2       Adaboost        0.849643      0.849643         0.847281   \n",
       "3            GBM        0.919286      0.919286         0.918602   \n",
       "4        XGBoost        1.000000      1.000000         1.000000   \n",
       "\n",
       "   Train_F1_Score  Test_Accuracy  Test_Recall  Test_Precision  Test_F1_Score  \n",
       "0        1.000000       0.795085     0.795085        0.794354       0.794691  \n",
       "1        1.000000       0.865473     0.865473        0.863483       0.863991  \n",
       "2        0.847952       0.836318     0.836318        0.833453       0.834513  \n",
       "3        0.918517       0.866722     0.866722        0.864293       0.864928  \n",
       "4        1.000000       0.868388     0.868388        0.866164       0.866799  "
      ]
     },
     "execution_count": 77,
     "metadata": {},
     "output_type": "execute_result"
    }
   ],
   "source": [
    "scores = get_metrics(y_train, y_pred_train, y_test, y_pred_test, \"XGBoost\", scores)\n",
    "scores"
   ]
  },
  {
   "cell_type": "markdown",
   "metadata": {
    "id": "EJHQj4DWVbJL"
   },
   "source": [
    "### Extracting the important features"
   ]
  },
  {
   "cell_type": "code",
   "execution_count": null,
   "metadata": {
    "id": "1kggnMj9VbJL",
    "outputId": "cb3bb8c8-675b-47df-a392-1680d8c60120"
   },
   "outputs": [
    {
     "data": {
      "text/plain": [
       "array([0.0053074 , 0.00741261, 0.02442907, 0.05360271, 0.01002102,\n",
       "       0.01178371, 0.01067767, 0.02029161, 0.00647646, 0.00682708,\n",
       "       0.0056769 , 0.00835767, 0.00773349, 0.01487874, 0.00807926,\n",
       "       0.01121838, 0.00608563, 0.03635557, 0.00619357, 0.00756241,\n",
       "       0.00432145, 0.01450878, 0.23255345, 0.14113677, 0.0965234 ,\n",
       "       0.16265658, 0.00663172, 0.00340748, 0.00499085, 0.00606102,\n",
       "       0.00974619, 0.02910462, 0.00489438, 0.00242959, 0.00573982,\n",
       "       0.00632305], dtype=float32)"
      ]
     },
     "execution_count": 78,
     "metadata": {},
     "output_type": "execute_result"
    }
   ],
   "source": [
    "best_xgb_model.feature_importances_"
   ]
  },
  {
   "cell_type": "code",
   "execution_count": null,
   "metadata": {
    "id": "Xaw1JJY0VbJL",
    "outputId": "58120e07-77b3-49b3-a137-f03db7fa5cea"
   },
   "outputs": [
    {
     "name": "stdout",
     "output_type": "stream",
     "text": [
      "[33 27 20 32 28  0 10 34 29 16 18 35  8 26  9  1 19 12 14 11 30  4  6 15\n",
      "  5 21 13  7  2 31 17  3 24 23 25 22]\n"
     ]
    }
   ],
   "source": [
    "importances = best_xgb_model.feature_importances_\n",
    "indices = np.argsort(importances)\n",
    "print(indices)"
   ]
  },
  {
   "cell_type": "code",
   "execution_count": null,
   "metadata": {
    "id": "4QfckC3TVbJL",
    "outputId": "f109e9e3-e8c8-49cf-ae73-a0e047403110",
    "scrolled": true
   },
   "outputs": [
    {
     "data": {
      "text/html": [
       "<div>\n",
       "<style scoped>\n",
       "    .dataframe tbody tr th:only-of-type {\n",
       "        vertical-align: middle;\n",
       "    }\n",
       "\n",
       "    .dataframe tbody tr th {\n",
       "        vertical-align: top;\n",
       "    }\n",
       "\n",
       "    .dataframe thead th {\n",
       "        text-align: right;\n",
       "    }\n",
       "</style>\n",
       "<table border=\"1\" class=\"dataframe\">\n",
       "  <thead>\n",
       "    <tr style=\"text-align: right;\">\n",
       "      <th></th>\n",
       "      <th>0</th>\n",
       "      <th>1</th>\n",
       "      <th>2</th>\n",
       "      <th>3</th>\n",
       "      <th>4</th>\n",
       "      <th>5</th>\n",
       "      <th>6</th>\n",
       "      <th>7</th>\n",
       "      <th>8</th>\n",
       "      <th>9</th>\n",
       "      <th>...</th>\n",
       "      <th>26</th>\n",
       "      <th>27</th>\n",
       "      <th>28</th>\n",
       "      <th>29</th>\n",
       "      <th>30</th>\n",
       "      <th>31</th>\n",
       "      <th>32</th>\n",
       "      <th>33</th>\n",
       "      <th>34</th>\n",
       "      <th>35</th>\n",
       "    </tr>\n",
       "  </thead>\n",
       "  <tbody>\n",
       "    <tr>\n",
       "      <th>0</th>\n",
       "      <td>outside.sideline_False</td>\n",
       "      <td>outside.baseline_True</td>\n",
       "      <td>outside.sideline_True</td>\n",
       "      <td>outside.baseline_False</td>\n",
       "      <td>net.clearance</td>\n",
       "      <td>previous.time.to.net</td>\n",
       "      <td>previous.hitpoint_V</td>\n",
       "      <td>speed</td>\n",
       "      <td>player.impact.depth</td>\n",
       "      <td>previous.distance.from.sideline</td>\n",
       "      <td>...</td>\n",
       "      <td>opponent.distance.from.center</td>\n",
       "      <td>previous.hitpoint_F</td>\n",
       "      <td>gender_mens</td>\n",
       "      <td>player.distance.from.center</td>\n",
       "      <td>rally</td>\n",
       "      <td>previous.hitpoint_B</td>\n",
       "      <td>server.is.impact.player_False</td>\n",
       "      <td>hitpoint_U</td>\n",
       "      <td>same.side_True</td>\n",
       "      <td>server.is.impact.player_True</td>\n",
       "    </tr>\n",
       "    <tr>\n",
       "      <th>1</th>\n",
       "      <td>0.232553</td>\n",
       "      <td>0.162657</td>\n",
       "      <td>0.141137</td>\n",
       "      <td>0.0965234</td>\n",
       "      <td>0.0536027</td>\n",
       "      <td>0.0363556</td>\n",
       "      <td>0.0291046</td>\n",
       "      <td>0.0244291</td>\n",
       "      <td>0.0202916</td>\n",
       "      <td>0.0148787</td>\n",
       "      <td>...</td>\n",
       "      <td>0.00608563</td>\n",
       "      <td>0.00606102</td>\n",
       "      <td>0.00573982</td>\n",
       "      <td>0.0056769</td>\n",
       "      <td>0.0053074</td>\n",
       "      <td>0.00499085</td>\n",
       "      <td>0.00489438</td>\n",
       "      <td>0.00432145</td>\n",
       "      <td>0.00340748</td>\n",
       "      <td>0.00242959</td>\n",
       "    </tr>\n",
       "  </tbody>\n",
       "</table>\n",
       "<p>2 rows × 36 columns</p>\n",
       "</div>"
      ],
      "text/plain": [
       "                       0                      1                      2   \\\n",
       "0  outside.sideline_False  outside.baseline_True  outside.sideline_True   \n",
       "1                0.232553               0.162657               0.141137   \n",
       "\n",
       "                       3              4                     5   \\\n",
       "0  outside.baseline_False  net.clearance  previous.time.to.net   \n",
       "1               0.0965234      0.0536027             0.0363556   \n",
       "\n",
       "                    6          7                    8   \\\n",
       "0  previous.hitpoint_V      speed  player.impact.depth   \n",
       "1            0.0291046  0.0244291            0.0202916   \n",
       "\n",
       "                                9   ...                             26  \\\n",
       "0  previous.distance.from.sideline  ...  opponent.distance.from.center   \n",
       "1                        0.0148787  ...                     0.00608563   \n",
       "\n",
       "                    27           28                           29         30  \\\n",
       "0  previous.hitpoint_F  gender_mens  player.distance.from.center      rally   \n",
       "1           0.00606102   0.00573982                    0.0056769  0.0053074   \n",
       "\n",
       "                    31                             32          33  \\\n",
       "0  previous.hitpoint_B  server.is.impact.player_False  hitpoint_U   \n",
       "1           0.00499085                     0.00489438  0.00432145   \n",
       "\n",
       "               34                            35  \n",
       "0  same.side_True  server.is.impact.player_True  \n",
       "1      0.00340748                    0.00242959  \n",
       "\n",
       "[2 rows x 36 columns]"
      ]
     },
     "execution_count": 80,
     "metadata": {},
     "output_type": "execute_result"
    }
   ],
   "source": [
    "indices = np.argsort(importances)[::-1] # np.argsort returns the indices that would sort an array.\n",
    "pd.DataFrame([X_train.columns[indices], np.sort(importances)[::-1]])"
   ]
  },
  {
   "cell_type": "markdown",
   "metadata": {
    "id": "PAiHtbljVbJM"
   },
   "source": [
    "## Stacking:"
   ]
  },
  {
   "cell_type": "code",
   "execution_count": null,
   "metadata": {
    "id": "uxZkzWk_VbJM"
   },
   "outputs": [],
   "source": [
    "from sklearn.ensemble import VotingClassifier"
   ]
  },
  {
   "cell_type": "code",
   "execution_count": null,
   "metadata": {
    "id": "zsziTiNeVbJM"
   },
   "outputs": [],
   "source": [
    "voting_clf = VotingClassifier(estimators=[('clf_dt', clf_dt), ('clf_rf', clf_rf), ('clf_adaboost', clf_adaboost)]) "
   ]
  },
  {
   "cell_type": "code",
   "execution_count": null,
   "metadata": {
    "id": "8fw-vsWNVbJM",
    "outputId": "a50dea09-078b-490f-f51b-859e48cc01ff"
   },
   "outputs": [
    {
     "data": {
      "text/plain": [
       "VotingClassifier(estimators=[('clf_dt', DecisionTreeClassifier()),\n",
       "                             ('clf_rf', RandomForestClassifier()),\n",
       "                             ('clf_adaboost', AdaBoostClassifier())])"
      ]
     },
     "execution_count": 83,
     "metadata": {},
     "output_type": "execute_result"
    }
   ],
   "source": [
    "voting_clf"
   ]
  },
  {
   "cell_type": "code",
   "execution_count": null,
   "metadata": {
    "id": "26_-1fYMVbJM",
    "outputId": "75a2cfff-79b7-484d-e3bd-c066b75f6a63"
   },
   "outputs": [
    {
     "data": {
      "text/plain": [
       "VotingClassifier(estimators=[('clf_dt', DecisionTreeClassifier()),\n",
       "                             ('clf_rf', RandomForestClassifier()),\n",
       "                             ('clf_adaboost', AdaBoostClassifier())])"
      ]
     },
     "execution_count": 84,
     "metadata": {},
     "output_type": "execute_result"
    }
   ],
   "source": [
    "voting_clf.fit(X_train, y_train) \n"
   ]
  },
  {
   "cell_type": "code",
   "execution_count": null,
   "metadata": {
    "id": "XNiKJAPJVbJM",
    "outputId": "0a0df776-024c-4e44-dc0b-623eee302af5"
   },
   "outputs": [
    {
     "data": {
      "text/plain": [
       "array([1, 2, 0, ..., 1, 1, 0])"
      ]
     },
     "execution_count": 86,
     "metadata": {},
     "output_type": "execute_result"
    }
   ],
   "source": [
    "y_pred_train = voting_clf.predict(X_train)\n",
    "y_pred_train"
   ]
  },
  {
   "cell_type": "code",
   "execution_count": null,
   "metadata": {
    "id": "JwZ8XJNvVbJM",
    "outputId": "a43466ba-fcd5-4763-a41a-8c7282e3a77b"
   },
   "outputs": [
    {
     "data": {
      "text/plain": [
       "array([1, 2, 2, ..., 2, 1, 1])"
      ]
     },
     "execution_count": 87,
     "metadata": {},
     "output_type": "execute_result"
    }
   ],
   "source": [
    "y_pred_test = voting_clf.predict(X_test)\n",
    "y_pred_test"
   ]
  },
  {
   "cell_type": "markdown",
   "metadata": {
    "id": "fzNwseRcVbJM"
   },
   "source": [
    "Performance Metric"
   ]
  },
  {
   "cell_type": "code",
   "execution_count": null,
   "metadata": {
    "id": "UlZ5WSXCVbJM",
    "outputId": "cb2e8b1a-f5c9-4abe-b3b3-1b901b08b51c"
   },
   "outputs": [
    {
     "data": {
      "text/html": [
       "<div>\n",
       "<style scoped>\n",
       "    .dataframe tbody tr th:only-of-type {\n",
       "        vertical-align: middle;\n",
       "    }\n",
       "\n",
       "    .dataframe tbody tr th {\n",
       "        vertical-align: top;\n",
       "    }\n",
       "\n",
       "    .dataframe thead th {\n",
       "        text-align: right;\n",
       "    }\n",
       "</style>\n",
       "<table border=\"1\" class=\"dataframe\">\n",
       "  <thead>\n",
       "    <tr style=\"text-align: right;\">\n",
       "      <th></th>\n",
       "      <th>Model</th>\n",
       "      <th>Train_Accuracy</th>\n",
       "      <th>Train_Recall</th>\n",
       "      <th>Train_Precision</th>\n",
       "      <th>Train_F1_Score</th>\n",
       "      <th>Test_Accuracy</th>\n",
       "      <th>Test_Recall</th>\n",
       "      <th>Test_Precision</th>\n",
       "      <th>Test_F1_Score</th>\n",
       "    </tr>\n",
       "  </thead>\n",
       "  <tbody>\n",
       "    <tr>\n",
       "      <th>0</th>\n",
       "      <td>DecisionTrees</td>\n",
       "      <td>1.000000</td>\n",
       "      <td>1.000000</td>\n",
       "      <td>1.000000</td>\n",
       "      <td>1.000000</td>\n",
       "      <td>0.795085</td>\n",
       "      <td>0.795085</td>\n",
       "      <td>0.794354</td>\n",
       "      <td>0.794691</td>\n",
       "    </tr>\n",
       "    <tr>\n",
       "      <th>1</th>\n",
       "      <td>RandomForest</td>\n",
       "      <td>1.000000</td>\n",
       "      <td>1.000000</td>\n",
       "      <td>1.000000</td>\n",
       "      <td>1.000000</td>\n",
       "      <td>0.865473</td>\n",
       "      <td>0.865473</td>\n",
       "      <td>0.863483</td>\n",
       "      <td>0.863991</td>\n",
       "    </tr>\n",
       "    <tr>\n",
       "      <th>2</th>\n",
       "      <td>Adaboost</td>\n",
       "      <td>0.849643</td>\n",
       "      <td>0.849643</td>\n",
       "      <td>0.847281</td>\n",
       "      <td>0.847952</td>\n",
       "      <td>0.836318</td>\n",
       "      <td>0.836318</td>\n",
       "      <td>0.833453</td>\n",
       "      <td>0.834513</td>\n",
       "    </tr>\n",
       "    <tr>\n",
       "      <th>3</th>\n",
       "      <td>GBM</td>\n",
       "      <td>0.919286</td>\n",
       "      <td>0.919286</td>\n",
       "      <td>0.918602</td>\n",
       "      <td>0.918517</td>\n",
       "      <td>0.866722</td>\n",
       "      <td>0.866722</td>\n",
       "      <td>0.864293</td>\n",
       "      <td>0.864928</td>\n",
       "    </tr>\n",
       "    <tr>\n",
       "      <th>4</th>\n",
       "      <td>XGBoost</td>\n",
       "      <td>1.000000</td>\n",
       "      <td>1.000000</td>\n",
       "      <td>1.000000</td>\n",
       "      <td>1.000000</td>\n",
       "      <td>0.868388</td>\n",
       "      <td>0.868388</td>\n",
       "      <td>0.866164</td>\n",
       "      <td>0.866799</td>\n",
       "    </tr>\n",
       "    <tr>\n",
       "      <th>5</th>\n",
       "      <td>Stacking</td>\n",
       "      <td>1.000000</td>\n",
       "      <td>1.000000</td>\n",
       "      <td>1.000000</td>\n",
       "      <td>1.000000</td>\n",
       "      <td>0.852978</td>\n",
       "      <td>0.852978</td>\n",
       "      <td>0.850944</td>\n",
       "      <td>0.851724</td>\n",
       "    </tr>\n",
       "  </tbody>\n",
       "</table>\n",
       "</div>"
      ],
      "text/plain": [
       "           Model  Train_Accuracy  Train_Recall  Train_Precision  \\\n",
       "0  DecisionTrees        1.000000      1.000000         1.000000   \n",
       "1   RandomForest        1.000000      1.000000         1.000000   \n",
       "2       Adaboost        0.849643      0.849643         0.847281   \n",
       "3            GBM        0.919286      0.919286         0.918602   \n",
       "4        XGBoost        1.000000      1.000000         1.000000   \n",
       "5       Stacking        1.000000      1.000000         1.000000   \n",
       "\n",
       "   Train_F1_Score  Test_Accuracy  Test_Recall  Test_Precision  Test_F1_Score  \n",
       "0        1.000000       0.795085     0.795085        0.794354       0.794691  \n",
       "1        1.000000       0.865473     0.865473        0.863483       0.863991  \n",
       "2        0.847952       0.836318     0.836318        0.833453       0.834513  \n",
       "3        0.918517       0.866722     0.866722        0.864293       0.864928  \n",
       "4        1.000000       0.868388     0.868388        0.866164       0.866799  \n",
       "5        1.000000       0.852978     0.852978        0.850944       0.851724  "
      ]
     },
     "execution_count": 88,
     "metadata": {},
     "output_type": "execute_result"
    }
   ],
   "source": [
    "scores = get_metrics(y_train, y_pred_train, y_test, y_pred_test, \"Stacking\", scores)\n",
    "scores"
   ]
  }
 ],
 "metadata": {
  "colab": {
   "provenance": []
  },
  "kernelspec": {
   "display_name": "Python 3 (ipykernel)",
   "language": "python",
   "name": "python3"
  },
  "language_info": {
   "codemirror_mode": {
    "name": "ipython",
    "version": 3
   },
   "file_extension": ".py",
   "mimetype": "text/x-python",
   "name": "python",
   "nbconvert_exporter": "python",
   "pygments_lexer": "ipython3",
   "version": "3.9.12"
  },
  "toc": {
   "base_numbering": 1,
   "nav_menu": {},
   "number_sections": true,
   "sideBar": true,
   "skip_h1_title": false,
   "title_cell": "Table of Contents",
   "title_sidebar": "Contents",
   "toc_cell": true,
   "toc_position": {},
   "toc_section_display": true,
   "toc_window_display": false
  }
 },
 "nbformat": 4,
 "nbformat_minor": 1
}
